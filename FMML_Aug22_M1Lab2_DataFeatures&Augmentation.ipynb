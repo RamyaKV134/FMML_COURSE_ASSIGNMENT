{
  "nbformat": 4,
  "nbformat_minor": 0,
  "metadata": {
    "colab": {
      "provenance": [],
      "collapsed_sections": [],
      "include_colab_link": true
    },
    "kernelspec": {
      "name": "python3",
      "display_name": "Python 3"
    },
    "language_info": {
      "name": "python"
    }
  },
  "cells": [
    {
      "cell_type": "markdown",
      "metadata": {
        "id": "view-in-github",
        "colab_type": "text"
      },
      "source": [
        "<a href=\"https://colab.research.google.com/github/RamyaKV134/FMML_COURSE_ASSIGNMENT/blob/main/FMML_Aug22_M1Lab2_DataFeatures%26Augmentation.ipynb\" target=\"_parent\"><img src=\"https://colab.research.google.com/assets/colab-badge.svg\" alt=\"Open In Colab\"/></a>"
      ]
    },
    {
      "cell_type": "markdown",
      "source": [
        "## FMML Module 1, Lab 2<br>\n",
        "Module Coordinator : amit.pandey@research.iiit.ac.in <br>"
      ],
      "metadata": {
        "id": "JN97BfHPX7yo"
      }
    },
    {
      "cell_type": "markdown",
      "source": [
        "### The aim of this lab is to introduce DATA and FEATURES.\n",
        "We will study: Feature extraction and Data Augmentation.\n",
        "Let's get started.\n",
        "\n"
      ],
      "metadata": {
        "id": "Q0DQhRGLo3Tr"
      }
    },
    {
      "cell_type": "markdown",
      "source": [
        "Make a copy before running the cells"
      ],
      "metadata": {
        "id": "o4AtXdwvNRGS"
      }
    },
    {
      "cell_type": "markdown",
      "source": [
        "### Data can be anything like text, image , sound signals, and even a mix of multiple types (multimodal). We need to learn how to handle raw data, and how to use them for our analysis."
      ],
      "metadata": {
        "id": "gkEBupTXa1xo"
      }
    },
    {
      "cell_type": "markdown",
      "metadata": {
        "id": "A6I1yI79fbLD"
      },
      "source": [
        "# Extracting features from data\n",
        "\n",
        "\n",
        " \n",
        "\n"
      ]
    },
    {
      "cell_type": "code",
      "metadata": {
        "id": "OimBnfcpvcNS",
        "colab": {
          "base_uri": "https://localhost:8080/"
        },
        "outputId": "ef2b47a3-f2f4-46dd-82ba-f146b3ca1215"
      },
      "source": [
        "## Standard Imports.\n",
        "\n",
        "! pip install wikipedia\n",
        "\n",
        "import wikipedia\n",
        "import nltk\n",
        "from nltk.util import ngrams \n",
        "from collections import Counter\n",
        "import matplotlib.pyplot as plt\n",
        "import numpy as np\n",
        "import re\n",
        "import unicodedata\n",
        "import plotly.express as px\n",
        "import pandas as pd\n"
      ],
      "execution_count": 1,
      "outputs": [
        {
          "output_type": "stream",
          "name": "stdout",
          "text": [
            "Looking in indexes: https://pypi.org/simple, https://us-python.pkg.dev/colab-wheels/public/simple/\n",
            "Collecting wikipedia\n",
            "  Downloading wikipedia-1.4.0.tar.gz (27 kB)\n",
            "Requirement already satisfied: beautifulsoup4 in /usr/local/lib/python3.7/dist-packages (from wikipedia) (4.6.3)\n",
            "Requirement already satisfied: requests<3.0.0,>=2.0.0 in /usr/local/lib/python3.7/dist-packages (from wikipedia) (2.23.0)\n",
            "Requirement already satisfied: idna<3,>=2.5 in /usr/local/lib/python3.7/dist-packages (from requests<3.0.0,>=2.0.0->wikipedia) (2.10)\n",
            "Requirement already satisfied: certifi>=2017.4.17 in /usr/local/lib/python3.7/dist-packages (from requests<3.0.0,>=2.0.0->wikipedia) (2022.6.15)\n",
            "Requirement already satisfied: urllib3!=1.25.0,!=1.25.1,<1.26,>=1.21.1 in /usr/local/lib/python3.7/dist-packages (from requests<3.0.0,>=2.0.0->wikipedia) (1.24.3)\n",
            "Requirement already satisfied: chardet<4,>=3.0.2 in /usr/local/lib/python3.7/dist-packages (from requests<3.0.0,>=2.0.0->wikipedia) (3.0.4)\n",
            "Building wheels for collected packages: wikipedia\n",
            "  Building wheel for wikipedia (setup.py) ... \u001b[?25l\u001b[?25hdone\n",
            "  Created wheel for wikipedia: filename=wikipedia-1.4.0-py3-none-any.whl size=11695 sha256=bd4bc5a0cfb5d4d43877af6eddc9157265a6d1612a1006ca7d3067a11d2601bc\n",
            "  Stored in directory: /root/.cache/pip/wheels/15/93/6d/5b2c68b8a64c7a7a04947b4ed6d89fb557dcc6bc27d1d7f3ba\n",
            "Successfully built wikipedia\n",
            "Installing collected packages: wikipedia\n",
            "Successfully installed wikipedia-1.4.0\n"
          ]
        }
      ]
    },
    {
      "cell_type": "markdown",
      "source": [
        "## What are features? \n",
        "### Features are individual independent variables that act like an input to your system. \n",
        "A very basic example is: In z = x + y, x and y are the features.\n",
        "We can have simple features like above or even more complex features learned by our machine learning models (we will study these later on)."
      ],
      "metadata": {
        "id": "_f74mfnO8Rd_"
      }
    },
    {
      "cell_type": "code",
      "source": [
        "import matplotlib.pyplot as plt\n",
        "from matplotlib import cm\n",
        "import numpy as np\n",
        "\n",
        "from mpl_toolkits.mplot3d.axes3d import get_test_data\n",
        "\n",
        " \n",
        "# set up a figure twice as wide as it is tall\n",
        "fig = plt.figure(figsize=plt.figaspect(1))\n",
        "\n",
        "# =============\n",
        "# First subplot\n",
        "# =============\n",
        "# set up the axes for the first plot\n",
        "ax = fig.add_subplot(1, 1, 1, projection='3d')\n",
        "\n",
        "# plot a 3D surface like in the example mplot3d/surface3d_demo\n",
        "X = np.arange(-5, 5, 0.25) # feature 1\n",
        "Y = np.arange(-5, 5, 0.25) # feature 2\n",
        "X, Y = np.meshgrid(X, Y)\n",
        "R = np.sqrt(X**2 + Y**2)\n",
        "Z = np.sin(R) #output\n",
        "surf = ax.plot_surface(X, Y, Z, rstride=1, cstride=1, cmap=cm.coolwarm,\n",
        "                       linewidth=0.4, antialiased=False)\n",
        "ax.set_zlim(-1.01, 1.01)\n",
        "fig.colorbar(surf, shrink=0.5, aspect=10)"
      ],
      "metadata": {
        "colab": {
          "base_uri": "https://localhost:8080/",
          "height": 266
        },
        "id": "n9KMUJBd8QKx",
        "outputId": "c1eeda97-b9b4-4161-d8ec-c7c9f963d270"
      },
      "execution_count": 2,
      "outputs": [
        {
          "output_type": "execute_result",
          "data": {
            "text/plain": [
              "<matplotlib.colorbar.Colorbar at 0x7fde13dc7bd0>"
            ]
          },
          "metadata": {},
          "execution_count": 2
        },
        {
          "output_type": "display_data",
          "data": {
            "text/plain": [
              "<Figure size 288x288 with 2 Axes>"
            ],
            "image/png": "[encoded data removed]"
          },
          "metadata": {
            "needs_background": "light"
          }
        }
      ]
    },
    {
      "cell_type": "markdown",
      "metadata": {
        "id": "m6hGhIGiy4GP"
      },
      "source": [
        "# Part 2: Features of text\n",
        "How do we apply machine learning on text? We can't directly use the text as input to our algorithms. We need to convert them to features.They are converted into vectors (embeddings) or one hot encoded.  Let us explore a simple way of converting text to features. \n",
        "\n",
        "Let us download a few documents off Wikipedia."
      ]
    },
    {
      "cell_type": "code",
      "metadata": {
        "id": "lpUmCoEr2R3J"
      },
      "source": [
        "## set language and then download the data.\n",
        "\n",
        "topic1 = 'Giraffe'\n",
        "topic2 = 'Elephant'\n",
        "wikipedia.set_lang('en') \n",
        "eng1 = wikipedia.page(topic1).content\n",
        "eng2 = wikipedia.page(topic2).content\n",
        "wikipedia.set_lang('fr')\n",
        "fr1 = wikipedia.page(topic1).content\n",
        "fr2 = wikipedia.page(topic2).content\n",
        "\n"
      ],
      "execution_count": 3,
      "outputs": []
    },
    {
      "cell_type": "markdown",
      "metadata": {
        "id": "Cj7RlhMiO5kd"
      },
      "source": [
        "This is what the text looks like:"
      ]
    },
    {
      "cell_type": "code",
      "metadata": {
        "id": "GW0G-t912UXZ",
        "colab": {
          "base_uri": "https://localhost:8080/",
          "height": 179
        },
        "outputId": "b3034c5f-1328-42e6-eca8-2770bdd951ce"
      },
      "source": [
        "fr2 ## the french textual data describing the second topic."
      ],
      "execution_count": 4,
      "outputs": [
        {
          "output_type": "execute_result",
          "data": {
            "text/plain": [
              "'Les éléphants sont des mammifères proboscidiens de la famille des Éléphantidés. Ils correspondent aujourd\\'hui à trois espèces réparties en deux genres distincts. L\\'éléphant de savane d\\'Afrique et l\\'éléphant de forêt d\\'Afrique, autrefois regroupés sous la même espèce d\\'« éléphant d\\'Afrique », appartiennent au genre Loxodonta, tandis que l\\'éléphant d\\'Asie, anciennement appelé « éléphant indien », appartient au genre Elephas. Ils se différencient par certaines caractéristiques anatomiques, les éléphants d\\'Asie étant en général plus petits avec des oreilles plus petites, ou encore une différence du bout de la trompe. Ces espèces survivantes font localement l\\'objet de programmes ou de projets de réintroduction et de protection.\\nLe mot français « éléphant » vient du mot latin elephantus qui tire son origine du grec ἐλέφας signifiant « ivoire » ou « éléphant ».\\nL\\'éléphant apparait dans de nombreuses cultures. Il est symbole de sagesse dans la culture asiatique, connu pour sa mémoire et son intelligence, qui est comparée à celle des cétacés et hominidés. Aristote avait dit que l\\'éléphant est « la bête qui dépasse toutes les autres par l\\'intelligence et l\\'esprit ».\\n\\n\\n== Description ==\\n\\nL\\'éléphant d\\'Afrique, qui peut atteindre 7 tonnes, est le plus gros animal terrestre actuel, mais il est loin derrière la Baleine bleue (Balaenoptera musculus) qui peut peser jusqu\\'à 200 tonnes et dépasser 30 mètres de long.\\n\\n\\n=== Squelette et muscles ===\\n\\nLe squelette de l\\'éléphant présente des caractéristiques dictées par la masse qu\\'il doit soutenir : il représente environ 16,5 % de la masse totale de l\\'animal, cela signifie que pour un éléphant de 7 tonnes, le squelette pèse 1,155 tonne. Les os de l\\'éléphant sont spongieux. Sa cage thoracique, formée de vingt côtes, est arrimée le long de l\\'épine dorsale.\\nL\\'éléphant possède deux genoux à ses membres postérieurs, qui sont constitués d\\'un fémur, d\\'une rotule et de l\\'association tibia-fibula. Les membres antérieurs, quant à eux, comprennent une scapula, un humérus, et l\\'association radius-ulna.\\nL\\'éléphant marche sur le bout des doigts,. Les orteils sont insérés dans le pied, il y en a entre 2 et 5, on en voit seulement les ongles. Cependant on peut voir entre trois et cinq ongles en fonction des pieds. Les pieds antérieurs ont une forme arrondie, alors que les pieds postérieurs ont une forme ovale. Les pieds sont composés de tissus adipeux qui agissent comme des amortisseurs.\\nContrairement à la plupart des mammifères, il est impossible pour un éléphant de sauter, pour des raisons d\\'ordre biomécanique : il lui faut toujours un pied sur le sol. Cependant il peut courir à une vitesse maximale de 20 km/h (un éléphant ayant été chronométré à 24 km/h dans le cadre d\\'une étude scientifique).\\nMême si on emploie le terme « courir » pour un éléphant, il est à noter que le terme est inapproprié. Il serait plus logique de dire qu’il « marche vite ». En effet, il ne change pas son allure (sa façon de se déplacer) lorsqu’il accélère.\\nUn éléphant d\\'Afrique mâle adulte mesure 3,50 mètres au garrot et pèse 5 à 6 tonnes, une femelle adulte mesure 3 mètres de haut au garrot pour une masse de 4 tonnes environ. À la naissance, l\\'éléphant pèse environ 120 kg. Un éléphant vit en moyenne 60 ans. Le plus grand éléphant connu a été signalé en Angola en 1974 : il s’agissait d’un mâle de 12 tonnes mesurant 4,20 m au garrot, soit un mètre de plus que la moyenne des éléphants africains.\\nDes éléphants nains, de la taille d\\'un grand cochon, ont également peuplé les îles méditerranéennes au cours de la Préhistoire, ; certains sont signalés en Crète jusqu\\'en 5000 av. J.-C., voire jusqu’en 3000 av. J.-C.,.\\n\\n\\n=== Trompe ===\\nLa principale caractéristique des éléphants est leur trompe appelée proboscis. Il s\\'agit d\\'un organe nasal (avec une fonction de respiration et de perception des odeurs) allongé qui découle de la fusion de la lèvre supérieure et du nez. La trompe est un organe souple et préhensile leur servant à porter l\\'eau et la nourriture à leur bouche, à tirer ou transporter des objets et à pousser des cris.\\nLa trompe comporte entre 100 000 et 150 000 muscles ; elle est dépourvue d\\'os et pèse plus de 100 kg.\\n« La trompe se compose de deux longs tuyaux cylindriques, partant de l’ouverture antérieure des fosses nasales. Ces tubes se rétrécissent à la région de l’inter mâchoire, ce qui empêche l’eau pompée par la trompe de pénétrer dans la cavité nasale ; ils offrent ensuite une dilatation, puis se resserrent de nouveau à l’endroit où ils s’ouvrent dans les narines osseuses, et où ils sont couverts par un cartilage nasal ovale. (…) Les tubes sont entourés d’une multitude de faisceaux musculaires, les uns longitudinaux, les autres rayonnant vers la peau et servant à comprimer les premiers. Quelques-uns enfin, mais en moins grand nombre sont circulaires. Cependant il faut distinguer de ces muscles, propres à la trompe, ceux qui servent à mouvoir l’organe en entier. Ces derniers sont comparables aux muscles de la queue. On les distingue en élévateurs et abaisseurs supérieurs et latéraux, qui naissent du front, des os propres du nez et des cartilages, tant de l’os maxillaire supérieur que de l’intermaxillaire ».\\nLe bout de la trompe d\\'un éléphant d\\'Afrique est en forme d\\'amande, alors que celle d\\'un éléphant d\\'Asie est en forme de poire. L\\'excroissance à son extrémité a une fonction analogue à un doigt, leur permettant de décortiquer une cacahuète. Les éléphants ne boivent pas directement par leur trompe. L\\'effort nécessaire pour se pencher jusqu\\'au sol afin de boire l\\'eau par la bouche étant trop important et l\\'opération étant même impossible lorsque l\\'eau se trouve au-dessous du niveau du sol, ils boivent en remplissant leur trompe avec de l\\'eau qu\\'ils aspirent et gardent momentanément avant de la verser ensuite, par gravité, dans leur bouche.\\nL\\'allongement du museau des proboscidiens anciens à l\\'origine de l\\'éléphant serait lié à la croissance continue des incisives (les défenses) et leur augmentation de taille : herbivores concurrencés par les ruminants et les équidés, leur adaptation trophique se traduit alors par un régime de plantes plus fibreuses peu nutritives et une augmentation de taille corrélative, les proboscidiens fourrageant pendant des heures à la recherche aussi bien de végétaux au sol que de feuilles d\\'arbres.\\n\\n\\t\\t\\n\\t\\t\\n\\n\\n=== Denture et défenses ===\\n\\nLe plus souvent les éléphants ont des défenses, des dents très allongées utilisées par ces animaux comme outil, arme de défense et attribut sexuel. Les défenses sont des dents supérieures à croissance continue. L\\'éléphanteau possède des prémolaires de lait qui tombent lorsque les molaires apparaissent, l\\'adulte n\\'en possède pas. Chez les éléphants adultes il n\\'y a que 6 dents, 2 incisives, ce sont les défenses, et 4 molaires. La formule dentaire est i1/0 c0/0 m1/1.\\n\\n\\n==== Dents ====\\nLes dents sont essentiellement composées d’ivoire et d’émail qui forment la couronne des dents par de nombreuses crêtes transversales, qui sont plus ou moins lamellées. Les crêtes sont disjointes puis, au fur et à mesure, un cément se forme et s’intercale entre les dents pour former un tout. Un petit nombre de dents molaires sont présentes à chaque mâchoire, « parfois une paire (…), (…) une paire à l’une des mâchoires et deux à l’autre, (…) encore deux paires à chacune », de plus les dents correspondantes entre elles « n’ont ni la même apparence, ni le même nombre de lamelles ».\\n\\nSelon les études de Corse et de Blainville, « les éléphants (…) ont six paires de dents à chacune des mâchoires. Ces dents augmentent de volume depuis la première jusqu’à la dernière ou sixième, et le nombre de leurs lamelles (…) est aussi de plus en plus considérable. ». « La succession des dents molaires s’opère ainsi par flots d’une manière lente mais réglée, et l’on admet trois flots différents. Les dents se présentent deux par deux de chaque côté de l’une et de l’autre mâchoire. Le degré plus ou moins avancé de l’usure de chacune d’elles détermine les différences que l’on remarque dans le nombre total de lamelles (…) pour chaque flot ».\\nLes éléphants ont généralement 26 dents : les 2 incisives appelées défenses, 12 prémolaires déciduales et 12 molaires. Contrairement à la plupart des mammifères, qui font pousser des dents de lait, puis les remplacent par un seul ensemble permanent de dents adultes, les éléphants sont des polyphyodontes : ils ont des cycles de rotation dentaire tout au long de leur vie. Les molaires sont remplacées six fois au cours de la vie d\\'un éléphant typique. Les dents ne sont pas remplacées par de nouvelles dents émergeant des mâchoires verticalement comme chez la plupart des mammifères. Au lieu de cela, de nouvelles dents poussent à l\\'arrière de la bouche et avancent pour repousser les anciennes. La première molaire de chaque côté de la mâchoire tombe lorsque l\\'éléphant a 2 ou 3 ans. La deuxième série de molaires tombe à l\\'âge de 4 à 6 ans. La troisième série tombe entre 9 et 15 ans et la quatrième série dure jusqu\\'à 18-28 ans. La cinquième série de dents tombe vers la quarantaine. La sixième poussée — et généralement la dernière — doit durer à l\\'éléphant le reste de sa vie. Les dents d\\'éléphant ont des crêtes dentaires en forme de boucle, qui sont plus épaisses et plus en forme de losange chez les éléphants d\\'Afrique.\\n\\n\\n==== Défenses ====\\n\\nLes défenses d\\'un éléphant sont les deuxièmes incisives modifiées de la mâchoire supérieure. Elles remplacent les dents de lait à l\\'âge de 6 à 12 mois et poussent continuellement d\\'environ 17 cm par an. Une défense nouvellement développée a un capuchon en émail lisse qui finit par s\\'estomper. La dentine est connue sous le nom d\\'ivoire ; sa section transversale se compose de motifs de lignes entrecroisées qui créent des zones en forme de losange. Une grande partie des défenses est visible de l\\'extérieur ; le reste est enserré dans un logement du crâne. Au moins un tiers de la défense contient la pulpe et certains nerfs s\\'étendent jusqu\\'à la pointe. Il serait donc difficile de l\\'enlever sans nuire à l\\'animal. Une fois retiré, l\\'ivoire commence à se dessécher et à se fissurer s\\'il n\\'est pas conservé au frais et à l\\'humidité.\\nL\\'éléphant se sert de ses défenses à plusieurs fins. Il les utilise pour creuser dans l\\'eau, le sel ou parmi les racines; écorcer ou marquer les arbres ; déplacer des arbres et des branches pour dégager un chemin. Lors des combats, elles servent pour attaquer, se défendre, protéger le corps.\\n\\nComme les humains, qui sont généralement droitiers ou gauchers, les éléphants ont généralement une différenciation des défenses droite et gauche. La défense dominante, appelée défense principale, est généralement plus usée et plus courte, avec une pointe plus arrondie. Pour les éléphants d\\'Afrique, les défenses sont présentes chez les mâles et les femelles, et ont à peu près la même longueur pour les deux sexes, atteignant jusqu\\'à 3 m, mais celles des mâles ont tendance à être plus épaisses. Autrefois, les défenses d\\'éléphant pesant 100 kg et plus n\\'étaient pas rares, mais on n\\'en voit plus guère aujourd\\'hui dépassant 50 kg.\\nChez les espèces asiatiques, seuls les mâles ont de grandes défenses. Les femelles asiatiques ont de très petites défenses, voire aucune. Il existe des mâles dépourvus de défenses, particulièrement communs au Sri Lanka. Les mâles asiatiques peuvent avoir des défenses aussi longues que celles des africains, mais elles sont généralement plus minces et plus légères : les plus grandes enregistrées mesuraient 3,02 m de long et pesaient 39 kg. La chasse à l\\'ivoire d\\'éléphant en Afrique et en Asie a conduit à une sélection naturelle pour des défenses plus courtes, ou absentes,.\\n\\n\\n=== Peau ===\\nLa peau de l\\'éléphant est d\\'une épaisseur d\\'environ 2 cm. Cette peau est fragile du fait de la présence de plis où viennent se loger des parasites. Il n\\'y a pratiquement pas de poils, et il n\\'y a ni glande sudoripare, ni glande sébacée. De ce fait, leur peau est sèche, c\\'est pour cela qu\\'elle doit être souvent humectée à l\\'aide d\\'eau projetée par la trompe ou couverte de poussière ou de boue également projetée par leur trompe.\\nLa couleur de la peau est grisâtre ; cependant sa couleur apparente est liée au sol sur lequel évolue l\\'éléphant. Elle peut aussi être due aux bains de boues.\\nLa faible densité des poils (quelques centaines par mètre carré, chaque poil mesurant en moyenne 2 centimètres de longueur et 0,5 mm de diamètre) agit non plus comme une fourrure mais participe — à hauteur de 23 % — avec d\\'autres mécanismes de thermorégulation (battement des oreilles, bains, pulvérisation d\\'eau avec leurs trompes, respiration percutanée) à la thermolyse du mammifère, les poils agissant comme des ailettes qui augmentent la surface d\\'échange et donc les transferts thermiques.\\n\\n\\t\\t\\n\\t\\t\\n\\n\\n=== Oreille ===\\nLes oreilles de l\\'éléphant lui permettent de réguler sa température corporelle, grâce à une vascularisation très importante. Lorsqu\\'il mange des fruits fermentés ayant un degré d\\'alcool d\\'environ 7°, l\\'éléphant remue violemment ses oreilles, de même pour sa queue et sa trompe. Elles sont généralement plus petites chez l\\'éléphant d\\'Asie.\\n\\n\\n=== Cerveau ===\\nLe cerveau de l\\'éléphant, situé à l\\'arrière de son crâne, pèse entre 4 et 6 kg, ce qui est déjà considérable. Si l\\'on compare la taille du cerveau de l\\'éléphant à sa masse corporelle, il est alors le mammifère ayant le plus petit cerveau, alors que la souris possède le plus grand.\\n\\n\\n== Biologie et comportement ==\\n\\n\\n=== Reproduction ===\\n\\n\\n==== Maturité sexuelle ====\\nSi les fonctions reproductrices des éléphants mâles se mettent en place vers l\\'âge de 10-15 ans, ils commencent à se reproduire vers l\\'âge de 30 ans quand ils sont suffisamment imposants pour pouvoir se battre avec d\\'autres mâles pour conquérir les femelles.\\nLes fonctions reproductrices de l\\'éléphant femelle apparaissent de 9 ans jusqu\\'à 15 ans.\\nDans l\\'organisation matriarcale des éléphants, les mâles sont connus pour leur tempérament indépendant et ont tendance à vivre en solitaire, forgeant parfois une alliance provisoire avec un autre individu ou intégrant une bande de manière informelle. Tandis que les femelles entretiennent des liens familiaux étroits et solides.\\n\\n\\n==== Comportement sexuel ====\\n\\nLes mâles en rut, dont le taux sanguin de testostérone peut s\\'accroître cinquante fois, agitent les oreilles et secouent la tête, leur pénis devient vert. Il en dégouline une urine fortement odorante. Cela est dû à la libération d\\'un musc d’une phéromone, la frontaline, sécrétée sous deux formes chirales. Ces deux énantiomères (deux formes : (+)-frontaline et (-)-frontaline) ne sont pas sécrétés en mêmes proportions. Chez les jeunes mâles, la forme (+) domine. Au fur et à mesure de la maturité et de la période de rut, les deux isomères forment un racémique, qui attire les femelles en phase folliculaire et en œstrus. La frontaline est libérée par la glande temporale chez l’éléphant en période de rut, la sécrétion débute peu de temps avant la puberté, à l’âge de 15 ans. Cependant le rut ne se produit qu\\'à partir de 25 ans et ne durera que quelques jours. Puis vers 31-35 ans, celui-ci dure plusieurs semaines. Vers 36-40 ans, il dure de 1 à 2 mois. Pour finir, après 40 ans, le rut s’étend sur une période de 2 à 4 mois. La quantité de phéromones émises augmente avec l’âge de l’éléphant ainsi qu’en milieu de rut. La concentration et la proportion d’énantiomères de la frontaline constituent pour les animaux qui seront attentifs au message une source d’information sur l’âge et le stade du musth de l\\'éléphant qui émet. Une concentration de frontaline, en racémique, sera le synonyme d\\'un mâle mature ayant un statut social important.\\n\\n\\n==== Accouplement ====\\n\\nUne fois que la femelle et le mâle sont ensemble, l\\'accouplement peut commencer. L\\'éléphant mâle étant très lourd, la copulation est très rapide. En général, elle dure entre 20 et 30 secondes. La période de copulations dure environ trois jours.\\nLa jeune femelle est effrayée lors de sa première période de chaleur, le mâle peut la poursuivre. Pour avertir la femelle qu\\'il va la saillir, le mâle pose sa trompe sur son dos ; la femelle s\\'immobilise alors.\\nLes mâles passent dans les troupeaux de femelles lors de leur rut pour sentir les vulves des femelles.\\n\\n\\n==== Gestation et mise bas ====\\n\\nLa gestation d\\'une éléphante est la plus longue de tous les mammifères terrestres. Elle dure de 20 à 22 mois. La durée d\\'allaitement est comprise entre 36 et 48 mois. Les mises bas s\\'espacent d\\'environ 2 ans et demi à 5 ans. La gestation est plus longue pour un éléphanteau mâle que pour un éléphanteau femelle.\\nUne éléphante peut être en gestation jusqu\\'à l\\'âge de cinquante ans. Dans la plupart des cas, un seul éléphant est porté ; les cas de gémellité sont très rares.\\n\\n\\n=== Vie sociale ===\\n\\nLes éléphants vivent dans une société matriarcale. Cette structure matriarcale existe depuis plus de sept millions d\\'années, des empreintes d\\'une harde d\\'éléphants de cette époque ayant été découvertes sur une surface de 5 hectares sur le site de Mleisa 1 dans les Émirats arabes unis, faisant de cette piste de mammifères fossile la plus vieille de ce type et probablement la plus longue piste préservée dans le monde. Les troupeaux sont composés d\\'une dizaine d\\'éléphantes et de jeunes éléphanteaux, après la maturité sexuelle les mâles quittent le groupe. Ils errent jusqu\\'à ce qu\\'ils fassent alliance avec d\\'autres jeunes mâles.\\nUne étude, menée dans un zoo, montre que l\\'éléphant aime les fruits fermentés à un degré d\\'alcool de 7°. Lorsque l\\'éléphant est saoul, il perd de sa sociabilité (alors que sobre il est très sociable). Lorsqu\\'il est ivre, il reste à l\\'écart du troupeau. Un chercheur américain défendait l\\'idée que les animaux s\\'enivrent ou se droguent, volontairement, pour oublier les tourments de leur existence. Pour le prouver, il a fait vivre durant un mois des éléphants d\\'une réserve californienne sur un territoire plus restreint qu\\'à leur accoutumée. La surpopulation due au petit espace a angoissé les animaux qui, du coup, ont bu trois fois plus que d\\'habitude. Ils sont devenus si agressifs qu\\'il a été dangereux de les approcher.\\n\\n\\n=== Communication ===\\nLe cri de l\\'éléphant est le barrissement. De récentes études scientifiques ont montré que les éléphants, comme de nombreux animaux, sont sensibles aux infrasons. L\\'utilité de l\\'audition de ces infrasons reste cependant mystérieuse. Il semble qu\\'ils soient capables de communiquer entre eux par les ondes acoustiques de surface transmises par le sol.\\n\\n\\n=== Sommeil ===\\nLes éléphants peuvent dormir debout ou couchés. Le fait de se coucher indique qu\\'ils sont parfaitement détendus.\\n\\n\\n=== Alimentation ===\\n\\nL\\'éléphant est herbivore, il mange une grande variété d\\'éléments végétaux : herbes, plantes, feuilles, fruits, racines et tubercules, écorces et même du bois. Il apprécie par exemple le bois tendre et gorgé de sève du baobab.\\nLes besoins alimentaires de l\\'éléphant sont importants, surtout qualitativement. En fonction de son environnement, il consacre une grande partie de son temps à la recherche de nourriture (16 à 20 heures par jour), se déplaçant sur de longues distances et sélectionnant les aliments les plus riches. Il peut se dresser sur ses pattes arrière pour attraper avec sa trompe les rameaux les plus tendres jusqu\\'à cinq ou six mètres de hauteur.\\nQuotidiennement, il faut à l\\'éléphant entre 150 et 180 kilogrammes de nourriture en saison sèche, et entre 200 et 260 kilogrammes en saison des pluies. Ces quantités varient aussi en fonction des espèces et des milieux fréquentés.\\nUn éléphant adulte boit jusqu\\'à 140 L d\\'eau par jour. Il aspire dans sa trompe jusqu\\'à dix litres à la fois, puis se les verse dans la bouche. Il peut rester trois ou quatre jours sans boire. Il peut se servir de sa trompe pour reprendre de l\\'eau dans son estomac et s\\'en servir pour se rafraîchir la peau. Sa peau très épaisse est l\\'objet de soins constants : outre les aspersions, les baignades et les roulades dans la boue, le poudrage à la poussière est bienvenu pour protéger l\\'épiderme des insectes et du soleil.\\nMalgré la quarantaine de mètres d\\'intestin qu\\'il possède, sa digestion est peu efficace. Elle dure environ 12 heures après les 16 à 20 heures où il a cherché à se nourrir, 40 à 60 % de la nourriture n\\'étant pas digérée. Si son alimentation n\\'est pas suffisamment riche, son tonus, son humeur et sa santé en général sont rapidement affectés.\\nLe comportement alimentaire a en général un impact important sur le milieu. Le bilan de ces conséquences varie en fonction des espèces (Afrique, Asie), de la saison, du biotope et de la densité de la population. Ainsi, l\\'éléphant peut être considéré comme destructeur d\\'arbres en particulier dans la savane, alors qu\\'il participe ailleurs très activement à la régénération en limite des zones forestières. Certaines espèces d\\'arbres sont dépendantes de l\\'éléphant pour leur extension : celui-ci, friand de leurs fruits, en dissémine les graines avec l\\'excellent terreau que constitue son crottin, capable de contenir jusqu\\'à 35 % de graines.\\n\\n\\n=== Intelligence ===\\n\\nEn l’état actuel des connaissances, l’éléphant est, avec l\\'humain, le dauphin, le corbeau et certaines espèces de grands singes, l\\'une des rares espèces animales à réussir le test du miroir de Gallup : lorsqu’on marque d’une tache le front d’un éléphant en un point qu’il ne peut voir directement et qu’on lui présente un miroir, il passe sa trompe sur la tache ; démontrant ainsi qu’il a reconnu son image et donc qu’il a conscience de lui-même,,.\\nLes éléphants peuvent utiliser des outils de défense, telles des pierres saisies avec leur trompe et qu\\'ils lancent sur leurs ennemis. Ils peuvent également se toiletter en se grattant avec des branches ou des baguettes des parties de corps qu\\'ils ne peuvent atteindre avec leur trompe. Ils présentent ainsi un exemple d’utilisation d\\'outil par un animal.\\nLors d\\'une expérimentation de Preston Foerder, un éléphant (d\\'Asie, Elephas maximus) s\\'est montré capable d\\'un éclair de compréhension (insight). Il est allé chercher un cube pour monter dessus et atteindre de la nourriture,.\\n\\n\\n=== Perception ===\\nLes éléphants sont réputés pour leur capacité à anticiper l\\'arrivée des intempéries. il semblerait qu\\'ils soient capables d\\'entendre les sons provoqués par le déplacement des nuages.\\n\\n\\n== Systématique ==\\n\\n\\n=== Taxonomie ===\\n\\nL’éléphant d\\'Asie et l’éléphant d’Afrique ont longtemps été considérés comme les deux seules espèces représentant la famille des Éléphantidés à l’époque moderne. Depuis, de récentes études génétiques ont permis de distinguer deux sous-espèces africaines distinctes : Loxodonta africana africana (« éléphant de la savane ») et Loxodonta africana cyclotis (« éléphant des forêts »).\\nLes espèces d\\'Éléphantidés vivant à l’heure actuelle sont donc :\\n\\n\\n=== Histoire évolutive ===\\n\\nL’extinction Crétacé-Tertiaire est suivie d\\'une diversification très rapide des ongulés africains, notamment l\\'ordre des Proboscidiens dont les plus anciennes espèces découvertes à ce jour sont Eritherium azzouzorum et Phosphatherium escuilliei, datant de la fin du Paléocène il y a 60 millions d\\'années. Sans trompe mais avec une première incisive agrandie (rappelant la naissance d\\'une défense) et des orbites oculaires en position antérieure, ces premiers proboscidiens sont petits et graciles, ont un corps bas sur pattes et un mode de vie semi-aquatique, à l\\'instar de Moeritherium.\\nAprès un déclin à l\\'oligocène, les proboscidiens connaissent une diversification avec l\\'apparition des Deinotheriidae et des Mammutidae. La seconde radiation évolutive voit l\\'émergence au début du Miocène des Gomphotheriidae qui sont à l\\'origine des Elephantidae et des Stegodontidae, familles qui correspondent à la troisième radiation évolutive au miocène supérieur.\\nLes Proboscidiens présents sur le continent américain, tels Mammut americanum ou Haplomastodon, se sont éteints il y a une dizaine de milliers d\\'années.\\n\\n\\n== L\\'éléphant et l\\'homme ==\\n\\n\\n=== Menaces de disparition ===\\n\\n\\n==== Chasse et braconnage ====\\n\\nDurant des millénaires, l\\'homme chassa l\\'éléphant pour sa consommation et pour le commerce de l\\'ivoire tiré des défenses. Durant l\\'Antiquité, les éléphants de Nubie furent utilisés dans les armées des Carthaginois. Au XVe siècle av. J.-C., il y avait encore des éléphants sur les bords de l\\'Euphrate, où le pharaon Thoutmôsis Ier chassait l\\'éléphant.\\nLa population des éléphants africains et asiatiques a été décimée, passant de plusieurs millions d\\'individus au début des années 1970 à quelques centaines de milliers 30 ans plus tard. Si bien qu\\'en 1989, la CITES interdit le commerce de l\\'ivoire. Les éléphants sont désormais considérés comme des espèces protégées et la chasse aux éléphants est très réglementée.\\nLe braconnage s\\'intensifie malheureusement chaque année. En 2011, entre 25 000 et 30 000 éléphants ont été abattus sauvagement afin de récupérer leurs défenses et alimenter les commerces illégaux notamment en provenance d\\'Asie.\\nL\\'éléphant a peu de prédateurs naturels, c\\'est-à-dire d\\'autres espèces que l\\'Homme. De grands fauves tels que le lion ou le tigre du Bengale (dans le cas de l\\'éléphant d\\'Asie) peuvent exercer une prédation sur les individus jeunes ou faibles ; il est cependant peu probable que ces animaux attaquent un adulte, au vu du danger qu\\'il peut représenter.\\nSelon l’Union internationale pour la conservation de la nature (UICN), la population des éléphants d’Afrique a sensiblement diminué au cours des années 2010 : le continent compte en 2019 environ 415 000 spécimens, soit 111 000 de moins que lors de la précédente décennie.\\n\\n\\n==== L\\'éléphant des forêts africaines menacé d\\'extinction d\\'ici 2025 ====\\nAu terme de la conférence organisée à Bangkok du 3 au 14 mars 2013, par la CITES, à laquelle 178 pays ont participé, l\\'état d\\'esprit était au pessimisme concernant la protection des éléphants « victimes dans leurs pays d\\'origine d\\'un braconnage sans précédent et d\\'un commerce effréné en Asie ». Nombre d\\'ONG concernées par cette action pensent que « la communauté internationale a échoué à protéger les éléphants ». Depuis 2007 le trafic d\\'ivoire a doublé et plus que triplé par rapport à 1998. Le nombre d\\'éléphants africains, selon les enquêtes présentées à la conférence, est compris entre 420 000 et 650 000. 25 000 ont été tués en 2011 et probablement 30 000 en 2012. Publiée en mars 2013 dans la revue PLoS One, une autre étude révèle que 62 % des éléphants des forêts ont été abattus durant ces dix dernières années. Si ce rythme perdure, ils pourraient disparaitre d\\'Afrique centrale d\\'ici 2025. Les spécialistes affirment qu\\'à terme, si le braconnage ne cesse pas, tous les éléphants du continent seront menacés d\\'extinction.\\n\\nÀ Gembloux Agro-Bio Tech - Université de Liège en Belgique, plusieurs chercheurs avaient déjà fait le même constat pour la population des éléphants de l\\'Afrique de l\\'Ouest. En 40 ans, leur nombre a diminué de moitié.\\nL\\'ONG Save the Elephants estime que le commerce illégal de l\\'ivoire à Hong Kong menace la survie des éléphants, étant donné que le marché de l\\'ivoire en Chine et en Asie du Sud-Est passe en grande partie par Hong Kong.\\n\\n\\n=== Perte d\\'habitat ===\\n\\nL\\'augmentation des risques de conflits d\\'intérêt pour l\\'habitat avec des populations humaines menace la survie de l\\'éléphant. Ce conflit tue 150 éléphants et un peu plus de 100 personnes par an au Sri Lanka. Contrairement à son cousin d\\'Afrique, l\\'éléphant d\\'Asie, possède de petites défenses. La disparition de celui-ci est principalement attribuée à la perte de son habitat. De grands morceaux de forêt disparaissent, ce qui touche profondément leur écosystème. Les arbres contribuent à l\\'ancrage du sol et l\\'absorption des eaux de ruissellement. La déforestation entraine des inondations et une érosion massive. Lorsque la forêt est réduite, les éléphants deviennent une partie du problème, car ils détruisent rapidement la végétation de la zone où ils vivent et éliminent toutes les ressources en nourriture.\\n\\n\\n=== Parcs nationaux ===\\n\\nLa première réserve officielle, Parc national Kruger, est peut-être la plus connue des réserves et celle ayant obtenu le plus grand succès. Cependant, de nombreux problèmes sont apparus depuis sa création. Les clôtures de la réserve ont coupé de nombreux animaux de leur alimentation en hiver ou de leurs zones de reproduction au printemps. Certains animaux sont morts, alors que d\\'autres comme les éléphants ont démoli les clôtures, entraînant des ravages dans les champs voisins. Lorsque les éléphants sont limités à un petit territoire, les dégâts infligés au paysage peuvent être énormes.\\nDe ce fait, certaines réserves, comme le Parc national Kruger, de l\\'avis de certains gestionnaires de faune sauvage, ont souffert de la surpopulation des éléphants, au détriment d\\'autres espèces de la faune dans la réserve. Le 25 février 2008, l\\'Afrique du Sud a annoncé que l\\'abattage pour contrôler le nombre d\\'éléphants, arrêté depuis 1994, reprendrait. Les défenseurs des droits des animaux ont menacé d\\'un appel au boycott par les touristes et à d\\'autres formes d\\'oppositions.\\n\\n\\n=== Utilisation par l\\'Homme ===\\n\\nLes éléphants en captivité (en) sont utilisés ou exhibés dans les cirques, ménageries (tel Abul-Abbas, l\\'éléphant blanc de Charlemagne et Hanno, celui du pape Léon X) et zoos (tel le célèbre Jumbo). On ne peut pas parler à leur égard de domestication car le cycle de vie de l\\'éléphant est trop long pour que cela soit économiquement rentable par rapport à une capture d\\'individus sauvages, la phase précédant la maturité sexuelle de l\\'animal durant plus de 10 ans.\\n\\nUtilisé comme animal de trait par les humains, ainsi que lors de batailles en tant qu\\'éléphant de guerre, l\\'éléphant a occupé de nombreuses fonctions, notamment celle d\\'exécuteur lors d\\'exécutions par éléphant. En 1914-1918, des éléphants de cirque ont en Europe par exemple servi à débarder le bois en forêt (de Mormal, dans le Nord de la France), ou encore à labourer, ou à tirer des wagons dans les usines de munitions.\\nL\\'éléphant peut également être entrainé par anéantissement.\\nLe conducteur d\\'un éléphant est appelé cornac ou mahout.\\n\\n\\n=== Expression ===\\n“avoir une mémoire d’éléphant” veut dire que l’ont a une très bonne mémoire\\n\\n\\n=== Produits dérivés ===\\n\\nÀ l\\'origine, les éléphants étaient chassés par les hommes pour leur viande.\\nCertaines parties, comme les pieds d\\'éléphants, ou des animaux entiers étaient naturalisés. Les poils et les défenses d\\'ivoire, bien sûr, étaient aussi utilisés. On s\\'en servait pour fabriquer des objets de décoration et en bijouterie, ou bien ils étaient destinés, ainsi que les dents et les ossements, à des cabinets de curiosité ou des museums.\\nL\\'ivoire a longtemps fait l\\'objet d\\'un commerce important qui subsiste encore parfois sous forme de trafic illégal malgré le statut de protection dont bénéficient les éléphants survivants.\\n\\n\\n=== Culture ===\\n\\n\\n==== Symbolique ====\\nDans la symbolique occidentale comme orientale, l\\'éléphant est associé à la mémoire, la sagesse, la longévité, la prospérité, la bienveillance, le père. Pour beaucoup de peuples africains, l\\'éléphant tient le rôle du père, du chef des animaux, du roi.\\n\\n\\n===== Orient =====\\n\\nL\\'éléphant apparaît dans la panthéon hindouiste et bouddhiste à partir du troisième millénaire avant Jésus-Christ, époque de sa domestication.\\nDans la religion hindoue, Ganesh est un dieu à tête d’éléphant ; il est le dieu de la Sagesse et le patron des étudiants. Les rares éléphants blancs sont les plus sacrés en Inde, et les éléphants domestiqués et décorés aux couleurs des dieux bénissent les fidèles de leur trompe dans certains temples.\\nEn Inde, l’éléphant évoque la force, la puissance, l\\'orage (forme ronde et grise des nuages de pluie), et il est sacré. Chaque dieu hindou chevauche un animal : Indra, dieu des Orages et de la Bataille, et Agni, dieu du Feu, se déplacent à dos d’éléphant.\\nAu Laos, passer sous la trompe d\\'un éléphant permet d\\'acquérir ses attributs : force, longévité, fertilité et caractère sacré. Chaque année à l\\'occasion du Nouvel An bouddhique, les cornacs laotiens organisent un baci ou soukhouan, cérémonie de rappel des âmes, pour leur éléphant.\\n\\n\\n===== Islam =====\\nDans le Coran, la 105e sourate (la 19e dans l’ordre chronologique) s\\'intitule Al-Fîl (l’Éléphant). Elle comprend cinq versets révélés à la Mecque et doit son nom à l’expression « ashâb al-fîl » (les gens de l’éléphant) présente dans le tout premier verset. Cette expression désigne les Abyssins, qui occupaient le Yémen voisin, voulaient évangéliser l’Arabie tout entière, notamment en attaquant la Kaaba, à La Mecque. En raison des entraves qu’ils mettaient au pèlerinage, le « ministre du calendrier » dans le gouvernement mecquois se vengea en profanant l’église de Sana\\'a. C’est alors que le gouverneur abyssin fit venir un éléphant de taille gigantesque appelé Mahmoud et dirigea une expédition sur La Mecque.\\n\\n\\n===== Occident =====\\nDans la symbolique chrétienne, l\\'éléphant symbolise le baptême : la femelle met bas dans l\\'eau d\\'un étang à côté duquel le mâle monte la garde pour écarter le dragon, symbole de l\\'esprit du mal.[réf. nécessaire]Dans la symbolique chrétienne, il représente aussi la chasteté (de tempérament frigide, il ne peut engendrer qu\\'après avoir absorbé, en guise d\\'aphrodisiaque, une racine de mandragore), la constance, la maîtrise de soi, la bénignité des princes (il n\\'a pas de fiel), la tempérance, la circonspection et la prudence.[réf. nécessaire]En France, on dit de quelqu\\'un qui a une bonne mémoire qu\\'il a « une mémoire d\\'éléphant » ; effectivement, l\\'éléphant a une excellente mémoire pour se rappeler ses congénères ou retrouver les pistes qu\\'il emprunte chaque année pour chercher sa nourriture. Sa mémoire visuelle lui permet également de se rappeler très longtemps les visages humains[source insuffisante].\\nL\\'éléphant représente les quatre piliers du monde : il porte le monde sur son dos.\\nL\\'éléphant est le symbole de la ville de Catane, en Italie, depuis le Moyen Âge (mais le lien remonte peut-être à l\\'Antiquité). La Fontaine de l\\'éléphant s\\'y dresse sur la place de la cathédrale.\\n\\n\\n===== Afrique =====\\nL\\'éléphant est l\\'emblème de la Côte d\\'Ivoire.\\nL\\'éléphant est symbole de royauté, de puissance et de sagesse et ce en général pour les peuples de tout le continent africain.\\nSon image est utilisée dans les cérémonies et danses, pour la fabrication des masques ou encore de mobiliers, d\\'objets rituels, dans beaucoup de tribus notamment chez les Bamileke de l\\'ouest du Cameroun ou encore chez les Gurusi du Burkina Faso.\\nHors tribus, l\\'éléphant est un symbole important au même titre que le lion et son image est présente au quotidien dans le monde africain.\\n\\n\\n===== Politique =====\\nEn politique, l\\'image de l\\'éléphant a pu être utilisé dans différents pays pour caractériser des courants politiques ou des politiciens : ainsi, l\\'emblème du Parti républicain américain est un éléphant, et certains des membres les plus influents du Parti socialiste français sont surnommés les « éléphants ».\\n\\n\\n===== Art =====\\n\\nDes représentations picturales de l\\'éléphant sont retrouvées en Occident dès le XIIe siècle comme dans le quartier historique de Montferrand sur la « Maison de l\\'Éléphant » (12 rue Kléber).\\nL\\'ivoire des défenses de l\\'éléphant a longtemps servi à la réalisation d\\'œuvres d\\'art. Les œuvres en or et ivoire sont qualifiées de chryséléphantines — chrusos, or en grec. Ce nom a été déformé en olifant, pour désigner une corne (instrument de musique) en ivoire.\\n\\n\\n===== Sport =====\\nEn sport, certaines équipes nationales portent des surnoms à l\\'image de l\\'éléphant :\\n\\nLa Côte d\\'Ivoire : Les éléphants\\nLa Guinée : Le Sily national (L\\'éléphant national)\\nLa Thaïlande : Les éléphants de guerre\\n\\n\\n==== Fiction ====\\n\\nLes éléphants ont inspiré de nombreux artistes. La liste ci-après est loin d\\'être exhaustive.\\n\\nCinéma :\\nLes Racines du ciel (The Roots of Heaven) de John Huston (1958), tiré du roman de Romain Gary.\\nTusk d\\'Alejandro Jodorowsky (1980).\\nChasseur blanc, cœur noir (White Hunter Black Heart) de Clint Eastwood (1990, inspiré par John Huston, chasseur d\\'éléphant sur le tournage de the African Queen en 1950).\\nSunny et l\\'éléphant de Frédéric Lepage, 2008.\\nDe l\\'eau pour les éléphants de Francis Lawrence, 2011, tiré du roman de Sara Gruen.\\nElephant Boy de Robert J. Flaherty en 1937\\nGrimsby : Agent trop spécial de Louis Leterrier (2016), Norman \"Nobby\" Butcher (Sacha Baron Cohen) se cache dans le vagin d\\'une éléphante.\\nDocumentaire\\nL\\'Homme et l’Éléphant de Vijay Singh.\\nDessins animés :\\nDumbo.\\nWinnie l\\'ourson et l\\'Éfélant\\nBabar\\nLittérature :\\nLes Racines du ciel de Romain Gary, Prix Goncourt en 1956.\\nLes Annales du disque-monde de Terry Pratchett (le disque-monde est soutenu par quatre éléphants géants).\\nL\\'Éléphant et le Singe de Jupiter de Jean de La Fontaine.\\nLe Voyage de l\\'éléphant de José Saramago\\nLittérature jeunesse :\\nHistoires comme ça de Rudyard Kipling (L\\'Enfant d\\'éléphant)\\nPoo Lorn l\\'éléphant de Reginald Campbell\\nLe Livre de la jungle de Rudyard Kipling (personnages de Hathi et de Kala Nag).\\nBabar de Laurent de Brunhoff\\nUn éléphant ça compte énormément de Helme Heine\\nLe Mystère de l\\'éléphant bleu de Enid Blyton\\nLa Maison éléphant de Henriette Bichonnier\\n Elmer, l\\'éléphant multicolore de David McKee\\nPomelo, l\\'éléphant rose, texte de Ramona Bádescu, illustrations de Benjamin Chaud : une quinzaine de titres, depuis 2002. Plusieurs de ces titres font partie de la « Bibliothèque jeunesse idéale » du Centre national de la littérature pour la jeunesse (BnF).\\n\\t\\t\\n\\n\\n== Notes et références ==\\n\\n\\n== Annexes ==\\n\\n\\n=== Bibliographie ===\\nElephants: Majestic Creatures of the Wild, Checkmark Books, 2000 (ISBN 978-0-87596-143-9, OCLC 475147472)\\n\\n\\n=== Articles connexes ===\\nBouse d\\'éléphant\\nIntelligence animale\\nÉléphant de guerre\\nHanno\\nListe d\\'éléphants de fiction\\nOrdre de l’Éléphant\\nMammouphant\\nBraconnage\\nÉléphant rose\\n\\n\\n=== Références taxonomiques ===\\n(en) Référence Mammal Species of the World (3e éd., 2005) : Elephas maximus  \\n(fr+en) Référence ITIS : genre Loxodonta Cuvier, 1825\\n(en) Référence Animal Diversity Web : Elephas maximus\\n(en) Référence UICN : espèce Elephas maximus Linnaeus, 1758\\n(en) Référence NCBI : genre Loxodonta (taxons inclus)\\n(en) Référence Fonds documentaire ARKive : Loxodonta africana  \\n(en) Référence Fonds documentaire ARKive : Elephas maximus  \\n\\n\\n=== Liens externes ===\\n\\nAnalyse des instruments internationaux de lutte contre le trafic et le braconnage des espèces menacées en Afrique centrale : le cas de l\\'éléphant et du gorille\\n« Physiologie de l\\'éléphant », sur elephants.free.fr\\nUn dossier sur l\\'éléphant chez Futura-Sciences\\n« Chang Nam : La légende des éléphants nains aquatiques en Thaïlande », sur magiedubouddha.com\\n Portail des mammifères'"
            ],
            "application/vnd.google.colaboratory.intrinsic+json": {
              "type": "string"
            }
          },
          "metadata": {},
          "execution_count": 4
        }
      ]
    },
    {
      "cell_type": "markdown",
      "metadata": {
        "id": "EZkmNJ7XO9xX"
      },
      "source": [
        "We need to clean this up a bit. Let us remove all the special characters and keep only 26 letters and space. Note that this will remove accented characters in French also. We are also removing all the numbers and spaces. So this is not an ideal solution."
      ]
    },
    {
      "cell_type": "code",
      "metadata": {
        "id": "e5yf5P9pPI4t"
      },
      "source": [
        "def cleanup(text):\n",
        "  text = text.lower()  # make it lowercase\n",
        "  text = re.sub('[^a-z]+', '', text) # only keep characters, i.e. if not a-z then replace with space.\n",
        "  return text"
      ],
      "execution_count": 5,
      "outputs": []
    },
    {
      "cell_type": "code",
      "source": [
        "text1 = re.sub('[a-z]', '1', 'espèce d\\'« éléphant d\\?Afrique »,')\n",
        "text1"
      ],
      "metadata": {
        "colab": {
          "base_uri": "https://localhost:8080/",
          "height": 36
        },
        "id": "Iawqez-f4oT5",
        "outputId": "c5ea559d-84d2-47e1-fbc7-9621c42d9afb"
      },
      "execution_count": 6,
      "outputs": [
        {
          "output_type": "execute_result",
          "data": {
            "text/plain": [
              "\"111è11 1'« é1é11111 1\\\\?A111111 »,\""
            ],
            "application/vnd.google.colaboratory.intrinsic+json": {
              "type": "string"
            }
          },
          "metadata": {},
          "execution_count": 6
        }
      ]
    },
    {
      "cell_type": "code",
      "metadata": {
        "id": "qrOjC32fRuTK"
      },
      "source": [
        "eng1 = cleanup(eng1)\n",
        "eng2 = cleanup(eng2)\n",
        "fr1 = cleanup(fr1)\n",
        "fr2 = cleanup(fr2)"
      ],
      "execution_count": 7,
      "outputs": []
    },
    {
      "cell_type": "code",
      "metadata": {
        "id": "rIdqvL2G-LqL",
        "colab": {
          "base_uri": "https://localhost:8080/"
        },
        "outputId": "6a8f7004-41dd-4823-fa92-4a4a7b5771d5"
      },
      "source": [
        "print(eng1)"
      ],
      "execution_count": 8,
      "outputs": [
        {
          "output_type": "stream",
          "name": "stdout",
          "text": [
            "thegiraffeisalargeafricanhoofedmammalbelongingtothegenusgiraffaitisthetallestlivingterrestrialanimalandthelargestruminantonearthtraditionallygiraffeswerethoughttobeonespeciesgiraffacamelopardaliswithninesubspeciesmostrecentlyresearchersproposeddividingthemintouptoeightextantspeciesduetonewresearchintotheirmitochondrialandnucleardnaaswellasmorphologicalmeasurementssevenotherextinctspeciesofgiraffaareknownfromthefossilrecordthegiraffeschiefdistinguishingcharacteristicsareitsextremelylongneckandlegsitshornlikeossiconesanditsspottedcoatpatternsitisclassifiedunderthefamilygiraffidaealongwithitsclosestextantrelativetheokapiitsscatteredrangeextendsfromchadinthenorthtosouthafricainthesouthandfromnigerinthewesttosomaliaintheeastgiraffesusuallyinhabitsavannahsandwoodlandstheirfoodsourceisleavesfruitsandflowersofwoodyplantsprimarilyacaciaspecieswhichtheybrowseatheightsmostotherherbivorescannotreachlionsleopardsspottedhyenasandafricanwilddogsmaypreyupongiraffesgiraffesliveinherdsofrelatedfemalesandtheiroffspringorbachelorherdsofunrelatedadultmalesbutaregregariousandmaygatherinlargeaggregationsmalesestablishsocialhierarchiesthroughneckingcombatboutswheretheneckisusedasaweapondominantmalesgainmatingaccesstofemaleswhichbearsoleresponsibilityforraisingtheyoungthegiraffehasintriguedvariousancientandmodernculturesforitspeculiarappearanceandhasoftenbeenfeaturedinpaintingsbooksandcartoonsitisclassifiedbytheinternationalunionforconservationofnatureiucnasvulnerabletoextinctionandhasbeenextirpatedfrommanypartsofitsformerrangegiraffesarestillfoundinnumerousnationalparksandgamereservesbutestimatesasofindicatethereareapproximatelymembersofgiraffainthewildmorethanwerekeptinzoosinetymologythenamegiraffehasitsearliestknownoriginsinthearabicwordzarfahperhapsborrowedfromtheanimalssomalinamegerithearabnameistranslatedasfastwalkerinearlymodernenglishthespellingsjarrafandziraphwereusedprobablydirectlyfromthearabicandinmiddleenglishjarrafandziraphgerfauntztheitalianformgiraffaaroseinthesthemodernenglishformdevelopedaroundfromthefrenchgirafecamelopardisanarchaicenglishnameforthegiraffeitderivesfromtheancientgreekkamloprdalisfromkmloscamelandprdalisleopardreferringtoitscamellikeshapeandleopardlikecolourationtaxonomyevolutionthegiraffeisoneofonlytwolivinggeneraofthefamilygiraffidaeintheorderartiodactylatheotherbeingtheokapithefamilywasoncemuchmoreextensivewithoverfossilgeneradescribedtheelongationoftheneckappearstohavestartedearlyinthegiraffelineagecomparisonsbetweengiraffesandtheirancientrelativessuggestvertebraeclosetotheskulllengthenedearlierfollowedbylengtheningofvertebraefurtherdownoneearlygiraffidancestorwascanthumeryxwhichhasbeendatedvariouslytohavelivedmillionyearsagomyamyaormyaandwhosedepositshavebeenfoundinlibyathisanimalresembledanantelopeandhadamediumsizedlightlybuiltbodygiraffokeryxappearedmyaontheindiansubcontinentandresembledanokapiorasmallgiraffeandhadalongerneckandsimilarossiconesgiraffokeryxmayhavesharedacladewithmoremassivelybuiltgiraffidslikesivatheriumandbramatheriumgiraffidslikepalaeotragusshansitheriumandsamotheriumappearedmyaandlivedthroughoutafricaandeurasiatheseanimalshadbroaderskullwithreducedfrontalcavitiespaleotragusresembledtheokapiandmayhavebeenitsancestorothersfindthattheokapilineagedivergedearlierbeforegiraffokeryxsamotheriumwasaparticularlyimportanttransitionalfossilinthegiraffelineageasthelengthandstructureofitscervicalvertebraewerebetweenthoseofamoderngiraffeandanokapianditsneckposturewaslikelysimilartotheformerbohliniawhichfirstappearedinsoutheasterneuropeandlivedmyawaslikelyadirectancestorofthegiraffebohliniacloselyresembledmoderngiraffeshavingalongneckandlegsandsimilarossiconesanddentitionbohliniacolonisedchinaandnorthernindiaandproducedthegiraffawhicharoundmyareachedafricaclimatechangesleadtotheextinctionoftheasiangiraffeswhiletheafricangiraffessurvivedandradiatedintonewspecieslivinggiraffesappeartohavearisenaroundmyaineasternafricaduringthepleistocenesomebiologistssuggestthemoderngiraffesdescendedfromgjumaeothersfindggracilisamorelikelycandidategjumaewaslargerandmorerobustwhileggraciliswassmallerandmoreslenderthechangesfromextensiveforeststomoreopenhabitatswhichbeganmyaarebelievedtobethemaindriverfortheevolutionofgiraffesduringthistimetropicalplantsdisappearedandwerereplacedbyaridcplantsandadrysavannahemergedacrosseasternandnorthernafricaandwesternindiasomeresearchershavehypothesisedthatthisnewhabitatcoupledwithadifferentdietincludingacaciaspeciesmayhaveexposedgiraffeancestorstotoxinsthatcausedhighermutationratesandahigherrateofevolutionthecoatpatternsofmoderngiraffesmayalsohavecoincidedwiththesehabitatchangesasiangiraffesarehypothesisedtohavehadmoreokapilikecolourationsthegiraffegenomeisaroundbillionbasepairsinlengthcomparedtothebillionbasepairsoftheokapioftheproteinsingiraffeandokapigenesareidenticalthedivergenceofgiraffeandokapilineagesdatestoaroundmyaasmallgroupofregulatorygenesinthegiraffeappeartoberesponsiblefortheanimalsheightandassociatedcirculatoryadaptationsspeciesandsubspeciestheinternationalunionforconservationofnatureiucncurrentlyrecognisesonlyonespeciesofgiraffewithninesubspeciescarllinnaeusoriginallyclassifiedlivinggiraffesasonespeciesinhegaveitthebinomialnamecervuscamelopardalismortenthranebrnnichclassifiedthegenusgiraffainduringthesvarioustaxonomieswithtwoorthreespecieswereproposedastudyonthegeneticsofgiraffesusingmitochondrialdnasuggestedatleastsixlineagescouldberecognisedasspeciesastudyusingdetailedanalysesofthemorphologyofgiraffesandapplicationofthephylogeneticspeciesconceptdescribedeightspeciesoflivinggiraffesastudyalsoconcludedthatlivinggiraffesconsistofmultiplespeciestheresearcherssuggestedtheexistenceoffourspecieswhichhavenotexchangedgeneticinformationbetweeneachotherfortomillionyearsastudyshowedthatdependingonthemethodchosendifferenttaxonomichypothesesrecognizingfromtwotosixspeciescanbeconsideredforthegenusgiraffathatstudyalsofoundthatmultispeciescoalescentmethodscanleadtotaxonomicoversplittingasthosemethodsdelimitgeographicstructuresratherthanspeciesthethreespecieshypothesiswhichrecognisesgcamelopardalisggiraffaandgtippelskirchiishighlysupportedbyphylogeneticanalysesandalsocorroboratedbymostpopulationgeneticandmultispeciescoalescentanalysesawholegenomesequencingstudysuggeststheexistenceoffourdistinctspeciesandsevensubspeciesthecladogrambelowshowsthephylogeneticrelationshipbetweenthefourproposedspeciesandsevensubspeciesbasedonthegenomeanalysisnotetheeightlineagescorrespondtoeightofthetraditionalsubspeciesintheonespecieshypothesistherothschildgiraffeissubsumedintogcamelopardaliscamelopardalisthefollowingtablecomparesthedifferenthypothesesforgiraffespeciesthedescriptioncolumnshowsthetraditionalninesubspeciesintheonespecieshypothesisthefirstextinctspeciestobedescribedwasgiraffasivalensisfalconerandcautleyareevaluationofavertebrathatwasinitiallydescribedasafossilofthelivinggiraffewhiletaxonomicopinionmaybelackingonsomenamestheextinctspeciesthathavebeenpublishedincludegiraffagracilisgiraffajumaegiraffapriscillagiraffapomeligiraffapunjabiensisgiraffapygmaeagiraffasivalensisgiraffastilleicharacteristicsfullygrowngiraffesstandmfttallwithmalestallerthanfemalestheaverageweightiskglbforanadultmaleandkglbforanadultfemaledespiteitslongneckandlegsitsbodyisrelativelyshorttheskinismostlygrayortanandcanreachathicknessofmminthecentimetresinlongtailendsinalongdarktuftofhairandisusedasadefenseagainstinsectsthecoathasdarkblotchesorpatcheswhichcanbeorangechestnutbrownornearlyblacksurroundedbylighthairusuallywhiteorcreamcolouredmalegiraffesbecomedarkerastheygrowoldthecoatpatternhasbeenclaimedtoserveascamouflageinthelightandshadepatternsofsavannahwoodlandswhenstandingamongtreesandbushestheyarehardtoseeatevenafewmetresdistancehoweveradultgiraffesmoveabouttogainthebestviewofanapproachingpredatorrelyingontheirsizeandabilitytodefendthemselvesratherthanoncamouflagewhichmaybemoreimportantforcalveseachgiraffehasauniquecoatpatterncalvesinheritsomecoatpatterntraitsfromtheirmothersandvariationinsomespottraitsiscorrelatedwithcalfsurvivaltheskinundertheblotchesmayregulatetheanimalsbodytemperaturebeingsitesforcomplexbloodvesselsystemsandlargesweatglandsthefurmaygivetheanimalchemicaldefenseasitsparasiterepellentsgiveitacharacteristicscentatleastmainaromaticchemicalsareinthefuralthoughindoleandmethylindoleareresponsibleformostofthesmellbecausemaleshaveastrongerodourthanfemalesitmayalsohaveasexualfunctionheadbothsexeshaveprominenthornlikestructurescalledossiconeswhichcanreachcmintheyareformedfromossifiedcartilagecoveredinskinandfusedtotheskullattheparietalbonesbeingvascularisedtheossiconesmayhavearoleinthermoregulationandareusedincombatbetweenmalesappearanceisareliableguidetothesexorageofagiraffetheossiconesoffemalesandyoungarethinanddisplaytuftsofhairontopwhereasthoseofadultmalestendtobebaldandknobedontopalumpwhichismoreprominentinmalesemergesinthemiddleoftheskullmalesdevelopcalciumdepositsthatformbumpsontheirskullsastheyagemultiplesinuseslightenagiraffesskullhoweverasmalesagetheirskullsbecomeheavierandmoreclublikehelpingthembecomemoredominantincombattheoccipitalcondylesbonesatthebottomoftheskullallowtheanimaltotipitsheadoverdegreesandgrabfoodonthebranchesdirectlyabovethemwiththetonguelocatedonthesidesoftheheadthegiraffehasabroadvisualfieldfromitsgreatheightcomparedtootherungulatesgiraffevisionismorebinocularandtheeyesarelargerwithagreaterretinalsurfaceareagiraffesmayseeincolourandtheirsensesofhearingandsmellaresharptheearsaremovableandthenostrilsareslitshapedpossiblytowithstandblowingsandthegiraffestongueisaboutcminlongitisblackperhapstoprotectagainstsunburnandcangraspfoliageanddelicatelypickoffleavestheupperlipisflexibleandhairytoprotectagainstsharppricklestheupperjawhasahardpalateinsteadoffrontteeththemolarsandpremolarsarewidewithlowcrownsonthesurfaceneckthegiraffehasanextremelyelongatedneckwhichcanbeuptomftinlengthalongtheneckisamanemadeofshorterecthairsthenecktypicallyrestsatanangleofdegreesthoughjuvenilesareclosertodegreesthelongneckresultsfromadisproportionatelengtheningofthecervicalvertebraenotfromtheadditionofmorevertebraeeachcervicalvertebraisovercminlongtheycomprisepercentofthelengthofthegiraffesvertebralcolumncomparedwiththepercenttypicalofsimilarlargeungulatesincludingthegiraffesclosestlivingrelativetheokapithiselongationlargelytakesplaceafterbirthperhapsbecausegiraffemotherswouldhaveadifficulttimegivingbirthtoyoungwiththesameneckproportionsasadultsthegiraffesheadandneckareheldupbylargemusclesandanuchalligamentwhichareanchoredbylongthoracicvertebraespinesgivingthemahumpthegiraffesneckvertebraehaveballandsocketjointsthepointofarticulationbetweenthecervicalandthoracicvertebraeofgiraffesisshiftedtoliebetweenthefirstandsecondthoracicvertebraetandtunlikemostotherruminantswherethearticulationisbetweentheseventhcervicalvertebracandtthisallowsctocontributedirectlytoincreasednecklengthandhasgivenrisetothesuggestionthattisactuallycandthatgiraffeshaveaddedanextracervicalvertebrahoweverthispropositionisnotgenerallyacceptedasthasothermorphologicalfeaturessuchasanarticulatingribdeemeddiagnosticofthoracicvertebraeandbecauseexceptionstothemammalianlimitofsevencervicalvertebraearegenerallycharacterisedbyincreasedneurologicalanomaliesandmaladiesthereareseveralhypothesesregardingtheevolutionaryoriginandmaintenanceofelongationingiraffeneckscharlesdarwinoriginallysuggestedthecompetingbrowsershypothesiswhichhasbeenchallengedonlyrecentlyitsuggeststhatcompetitivepressurefromsmallerbrowserslikekudusteenbokandimpalaencouragedtheelongationoftheneckasitenabledgiraffestoreachfoodthatcompetitorscouldnotthisadvantageisrealasgiraffescananddofeeduptomfthighwhileevenquitelargecompetitorssuchaskuducanfeeduptoonlyaboutmftinhighthereisalsoresearchsuggestingthatbrowsingcompetitionisintenseatlowerlevelsandgiraffesfeedmoreefficientlygainingmoreleafbiomasswitheachmouthfulhighinthecanopyhoweverscientistsdisagreeaboutjusthowmuchtimegiraffesspendfeedingatlevelsbeyondthereachofotherbrowsersandastudyfoundthatadultgiraffeswithlongernecksactuallysufferedhighermortalityratesunderdroughtconditionsthantheirshorterneckedcounterpartsthisstudysuggeststhatmaintainingalongerneckrequiresmorenutrientswhichputslongerneckedgiraffesatriskduringafoodshortageanothertheorythesexualselectionhypothesisproposesthelongnecksevolvedasasecondarysexualcharacteristicgivingmalesanadvantageinneckingcontestsseebelowtoestablishdominanceandobtainaccesstosexuallyreceptivefemalesinsupportofthistheorynecksarelongerandheavierformalesthanfemalesofthesameageandmalesdonotemployotherformsofcombathoweveroneobjectionisitfailstoexplainwhyfemalegiraffesalsohavelongnecksithasalsobeenproposedthattheneckservestogivetheanimalgreatervigilancelegslocomotionandpostureagiraffesfrontandbacklegsareaboutthesamelengththeradiusandulnaofthefrontlegsarearticulatedbythecarpuswhichwhilestructurallyequivalenttothehumanwristfunctionsasakneeitappearsthatasuspensoryligamentallowsthelankylegstosupporttheanimalsgreatweightthehoovesoflargemalegiraffesreachcmcmininindiameterthefetlockofthelegislowtothegroundallowingthehooftobettersupporttheanimalsweightgiraffeslackdewclawsandinterdigitalglandswhilethepelvisisrelativelyshorttheiliumhasstretchedoutcrestsagiraffehasonlytwogaitswalkingandgallopingwalkingisdonebymovingthelegsononesideofthebodythendoingthesameontheothersidewhengallopingthehindlegsmovearoundthefrontlegsbeforethelattermoveforwardandthetailwillcurlupthemovementsoftheheadandneckprovidebalanceandcontrolmomentumwhilegallopingthegiraffecanreachasprintspeedofuptokmhmphandcansustainkmhmphforseveralkilometresgiraffeswouldprobablynotbecompetentswimmersastheirlonglegswouldbehighlycumbersomeinthewateralthoughtheymightbeabletofloatwhenswimmingthethoraxwouldbeweigheddownbythefrontlegsmakingitdifficultfortheanimaltomoveitsneckandlegsinharmonyorkeepitsheadabovethewaterssurfaceagirafferestsbylyingwithitsbodyontopofitsfoldedlegstoliedowntheanimalkneelsonitsfrontlegsandthenlowerstherestofitsbodytogetbackupitfirstgetsonitsfrontkneesandpositionsitsbacksideontopofitshindlegsitthenpullsupthebacksideupwardsandthefrontlegsstandstraightupagainateachstagetheanimalswingsitsheadforbalanceifthegiraffewantstoreachdowntodrinkiteitherspreadsitsfrontlegsorbendsitskneesstudiesincaptivityfoundthegiraffesleepsintermittentlyaroundhoursperdaymostlyatnightitusuallysleepslyingdownhoweverstandingsleepshavebeenrecordedparticularlyinolderindividualsintermittentshortdeepsleepphaseswhilelyingarecharacterisedbythegiraffebendingitsneckbackwardsandrestingitsheadonthehiporthighapositionbelievedtoindicateparadoxicalsleepinternalsystemsinmammalstheleftrecurrentlaryngealnerveislongerthantherightinthegiraffeitisovercminlongerthesenervesarelongerinthegiraffethaninanyotherlivinganimaltheleftnerveisovermftinlongeachnervecellinthispathbeginsinthebrainstemandpassesdowntheneckalongthevagusnervethenbranchesoffintotherecurrentlaryngealnervewhichpassesbackupthenecktothelarynxthusthesenervecellshavealengthofnearlymftinthelargestgiraffesdespiteitslongneckandlargeskullthebrainofthegiraffeistypicalforanungulateevaporativeheatlossinthenasalpassageskeepthegiraffesbraincooltheshapeoftheskeletongivesthegiraffeasmalllungvolumerelativetoitsmassitslongneckgivesitalargeamountofdeadspaceinspiteofitsnarrowwindpipethegiraffealsohasahightidalvolumesothebalanceofdeadspaceandtidalvolumeismuchthesameasothermammalstheanimalcanstillprovideenoughoxygenforitstissuesanditcanincreaseitsrespiratoryrateandoxygendiffusionwhenrunningthecirculatorysystemofthegiraffehasseveraladaptationsforitsgreatheightitskglbandcmftheartmustgenerateapproximatelydoublethebloodpressurerequiredforahumantomaintainbloodflowtothebrainassuchthewalloftheheartcanbeasthickascmingiraffeshaverelativelyhighheartratesfortheirsizeatbeatsperminutewhentheanimallowersitsheadthebloodrushesdownfairlyunopposedandaretemirabileintheupperneckwithitslargecrosssectionalareapreventsexcessbloodflowtothebrainwhenitraisesagainthebloodvesselsconstrictandpushbloodintothebrainsotheanimaldoesnotfaintthejugularveinscontainseveralmostcommonlysevenvalvestopreventbloodflowingbackintotheheadfromtheinferiorvenacavaandrightatriumwhiletheheadisloweredconverselythebloodvesselsinthelowerlegsareundergreatpressurebecauseoftheweightoffluidpressingdownonthemtosolvethisproblemtheskinofthelowerlegsisthickandtightpreventingtoomuchbloodfrompouringintothemgiraffeshaveoesophagealmusclesthatarestrongenoughtoallowregurgitationoffoodfromthestomachuptheneckandintothemouthforruminationtheyhavefourchamberedstomachswhichareadaptedtotheirspecializeddiettheintestinesofanadultgiraffemeasuremorethanmftinlengthandhavearelativelysmallratioofsmalltolargeintestinethegiraffehasasmallcompactliverfetusesmaybeasmallgallbladderthatvanishesbeforebirthbehaviourandecologyhabitatandfeedinggiraffesusuallyinhabitsavannahsandopenwoodlandstheypreferbyareasdominatedbyacacieaecommiphoracombretumandterminaliatreeoverbrachystegiawhicharemoredenselyspacedtheangolangiraffecanbefoundindesertenvironmentsgiraffesbrowseonthetwigsoftreespreferringthoseofthesubfamilyacacieaeandthegeneracommiphoraandterminaliawhichareimportantsourcesofcalciumandproteintosustainthegiraffesgrowthratetheyalsofeedonshrubsgrassandfruitagiraffeeatsaroundkglbofplantmatterdailywhenstressedgiraffesmaychewonlargebranchesstrippingthemofbarkgiraffesarealsorecordedtochewoldbonesduringthewetseasonfoodisabundantandgiraffesaremorespreadoutwhileduringthedryseasontheygatheraroundtheremainingevergreentreesandbushesmotherstendtofeedinopenareaspresumablytomakeiteasiertodetectpredatorsalthoughthismayreducetheirfeedingefficiencyasaruminantthegiraffefirstchewsitsfoodthenswallowsitforprocessingandthenvisiblypassesthehalfdigestedcuduptheneckandbackintothemouthtochewagainthegirafferequireslessfoodthanmanyotherherbivoresbecausethefoliageiteatshasmoreconcentratednutrientsandithasamoreefficientdigestivesystemtheanimalsfaecescomeintheformofsmallpelletswhenithasaccesstowateragiraffewillgonomorethanthreedayswithoutdrinkinggiraffeshaveagreateffectonthetreesthattheyfeedondelayingthegrowthofyoungtreesforsomeyearsandgivingwaistlinestotootalltreesfeedingisatitshighestduringthefirstandlasthoursofdaytimebetweenthesehoursgiraffesmostlystandandruminateruminationisthedominantactivityduringthenightwhenitismostlydonelyingdownsociallifegiraffesareusuallyfoundingroupsthatvaryinsizeandcompositionaccordingtoecologicalanthropogenictemporalandsocialfactorstraditionallythecompositionofthesegroupshadbeendescribedasopenandeverchangingforresearchpurposesagrouphasbeendefinedasacollectionofindividualsthatarelessthanakilometreapartandmovinginthesamegeneraldirectionmorerecentstudieshavefoundthatgiraffeshavelonglastingsocialgroupsorcliquesbasedonkinshipsexorotherfactorsandthesegroupsregularlyassociatewithothergroupsinlargercommunitiesorsubcommunitieswithinafissionfusionsocietyproximitytohumanscandisruptsocialarrangementsmasaigiraffesintanzaniahavedifferentsubpopulationswithoverlappingrangeseachofwhichdifferinreproductiveratesandcalfmortalitythenumberofgiraffesinagroupcanrangefromoneuptoindividualsgiraffegroupstendtobesexsegregatedalthoughmixedsexgroupsmadeofadultfemalesandyoungmalesalsooccurfemalegroupsmaybematrilineallyrelatedgenerallyfemalesaremoreselectivethanmalesinwhotheyassociatewithregardingindividualsofthesamesexparticularlystablegiraffegroupsarethosemadeofmothersandtheiryoungwhichcanlastweeksormonthsyoungmalesalsoformgroupsandwillengageinplayfightshoweverastheygetoldermalesbecomemoresolitarybutmayalsoassociateinpairsorwithfemalegroupsgiraffesarenotterritorialbuttheyhavehomerangesthatvaryaccordingtorainfallandproximitytohumansettlementsmalegiraffesoccasionallyroamfarfromareasthattheynormallyfrequentearlybiologistssuggestedgiraffesweremuteandunabletocreateenoughairflowtovibratetheirvocalfoldstothecontrarytheyhavebeenrecordedtocommunicateusingsnortssneezescoughssnoreshissesburstsmoansgruntsgrowlsandflutelikesoundsduringcourtshipmalesemitloudcoughsfemalescalltheiryoungbybellowingcalveswillemitbleatsmooingandmewingsoundssnortingandhissingisassociatedwithvigilanceduringnighttimegiraffesappeartohumtoeachotherabovetheinfrasoundrangethepurposeisuncleardominantmalesdisplaytoothermaleswithanerectpostureholdingthechinandheadupwhilewalkingstifflyanddisplayingtheirsidethelessdominantshowsubmissivenessbydroppingtheheadandearsloweringthechinandfleeingreproductionandparentalcarereproductioningiraffesisbroadlypolygamousafewoldermalesmatewiththefertilefemalesfemalescanreproducethroughouttheyearandexperienceoestruscyclingapproximatelyeverydaysfemalegiraffesinoestrousaredispersedoverspaceandtimesoreproductiveadultmalesadoptastrategyofroamingamongfemalegroupstoseekmatingopportunitieswithperiodichormoneinducedruttingbehaviourapproximatelyeverytwoweeksmalespreferyoungadultfemalesoverjuvenilesandolderadultsmalegiraffesassessfemalefertilitybytastingthefemalesurinetodetectoestrusinamultistepprocessknownastheflehmenresponseonceanoestrousfemaleisdetectedthemalewillattempttocourtherwhencourtingdominantmaleswillkeepsubordinateonesatbayacourtingmalemaylickafemalestaillayhisheadandneckonherbodyornudgeherwithhisossiconesduringcopulationthemalestandsonhishindlegswithhisheadheldupandhisfrontlegsrestingonthefemalessidesgiraffegestationlastsdaysafterwhichasinglecalfisnormallybornalthoughtwinsoccuronrareoccasionsthemothergivesbirthstandingupthecalfemergesheadandfrontlegsfirsthavingbrokenthroughthefetalmembranesandfallstothegroundseveringtheumbilicalcordanewborngiraffeismfttallwithinafewhoursofbirththecalfcanrunaroundandisalmostindistinguishablefromaoneweekoldhoweverforthefirstonetothreeweeksitspendsmostofitstimehidingitscoatpatternprovidingcamouflagetheossiconeswhichhavelainflatwhileitwasinthewombraiseupinafewdaysmotherswithcalveswillgatherinnurseryherdsmovingorbrowsingtogethermothersinsuchagroupmaysometimesleavetheircalveswithonefemalewhiletheyforageanddrinkelsewherethisisknownasacalvingpoolcalvesareatriskofpredationandamothergiraffewillstandoverthemandkickatanapproachingpredatorfemaleswatchingcalvingpoolswillonlyalerttheirownyoungiftheydetectadisturbancealthoughtheotherswilltakenoticeandfollowcalvesfirstruminateatfourtosixmonthsandstopnursingatsixtoeightmonthsyoungmaynotreachindependenceuntiltheyaremonthsoldfemalesbecomesexuallymaturewhentheyarefouryearsoldwhilemalesbecomematureatfourorfiveyearsspermatogenesisinmalegiraffesbeginsatthreetofouryearsofagemalesmustwaituntiltheyareatleastsevenyearsoldtogaintheopportunitytomateneckingmalegiraffesusetheirnecksasweaponsincombatabehaviourknownasneckingneckingisusedtoestablishdominanceandmalesthatwinneckingboutshavegreaterreproductivesuccessthisbehaviouroccursatloworhighintensityinlowintensityneckingthecombatantsrubandleanoneachotherthemalethatcankeepitselfmoreuprightwinstheboutinhighintensityneckingthecombatantswillspreadtheirfrontlegsandswingtheirnecksateachotherattemptingtolandblowswiththeirossiconesthecontestantswilltrytododgeeachothersblowsandthenpreparetocounterthepowerofablowdependsontheweightoftheskullandthearcoftheswinganeckingduelcanlastmorethanhalfanhourdependingonhowwellmatchedthecombatantsarealthoughmostfightsdonotleadtoseriousinjurytherehavebeenrecordsofbrokenjawsbrokennecksandevendeathsafteraduelitiscommonfortwomalegiraffestocaressandcourteachothersuchinteractionsbetweenmaleshavebeenfoundtobemorefrequentthanheterosexualcouplinginonestudyuptopercentofobservedmountingincidentstookplacebetweenmalestheproportionofsamesexactivitiesvariedfromtopercentonlyonepercentofsamesexmountingincidentsoccurredbetweenfemalesmortalityandhealthgiraffeshavehighadultsurvivalprobabilityandanunusuallylonglifespancomparedtootherruminantsuptoyearsbecauseoftheirsizeeyesightandpowerfulkicksadultgiraffesareusuallynotsubjecttopredationalthoughlionsmayregularlypreyonindividualsuptokglbgiraffesarethemostcommonfoodsourceforthebigcatsinkrugernationalparkcomprisingnearlyathirdofthemeatconsumedalthoughonlyasmallportionofthegiraffeswereprobablykilledbypredatorsasamajorityoftheconsumedgiraffesappearedtobescavengedadultfemalesurvivalissignificantlycorrelatedwiththenumberofsocialassociationscalvesaremuchmorevulnerablethanadultsandarealsopreyedonbyleopardscheetahsnilecrocodilesspottedhyenasandwilddogsaquartertoahalfofgiraffecalvesreachadulthoodcalfsurvivalvariesaccordingtotheseasonofbirthwithcalvesbornduringthedryseasonhavinghighersurvivalratesthelocalseasonalpresenceoflargeherdsofmigratorywildebeestsandzebrasreducespredationpressureongiraffecalvesandincreasestheirsurvivalprobabilityinturnithasbeensuggestedthatotherungulatesmaybenefitfromassociatingwithgiraffesastheirheightallowsthemtospotpredatorsfromfurtherawayzebraswerefoundtoaccesspredationriskbywatchinggiraffesandspendlesstimelookingaroundwhengiraffesarepresentsomeparasitesfeedongiraffestheyareoftenhostsforticksespeciallyintheareaaroundthegenitalswhichhavethinnerskinthanotherareastickspeciesthatcommonlyfeedongiraffesarethoseofgenerahyalommaamblyommaandrhipicephalusgiraffesmayrelyonredbilledandyellowbilledoxpeckerstocleanthemofticksandalertthemtodangergiraffeshostnumerousspeciesofinternalparasitesandaresusceptibletovariousdiseasestheywerevictimsofthenoweradicatedviralillnessrinderpestgiraffescanalsosufferfromaskindisorderwhichcomesintheformofwrinkleslesionsorrawfissuresasmuchasofgiraffeshavesymptomsofthediseaseinruahanationalparkbutitdidnotcausemortalityintarangireandislessprevalentinareaswithfertilesoilsrelationshipwithhumansculturalsignificancewithitslankybuildandspottedcoatthegiraffehasbeenasourceoffascinationthroughouthumanhistoryanditsimageiswidespreadincultureithasrepresentedflexibilityfarsightednessfemininityfragilitypassivitygracebeautyandthecontinentofafricaitselfgiraffesweredepictedinartthroughouttheafricancontinentincludingthatofthekiffiansegyptiansandkushitesthekiffianswereresponsibleforalifesizerockengravingoftwogiraffesdatedyearsagothathasbeencalledtheworldslargestrockartpetroglyphhowthegiraffegotitsheighthasbeenthesubjectofvariousafricanfolktalesthetugenpeopleofmodernkenyausedthegiraffetodepicttheirgodmdatheegyptiansgavethegiraffeitsownhieroglyphsrinoldegyptianandmmyinlaterperiodsgiraffeshaveapresenceinmodernwesternculturesalvadordaldepictedthemwithburningmanesinsomeofhissurrealistpaintingsdaliconsideredthegiraffetobeamasculinesymbolandaflaminggiraffewasmeanttobeamasculinecosmicapocalypticmonsterseveralchildrensbooksfeaturethegiraffeincludingdavidaufersthegiraffewhowasafraidofheightsgilesandreaesgiraffescantdanceandroalddahlsthegiraffeandthepellyandmegiraffeshaveappearedinanimatedfilmsasminorcharactersindisneysthelionkinganddumboandinmoreprominentrolesinthewildandthemadagascarfilmssophiethegiraffehasbeenapopularteethersinceanotherfamousfictionalgiraffeisthetoysrusmascotgeoffreythegiraffethegiraffehasalsobeenusedforsomescientificexperimentsanddiscoveriesscientistshaveusedthepropertiesofgiraffeskinasamodelforastronautandfighterpilotsuitsbecausethepeopleintheseprofessionsareindangerofpassingoutifbloodrushestotheirlegscomputerscientistshavemodeledthecoatpatternsofseveralsubspeciesusingreactiondiffusionmechanismstheconstellationofcamelopardalisintroducedintheseventeenthcenturydepictsagiraffethetswanapeopleofbotswanatraditionallyseetheconstellationcruxastwogiraffesacruxandmimosaformingamaleandgacruxanddeltacrucisformingthefemalecaptivitytheegyptianswereamongtheearliestpeopletokeepgiraffesincaptivityshippedthemaroundthemediterraneanthegiraffewasamongthemanyanimalscollectedanddisplayedbytheromansthefirstoneinromewasbroughtinbyjuliuscaesarinbcwiththefallofthewesternromanempirethehousingofgiraffesineuropedeclinedduringthemiddleagesgiraffeswereknowntoeuropeansthroughcontactwiththearabswhoreveredthegiraffeforitspeculiarappearanceindividualcaptivegiraffesweregivencelebritystatusthroughouthistoryinagiraffefrommalindiwastakentochinabyexplorerzhengheandplacedinamingdynastyzootheanimalwasasourceoffascinationforthechinesepeoplewhoassociateditwiththemythicalqilinthemedicigiraffewasagiraffepresentedtolorenzodemediciinitcausedagreatstironitsarrivalinflorencezarafaanotherfamousgiraffewasbroughtfromegypttoparisintheearlythcenturyasagiftforcharlesxoffranceasensationthegiraffewasthesubjectofnumerousmemorabiliaorgiraffanaliagiraffeshavebecomepopularattractionsinmodernzoosthoughkeepingthemhealthyisdifficultastheyrequirevastareasandneedtoeatlargeamountsofbrowsecaptivegiraffesinnorthamericaandeuropeappeartohaveahighermortalityratethaninthewildthemostcommoncausesbeingpoorhusbandrynutritionandmanagementgiraffesinzoosdisplaystereotypicalbehavioursparticularlythelickingofinanimateobjectsandpacingzookeepersmayoffervariousactivitiestostimulategiraffesincludingtrainingthemtotakefoodfromvisitorsstablesforgiraffesarebuiltparticularlyhightoaccommodatetheirheightexploitationgiraffeswereprobablycommontargetsforhuntersthroughoutafricadifferentpartsoftheirbodieswereusedfordifferentpurposestheirmeatwasusedforfoodthetailhairsservedasflyswattersbraceletsnecklacesandthreadsshieldssandalsanddrumsweremadeusingtheskinandthestringsofmusicalinstrumentswerefromthetendonsinbugandathesmokeofburninggiraffeskinwastraditionallyusedtotreatnosebleedsthehumrpeopleofkordofanconsumethedrinkummnyolokhwhichispreparedfromtheliverandbonemarrowofgiraffesrichardrudgleyhypothesisedthatummnyolokhmightcontaindmtthedrinkissaidtocausehallucinationsofgiraffesbelievedtobethegiraffesghostsbythehumrconservationstatusingiraffeswereassessedasvulnerablefromaconservationperspectivebytheiucninitwasestimatedthereweregiraffesinthewildthisdeclinedtooverinestimatesasofindicatethereareapproximatelymembersofgiraffainthewildthemasaiandreticulatedsubspeciesareendangeredandtherothschildsubspeciesisnearthreatenedthenubiansubspeciesiscriticallyendangeredtheprimarycausesforgiraffepopulationdeclinesarehabitatlossanddirectkillingforbushmeatmarketsgiraffeshavebeenextirpatedfrommuchoftheirhistoricrangeincludingeritreaguineamauritaniaandsenegaltheymayalsohavedisappearedfromangolamaliandnigeriabuthavebeenintroducedtorwandaandeswatiniasofthereweremorethanincaptivityatspeciesregisteredzooshabitatdestructionhashurtthegiraffeinthesaheltheneedforfirewoodandgrazingroomforlivestockhasledtodeforestationnormallygiraffescancoexistwithlivestocksincetheyavoiddirectcompetitionbyfeedingabovetheminseveredroughtsinnorthernkenyaledtoincreasedtensionsoverlandandthekillingofwildlifebyherderswithgiraffepopulationsbeingparticularlyhitprotectedareaslikenationalparksprovideimportanthabitatandantipoachingprotectiontogiraffepopulationscommunitybasedconservationeffortsoutsidenationalparksarealsoeffectiveatprotectinggiraffesandtheirhabitatsprivategamereserveshavecontributedtothepreservationofgiraffepopulationsineasternandsouthernafricathegiraffeisaprotectedspeciesinmostofitsrangeitisthenationalanimaloftanzaniaandisprotectedbylawandunauthorisedkillingcanresultinimprisonmenttheunbackedconventionofmigratoryspeciesselectedgiraffesforprotectioniningiraffeswerelistedunderappendixiioftheconventiononinternationaltradeinendangeredspeciesciteswhichmeansinternationaltradeincludinginpartsderivativesisregulatedtranslocationsaresometimesusedtoaugmentorreestablishdiminishedorextirpatedpopulationsbuttheseactivitiesareriskyanddifficulttoundertakeusingthebestpracticesofextensivepreandposttranslocationstudiesandensuringaviablefoundingpopulationaerialsurveyisthemostcommonmethodofmonitoringgiraffepopulationtrendsinthevastroadlesstractsofafricanlandscapesbutaerialmethodsareknowntoundercountgiraffesgroundbasedsurveymethodsaremoreaccurateandcanbeusedinconjunctionwithaerialsurveystomakeaccurateestimatesofpopulationsizesandtrendsseealsofaunaofafricagiraffecentregiraffemanorhotelinnairobiwithgiraffesreferencesexternallinksgiraffeconservationfoundation\n"
          ]
        }
      ]
    },
    {
      "cell_type": "markdown",
      "source": [
        "Instead of directly using characters as the features, to understand a text better, we may consider group of tokens i.e. ngrams as features.\n",
        " \n",
        "For this example let us consider that each character is one word, and let us see how n-grams work."
      ],
      "metadata": {
        "id": "XAJNs7PD_cVM"
      }
    },
    {
      "cell_type": "markdown",
      "source": [
        "\n",
        "## nltk library provides many tools for text processing, please explore them."
      ],
      "metadata": {
        "id": "E1pXE4sK_0kl"
      }
    },
    {
      "cell_type": "markdown",
      "metadata": {
        "id": "jXFTWwd0rk63"
      },
      "source": [
        "Now let us calculate the frequency of the character n-grams. N-grams are groups of characters of size n. A unigram is a single character and a bigram is a group of two characters and so on. \n",
        "\n",
        "Let us count the frequency of each character in a text and plot it in a histogram."
      ]
    },
    {
      "cell_type": "code",
      "metadata": {
        "id": "g3Lz3YUjN0L5"
      },
      "source": [
        "## Dont worry if you do not understand these functions right away, you can revisit them and follow step-by-step.\n",
        "\n",
        "# convert a tuple of characters to a string\n",
        "def tuple2string(tup):\n",
        "  st = ''\n",
        "  for ii in tup:\n",
        "    st = st + ii\n",
        "  return st\n",
        "\n",
        "# convert a tuple of tuples to a list of strings\n",
        "def key2string(keys):\n",
        "  return [tuple2string(i) for i in keys]\n",
        "\n",
        "# plot the histogram\n",
        "def plothistogram(ngram):\n",
        "  keys = key2string(ngram.keys()) \n",
        "  values = list(ngram.values())\n",
        "  \n",
        "  # sort the keys in alphabetic order\n",
        "  combined = zip(keys, values) ## keys i.e. characters on x axis and their count in the given doc as values.\n",
        "  zipped_sorted = sorted(combined, key=lambda x: x[0]) ## sorting based on keys, to get a to z order.\n",
        "  keys, values = map(list, zip(*zipped_sorted))\n",
        "  plt.bar(keys, values)"
      ],
      "execution_count": 9,
      "outputs": []
    },
    {
      "cell_type": "markdown",
      "metadata": {
        "id": "zHD62zbZcwAB"
      },
      "source": [
        "Let us compare the histograms of English pages and French pages. Can you spot a difference?"
      ]
    },
    {
      "cell_type": "code",
      "metadata": {
        "id": "LKcGRgH6b0KP",
        "colab": {
          "base_uri": "https://localhost:8080/",
          "height": 545
        },
        "outputId": "707eb364-efc5-4337-8dd1-a68fcd49a7e8"
      },
      "source": [
        "## we passed ngrams 'n' as 1 to get unigrams. Unigram is nothing but single token (in this case character).\n",
        "## ngrams imported from nltk, it returns ngrams from given string. Counter returns dictionary with keys as elements and counts as values.\n",
        "unigram_eng1 = Counter(ngrams(eng1,1)) ##just to get count of each element. \n",
        "plothistogram(unigram_eng1)\n",
        "plt.title('English 1')\n",
        "plt.show()\n",
        "unigram_eng2 = Counter(ngrams(eng2,1))\n",
        "plothistogram(unigram_eng2)\n",
        "plt.title('English 2')\n",
        "plt.show()"
      ],
      "execution_count": 10,
      "outputs": [
        {
          "output_type": "display_data",
          "data": {
            "text/plain": [
              "<Figure size 432x288 with 1 Axes>"
            ],
            "image/png": "[encoded data removed]"
          },
          "metadata": {
            "needs_background": "light"
          }
        },
        {
          "output_type": "display_data",
          "data": {
            "text/plain": [
              "<Figure size 432x288 with 1 Axes>"
            ],
            "image/png": "[encoded data removed]"
          },
          "metadata": {
            "needs_background": "light"
          }
        }
      ]
    },
    {
      "cell_type": "code",
      "metadata": {
        "id": "fDM_UhCL2QLt",
        "colab": {
          "base_uri": "https://localhost:8080/",
          "height": 545
        },
        "outputId": "fda281dc-e5f2-4daa-9e4f-6953c4f6d84b"
      },
      "source": [
        "unigram_fr1 = Counter(ngrams(fr1,1))\n",
        "plothistogram(unigram_eng1)\n",
        "plt.title('French 1')\n",
        "plt.show()\n",
        "unigram_fr2 = Counter(ngrams(fr2,1))\n",
        "plothistogram(unigram_fr2)\n",
        "plt.title('French 2')\n",
        "plt.show()"
      ],
      "execution_count": 11,
      "outputs": [
        {
          "output_type": "display_data",
          "data": {
            "text/plain": [
              "<Figure size 432x288 with 1 Axes>"
            ],
            "image/png": "[encoded data removed]"
          },
          "metadata": {
            "needs_background": "light"
          }
        },
        {
          "output_type": "display_data",
          "data": {
            "text/plain": [
              "<Figure size 432x288 with 1 Axes>"
            ],
            "image/png": "[encoded data removed]"
          },
          "metadata": {
            "needs_background": "light"
          }
        }
      ]
    },
    {
      "cell_type": "markdown",
      "source": [
        "## A good feature is one that helps in easy prediction and classification. \n",
        "## for ex : if you wish to differentiate between grapes and apples, size can be one of the useful features."
      ],
      "metadata": {
        "id": "VUEys9KoA0L0"
      }
    },
    {
      "cell_type": "markdown",
      "metadata": {
        "id": "kxgrdZLKdkAB"
      },
      "source": [
        "We can see that the unigrams for French and English are very similar. So this is not a good feature if we want to distinguish between English and French. Let us look at bigrams."
      ]
    },
    {
      "cell_type": "code",
      "metadata": {
        "id": "OmRCxItx2T9W",
        "colab": {
          "base_uri": "https://localhost:8080/",
          "height": 1000
        },
        "outputId": "3f6331dd-cd86-4f6a-d313-741ecfed2ea4"
      },
      "source": [
        "## Now instead of unigram, we will use bigrams as features, and see how useful bigrams are as features.\n",
        "\n",
        "bigram_eng1 = Counter(ngrams(eng1,2)) # bigrams\n",
        "plothistogram(bigram_eng1)\n",
        "plt.title('English 1')\n",
        "plt.show()\n",
        "\n",
        "bigram_eng2 = Counter(ngrams(eng2,2))\n",
        "plothistogram(bigram_eng2)\n",
        "plt.title('English 2')\n",
        "plt.show()\n",
        "\n",
        "bigram_fr1 = Counter(ngrams(fr1,2))\n",
        "plothistogram(bigram_eng1)\n",
        "plt.title('French 1')\n",
        "plt.show()\n",
        "\n",
        "bigram_fr2 = Counter(ngrams(fr2,2))\n",
        "plothistogram(bigram_fr2)\n",
        "plt.title('French 2')\n",
        "plt.show()"
      ],
      "execution_count": 12,
      "outputs": [
        {
          "output_type": "display_data",
          "data": {
            "text/plain": [
              "<Figure size 432x288 with 1 Axes>"
            ],
            "image/png": "[encoded data removed]"
          },
          "metadata": {
            "needs_background": "light"
          }
        },
        {
          "output_type": "display_data",
          "data": {
            "text/plain": [
              "<Figure size 432x288 with 1 Axes>"
            ],
            "image/png": "[encoded data removed]"
          },
          "metadata": {
            "needs_background": "light"
          }
        },
        {
          "output_type": "display_data",
          "data": {
            "text/plain": [
              "<Figure size 432x288 with 1 Axes>"
            ],
            "image/png": "[encoded data removed]"
          },
          "metadata": {
            "needs_background": "light"
          }
        },
        {
          "output_type": "display_data",
          "data": {
            "text/plain": [
              "<Figure size 432x288 with 1 Axes>"
            ],
            "image/png": "[encoded data removed]"
          },
          "metadata": {
            "needs_background": "light"
          }
        }
      ]
    },
    {
      "cell_type": "markdown",
      "metadata": {
        "id": "O-egsHMIg5Rp"
      },
      "source": [
        "Another way to visualize bigrams is to use a 2-dimensional graph."
      ]
    },
    {
      "cell_type": "code",
      "source": [
        "## lets have a lot at bigrams.\n",
        "\n",
        "bigram_eng1\n"
      ],
      "metadata": {
        "colab": {
          "base_uri": "https://localhost:8080/"
        },
        "id": "7LYSVe02dG59",
        "outputId": "60140b8e-a3bd-41b1-a4c1-7b611edfe3bd"
      },
      "execution_count": 13,
      "outputs": [
        {
          "output_type": "execute_result",
          "data": {
            "text/plain": [
              "Counter({('t', 'h'): 836,\n",
              "         ('h', 'e'): 694,\n",
              "         ('e', 'g'): 164,\n",
              "         ('g', 'i'): 279,\n",
              "         ('i', 'r'): 315,\n",
              "         ('r', 'a'): 442,\n",
              "         ('a', 'f'): 258,\n",
              "         ('f', 'f'): 262,\n",
              "         ('f', 'e'): 286,\n",
              "         ('e', 'i'): 145,\n",
              "         ('i', 's'): 211,\n",
              "         ('s', 'a'): 240,\n",
              "         ('a', 'l'): 398,\n",
              "         ('l', 'a'): 181,\n",
              "         ('a', 'r'): 323,\n",
              "         ('r', 'g'): 39,\n",
              "         ('g', 'e'): 151,\n",
              "         ('e', 'a'): 347,\n",
              "         ('f', 'r'): 77,\n",
              "         ('r', 'i'): 159,\n",
              "         ('i', 'c'): 162,\n",
              "         ('c', 'a'): 168,\n",
              "         ('a', 'n'): 524,\n",
              "         ('n', 'h'): 25,\n",
              "         ('h', 'o'): 110,\n",
              "         ('o', 'o'): 58,\n",
              "         ('o', 'f'): 194,\n",
              "         ('e', 'd'): 280,\n",
              "         ('d', 'm'): 35,\n",
              "         ('m', 'a'): 242,\n",
              "         ('a', 'm'): 77,\n",
              "         ('m', 'm'): 29,\n",
              "         ('l', 'b'): 11,\n",
              "         ('b', 'e'): 121,\n",
              "         ('e', 'l'): 155,\n",
              "         ('l', 'o'): 147,\n",
              "         ('o', 'n'): 367,\n",
              "         ('n', 'g'): 329,\n",
              "         ('i', 'n'): 585,\n",
              "         ('g', 't'): 75,\n",
              "         ('t', 'o'): 246,\n",
              "         ('o', 't'): 138,\n",
              "         ('e', 'n'): 323,\n",
              "         ('n', 'u'): 25,\n",
              "         ('u', 's'): 101,\n",
              "         ('s', 'g'): 42,\n",
              "         ('f', 'a'): 65,\n",
              "         ('a', 'i'): 79,\n",
              "         ('i', 't'): 262,\n",
              "         ('t', 'i'): 317,\n",
              "         ('s', 't'): 365,\n",
              "         ('e', 't'): 175,\n",
              "         ('t', 'a'): 145,\n",
              "         ('l', 'l'): 134,\n",
              "         ('l', 'e'): 266,\n",
              "         ('e', 's'): 658,\n",
              "         ('t', 'l'): 45,\n",
              "         ('l', 'i'): 161,\n",
              "         ('i', 'v'): 92,\n",
              "         ('v', 'i'): 78,\n",
              "         ('t', 'e'): 284,\n",
              "         ('e', 'r'): 467,\n",
              "         ('r', 'r'): 34,\n",
              "         ('r', 'e'): 450,\n",
              "         ('t', 'r'): 91,\n",
              "         ('i', 'a'): 70,\n",
              "         ('n', 'i'): 113,\n",
              "         ('i', 'm'): 70,\n",
              "         ('n', 'd'): 384,\n",
              "         ('d', 't'): 125,\n",
              "         ('r', 'u'): 39,\n",
              "         ('u', 'm'): 58,\n",
              "         ('m', 'i'): 83,\n",
              "         ('n', 'a'): 169,\n",
              "         ('n', 't'): 304,\n",
              "         ('n', 'e'): 193,\n",
              "         ('r', 't'): 140,\n",
              "         ('h', 't'): 74,\n",
              "         ('a', 'd'): 96,\n",
              "         ('d', 'i'): 158,\n",
              "         ('i', 'o'): 162,\n",
              "         ('l', 'y'): 127,\n",
              "         ('y', 'g'): 20,\n",
              "         ('s', 'w'): 81,\n",
              "         ('w', 'e'): 77,\n",
              "         ('o', 'u'): 190,\n",
              "         ('u', 'g'): 47,\n",
              "         ('g', 'h'): 89,\n",
              "         ('t', 't'): 83,\n",
              "         ('o', 'b'): 29,\n",
              "         ('e', 'o'): 86,\n",
              "         ('s', 'p'): 115,\n",
              "         ('p', 'e'): 136,\n",
              "         ('e', 'c'): 238,\n",
              "         ('c', 'i'): 101,\n",
              "         ('i', 'e'): 107,\n",
              "         ('a', 'c'): 126,\n",
              "         ('m', 'e'): 134,\n",
              "         ('o', 'p'): 79,\n",
              "         ('p', 'a'): 80,\n",
              "         ('r', 'd'): 53,\n",
              "         ('d', 'a'): 131,\n",
              "         ('w', 'i'): 92,\n",
              "         ('h', 'n'): 5,\n",
              "         ('s', 'u'): 106,\n",
              "         ('u', 'b'): 27,\n",
              "         ('b', 's'): 15,\n",
              "         ('s', 'm'): 68,\n",
              "         ('m', 'o'): 142,\n",
              "         ('o', 's'): 100,\n",
              "         ('c', 'e'): 108,\n",
              "         ('y', 'r'): 16,\n",
              "         ('s', 'e'): 232,\n",
              "         ('r', 'c'): 38,\n",
              "         ('c', 'h'): 135,\n",
              "         ('r', 's'): 113,\n",
              "         ('p', 'r'): 106,\n",
              "         ('r', 'o'): 236,\n",
              "         ('p', 'o'): 92,\n",
              "         ('d', 'd'): 28,\n",
              "         ('i', 'd'): 47,\n",
              "         ('e', 'm'): 149,\n",
              "         ('u', 'p'): 50,\n",
              "         ('p', 't'): 45,\n",
              "         ('o', 'e'): 19,\n",
              "         ('i', 'g'): 80,\n",
              "         ('e', 'x'): 47,\n",
              "         ('x', 't'): 20,\n",
              "         ('t', 's'): 177,\n",
              "         ('s', 'd'): 33,\n",
              "         ('d', 'u'): 66,\n",
              "         ('u', 'e'): 12,\n",
              "         ('e', 'w'): 70,\n",
              "         ('w', 'r'): 4,\n",
              "         ('h', 'i'): 146,\n",
              "         ('r', 'm'): 44,\n",
              "         ('o', 'c'): 55,\n",
              "         ('d', 'r'): 33,\n",
              "         ('d', 'n'): 17,\n",
              "         ('u', 'c'): 39,\n",
              "         ('c', 'l'): 34,\n",
              "         ('a', 'a'): 22,\n",
              "         ('a', 's'): 232,\n",
              "         ('o', 'r'): 259,\n",
              "         ('r', 'p'): 21,\n",
              "         ('p', 'h'): 20,\n",
              "         ('o', 'l'): 72,\n",
              "         ('o', 'g'): 34,\n",
              "         ('l', 'm'): 11,\n",
              "         ('u', 'r'): 128,\n",
              "         ('s', 's'): 129,\n",
              "         ('e', 'v'): 57,\n",
              "         ('v', 'e'): 228,\n",
              "         ('n', 'o'): 99,\n",
              "         ('n', 'c'): 102,\n",
              "         ('c', 't'): 87,\n",
              "         ('s', 'o'): 167,\n",
              "         ('f', 'g'): 19,\n",
              "         ('e', 'k'): 14,\n",
              "         ('k', 'n'): 13,\n",
              "         ('o', 'w'): 92,\n",
              "         ('w', 'n'): 21,\n",
              "         ('n', 'f'): 27,\n",
              "         ('o', 'm'): 156,\n",
              "         ('m', 't'): 21,\n",
              "         ('e', 'f'): 82,\n",
              "         ('f', 'o'): 118,\n",
              "         ('s', 'i'): 216,\n",
              "         ('i', 'l'): 115,\n",
              "         ('l', 'r'): 4,\n",
              "         ('c', 'o'): 168,\n",
              "         ('s', 'c'): 82,\n",
              "         ('f', 'd'): 6,\n",
              "         ('g', 'u'): 23,\n",
              "         ('u', 'i'): 18,\n",
              "         ('s', 'h'): 98,\n",
              "         ('g', 'c'): 13,\n",
              "         ('h', 'a'): 237,\n",
              "         ('c', 's'): 6,\n",
              "         ('y', 'l'): 18,\n",
              "         ('g', 'n'): 18,\n",
              "         ('c', 'k'): 82,\n",
              "         ('k', 'a'): 30,\n",
              "         ('d', 'l'): 28,\n",
              "         ('g', 's'): 41,\n",
              "         ('r', 'n'): 57,\n",
              "         ('n', 'l'): 35,\n",
              "         ('i', 'k'): 15,\n",
              "         ('k', 'e'): 50,\n",
              "         ('d', 'c'): 25,\n",
              "         ('o', 'a'): 32,\n",
              "         ('a', 't'): 338,\n",
              "         ('t', 'p'): 22,\n",
              "         ('n', 's'): 140,\n",
              "         ('i', 'f'): 33,\n",
              "         ('f', 'i'): 62,\n",
              "         ('u', 'n'): 93,\n",
              "         ('d', 'e'): 137,\n",
              "         ('a', 'e'): 28,\n",
              "         ('g', 'w'): 7,\n",
              "         ('o', 'k'): 29,\n",
              "         ('a', 'p'): 72,\n",
              "         ('p', 'i'): 47,\n",
              "         ('i', 'i'): 4,\n",
              "         ('e', 'e'): 142,\n",
              "         ('d', 's'): 71,\n",
              "         ('s', 'f'): 50,\n",
              "         ('m', 'c'): 3,\n",
              "         ('u', 't'): 55,\n",
              "         ('d', 'f'): 41,\n",
              "         ('m', 'n'): 5,\n",
              "         ('t', 'g'): 20,\n",
              "         ('u', 'a'): 25,\n",
              "         ('y', 'i'): 24,\n",
              "         ('a', 'b'): 58,\n",
              "         ('b', 'i'): 41,\n",
              "         ('a', 'v'): 77,\n",
              "         ('v', 'a'): 49,\n",
              "         ('n', 'n'): 18,\n",
              "         ('a', 'h'): 19,\n",
              "         ('h', 's'): 20,\n",
              "         ('d', 'w'): 15,\n",
              "         ('w', 'o'): 27,\n",
              "         ('o', 'd'): 81,\n",
              "         ('r', 'f'): 29,\n",
              "         ('s', 'l'): 44,\n",
              "         ('f', 'l'): 24,\n",
              "         ('f', 'w'): 4,\n",
              "         ('d', 'y'): 23,\n",
              "         ('y', 'p'): 35,\n",
              "         ('p', 'l'): 32,\n",
              "         ('y', 'a'): 60,\n",
              "         ('w', 'h'): 70,\n",
              "         ('e', 'y'): 44,\n",
              "         ('y', 'b'): 16,\n",
              "         ('b', 'r'): 53,\n",
              "         ('w', 's'): 22,\n",
              "         ('r', 'h'): 15,\n",
              "         ('r', 'b'): 18,\n",
              "         ('v', 'o'): 12,\n",
              "         ('h', 'l'): 11,\n",
              "         ('d', 'h'): 20,\n",
              "         ('h', 'y'): 21,\n",
              "         ('y', 'e'): 24,\n",
              "         ('n', 'w'): 11,\n",
              "         ('l', 'd'): 45,\n",
              "         ('d', 'o'): 69,\n",
              "         ('a', 'y'): 43,\n",
              "         ('y', 'u'): 5,\n",
              "         ('f', 's'): 13,\n",
              "         ('g', 'o'): 22,\n",
              "         ('b', 'a'): 41,\n",
              "         ('f', 'u'): 15,\n",
              "         ('n', 'r'): 22,\n",
              "         ('u', 'l'): 101,\n",
              "         ('l', 't'): 65,\n",
              "         ('t', 'm'): 19,\n",
              "         ('s', 'b'): 64,\n",
              "         ('b', 'u'): 25,\n",
              "         ('g', 'r'): 63,\n",
              "         ('g', 'a'): 67,\n",
              "         ('a', 'g'): 70,\n",
              "         ('g', 'g'): 29,\n",
              "         ('b', 'l'): 60,\n",
              "         ('l', 'h'): 5,\n",
              "         ('h', 'r'): 23,\n",
              "         ('k', 'i'): 45,\n",
              "         ('m', 'b'): 28,\n",
              "         ('t', 'b'): 12,\n",
              "         ('b', 'o'): 42,\n",
              "         ('a', 'w'): 13,\n",
              "         ('n', 'm'): 22,\n",
              "         ('c', 'c'): 20,\n",
              "         ('h', 'b'): 7,\n",
              "         ('i', 'b'): 19,\n",
              "         ('t', 'y'): 37,\n",
              "         ('y', 'f'): 15,\n",
              "         ('y', 'o'): 32,\n",
              "         ('e', 'h'): 54,\n",
              "         ('d', 'v'): 10,\n",
              "         ('c', 'u'): 39,\n",
              "         ('t', 'u'): 52,\n",
              "         ('p', 'p'): 43,\n",
              "         ('f', 't'): 75,\n",
              "         ('n', 'b'): 24,\n",
              "         ('n', 'p'): 12,\n",
              "         ('k', 's'): 26,\n",
              "         ('d', 'b'): 34,\n",
              "         ('b', 'y'): 31,\n",
              "         ('y', 't'): 40,\n",
              "         ('l', 'u'): 29,\n",
              "         ('r', 'v'): 43,\n",
              "         ('f', 'n'): 4,\n",
              "         ('i', 'u'): 15,\n",
              "         ('c', 'n'): 3,\n",
              "         ('s', 'v'): 5,\n",
              "         ('v', 'u'): 4,\n",
              "         ('l', 'n'): 9,\n",
              "         ('n', 'y'): 13,\n",
              "         ('l', 'f'): 20,\n",
              "         ('s', 'n'): 21,\n",
              "         ('l', 'p'): 15,\n",
              "         ('r', 'k'): 12,\n",
              "         ('d', 'g'): 23,\n",
              "         ('o', 'x'): 12,\n",
              "         ('x', 'i'): 15,\n",
              "         ('y', 'm'): 14,\n",
              "         ('e', 'p'): 84,\n",
              "         ('n', 'z'): 6,\n",
              "         ('z', 'o'): 7,\n",
              "         ('g', 'y'): 9,\n",
              "         ('r', 'l'): 37,\n",
              "         ('t', 'k'): 3,\n",
              "         ('c', 'w'): 2,\n",
              "         ('d', 'z'): 5,\n",
              "         ('z', 'a'): 4,\n",
              "         ('h', 'p'): 6,\n",
              "         ('p', 's'): 22,\n",
              "         ('l', 's'): 70,\n",
              "         ('b', 'n'): 1,\n",
              "         ('t', 'w'): 41,\n",
              "         ('w', 'a'): 47,\n",
              "         ('l', 'k'): 9,\n",
              "         ('g', 'l'): 19,\n",
              "         ('s', 'j'): 1,\n",
              "         ('j', 'a'): 5,\n",
              "         ('z', 'i'): 4,\n",
              "         ('h', 'w'): 6,\n",
              "         ('e', 'u'): 30,\n",
              "         ('d', 'p'): 23,\n",
              "         ('y', 'd'): 9,\n",
              "         ('h', 'j'): 2,\n",
              "         ('h', 'g'): 7,\n",
              "         ('a', 'u'): 24,\n",
              "         ('t', 'z'): 1,\n",
              "         ('z', 't'): 1,\n",
              "         ('m', 'g'): 5,\n",
              "         ('h', 'f'): 8,\n",
              "         ('m', 'd'): 3,\n",
              "         ('t', 'd'): 12,\n",
              "         ('k', 'k'): 1,\n",
              "         ('m', 'l'): 2,\n",
              "         ('m', 'k'): 1,\n",
              "         ('k', 'm'): 4,\n",
              "         ('o', 'i'): 14,\n",
              "         ('a', 'x'): 6,\n",
              "         ('x', 'o'): 8,\n",
              "         ('m', 'y'): 13,\n",
              "         ('a', 'o'): 7,\n",
              "         ('y', 'w'): 6,\n",
              "         ('m', 'u'): 24,\n",
              "         ('h', 'm'): 14,\n",
              "         ('o', 'v'): 35,\n",
              "         ('l', 'g'): 10,\n",
              "         ('c', 'r'): 25,\n",
              "         ('o', 'h'): 16,\n",
              "         ('m', 'p'): 39,\n",
              "         ('t', 'v'): 5,\n",
              "         ('e', 'b'): 75,\n",
              "         ('s', 'k'): 32,\n",
              "         ('k', 'u'): 16,\n",
              "         ('f', 'v'): 2,\n",
              "         ('r', 'w'): 10,\n",
              "         ('h', 'u'): 16,\n",
              "         ('r', 'y'): 42,\n",
              "         ('y', 'x'): 4,\n",
              "         ('x', 'w'): 2,\n",
              "         ('h', 'h'): 10,\n",
              "         ('m', 's'): 12,\n",
              "         ('i', 'z'): 9,\n",
              "         ('z', 'e'): 11,\n",
              "         ('x', 'a'): 5,\n",
              "         ('b', 'c'): 3,\n",
              "         ('x', 'm'): 3,\n",
              "         ('y', 'h'): 16,\n",
              "         ('l', 'w'): 5,\n",
              "         ('l', 'c'): 18,\n",
              "         ('s', 'r'): 26,\n",
              "         ('x', 's'): 3,\n",
              "         ('m', 'w'): 5,\n",
              "         ('l', 'v'): 28,\n",
              "         ('k', 'p'): 5,\n",
              "         ('y', 's'): 44,\n",
              "         ('g', 'j'): 2,\n",
              "         ('j', 'u'): 10,\n",
              "         ('y', 'c'): 11,\n",
              "         ('c', 'p'): 1,\n",
              "         ('t', 'c'): 30,\n",
              "         ('u', 'd'): 27,\n",
              "         ('x', 'p'): 8,\n",
              "         ('f', 'm'): 12,\n",
              "         ('h', 'c'): 17,\n",
              "         ('g', 'm'): 11,\n",
              "         ('i', 'x'): 6,\n",
              "         ('x', 'l'): 1,\n",
              "         ('g', 'd'): 9,\n",
              "         ('i', 'p'): 19,\n",
              "         ('x', 'c'): 3,\n",
              "         ('g', 'f'): 4,\n",
              "         ('p', 'u'): 23,\n",
              "         ('e', 'q'): 8,\n",
              "         ('q', 'u'): 12,\n",
              "         ('p', 'b'): 2,\n",
              "         ('a', 'j'): 2,\n",
              "         ('n', 'j'): 4,\n",
              "         ('p', 'y'): 2,\n",
              "         ('m', 'f'): 12,\n",
              "         ('k', 'g'): 7,\n",
              "         ('b', 'f'): 4,\n",
              "         ('d', 'k'): 6,\n",
              "         ('t', 'f'): 19,\n",
              "         ('k', 't'): 5,\n",
              "         ('u', 'f'): 8,\n",
              "         ('f', 'h'): 5,\n",
              "         ('k', 'b'): 4,\n",
              "         ('t', 'n'): 5,\n",
              "         ('w', 'm'): 2,\n",
              "         ('g', 'p'): 8,\n",
              "         ('i', 'q'): 2,\n",
              "         ('x', 'b'): 1,\n",
              "         ('s', 'y'): 8,\n",
              "         ('x', 'u'): 6,\n",
              "         ('x', 'e'): 2,\n",
              "         ('c', 'm'): 9,\n",
              "         ('g', 'v'): 2,\n",
              "         ('p', 'w'): 5,\n",
              "         ('p', 'c'): 2,\n",
              "         ('w', 't'): 9,\n",
              "         ('p', 'f'): 1,\n",
              "         ('k', 'o'): 6,\n",
              "         ('k', 'l'): 5,\n",
              "         ('r', 'j'): 2,\n",
              "         ('w', 'c'): 3,\n",
              "         ('k', 'w'): 3,\n",
              "         ('u', 'v'): 2,\n",
              "         ('k', 'r'): 3,\n",
              "         ('a', 'k'): 10,\n",
              "         ('g', 'b'): 7,\n",
              "         ('o', 'y'): 4,\n",
              "         ('c', 'v'): 4,\n",
              "         ('k', 'v'): 1,\n",
              "         ('t', 'j'): 2,\n",
              "         ('j', 'o'): 2,\n",
              "         ('b', 'd'): 1,\n",
              "         ('n', 'q'): 1,\n",
              "         ('f', 'b'): 9,\n",
              "         ('k', 'd'): 2,\n",
              "         ('c', 'g'): 1,\n",
              "         ('h', 'd'): 5,\n",
              "         ('b', 't'): 1,\n",
              "         ('y', 'n'): 12,\n",
              "         ('f', 'c'): 4,\n",
              "         ('b', 'j'): 5,\n",
              "         ('j', 'e'): 5,\n",
              "         ('n', 'k'): 16,\n",
              "         ('k', 'y'): 3,\n",
              "         ('m', 'h'): 4,\n",
              "         ('n', 'x'): 1,\n",
              "         ('w', 'w'): 2,\n",
              "         ('x', 'y'): 2,\n",
              "         ('e', 'j'): 1,\n",
              "         ('n', 'v'): 6,\n",
              "         ('f', 'p'): 4,\n",
              "         ('c', 'y'): 2,\n",
              "         ('f', 'y'): 1,\n",
              "         ('b', 'p'): 1,\n",
              "         ('x', 'g'): 1,\n",
              "         ('e', 'z'): 2,\n",
              "         ('w', 'l'): 1,\n",
              "         ('p', 'm'): 2,\n",
              "         ('h', 'v'): 1,\n",
              "         ('b', 'm'): 1,\n",
              "         ('w', 'b'): 2,\n",
              "         ('w', 'd'): 2,\n",
              "         ('p', 'n'): 1,\n",
              "         ('b', 'g'): 1,\n",
              "         ('k', 'c'): 1,\n",
              "         ('y', 'k'): 1,\n",
              "         ('a', 'q'): 1,\n",
              "         ('y', 'z'): 2,\n",
              "         ('w', 'f'): 1,\n",
              "         ('u', 'x'): 3,\n",
              "         ('p', 'g'): 1,\n",
              "         ('y', 'j'): 1,\n",
              "         ('i', 'w'): 2,\n",
              "         ('r', 'z'): 1,\n",
              "         ('z', 'h'): 1,\n",
              "         ('l', 'q'): 1,\n",
              "         ('q', 'i'): 1,\n",
              "         ('s', 'x'): 1,\n",
              "         ('h', 'k'): 1,\n",
              "         ('g', 'z'): 1,\n",
              "         ('m', 'v'): 1,\n",
              "         ('m', 'r'): 2,\n",
              "         ('f', 'k'): 1,\n",
              "         ('k', 'h'): 3,\n",
              "         ('a', 'z'): 1})"
            ]
          },
          "metadata": {},
          "execution_count": 13
        }
      ]
    },
    {
      "cell_type": "code",
      "metadata": {
        "id": "3EaPJgtaVxZM"
      },
      "source": [
        "## a function to plot 2-D histogram. The values are color mapped. \n",
        "\n",
        "def plotbihistogram(ngram):\n",
        "  freq = np.zeros((26,26))\n",
        "  for ii in range(26):\n",
        "    for jj in range(26):\n",
        "      freq[ii,jj] = ngram[(chr(ord('a')+ii), chr(ord('a')+jj))] #ord converts char to code\n",
        "  plt.imshow(freq, cmap = 'jet')\n",
        "  plt.colorbar()\n",
        "  return freq"
      ],
      "execution_count": 14,
      "outputs": []
    },
    {
      "cell_type": "code",
      "source": [
        "ord"
      ],
      "metadata": {
        "colab": {
          "base_uri": "https://localhost:8080/"
        },
        "id": "4IFVtO8q8TJB",
        "outputId": "bfa6c6e5-0fde-4eaa-d7f5-1e544d99d356"
      },
      "execution_count": 15,
      "outputs": [
        {
          "output_type": "execute_result",
          "data": {
            "text/plain": [
              "<function ord(c, /)>"
            ]
          },
          "metadata": {},
          "execution_count": 15
        }
      ]
    },
    {
      "cell_type": "code",
      "metadata": {
        "id": "M7jq3AwnVzQT",
        "colab": {
          "base_uri": "https://localhost:8080/",
          "height": 513
        },
        "outputId": "b1adc77c-2512-4e3e-89a2-579353fd9e68"
      },
      "source": [
        "bieng1 = plotbihistogram(bigram_eng1)\n",
        "plt.show()\n",
        "bieng2 = plotbihistogram(bigram_eng2)"
      ],
      "execution_count": 16,
      "outputs": [
        {
          "output_type": "display_data",
          "data": {
            "text/plain": [
              "<Figure size 432x288 with 2 Axes>"
            ],
            "image/png": "[encoded data removed]"
          },
          "metadata": {
            "needs_background": "light"
          }
        },
        {
          "output_type": "display_data",
          "data": {
            "text/plain": [
              "<Figure size 432x288 with 2 Axes>"
            ],
            "image/png": "[encoded data removed]"
          },
          "metadata": {
            "needs_background": "light"
          }
        }
      ]
    },
    {
      "cell_type": "code",
      "metadata": {
        "id": "UXPTOj67WsPT",
        "colab": {
          "base_uri": "https://localhost:8080/",
          "height": 513
        },
        "outputId": "19b13ef0-a746-48ff-c03d-43f2fcd53791"
      },
      "source": [
        "bifr1 = plotbihistogram(bigram_fr1)\n",
        "plt.show()\n",
        "bifr2 = plotbihistogram(bigram_fr2)"
      ],
      "execution_count": 17,
      "outputs": [
        {
          "output_type": "display_data",
          "data": {
            "text/plain": [
              "<Figure size 432x288 with 2 Axes>"
            ],
            "image/png": "[encoded data removed]"
          },
          "metadata": {
            "needs_background": "light"
          }
        },
        {
          "output_type": "display_data",
          "data": {
            "text/plain": [
              "<Figure size 432x288 with 2 Axes>"
            ],
            "image/png": "[encoded data removed]"
          },
          "metadata": {
            "needs_background": "light"
          }
        }
      ]
    },
    {
      "cell_type": "markdown",
      "metadata": {
        "id": "rGOEHcyGokD0"
      },
      "source": [
        "Let us look at the top 10 ngrams for each text. "
      ]
    },
    {
      "cell_type": "code",
      "metadata": {
        "id": "dk2TkzTno8vb"
      },
      "source": [
        "from IPython.core.debugger import set_trace\n",
        "\n",
        "def ind2tup(ind):\n",
        "  ind = int(ind)\n",
        "  i = int(ind/26)\n",
        "  j = int(ind%26)\n",
        "  return (chr(ord('a')+i), chr(ord('a')+j))\n",
        "\n",
        "def ShowTopN(bifreq, n=10):\n",
        "  f = bifreq.flatten()\n",
        "  arg = np.argsort(-f)\n",
        "  for ii in range(n):\n",
        "    print(f'{ind2tup(arg[ii])} : {f[arg[ii]]}')\n"
      ],
      "execution_count": 18,
      "outputs": []
    },
    {
      "cell_type": "code",
      "metadata": {
        "id": "_HeWNh_q0QZ1",
        "colab": {
          "base_uri": "https://localhost:8080/"
        },
        "outputId": "9fcf4394-b23e-4353-9a34-d6ace5279230"
      },
      "source": [
        "print('\\nEnglish 1:')\n",
        "ShowTopN(bieng1)\n",
        "print('\\nEnglish 2:')\n",
        "ShowTopN(bieng2)\n",
        "print('\\nFrench 1:')\n",
        "ShowTopN(bifr1)\n",
        "print('\\nFrench 2:')\n",
        "ShowTopN(bifr2)"
      ],
      "execution_count": 19,
      "outputs": [
        {
          "output_type": "stream",
          "name": "stdout",
          "text": [
            "\n",
            "English 1:\n",
            "('t', 'h') : 836.0\n",
            "('h', 'e') : 694.0\n",
            "('e', 's') : 658.0\n",
            "('i', 'n') : 585.0\n",
            "('a', 'n') : 524.0\n",
            "('e', 'r') : 467.0\n",
            "('r', 'e') : 450.0\n",
            "('r', 'a') : 442.0\n",
            "('a', 'l') : 398.0\n",
            "('n', 'd') : 384.0\n",
            "\n",
            "English 2:\n",
            "('t', 'h') : 1482.0\n",
            "('a', 'n') : 1366.0\n",
            "('h', 'e') : 1194.0\n",
            "('i', 'n') : 1013.0\n",
            "('n', 't') : 828.0\n",
            "('e', 'r') : 803.0\n",
            "('e', 's') : 759.0\n",
            "('r', 'e') : 755.0\n",
            "('l', 'e') : 720.0\n",
            "('h', 'a') : 715.0\n",
            "\n",
            "French 1:\n",
            "('e', 's') : 735.0\n",
            "('l', 'e') : 437.0\n",
            "('e', 'n') : 410.0\n",
            "('d', 'e') : 388.0\n",
            "('o', 'n') : 349.0\n",
            "('n', 't') : 328.0\n",
            "('r', 'e') : 314.0\n",
            "('e', 'l') : 302.0\n",
            "('s', 'e') : 254.0\n",
            "('l', 'a') : 244.0\n",
            "\n",
            "French 2:\n",
            "('e', 's') : 1036.0\n",
            "('n', 't') : 795.0\n",
            "('d', 'e') : 657.0\n",
            "('e', 'n') : 650.0\n",
            "('l', 'e') : 625.0\n",
            "('a', 'n') : 557.0\n",
            "('r', 'e') : 485.0\n",
            "('o', 'n') : 484.0\n",
            "('e', 'l') : 442.0\n",
            "('s', 'e') : 390.0\n"
          ]
        }
      ]
    },
    {
      "cell_type": "markdown",
      "source": [
        "## At times, we need to reduce the number of features. We will discuss this more in the upcoming sessions, but a small example has been discussed here. Instead of using each unique token (a word) as a feature, we reduced the number of features by using 1-gram and 2-gram of characters as features."
      ],
      "metadata": {
        "id": "RfwwQj_4CyBA"
      }
    },
    {
      "cell_type": "markdown",
      "metadata": {
        "id": "6kDovOP4l98z"
      },
      "source": [
        "We observe that the bigrams are similar across different topics but different across languages. Thus, the bigram frequency is a good feature for distinguishing languages, but not for distinguishing topics. \n",
        "\n",
        "Thus, we were able to convert a many-dimensional input (the text) to 26 dimesions (unigrams) or 26*26 dimensions (bigrams).\n",
        "\n",
        "\n",
        "A few ways to explore:\n",
        "1. Try with different languages.\n",
        "2. The topics we used are quite similar, wikipedia articles of 'elephant' and 'giraffe'. What happens if we use very different topics? What if we use text from another source than Wikipedia?\n",
        "3. How can we use and visualize trigrams and higher n-grams?"
      ]
    },
    {
      "cell_type": "code",
      "source": [
        "\n",
        "t1='Tiger'\n",
        "t2='Cow'\n",
        "t3='Parrot'\n",
        "wikipedia.set_lang('da') # for getting the data in Dansk\n",
        "x1 = wikipedia.page(t1).content #extracting the requried data from wikipedia\n",
        "x2 = wikipedia.page(t2).content\n",
        "x3=wikipedia.page(t3).content\n",
        "\n",
        "wikipedia.set_lang('af') #for getting the data in Afrikaans\n",
        "y1 = wikipedia.page(t1).content #extracting the requried data from wikipedia\n",
        "y2 = wikipedia.page(t2).content\n",
        "y3 = wikipedia.page(t3).content\n",
        "\n",
        "wikipedia.set_lang('eo') #for getting the datain Espranto\n",
        "z1 = wikipedia.page(t1).content #extracting the requried data from wikipedia\n",
        "z2 = wikipedia.page(t2).content\n",
        "z3 = wikipedia.page(t3).content\n",
        "\n"
      ],
      "metadata": {
        "id": "MQ7Q1Ui_tnu5"
      },
      "execution_count": 20,
      "outputs": []
    },
    {
      "cell_type": "code",
      "source": [
        "x1 #for printing the text in "
      ],
      "metadata": {
        "colab": {
          "base_uri": "https://localhost:8080/",
          "height": 179
        },
        "id": "7SfsvVvwvkHe",
        "outputId": "e3210d0d-e68a-47ba-aac5-c315a2027215"
      },
      "execution_count": 21,
      "outputs": [
        {
          "output_type": "execute_result",
          "data": {
            "text/plain": [
              "\"For alternative betydninger, se Tiger (flertydig). (Se også artikler, som begynder med Tiger)Tigeren (latin: Panthera tigris) er den største katteart med en total kropslængde på op til 3,22 meter (inklusive kurver) og i ekstreme tilfælde med en vægt på op til 388.7 kilo i naturen. Det mest genkendelige træk ved tigeren er pelsen med mørke tværstriber på orange bund. Tigre er superrovdyr, der især lever af hovdyr såsom hjorte og skedehornede. De er territoriale og jager generelt alene, men kan undertiden være sociale og kræver som regel sammenhængende områder, der tilgodeser deres byttedyr. Dette, sammen med det faktum, at de er naturligt hjemmehørende i nogle af de tættest befolkede dele af verden, har medført betydelige konflikter med mennesker. I det sydlige Bangladesh blev mindst 100 personer dræbt af tigre årligt frem til år 2004.\\nTigeren var engang vidt udbredt i Asien, fra Tyrkiet i vest til Ruslands østkyst. I løbet af de seneste 100 år er dens udbredelsesområde reduceret med 93 procent, og tigeren er blevet udryddet fra det sydvestlige og centrale Asien, fra øerne Java og Bali og fra store områder af det sydøstlige og østlige Asien. I dag er den udbredt fra den sibiriske tajga til åbne græssletter og tropiske mangrovesumpe. De tilbageværende seks underarter er blevet klassificeret som truede af IUCN. Den globale bestand i naturen vurderes til at ligge mellem 3.062 og 3.948 individer (mod cirka 100.000 i begyndelsen af 1900-tallet). De fleste tilbageværende bestande lever i små lommer isoleret fra hinanden. Hovedparten af verdens tigerbestand, cirka 2.000 individer, lever på det indiske subkontinent. Hovedårsager til bestandsnedgangen er ødelæggelse og fragmentering af levesteder samt krybskytteri. Størrelsen af det areal, hvor der lever tigre, vurderes til at være mindre end 1.184.911 km², en nedgang på 41 % i forhold til midten af 1990'erne.\\n\\n\\n== Størrelse ==\\n\\nTigeren er den af de store katte, der varierer mest i størrelse, endnu mere end løven. De bengalske og sibiriske underarter er de højeste over skulderen og anses derfor som de største nulevende kattedyr. De er sammen med den uddøde kaspiske tiger blandt de største, der nogensinde har eksisteret. En gennemsnitlig voksen han fra det nordlige Indien eller Sibirien vejer omkring 45,5 kilo mere end en gennemsnitlig voksen hanløve. Hannerne varierer i deres totale længde mellem 250 og 390 centimeter og vejer mellem 90 og 306 kilo. Hunner varierer i længde fra 200 til 275 centimeter og vejer fra 65 til 167 kilo. Hos begge køn udgør halen cirka 60 til 110 centimeter af den totale længde.Store sibiriske tigre kan nå en længde på mere end 3,5 meter målt langs ryggens kurver og 3,3 meter målt i en lige linje mellem snude og halespids. Den mindste underart, sumatratigeren, vejer mellem 75 og 140 kilo. En tigers skulderhøjde ligger mellem 0,7 og 1,22 meter. Den nuværende rekord i naturen er 388.7 kilo for en bengalsk tiger skudt i 1967.Hos tigre er hannen betydeligt større end hunnen. Størrelsesforskellen mellem hanner og hunner er forholdsvis større hos de store underarter, hvor hanner kan veje 70 procent mere end hunner. Hanner har også bredere forpoter end hunner, hvilket muliggør en skelnen mellem han og hun i tigerens fodaftryk.En krydsning mellem en hanløve og en huntiger (en liger) er større end både tiger og løve.\\n\\n\\n== Udbredelse og levested ==\\n\\nTidligere fandtes tigeren gennem hele Asien, fra Kaukasus og det Kaspiske hav til Sibirien og de indonesiske øer Java, Bali og Sumatra. Fossilfund tyder på, at tigre også har levet på Borneo og Palawan i Filippinerne i sen Pleistocæn og Holocæn.I løbet af 1900-tallet uddøde tigeren i det vestlige Asien og blev begrænset til isolerede lommer i de resterende dele af dens udbredelsesområde. Den blev udryddet på Bali i 1940'erne, omkring det Kaspiske hav i 1970'erne og på Java i 1980'erne. Dette skyldtes tab af levesteder og nedskydningen af tigre og deres byttedyr. I dag strækker dens fragmenterede og delvist forringede levesteder sig fra Indien i vest til Kina og Sydøstasien. Dens nordlige udbredelsesgrænse ligger nær Amur-floden i det sydøstlige Sibirien. Sumatra er den eneste store ø, hvor tigeren stadig findes.\\nStørrelsen af det areal, hvor tigeren lever, vurderes til at være mindre end 1.184.911 km², en nedgang på 41 % i forhold til midten af 1990'erne. Siden begyndelsen af 1900-tallet har den mistet 93 % af dens tidligere udbredelsesområde. I årtiet fra 1997 til 2007 er det areal, der vides at huse tigeren, mindsket med 41 %.Tigre kan benytte en bred vifte af levesteder, men vil normalt kræve et passende dække, nærhed til vand og rigeligt med byttedyr. Sammenlignet med løven foretrækker tigeren tættere vegetation, for hvilken dens kamuflagefarver er ideelt tilpasset, og hvor det at være et enkelt rovdyr ikke udgør en ulempe sammenlignet med flere løver i en flok. Et yderligere krav til levestedet er tilstedeværelsen af passende afskærmede opholdssteder, hvilket kan være huler, store hule træer eller tæt vegetation. Især bengalske tigre lever i mange slags skov, fx våd, stedsegrøn og semi-stedsegrøn skov i Assam og det østlige Bengalen, de sumpede mangroveskove i Ganges-deltaet, løvskovene i Nepal og torneskov i bjergene i Vestghats. I forskellige dele af deres udbredelsesområde lever eller levede de desuden i delvist åbne græsstepper og savanne samt i tajgaskove og på klippeterræn.\\n\\n\\n== Levevis ==\\n\\n\\n=== Socialt liv ===\\n\\nVoksne tigre fører generelt et solitært liv. De etablerer og forsvarer territorier, men har langt større områder, hvori de færdes. Voksne af begge køn begrænser generelt deres bevægelser til disse områder, hvor de og deres unger kan tilfredsstille deres behov. Individer, der deler det samme område, følger hinandens bevægelser og aktiviteter. Størrelsen af disse områder afhænger især af mængden af byttedyr og for hanners vedkommende af adgangen til hunner. En huntiger kan have et territorium på 20 km², mens hanners territorier er meget større, 60-100 km². En hans område overlapper normalt adskillige hunners, hvilket sikrer ham en stor gruppe af mulige hunner at parre sig med.Modsat mange andre arter i kattefamilien er tigre gode svømmere og bader ofte i damme, søer og floder, for at køle sig på varme dage. Blandt de store katte er det kun jaguaren, der har en lignende forkærlighed for vand. Tigre kan krydse floder, der er op til 7 kilometer brede og kan svømme op til 29 kilometer på en enkelt dag. De er oven i købet i stand til at svømme med et nedlagt bytte eller at fange et bytte i vandet. Unge huntigere etablerer deres første territorium nær morens territorium. Overlappet mellem deres territorier bliver mindre med tiden. Derimod vandrer hanner længere væk end deres hunlige søskende og begynder tidligere at markere deres eget territorium. En ung han opnår et territorium enten ved at finde et område fri for andre hanner eller ved midlertidigt at leve i en anden hans territorium, indtil han bliver ældre og stærk nok til at udfordre denne han. Unge hanner, der forsøger at etablere sig, har den højeste dødelighed (30-35 % pr. år) blandt voksne tigre.\\n\\nFor at hævde territoriet, markerer hannen det med urin og sekreter fra analkirtler samt ved at markere sine stier med ekskrementer og ved at kradse med kløerne på træer eller i jorden. Hunner anvender også kradsemærker samt markeringer med urin og ekskrementer. Duftmarkeringer af denne type gør det muligt for et individ at kende et andet individs identitet, køn og eventuelle brunst. Hunner i brunst vil signalere deres parringsvillighed med hyppigere duftmarkeringer og ved oftere at brøle.Selvom tigre for det meste undgår hinanden, er de ikke altid territoriale, og relationerne mellem individer kan være komplekse. En voksen af begge køn deler nogle gange sit nedlagte bytte med andre, endda også med dem, der ikke er beslægtet. Det er observeret, at en han deler sit bytte med to hunner og fire unger. Til forskel fra hanløver tillader hantigre, at hunner og unger æder af hans bytte, inden han selv er færdig med at æde. De lader alle til stort set at komme godt overens, modsat den konkurrenceprægede adfærd, der ses i en løveflok.\\n\\n\\n=== Jagt og føde ===\\n\\nTigere kan normalt ikke løbe hurtigere end hovdyr, som for eksempel hjorte. Derfor bruger de typisk en taktik, hvor de sniger sig ind på byttet.\\nI naturen lever tigre især af store eller mellemstore dyr, idet de foretrækker hovdyr, der vejer mindst 90 kilo. De har som regel kun begrænset eller ingen indvirkning på bestanden af deres byttedyr. I Tamil Nadu (Indien) er tigerens foretrukne føde (de mest yndede nævnt først) sambarhjort, aksishjort, barasingahjort, vildsvin, gaur, nilgau, asiatisk vandbøffel og vandbøffel, mens gaur og sambarhjort er de foretrukne i andre dele af Indien. De jager også andre rovdyr, fx hunde, leoparder, pytoner, læbebjørne og krokodiller. I Sibirien er de væsentligste byttedyr wapiti og vildsvin (disse to arter udgør næsten 80 % af byttet) efterfulgt af sikahjort, elg, sibirisk rådyr og moskushjort. Også kravebjørn og brun bjørn kan være blandt tigerens byttedyr og de udgør op til 40,7 % af den sibiriske tigers bytte afhængig af lokale forhold og af bjørnebestanden. På Sumatra omfatter byttedyrene sambarhjort, muntjak, vildsvin, skaberaktapir og orangutang. I den uddøde kaspiske tigers udbredelsesområde omfattede byttedyrene saigaantilope, dromedar, europæisk bison, yakokse og vilde heste. Som mange rovdyr er tigre opportunister og kan æde langt mindre bytte, fx aber, påfugle og andre jordlevende fugle, harer, hulepindsvin og fisk.\\n\\nTigre jager generelt ikke voksne individer af asiatisk elefant og indisk næsehorn, men det er dog sket. Hyppigere er det de mere sårbare små unge dyr, der nedlægges. Der findes fra 1800-tallet rapporter om tigre, der har angrebet og dræbt elefanter redet af mennesker. Når tigre lever nær mennesker, kan de også undertiden tage husdyr som tamkvæg, heste og æsler. Ældre eller sårede tigre, der ikke længere kan fange vilde byttedyr, kan blive menneskeædere, hvilket er sket jævnligt i hele Indien. En undtagelse findes i Sundarbans, hvor også sunde og raske tigre angriber fiskere og landsbyboere, der bevæger sig i skoven, så mennesker derfor her udgør en lille del af tigerens normale føde. Selvom tigre næsten udelukkende er kødædere, kan de lejlighedsvis æde grønt for at få kostfibre, eksempelvis frugter fra træet Careya arborea.Tigre regnes traditionelt for at være nataktive rovdyr, men i områder uden mennesker er de via fjernbetjente, skjulte kameraer set jage om dagen. De jager normalt alene og ligger på lur efter deres bytte som de fleste kattedyr. De kan angribe fra en hvilken som helst vinkel og overmander byttet ved at slå det omkuld ved hjælp af deres kropsvægt og styrke. Hvis tigeren skal have succes med angrebet, kræver det, at den næsten samtidigt både springer på byttet, vælter det og får fat i struben eller nakken med tænderne. Trods deres størrelse kan tigre komme op på en fart af cirka 50-65 km/t, men kun over korte afstande. Derfor skal tigre være tæt på byttet, inden de påbegynder angrebet. Hvis byttet får færten af tigeren inden angrebet, vil den som regel hellere opgive jagten end at skulle forfølge det eller kæmpe direkte mod det. Der er rapporteret om horisontale spring på op til 10 meter, men spring af den halve længde er mere typiske. Kun en ud af 2-20 jagter (inklusiv forsøg på at snige sig ind på potentielt bytte) ender med succes.Når tigre jager større dyr, foretrækker de at bide i struben og bruge deres kraftfulde forben til at holde byttet fast, ofte samtidigt med, at det væltes om på jorden. Tigeren forbliver fastbidt i struben, indtil byttet er dødt ved kvælning. Ved hjælp af denne metode er gaurere og vandbøfler, der vejer over et ton, blevet dræbt af tigre, der kun vejer en sjettedel af dette. Selvom de kan dræbe raske voksne individer, foretrækker de ofte at vælge unger eller svagelige individer af meget store dyr. Sunde, voksne byttedyr af denne slags kan være farlige at kaste sig over, fordi lange stærke horn, ben og stødtænder alle er potentielt livsfarlige for tigeren. Ingen andre nulevende landrovdyr angriber jævnligt så store byttedyr alene. Når tigre jager sambarhjorte, der udgør op til 60 % af deres bytte i Indien, har de angiveligt, for at tiltrække den, kunnet frembringe en lyd, der er en efterligning af hannens brunststemme. Ved mindre bytte, som aber og harer, bider tigeren i nakken med det resultat, at rygmarven overrives, luftrøret gennembores eller vener og arterier i halsen afskæres. I sjældne tilfælde kan tigre dræbe ved slag med deres poter, der er tilstrækkeligt kraftfulde til at knuse kraniet på tamkvæg eller brække ryggen på læbebjørne.En voksen tiger kan gå i op til to uger uden at æde og derefter æde 34 kilo kød på en gang. I fangenskab bliver voksne tigre fodret med 3-6 kilo kød om dagen.\\n\\n\\n=== Unger ===\\n\\nParringen kan foregå hele året, men er almindeligst mellem november og april. En hun er kun parringsvillig i tre til seks dage. Parringer er hyppige og støjende i denne periode. Drægtigheden varer fra 93-112 dage, gennemsnittet er 105 dage. Kuldet er normalt på to eller tre unger, men kan være fra en til seks. Ungerne vejer 680-1.400 gram ved fødslen. De fødes blinde og hjælpeløse, men med pels. Hunnerne passer dem alene. Fødestedet og hendes og ungernes opholdssted er placeret et afskærmet sted, fx i et tæt buskads, en hule eller en klippesprække. Hannen tager normalt ikke del i pasningen af ungerne. Omvandrende hanner, der ikke er beslægtet med ungerne, kan dræbe dem, for på den måde at gøre hunnen modtagelig for parring. En huntiger kan nemlig føde et nyt kuld inden for fem måneder, hvis ungerne i det tidligere kuld mistes. Dødeligheden af tigerunger er på cirka 50 % i de første to år. Kun få andre rovdyr angriber tigerunger på grund af huntigerens ilterhed. Bortset fra mennesker og andre tigre, er sult, kulde og ulykker almindelige årsager til ungernes død.Ungerne åbner deres øjne, når de er 6-14 dage gamle. Kortere ture væk fra opholdsstedet sammen med moren tager de på, når de er otte uger gamle. Men de følger hende ellers ikke i hendes omstrejfen i territoriet, før de er ældre.\\nUngerne dier hos moren i tre til seks måneder. Omkring den tid, hvor de bliver fravænnet, begynder de at følge moren rundt i territoriet og lærer da, hvordan jagten foregår. I en alder af 11 måneder er de næsten af fuldvoksen størrelse og er nu dygtige jægere. Ungerne bliver uafhængige omkring 18 måneder gamle, men skilles først helt fra deres mor, når de er 2 eller 2½ gamle. Hunner bliver kønsmodne efter tre eller fire år, mens hanner bliver det fire eller fem år gamle.\\n\\n\\n== Beskyttelse ==\\nTigeren er en truet dyreart. Krybskytteri efter pels og kropsdele og ødelæggelse af levesteder har i stort omfang reduceret antallet af tigre i naturen. I begyndelsen af 1900-tallet mener man, at der var over 100.000 tigre i naturen, men bestanden her er skrumpet ind til mellem 1.500 og 3.500. De vigtigste årsager er ødelæggelse og fragmentering af levesteder og krybskytteri. Efterspørgsel på tigerens kropsdele til brug i traditionel kinesisk medicin er også en væsentlig trussel mod tigeren. Ifølge nogle skøn findes der færre end 2.500 kønsmodne og ynglende tigre i verden, og ingen enkelte bestande rummer flere end 250 individer. Den globale tigerbestand blev vurderet til 3.200 af Verdensnaturfonden i 2011. Det præcise antal af tigre i naturen er ukendt, fordi mange skøn er forældede eller blot er kvalificerede gæt. Kun få skøn er baseret på pålidelige videnskabelige optællinger. Tabellen viser estimater land for land ifølge IUCN samt officielle tal fra de forskellige lande.Indien huser verdens største bestand af vilde tigre, men kun 11 % af de oprindelige indiske levesteder for tigre er stadig eksisterende, og de er blevet fragmenterede og forringede. En optælling fra 2014 anslog en bestand på 2.226 individer, hvilket er en 30 % stigning i forhold til 2011.Den sibiriske tiger var i 1940'erne lige ved at uddø, idet der i Rusland kun var cirka 40 dyr tilbage i naturen. Udviklingen blev vendt ved, at Sovjetunionen satte ind mod krybskytteri og oprettede et netværk af områder, hvor tigeren var fredet. Det fik bestanden til at stige til flere hundrede. I 1990'erne blev krybskytteri igen et problem, da Ruslands økonomi kollapsede. Den største forhindring i forhold til at bevare arten er det enorme territorium, som hver tiger kræver (op til 450 km² for en enkelt hun og endnu mere for en han). Tigerens naturlige udkonkurrering af ulven er blevet brugt af russiske naturforkæmpere til at overbevise jægere om, at de skal tolerere de store katte. Tigre har en mindre indvirkning på bestanden af hovdyr end ulve og er effektive, når det drejer sig om at kontrollere antallet af ulve. I 2005 mentes antallet af tigre i Rusland at være på omkring 360 dyr, der dog kun udviste en lille genetisk diversitet. Et årti senere blev antallet af sibiriske tigre anslået til mellem 480 og 540 individer.\\nKina havde tidligere forkastet vestens folkelige bevægelser til fordel for naturbeskyttelse, men ændrede sin holdning i 1980'erne og tiltrådte Washingtonkonventionen. I 1993 havde Kina forbudt handel med tigerens kropsdele, hvilket mindskede brugen af tiger-knogler i traditionel kinesisk medicin. Herefter blev tibetanernes handel med skind fra tigeren en relativt større trussel mod tigeren. Skindene blev brugt i den traditionelle tibetanske klædedragt chuba af sangere og deltagere i hestevæddeløb og var blevet statussymboler. I 2004 iværksatte internationale naturbeskyttelsesorganisationer med succes en kampagne i Kina mod handel med tigerskind. Der var harme i Indien, hvor mange tibetanere bor, og den 14. Dalai Lama blev overtalt til at tage emnet op. Siden er holdningen skiftet, idet nogle tibetanere offentligt har brændt deres chuba-klædedragter.\\n\\n\\n== Menneskeædende tigre ==\\n\\nTigre i naturen, der ikke før har haft kontakt med mennesker, undgår så vidt muligt kontakt. Ikke desto mindre forårsager tigre flere dødsfald gennem direkte angreb end nogen andre vilde pattedyr. Sommetider er angrebene provokeret af jagt, hvor tigre søger at forsvare sig, efter at de selv er blevet sårede. Andre gange kan en tiger blive overrasket, fx hvis et menneske uafvidende kommer mellem en huntiger og hendes unger. Fra Indien kendes et tilfælde, hvor en tiger angreb et postbud, da han kom cyklende i stedet for som normalt at komme til fods. Tigre kan til tider komme til at anse mennesker for byttedyr, typisk i områder, hvor befolkningstilvækst, skovhugst og landbrugsdrift har presset dyrenes naturlige levesteder og berøvet dem deres normale byttedyr. De fleste menneskeædende tigre er gamle og svækkede, hvad der gør det svært for dem at fange deres normale bytte. Et eksempel var Champawat-tigeren, en tiger der levede i Indien og Nepal. Dens evner til at fange bytte var svækket, efter at den havde brækket begge hjørnetænder. Denne huntiger regnes med at være ansvarlig for over 400 menneskers død frem til, at den blev skudt i 1907. Intet andet vildt dyr har stået for et lignende antal angreb på mennesker. De fleste tigerangreb på mennesker finder sted i dagtimerne, hvor folk arbejder udendørs og ikke er på vagt.Tidlige beskrivelser af mennekeædende tigre havde en tendens til at beskrive dem som kujoner eller feje på grund af deres bagholds-taktik.Menneskeædende tigre har i de seneste årtier været et særligt problem i Indien og Bangladesh, især i Uttarakhand og mangrovesumpe i Sundarbans i Bengalen, hvor også sunde og raske tigre har jaget mennesker. På grund af klimaforandringer er der på kort tid sket ødelæggelser af tigerens levesteder, hvilket har ført til, at antallet af tigerangreb er steget i Sundarbans. Meget er forsøgt for at undgå angreb fra tigre. I 1986 begyndte man fx i Sundarbans at bære masker med menneskeansigter i nakken, fordi tigre normalt ikke angriber, når de er opdaget af deres bytte. Dette medførte kun et midlertidigt fald i antallet af angreb. Man har også forsøgt at udlægge bytte til tigrene og opstille menneskedukker, der gav elektrisk stød, men disse ting virkede endnu mindre.I USA blev mindst 27 mennesker dræbt eller alvorligt såret af tigre i fangenskab mellem 1998 og 2001.I nogle tilfælde lader tigerangreb på mennesker til at være relateret til forsvar af territoriet snarere end til det at skaffe føde. I mindst et tilfælde dræbte en huntiger med unger otte mennesker, der kom ind i hendes territorium, men uden overhovedet at forsøge at æde dem.\\n\\n\\n== Underarter ==\\nDer findes seks nulevende underarter:\\n\\nBengalsk tiger (Panthera tigris tigris).\\nSibirisk tiger (Panthera tigris altaica).\\nSydkinesisk tiger (Panthera tigris amoyensis).\\nIndokinesisk tiger (Panthera tigris corbetti).\\nSumatratiger (Panthera tigris sumatrae).\\nMalaysisk tiger (Panthera tigris jacksoni).Desuden er tre underarter uddøde inden for de seneste 100 år:\\n\\nJava-tiger (Panthera tigris sondaica).\\nBali-tiger (Panthera tigris balica).\\nKaspisk tiger (Panthera tigris virgata).\\n\\n\\n== Se også ==\\nHybridkat\\nPapirtiger\\n\\n\\n== Noter ==\\n\\n\\n== Eksterne henvisninger ==\\n\\nWikispecies:Panthera tigris\\n8 December, 2004, BBC News: New sub-species found\\nTiger i Salmonsens Konversationsleksikon (2. udgave, 1927), forfattet af Magnus Degerbøl\\nLA-ikon\""
            ],
            "application/vnd.google.colaboratory.intrinsic+json": {
              "type": "string"
            }
          },
          "metadata": {},
          "execution_count": 21
        }
      ]
    },
    {
      "cell_type": "code",
      "source": [
        "def cleanup(text):\n",
        "  text = text.lower()  # make it lowercase\n",
        "  text = re.sub('[^a-z]+', '', text) # only keep characters, i.e. if not a-z then replace with space.\n",
        "  return text"
      ],
      "metadata": {
        "id": "bYqIAsvHxjB0"
      },
      "execution_count": 22,
      "outputs": []
    },
    {
      "cell_type": "code",
      "source": [
        "text1=re.sub('[a-z]','1','https://da.wikipedia.org/wiki/Tiger')\n",
        "text2=re.sub('[a-z]','1','https://af.wikipedia.org/w/index.php?go=Go&search=Tiger&title=Spesiaal:Soek&ns0=1')\n",
        "text3=re.sub('[a-z]','1','https://eo.wikipedia.org/w/index.php?go=Go&search=tiger&title=Speciala%C4%B5o:Ser%C4%89i&ns0=1')"
      ],
      "metadata": {
        "id": "I0pM6bucxsAg"
      },
      "execution_count": 23,
      "outputs": []
    },
    {
      "cell_type": "code",
      "source": [
        "x1=cleanup(x1) #for cleaning up the characters other than alphabets\n",
        "x2=cleanup(x2)\n",
        "x3=cleanup(x3)\n",
        "y1=cleanup(x1)\n",
        "y2=cleanup(x2)\n",
        "y3=cleanup(x3)\n",
        "z1=cleanup(x1)\n",
        "z2=cleanup(x2)\n",
        "z3=cleanup(x3)\n",
        "\n"
      ],
      "metadata": {
        "id": "mKUiuqPY0j_T"
      },
      "execution_count": 24,
      "outputs": []
    },
    {
      "cell_type": "code",
      "source": [
        "print(x1)"
      ],
      "metadata": {
        "colab": {
          "base_uri": "https://localhost:8080/"
        },
        "id": "JW2e7Jlw05Dg",
        "outputId": "8d5f2b3e-f72a-4024-9056-cb97b194d900"
      },
      "execution_count": 25,
      "outputs": [
        {
          "output_type": "stream",
          "name": "stdout",
          "text": [
            "foralternativebetydningersetigerflertydigseogsartiklersombegyndermedtigertigerenlatinpantheratigriserdenstrstekatteartmedentotalkropslngdepoptilmeterinklusivekurverogiekstremetilfldemedenvgtpoptilkiloinaturendetmestgenkendeligetrkvedtigerenerpelsenmedmrketvrstriberporangebundtigreersuperrovdyrderisrleverafhovdyrssomhjorteogskedehornededeerterritorialeogjagergenereltalenemenkanundertidenvresocialeogkrversomregelsammenhngendeomrderdertilgodeserderesbyttedyrdettesammenmeddetfaktumatdeernaturligthjemmehrendeinogleafdetttestbefolkededeleafverdenharmedfrtbetydeligekonfliktermedmenneskeridetsydligebangladeshblevmindstpersonerdrbtaftigrerligtfremtilrtigerenvarengangvidtudbredtiasienfratyrkietivesttilruslandsstkystilbetafdesenestererdensudbredelsesomrdereduceretmedprocentogtigerenerblevetudryddetfradetsydvestligeogcentraleasienfraernejavaogbaliogfrastoreomrderafdetsydstligeogstligeasienidagerdenudbredtfradensibirisketajgatilbnegrssletterogtropiskemangrovesumpedetilbagevrendeseksunderartererblevetklassificeretsomtruedeafiucndenglobalebestandinaturenvurderestilatliggemellemogindividermodcirkaibegyndelsenaftalletdeflestetilbagevrendebestandeleverismlommerisoleretfrahinandenhovedpartenafverdenstigerbestandcirkaindividerleverpdetindiskesubkontinenthovedrsagertilbestandsnedgangenerdelggelseogfragmenteringaflevestedersamtkrybskytteristrrelsenafdetarealhvorderlevertigrevurderestilatvremindreendkmennedgangpiforholdtilmidtenafernestrrelsetigerenerdenafdestorekattedervarierermestistrrelseendnumereendlvendebengalskeogsibiriskeunderartererdehjesteoverskulderenogansesderforsomdestrstenulevendekattedyrdeersammenmeddenudddekaspisketigerblandtdestrstedernogensindehareksisteretengennemsnitligvoksenhanfradetnordligeindienellersibirienvejeromkringkilomereendengennemsnitligvoksenhanlvehannernevariereriderestotalelngdemellemogcentimeterogvejermellemogkilohunnervariererilngdefratilcentimeterogvejerfratilkilohosbeggeknudgrhalencirkatilcentimeterafdentotalelngdestoresibirisketigrekannenlngdepmereendmetermltlangsryggenskurverogmetermltienligelinjemellemsnudeoghalespidsdenmindsteunderartsumatratigerenvejermellemogkiloentigersskulderhjdeliggermellemogmeterdennuvrenderekordinaturenerkiloforenbengalsktigerskudtihostigreerhannenbetydeligtstrreendhunnenstrrelsesforskellenmellemhanneroghunnererforholdsvisstrrehosdestoreunderarterhvorhannerkanvejeprocentmereendhunnerhannerharogsbredereforpoterendhunnerhvilketmuliggrenskelnenmellemhanoghunitigerensfodaftrykenkrydsningmellemenhanlveogenhuntigerenligererstrreendbdetigeroglveudbredelseoglevestedtidligerefandtestigerengennemheleasienfrakaukasusogdetkaspiskehavtilsibirienogdeindonesiskeerjavabaliogsumatrafossilfundtyderpattigreogsharlevetpborneoogpalawanifilippinerneisenpleistocnogholocnilbetaftalletudddetigerenidetvestligeasienogblevbegrnsettilisoleredelommerideresterendedeleafdensudbredelsesomrdedenblevudryddetpbaliierneomkringdetkaspiskehavierneogpjavaiernedetteskyldtestabaflevestederognedskydningenaftigreogderesbyttedyridagstrkkerdensfragmenteredeogdelvistforringedelevestedersigfraindienivesttilkinaogsydstasiendensnordligeudbredelsesgrnseliggernramurflodenidetsydstligesibiriensumatraerdenenestestorehvortigerenstadigfindesstrrelsenafdetarealhvortigerenlevervurderestilatvremindreendkmennedgangpiforholdtilmidtenafernesidenbegyndelsenaftallethardenmistetafdenstidligereudbredelsesomrdeirtietfratilerdetarealdervidesathusetigerenmindsketmedtigrekanbenytteenbredvifteaflevestedermenvilnormaltkrveetpassendedkkenrhedtilvandogrigeligtmedbyttedyrsammenlignetmedlvenforetrkkertigerenttterevegetationforhvilkendenskamuflagefarvererideelttilpassetoghvordetatvreetenkeltrovdyrikkeudgrenulempesammenlignetmedflerelverienfloketyderligerekravtillevestedetertilstedevrelsenafpassendeafskrmedeopholdsstederhvilketkanvrehulerstorehuletrerellerttvegetationisrbengalsketigreleverimangeslagsskovfxvdstedsegrnogsemistedsegrnskoviassamogdetstligebengalendesumpedemangroveskoveigangesdeltaetlvskoveneinepalogtorneskovibjergeneivestghatsiforskelligedeleafderesudbredelsesomrdeleverellerlevedededesudenidelvistbnegrsstepperogsavannesamtitajgaskoveogpklippeterrnlevevissocialtlivvoksnetigrefrergenereltetsolitrtlivdeetablererogforsvarerterritoriermenharlangtstrreomrderhvoridefrdesvoksneafbeggeknbegrnsergenereltderesbevgelsertildisseomrderhvordeogderesungerkantilfredsstillederesbehovindividerderdelerdetsammeomrdeflgerhinandensbevgelserogaktiviteterstrrelsenafdisseomrderafhngerisrafmngdenafbyttedyrogforhannersvedkommendeafadgangentilhunnerenhuntigerkanhaveetterritoriumpkmmenshannersterritorierermegetstrrekmenhansomrdeoverlappernormaltadskilligehunnershvilketsikrerhamenstorgruppeafmuligehunneratparresigmedmodsatmangeandrearterikattefamilienertigregodesvmmereogbaderofteidammeserogfloderforatklesigpvarmedageblandtdestorekatteerdetkunjaguarenderharenlignendeforkrlighedforvandtigrekankrydsefloderdereroptilkilometerbredeogkansvmmeoptilkilometerpenenkeltdagdeerovenikbetistandtilatsvmmemedetnedlagtbytteelleratfangeetbytteivandetungehuntigereetablererderesfrsteterritoriumnrmorensterritoriumoverlappetmellemderesterritorierblivermindremedtidenderimodvandrerhannerlngerevkenddereshunligesskendeogbegyndertidligereatmarkerederesegetterritoriumenunghanopnretterritoriumentenvedatfindeetomrdefriforandrehannerellervedmidlertidigtatleveienandenhansterritoriumindtilhanbliverldreogstrknoktilatudfordredennehanungehannerderforsgeratetableresighardenhjesteddelighedprrblandtvoksnetigreforathvdeterritorietmarkererhannendetmedurinogsekreterfraanalkirtlersamtvedatmarkeresinestiermedekskrementerogvedatkradsemedklerneptrerellerijordenhunneranvenderogskradsemrkersamtmarkeringermedurinogekskrementerduftmarkeringerafdennetypegrdetmuligtforetindividatkendeetandetindividsidentitetknogeventuellebrunsthunneribrunstvilsignalerederesparringsvillighedmedhyppigereduftmarkeringerogvedoftereatbrleselvomtigrefordetmesteundgrhinandenerdeikkealtidterritorialeogrelationernemellemindividerkanvrekomplekseenvoksenafbeggekndelernoglegangesitnedlagtebyttemedandreenddaogsmeddemderikkeerbeslgtetdeterobserveretatenhandelersitbyttemedtohunnerogfireungertilforskelfrahanlvertilladerhantigreathunnerogungerderafhansbytteindenhanselverfrdigmedatdedeladeralletilstortsetatkommegodtoverensmodsatdenkonkurrenceprgedeadfrddersesienlveflokjagtogfdetigerekannormaltikkelbehurtigereendhovdyrsomforeksempelhjortederforbrugerdetypiskentaktikhvordesnigersigindpbyttetinaturenlevertigreisrafstoreellermellemstoredyridetdeforetrkkerhovdyrdervejermindstkilodeharsomregelkunbegrnsetelleringenindvirkningpbestandenafderesbyttedyritamilnaduindienertigerensforetruknefdedemestyndedenvntfrstsambarhjortaksishjortbarasingahjortvildsvingaurnilgauasiatiskvandbffelogvandbffelmensgaurogsambarhjorterdeforetrukneiandredeleafindiendejagerogsandrerovdyrfxhundeleoparderpytonerlbebjrneogkrokodillerisibirienerdevsentligstebyttedyrwapitiogvildsvindissetoarterudgrnstenafbyttetefterfulgtafsikahjortelgsibiriskrdyrogmoskushjortogskravebjrnogbrunbjrnkanvreblandttigerensbyttedyrogdeudgroptilafdensibirisketigersbytteafhngigaflokaleforholdogafbjrnebestandenpsumatraomfatterbyttedyrenesambarhjortmuntjakvildsvinskaberaktapirogorangutangidenudddekaspisketigersudbredelsesomrdeomfattedebyttedyrenesaigaantilopedromedareuropiskbisonyakokseogvildehestesommangerovdyrertigreopportunisterogkandelangtmindrebyttefxaberpfugleogandrejordlevendefugleharerhulepindsvinogfisktigrejagergenereltikkevoksneindividerafasiatiskelefantogindisknsehornmendeterdogskethyppigereerdetdemeresrbaresmungedyrdernedlggesderfindesfratalletrapporteromtigrederharangrebetogdrbtelefanterredetafmenneskernrtigrelevernrmenneskerkandeogsundertidentagehusdyrsomtamkvghesteogslerldreellersredetigrederikkelngerekanfangevildebyttedyrkanblivemenneskederehvilketersketjvnligtiheleindienenundtagelsefindesisundarbanshvorogssundeograsketigreangriberfiskereoglandsbyboerederbevgersigiskovensmenneskerderforherudgrenlilledelaftigerensnormalefdeselvomtigrenstenudelukkendeerkdderekandelejlighedsvisdegrntforatfkostfibreeksempelvisfrugterfratretcareyaarboreatigreregnestraditioneltforatvrenataktiverovdyrmeniomrderudenmenneskererdeviafjernbetjenteskjultekameraersetjageomdagendejagernormaltaleneogliggerplurefterderesbyttesomdeflestekattedyrdekanangribefraenhvilkensomhelstvinkelogovermanderbyttetvedatsldetomkuldvedhjlpafdereskropsvgtogstyrkehvistigerenskalhavesuccesmedangrebetkrverdetatdennstensamtidigtbdespringerpbyttetvlterdetogfrfatistrubenellernakkenmedtndernetrodsderesstrrelsekantigrekommeoppenfartafcirkakmtmenkunoverkorteafstandederforskaltigrevrettpbyttetindendepbegynderangrebethvisbyttetfrfrtenaftigerenindenangrebetvildensomregelhellereopgivejagtenendatskulleforflgedetellerkmpedirektemoddetdererrapporteretomhorisontalespringpoptilmetermenspringafdenhalvelngdeermeretypiskekunenudafjagterinklusivforsgpatsnigesigindppotentieltbytteendermedsuccesnrtigrejagerstrredyrforetrkkerdeatbideistrubenogbrugedereskraftfuldeforbentilatholdebyttetfastoftesamtidigtmedatdetvltesompjordentigerenforbliverfastbidtistrubenindtilbytteterddtvedkvlningvedhjlpafdennemetodeergaurereogvandbflerdervejeroverettonblevetdrbtaftigrederkunvejerensjettedelafdetteselvomdekandrberaskevoksneindividerforetrkkerdeofteatvlgeungerellersvageligeindividerafmegetstoredyrsundevoksnebyttedyrafdenneslagskanvrefarligeatkastesigoverfordilangestrkehornbenogstdtnderalleerpotentieltlivsfarligefortigereningenandrenulevendelandrovdyrangriberjvnligtsstorebyttedyralenenrtigrejagersambarhjortederudgroptilafderesbytteiindienhardeangiveligtforattiltrkkedenkunnetfrembringeenlyddererenefterligningafhannensbrunststemmevedmindrebyttesomaberogharerbidertigereninakkenmeddetresultatatrygmarvenoverrivesluftrretgennemboresellervenerogarterierihalsenafskresisjldnetilfldekantigredrbevedslagmedderespoterderertilstrkkeligtkraftfuldetilatknusekranietptamkvgellerbrkkeryggenplbebjrneenvoksentigerkangioptiltougerudenatdeogderefterdekilokdpengangifangenskabblivervoksnetigrefodretmedkilokdomdagenungerparringenkanforegheleretmeneralmindeligstmellemnovemberogaprilenhunerkunparringsvilligitretilseksdageparringererhyppigeogstjendeidenneperiodedrgtighedenvarerfradagegennemsnitteterdagekuldeternormaltptoellertreungermenkanvrefraentilseksungernevejergramvedfdslendefdesblindeoghjlpelsemenmedpelshunnernepasserdemalenefdestedetoghendesogungernesopholdsstederplaceretetafskrmetstedfxietttbuskadsenhuleellerenklippesprkkehannentagernormaltikkedelipasningenafungerneomvandrendehannerderikkeerbeslgtetmedungernekandrbedemforpdenmdeatgrehunnenmodtageligforparringenhuntigerkannemligfdeetnytkuldindenforfemmnederhvisungerneidettidligerekuldmistesddelighedenaftigerungererpcirkaidefrstetorkunfandrerovdyrangribertigerungerpgrundafhuntigerensilterhedbortsetframenneskerogandretigreersultkuldeogulykkeralmindeligersagertilungernesddungernebnerderesjnenrdeerdagegamlekortereturevkfraopholdsstedetsammenmedmorentagerdepnrdeerotteugergamlemendeflgerhendeellersikkeihendesomstrejfeniterritorietfrdeerldreungernedierhosmorenitretilseksmnederomkringdentidhvordebliverfravnnetbegynderdeatflgemorenrundtiterritorietoglrerdahvordanjagtenforegrienalderafmnedererdenstenaffuldvoksenstrrelseogernudygtigejgereungernebliveruafhngigeomkringmnedergamlemenskillesfrstheltfraderesmornrdeerellergamlehunnerbliverknsmodneeftertreellerfirermenshannerbliverdetfireellerfemrgamlebeskyttelsetigerenerentruetdyreartkrybskytteriefterpelsogkropsdeleogdelggelseaflevestederharistortomfangreduceretantalletaftigreinaturenibegyndelsenaftalletmenermanatdervarovertigreinaturenmenbestandenhererskrumpetindtilmellemogdevigtigstersagererdelggelseogfragmenteringaflevestederogkrybskytterieftersprgselptigerenskropsdeletilbrugitraditionelkinesiskmedicinerogsenvsentligtrusselmodtigereniflgenoglesknfindesderfrreendknsmodneogynglendetigreiverdenogingenenkeltebestanderummerflereendindividerdenglobaletigerbestandblevvurderettilafverdensnaturfondenidetprciseantalaftigreinaturenerukendtfordimangesknerforldedeellerbloterkvalificeredegtkunfsknerbaseretpplideligevidenskabeligeoptllingertabellenviserestimaterlandforlandiflgeiucnsamtofficielletalfradeforskelligelandeindienhuserverdensstrstebestandafvildetigremenkunafdeoprindeligeindiskelevestederfortigreerstadigeksisterendeogdeerblevetfragmenteredeogforringedeenoptllingfraanslogenbestandpindividerhvilketerenstigningiforholdtildensibirisketigervarierneligevedatuddidetderiruslandkunvarcirkadyrtilbageinaturenudviklingenblevvendtvedatsovjetunionensatteindmodkrybskytteriogoprettedeetnetvrkafomrderhvortigerenvarfredetdetfikbestandentilatstigetilflerehundredeierneblevkrybskytteriigenetproblemdaruslandskonomikollapsededenstrsteforhindringiforholdtilatbevareartenerdetenormeterritoriumsomhvertigerkrveroptilkmforenenkelthunogendnumereforenhantigerensnaturligeudkonkurreringafulvenerblevetbrugtafrussiskenaturforkmperetilatoverbevisejgereomatdeskaltolereredestorekattetigreharenmindreindvirkningpbestandenafhovdyrendulveogereffektivenrdetdrejersigomatkontrollereantalletafulveimentesantalletaftigreiruslandatvrepomkringdyrderdogkunudvisteenlillegenetiskdiversitetetrtisenereblevantalletafsibirisketigreanslettilmellemogindividerkinahavdetidligereforkastetvestensfolkeligebevgelsertilfordelfornaturbeskyttelsemenndredesinholdningierneogtiltrdtewashingtonkonventionenihavdekinaforbudthandelmedtigerenskropsdelehvilketmindskedebrugenaftigerknogleritraditionelkinesiskmedicinherefterblevtibetanerneshandelmedskindfratigerenenrelativtstrretrusselmodtigerenskindeneblevbrugtidentraditionelletibetanskekldedragtchubaafsangereogdeltagereihestevddelbogvarblevetstatussymboleriivrksatteinternationalenaturbeskyttelsesorganisationermedsuccesenkampagneikinamodhandelmedtigerskinddervarharmeiindienhvormangetibetanereborogdendalailamablevovertalttilattageemnetopsidenerholdningenskiftetidetnogletibetanereoffentligtharbrndtdereschubakldedragtermenneskedendetigretigreinaturenderikkefrharhaftkontaktmedmenneskerundgrsvidtmuligtkontaktikkedestomindreforrsagertigreflereddsfaldgennemdirekteangrebendnogenandrevildepattedyrsommetidererangrebeneprovokeretafjagthvortigresgeratforsvaresigefteratdeselverblevetsredeandregangekanentigerbliveoverrasketfxhvisetmenneskeuafvidendekommermellemenhuntigeroghendesungerfraindienkendesettilfldehvorentigerangrebetpostbuddahankomcyklendeistedetforsomnormaltatkommetilfodstigrekantiltiderkommetilatansemenneskerforbyttedyrtypiskiomrderhvorbefolkningstilvkstskovhugstoglandbrugsdriftharpressetdyrenesnaturligelevestederogbervetdemderesnormalebyttedyrdeflestemenneskedendetigreergamleogsvkkedehvaddergrdetsvrtfordematfangederesnormalebytteeteksempelvarchampawattigerenentigerderlevedeiindienognepaldensevnertilatfangebyttevarsvkketefteratdenhavdebrkketbeggehjrnetnderdennehuntigerregnesmedatvreansvarligforovermenneskersddfremtilatdenblevskudtiintetandetvildtdyrharstetforetlignendeantalangrebpmenneskerdeflestetigerangrebpmenneskerfinderstedidagtimernehvorfolkarbejderudendrsogikkeerpvagttidligebeskrivelserafmennekedendetigrehavdeentendenstilatbeskrivedemsomkujonerellerfejepgrundafderesbagholdstaktikmenneskedendetigreharidesenestertiervretetsrligtproblemiindienogbangladeshisriuttarakhandogmangrovesumpeisundarbansibengalenhvorogssundeograsketigreharjagetmenneskerpgrundafklimaforandringererderpkorttidsketdelggelseraftigerenslevestederhvilketharfrttilatantalletaftigerangreberstegetisundarbansmegeterforsgtforatundgangrebfratigreibegyndtemanfxisundarbansatbremaskermedmenneskeansigterinakkenforditigrenormaltikkeangribernrdeeropdagetafderesbyttedettemedfrtekunetmidlertidigtfaldiantalletafangrebmanharogsforsgtatudlggebyttetiltigreneogopstillemenneskedukkerdergavelektriskstdmendissetingvirkedeendnumindreiusablevmindstmenneskerdrbtelleralvorligtsretaftigreifangenskabmellemoginogletilfldeladertigerangrebpmenneskertilatvrerelaterettilforsvarafterritorietsnarereendtildetatskaffefdeimindstettilfldedrbteenhuntigermedungerottemenneskerderkomindihendesterritoriummenudenoverhovedetatforsgeatdedemunderarterderfindesseksnulevendeunderarterbengalsktigerpantheratigristigrissibirisktigerpantheratigrisaltaicasydkinesisktigerpantheratigrisamoyensisindokinesisktigerpantheratigriscorbettisumatratigerpantheratigrissumatraemalaysisktigerpantheratigrisjacksonidesudenertreunderarterudddeindenfordesenesterjavatigerpantheratigrissondaicabalitigerpantheratigrisbalicakaspisktigerpantheratigrisvirgataseogshybridkatpapirtigernotereksternehenvisningerwikispeciespantheratigrisdecemberbbcnewsnewsubspeciesfoundtigerisalmonsenskonversationsleksikonudgaveforfattetafmagnusdegerbllaikon\n"
          ]
        }
      ]
    },
    {
      "cell_type": "code",
      "source": [
        "gx1=Counter(ngrams(x1,3)) #for obtaining a trigram \n",
        "plothistogram(gx1)\n",
        "plt.title(\"DANSK\") #for title\n",
        "plt.show()\n"
      ],
      "metadata": {
        "colab": {
          "base_uri": "https://localhost:8080/",
          "height": 281
        },
        "id": "aNhoG27v06uk",
        "outputId": "4d1db892-362d-4fd1-f6ae-7146963cf568"
      },
      "execution_count": 26,
      "outputs": [
        {
          "output_type": "display_data",
          "data": {
            "text/plain": [
              "<Figure size 432x288 with 1 Axes>"
            ],
            "image/png": "[encoded data removed]"
          },
          "metadata": {
            "needs_background": "light"
          }
        }
      ]
    },
    {
      "cell_type": "code",
      "source": [
        "gx1"
      ],
      "metadata": {
        "colab": {
          "base_uri": "https://localhost:8080/"
        },
        "id": "92ttIOU57xG2",
        "outputId": "cd151faf-3784-4c82-e9e5-8ab24f8672ba"
      },
      "execution_count": 27,
      "outputs": [
        {
          "output_type": "execute_result",
          "data": {
            "text/plain": [
              "Counter({('f', 'o', 'r'): 80,\n",
              "         ('o', 'r', 'a'): 11,\n",
              "         ('r', 'a', 'l'): 8,\n",
              "         ('a', 'l', 't'): 15,\n",
              "         ('l', 't', 'e'): 7,\n",
              "         ('t', 'e', 'r'): 102,\n",
              "         ('e', 'r', 'n'): 45,\n",
              "         ('r', 'n', 'a'): 5,\n",
              "         ('n', 'a', 't'): 21,\n",
              "         ('a', 't', 'i'): 34,\n",
              "         ('t', 'i', 'v'): 6,\n",
              "         ('i', 'v', 'e'): 24,\n",
              "         ('v', 'e', 'b'): 2,\n",
              "         ('e', 'b', 'e'): 19,\n",
              "         ('b', 'e', 't'): 17,\n",
              "         ('e', 't', 'y'): 7,\n",
              "         ('t', 'y', 'd'): 6,\n",
              "         ('y', 'd', 'n'): 2,\n",
              "         ('d', 'n', 'i'): 4,\n",
              "         ('n', 'i', 'n'): 18,\n",
              "         ('i', 'n', 'g'): 47,\n",
              "         ('n', 'g', 'e'): 69,\n",
              "         ('g', 'e', 'r'): 149,\n",
              "         ('e', 'r', 's'): 46,\n",
              "         ('r', 's', 'e'): 3,\n",
              "         ('s', 'e', 't'): 15,\n",
              "         ('e', 't', 'i'): 63,\n",
              "         ('t', 'i', 'g'): 146,\n",
              "         ('i', 'g', 'e'): 123,\n",
              "         ('e', 'r', 'f'): 32,\n",
              "         ('r', 'f', 'l'): 4,\n",
              "         ('f', 'l', 'e'): 15,\n",
              "         ('l', 'e', 'r'): 53,\n",
              "         ('e', 'r', 't'): 39,\n",
              "         ('r', 't', 'y'): 2,\n",
              "         ('y', 'd', 'i'): 1,\n",
              "         ('d', 'i', 'g'): 8,\n",
              "         ('i', 'g', 's'): 4,\n",
              "         ('g', 's', 'e'): 5,\n",
              "         ('s', 'e', 'o'): 9,\n",
              "         ('e', 'o', 'g'): 48,\n",
              "         ('o', 'g', 's'): 29,\n",
              "         ('g', 's', 'a'): 4,\n",
              "         ('s', 'a', 'r'): 1,\n",
              "         ('a', 'r', 't'): 16,\n",
              "         ('r', 't', 'i'): 46,\n",
              "         ('t', 'i', 'k'): 8,\n",
              "         ('i', 'k', 'l'): 2,\n",
              "         ('k', 'l', 'e'): 4,\n",
              "         ('r', 's', 'o'): 10,\n",
              "         ('s', 'o', 'm'): 25,\n",
              "         ('o', 'm', 'b'): 1,\n",
              "         ('m', 'b', 'e'): 3,\n",
              "         ('b', 'e', 'g'): 15,\n",
              "         ('e', 'g', 'y'): 8,\n",
              "         ('g', 'y', 'n'): 9,\n",
              "         ('y', 'n', 'd'): 9,\n",
              "         ('n', 'd', 'e'): 123,\n",
              "         ('d', 'e', 'r'): 150,\n",
              "         ('e', 'r', 'm'): 30,\n",
              "         ('r', 'm', 'e'): 31,\n",
              "         ('m', 'e', 'd'): 49,\n",
              "         ('e', 'd', 't'): 12,\n",
              "         ('d', 't', 'i'): 27,\n",
              "         ('e', 'r', 'e'): 188,\n",
              "         ('r', 'e', 'n'): 83,\n",
              "         ('e', 'n', 'l'): 13,\n",
              "         ('n', 'l', 'a'): 1,\n",
              "         ('l', 'a', 't'): 21,\n",
              "         ('t', 'i', 'n'): 9,\n",
              "         ('i', 'n', 'p'): 1,\n",
              "         ('n', 'p', 'a'): 2,\n",
              "         ('p', 'a', 'n'): 11,\n",
              "         ('a', 'n', 't'): 28,\n",
              "         ('n', 't', 'h'): 12,\n",
              "         ('t', 'h', 'e'): 12,\n",
              "         ('h', 'e', 'r'): 14,\n",
              "         ('e', 'r', 'a'): 50,\n",
              "         ('r', 'a', 't'): 33,\n",
              "         ('i', 'g', 'r'): 66,\n",
              "         ('g', 'r', 'i'): 19,\n",
              "         ('r', 'i', 's'): 30,\n",
              "         ('i', 's', 'e'): 7,\n",
              "         ('s', 'e', 'r'): 14,\n",
              "         ('e', 'r', 'd'): 66,\n",
              "         ('r', 'd', 'e'): 109,\n",
              "         ('d', 'e', 'n'): 93,\n",
              "         ('e', 'n', 's'): 60,\n",
              "         ('n', 's', 't'): 19,\n",
              "         ('s', 't', 'r'): 31,\n",
              "         ('t', 'r', 's'): 5,\n",
              "         ('r', 's', 't'): 19,\n",
              "         ('s', 't', 'e'): 70,\n",
              "         ('t', 'e', 'k'): 5,\n",
              "         ('e', 'k', 'a'): 22,\n",
              "         ('k', 'a', 't'): 9,\n",
              "         ('a', 't', 't'): 17,\n",
              "         ('t', 't', 'e'): 74,\n",
              "         ('t', 'e', 'a'): 6,\n",
              "         ('e', 'a', 'r'): 4,\n",
              "         ('r', 't', 'm'): 2,\n",
              "         ('t', 'm', 'e'): 22,\n",
              "         ('e', 'd', 'e'): 109,\n",
              "         ('e', 'n', 't'): 45,\n",
              "         ('n', 't', 'o'): 4,\n",
              "         ('t', 'o', 't'): 3,\n",
              "         ('o', 't', 'a'): 3,\n",
              "         ('t', 'a', 'l'): 21,\n",
              "         ('a', 'l', 'k'): 2,\n",
              "         ('l', 'k', 'r'): 1,\n",
              "         ('k', 'r', 'o'): 6,\n",
              "         ('r', 'o', 'p'): 12,\n",
              "         ('o', 'p', 's'): 7,\n",
              "         ('p', 's', 'l'): 1,\n",
              "         ('s', 'l', 'n'): 1,\n",
              "         ('l', 'n', 'g'): 8,\n",
              "         ('n', 'g', 'd'): 10,\n",
              "         ('g', 'd', 'e'): 23,\n",
              "         ('d', 'e', 'p'): 5,\n",
              "         ('e', 'p', 'o'): 2,\n",
              "         ('p', 'o', 'p'): 3,\n",
              "         ('o', 'p', 't'): 11,\n",
              "         ('p', 't', 'i'): 10,\n",
              "         ('t', 'i', 'l'): 84,\n",
              "         ('i', 'l', 'm'): 6,\n",
              "         ('l', 'm', 'e'): 8,\n",
              "         ('m', 'e', 't'): 17,\n",
              "         ('e', 't', 'e'): 36,\n",
              "         ('e', 'r', 'i'): 42,\n",
              "         ('r', 'i', 'n'): 31,\n",
              "         ('i', 'n', 'k'): 3,\n",
              "         ('n', 'k', 'l'): 3,\n",
              "         ('k', 'l', 'u'): 2,\n",
              "         ('l', 'u', 's'): 2,\n",
              "         ('u', 's', 'i'): 2,\n",
              "         ('s', 'i', 'v'): 2,\n",
              "         ('v', 'e', 'k'): 1,\n",
              "         ('e', 'k', 'u'): 5,\n",
              "         ('k', 'u', 'r'): 4,\n",
              "         ('u', 'r', 'v'): 2,\n",
              "         ('r', 'v', 'e'): 15,\n",
              "         ('v', 'e', 'r'): 52,\n",
              "         ('e', 'r', 'o'): 43,\n",
              "         ('r', 'o', 'g'): 37,\n",
              "         ('o', 'g', 'i'): 7,\n",
              "         ('g', 'i', 'e'): 2,\n",
              "         ('i', 'e', 'k'): 1,\n",
              "         ('e', 'k', 's'): 16,\n",
              "         ('k', 's', 't'): 4,\n",
              "         ('t', 'r', 'e'): 11,\n",
              "         ('r', 'e', 'm'): 11,\n",
              "         ('e', 'm', 'e'): 30,\n",
              "         ('i', 'l', 'f'): 12,\n",
              "         ('l', 'f', 'l'): 6,\n",
              "         ('f', 'l', 'd'): 5,\n",
              "         ('l', 'd', 'e'): 26,\n",
              "         ('d', 'e', 'm'): 12,\n",
              "         ('e', 'n', 'v'): 16,\n",
              "         ('n', 'v', 'g'): 1,\n",
              "         ('v', 'g', 't'): 2,\n",
              "         ('g', 't', 'p'): 2,\n",
              "         ('t', 'p', 'o'): 2,\n",
              "         ('i', 'l', 'k'): 15,\n",
              "         ('l', 'k', 'i'): 8,\n",
              "         ('k', 'i', 'l'): 13,\n",
              "         ('i', 'l', 'o'): 12,\n",
              "         ('l', 'o', 'i'): 1,\n",
              "         ('o', 'i', 'n'): 1,\n",
              "         ('i', 'n', 'a'): 18,\n",
              "         ('a', 't', 'u'): 21,\n",
              "         ('t', 'u', 'r'): 17,\n",
              "         ('u', 'r', 'e'): 12,\n",
              "         ('e', 'n', 'd'): 79,\n",
              "         ('d', 'e', 't'): 76,\n",
              "         ('e', 't', 'm'): 19,\n",
              "         ('m', 'e', 's'): 5,\n",
              "         ('e', 's', 't'): 72,\n",
              "         ('s', 't', 'g'): 2,\n",
              "         ('t', 'g', 'e'): 2,\n",
              "         ('g', 'e', 'n'): 39,\n",
              "         ('e', 'n', 'k'): 16,\n",
              "         ('n', 'k', 'e'): 7,\n",
              "         ('k', 'e', 'n'): 16,\n",
              "         ('d', 'e', 'l'): 57,\n",
              "         ('e', 'l', 'i'): 21,\n",
              "         ('l', 'i', 'g'): 73,\n",
              "         ('g', 'e', 't'): 12,\n",
              "         ('e', 't', 'r'): 13,\n",
              "         ('t', 'r', 'k'): 10,\n",
              "         ('r', 'k', 'v'): 2,\n",
              "         ('k', 'v', 'e'): 1,\n",
              "         ('v', 'e', 'd'): 22,\n",
              "         ('e', 'n', 'e'): 52,\n",
              "         ('n', 'e', 'r'): 62,\n",
              "         ('e', 'r', 'p'): 27,\n",
              "         ('r', 'p', 'e'): 3,\n",
              "         ('p', 'e', 'l'): 7,\n",
              "         ('e', 'l', 's'): 37,\n",
              "         ('l', 's', 'e'): 37,\n",
              "         ('s', 'e', 'n'): 27,\n",
              "         ('e', 'n', 'm'): 17,\n",
              "         ('n', 'm', 'e'): 12,\n",
              "         ('e', 'd', 'm'): 9,\n",
              "         ('d', 'm', 'r'): 1,\n",
              "         ('m', 'r', 'k'): 2,\n",
              "         ('r', 'k', 'e'): 11,\n",
              "         ('k', 'e', 't'): 26,\n",
              "         ('e', 't', 'v'): 9,\n",
              "         ('t', 'v', 'r'): 9,\n",
              "         ('v', 'r', 's'): 1,\n",
              "         ('t', 'r', 'i'): 2,\n",
              "         ('r', 'i', 'b'): 7,\n",
              "         ('i', 'b', 'e'): 14,\n",
              "         ('b', 'e', 'r'): 13,\n",
              "         ('r', 'p', 'o'): 3,\n",
              "         ('p', 'o', 'r'): 4,\n",
              "         ('r', 'a', 'n'): 15,\n",
              "         ('a', 'n', 'g'): 54,\n",
              "         ('g', 'e', 'b'): 8,\n",
              "         ('e', 'b', 'u'): 1,\n",
              "         ('b', 'u', 'n'): 1,\n",
              "         ('u', 'n', 'd'): 29,\n",
              "         ('n', 'd', 't'): 20,\n",
              "         ('g', 'r', 'e'): 73,\n",
              "         ('r', 'e', 'e'): 26,\n",
              "         ('e', 'e', 'r'): 25,\n",
              "         ('r', 's', 'u'): 4,\n",
              "         ('s', 'u', 'p'): 1,\n",
              "         ('u', 'p', 'e'): 1,\n",
              "         ('p', 'e', 'r'): 6,\n",
              "         ('e', 'r', 'r'): 24,\n",
              "         ('r', 'r', 'o'): 1,\n",
              "         ('r', 'o', 'v'): 15,\n",
              "         ('o', 'v', 'd'): 11,\n",
              "         ('v', 'd', 'y'): 11,\n",
              "         ('d', 'y', 'r'): 39,\n",
              "         ('y', 'r', 'd'): 8,\n",
              "         ('i', 's', 'r'): 5,\n",
              "         ('s', 'r', 'l'): 2,\n",
              "         ('r', 'l', 'e'): 7,\n",
              "         ('l', 'e', 'v'): 48,\n",
              "         ('e', 'v', 'e'): 42,\n",
              "         ('r', 'a', 'f'): 18,\n",
              "         ('a', 'f', 'h'): 8,\n",
              "         ('f', 'h', 'o'): 2,\n",
              "         ('h', 'o', 'v'): 8,\n",
              "         ('y', 'r', 's'): 6,\n",
              "         ('r', 's', 's'): 4,\n",
              "         ('s', 's', 'o'): 3,\n",
              "         ('o', 'm', 'h'): 4,\n",
              "         ('m', 'h', 'j'): 1,\n",
              "         ('h', 'j', 'o'): 10,\n",
              "         ('j', 'o', 'r'): 13,\n",
              "         ('o', 'r', 't'): 25,\n",
              "         ('r', 't', 'e'): 24,\n",
              "         ('t', 'e', 'o'): 3,\n",
              "         ('g', 's', 'k'): 5,\n",
              "         ('s', 'k', 'e'): 61,\n",
              "         ('k', 'e', 'd'): 14,\n",
              "         ('d', 'e', 'h'): 8,\n",
              "         ('e', 'h', 'o'): 5,\n",
              "         ('h', 'o', 'r'): 4,\n",
              "         ('o', 'r', 'n'): 7,\n",
              "         ('r', 'n', 'e'): 35,\n",
              "         ('n', 'e', 'd'): 14,\n",
              "         ('d', 'e', 'd'): 18,\n",
              "         ('d', 'e', 'e'): 24,\n",
              "         ('r', 'r', 'i'): 25,\n",
              "         ('r', 'i', 't'): 19,\n",
              "         ('i', 't', 'o'): 17,\n",
              "         ('t', 'o', 'r'): 34,\n",
              "         ('o', 'r', 'i'): 19,\n",
              "         ('r', 'i', 'a'): 2,\n",
              "         ('i', 'a', 'l'): 4,\n",
              "         ('a', 'l', 'e'): 23,\n",
              "         ('l', 'e', 'o'): 7,\n",
              "         ('o', 'g', 'j'): 1,\n",
              "         ('g', 'j', 'a'): 1,\n",
              "         ('j', 'a', 'g'): 14,\n",
              "         ('a', 'g', 'e'): 33,\n",
              "         ('e', 'r', 'g'): 13,\n",
              "         ('r', 'g', 'e'): 6,\n",
              "         ('r', 'e', 'l'): 26,\n",
              "         ('e', 'l', 't'): 15,\n",
              "         ('l', 't', 'a'): 8,\n",
              "         ('l', 'e', 'n'): 14,\n",
              "         ('n', 'e', 'm'): 10,\n",
              "         ('m', 'e', 'n'): 66,\n",
              "         ('n', 'k', 'a'): 5,\n",
              "         ('k', 'a', 'n'): 29,\n",
              "         ('a', 'n', 'u'): 2,\n",
              "         ('n', 'u', 'n'): 5,\n",
              "         ('t', 'i', 'd'): 20,\n",
              "         ('i', 'd', 'e'): 43,\n",
              "         ('n', 'v', 'r'): 6,\n",
              "         ('v', 'r', 'e'): 19,\n",
              "         ('r', 'e', 's'): 44,\n",
              "         ('e', 's', 'o'): 14,\n",
              "         ('s', 'o', 'c'): 2,\n",
              "         ('o', 'c', 'i'): 2,\n",
              "         ('c', 'i', 'a'): 2,\n",
              "         ('o', 'g', 'k'): 9,\n",
              "         ('g', 'k', 'r'): 4,\n",
              "         ('k', 'r', 'v'): 4,\n",
              "         ('o', 'm', 'r'): 19,\n",
              "         ('m', 'r', 'e'): 3,\n",
              "         ('r', 'e', 'g'): 9,\n",
              "         ('e', 'g', 'e'): 13,\n",
              "         ('g', 'e', 'l'): 18,\n",
              "         ('l', 's', 'a'): 1,\n",
              "         ('s', 'a', 'm'): 20,\n",
              "         ('a', 'm', 'm'): 8,\n",
              "         ('m', 'm', 'e'): 25,\n",
              "         ('e', 'n', 'h'): 29,\n",
              "         ('n', 'h', 'n'): 1,\n",
              "         ('h', 'n', 'g'): 4,\n",
              "         ('d', 'e', 'o'): 19,\n",
              "         ('e', 'o', 'm'): 12,\n",
              "         ('m', 'r', 'd'): 16,\n",
              "         ('i', 'l', 'g'): 2,\n",
              "         ('l', 'g', 'o'): 1,\n",
              "         ('g', 'o', 'd'): 3,\n",
              "         ('o', 'd', 'e'): 8,\n",
              "         ('d', 'e', 's'): 39,\n",
              "         ('e', 's', 'e'): 14,\n",
              "         ('e', 's', 'b'): 10,\n",
              "         ('s', 'b', 'y'): 11,\n",
              "         ('b', 'y', 't'): 37,\n",
              "         ('y', 't', 't'): 46,\n",
              "         ('t', 'e', 'd'): 47,\n",
              "         ('e', 'd', 'y'): 21,\n",
              "         ('e', 't', 't'): 22,\n",
              "         ('t', 'e', 's'): 16,\n",
              "         ('e', 's', 'a'): 8,\n",
              "         ('e', 'd', 'd'): 7,\n",
              "         ('d', 'd', 'e'): 21,\n",
              "         ('e', 't', 'f'): 15,\n",
              "         ('t', 'f', 'a'): 6,\n",
              "         ('f', 'a', 'k'): 1,\n",
              "         ('a', 'k', 't'): 8,\n",
              "         ('k', 't', 'u'): 1,\n",
              "         ('t', 'u', 'm'): 1,\n",
              "         ('u', 'm', 'a'): 7,\n",
              "         ('m', 'a', 't'): 11,\n",
              "         ('a', 't', 'd'): 12,\n",
              "         ('t', 'd', 'e'): 25,\n",
              "         ('u', 'r', 'l'): 3,\n",
              "         ('r', 'l', 'i'): 12,\n",
              "         ('i', 'g', 't'): 20,\n",
              "         ('g', 't', 'h'): 3,\n",
              "         ('t', 'h', 'j'): 1,\n",
              "         ('h', 'j', 'e'): 3,\n",
              "         ('j', 'e', 'm'): 2,\n",
              "         ('e', 'm', 'm'): 3,\n",
              "         ('m', 'e', 'h'): 1,\n",
              "         ('e', 'h', 'r'): 1,\n",
              "         ('h', 'r', 'e'): 1,\n",
              "         ('d', 'e', 'i'): 12,\n",
              "         ('e', 'i', 'n'): 20,\n",
              "         ('i', 'n', 'o'): 5,\n",
              "         ('n', 'o', 'g'): 25,\n",
              "         ('o', 'g', 'l'): 12,\n",
              "         ('g', 'l', 'e'): 10,\n",
              "         ('l', 'e', 'a'): 7,\n",
              "         ('e', 'a', 'f'): 14,\n",
              "         ('a', 'f', 'd'): 23,\n",
              "         ('f', 'd', 'e'): 29,\n",
              "         ('t', 't', 't'): 3,\n",
              "         ('s', 't', 'b'): 4,\n",
              "         ('t', 'b', 'e'): 6,\n",
              "         ('b', 'e', 'f'): 3,\n",
              "         ('e', 'f', 'o'): 19,\n",
              "         ('f', 'o', 'l'): 4,\n",
              "         ('o', 'l', 'k'): 4,\n",
              "         ('l', 'k', 'e'): 11,\n",
              "         ('e', 'l', 'e'): 25,\n",
              "         ('a', 'f', 'v'): 5,\n",
              "         ('f', 'v', 'e'): 3,\n",
              "         ('n', 'h', 'a'): 15,\n",
              "         ('h', 'a', 'r'): 24,\n",
              "         ('a', 'r', 'm'): 3,\n",
              "         ('e', 'd', 'f'): 6,\n",
              "         ('d', 'f', 'r'): 5,\n",
              "         ('f', 'r', 't'): 4,\n",
              "         ('r', 't', 'b'): 2,\n",
              "         ('y', 'd', 'e'): 4,\n",
              "         ('g', 'e', 'k'): 8,\n",
              "         ('e', 'k', 'o'): 6,\n",
              "         ('k', 'o', 'n'): 12,\n",
              "         ('o', 'n', 'f'): 2,\n",
              "         ('n', 'f', 'l'): 2,\n",
              "         ('f', 'l', 'i'): 1,\n",
              "         ('l', 'i', 'k'): 1,\n",
              "         ('i', 'k', 't'): 1,\n",
              "         ('k', 't', 'e'): 3,\n",
              "         ('d', 'm', 'e'): 6,\n",
              "         ('e', 'n', 'n'): 40,\n",
              "         ('n', 'n', 'e'): 72,\n",
              "         ('n', 'e', 's'): 45,\n",
              "         ('e', 's', 'k'): 36,\n",
              "         ('k', 'e', 'r'): 33,\n",
              "         ('r', 'i', 'd'): 9,\n",
              "         ('e', 't', 's'): 18,\n",
              "         ('t', 's', 'y'): 4,\n",
              "         ('s', 'y', 'd'): 6,\n",
              "         ('y', 'd', 'l'): 1,\n",
              "         ('d', 'l', 'i'): 9,\n",
              "         ('e', 'b', 'a'): 1,\n",
              "         ('b', 'a', 'n'): 6,\n",
              "         ('n', 'g', 'l'): 5,\n",
              "         ('g', 'l', 'a'): 4,\n",
              "         ('l', 'a', 'd'): 5,\n",
              "         ('a', 'd', 'e'): 11,\n",
              "         ('e', 's', 'h'): 4,\n",
              "         ('s', 'h', 'b'): 1,\n",
              "         ('h', 'b', 'l'): 1,\n",
              "         ('b', 'l', 'e'): 24,\n",
              "         ('e', 'v', 'm'): 2,\n",
              "         ('v', 'm', 'i'): 2,\n",
              "         ('m', 'i', 'n'): 20,\n",
              "         ('i', 'n', 'd'): 75,\n",
              "         ('n', 'd', 's'): 12,\n",
              "         ('d', 's', 't'): 11,\n",
              "         ('s', 't', 'p'): 1,\n",
              "         ('t', 'p', 'e'): 1,\n",
              "         ('s', 'o', 'n'): 5,\n",
              "         ('o', 'n', 'e'): 12,\n",
              "         ('r', 'd', 'r'): 3,\n",
              "         ('d', 'r', 'b'): 8,\n",
              "         ('r', 'b', 't'): 5,\n",
              "         ('b', 't', 'a'): 2,\n",
              "         ('t', 'a', 'f'): 20,\n",
              "         ('a', 'f', 't'): 22,\n",
              "         ('f', 't', 'i'): 13,\n",
              "         ('r', 'e', 'r'): 46,\n",
              "         ('e', 'r', 'l'): 15,\n",
              "         ('g', 't', 'f'): 5,\n",
              "         ('t', 'f', 'r'): 12,\n",
              "         ('f', 'r', 'e'): 6,\n",
              "         ('e', 'm', 't'): 2,\n",
              "         ('m', 't', 'i'): 8,\n",
              "         ('i', 'l', 'r'): 2,\n",
              "         ('l', 'r', 't'): 1,\n",
              "         ('n', 'v', 'a'): 4,\n",
              "         ('v', 'a', 'r'): 19,\n",
              "         ('a', 'r', 'e'): 18,\n",
              "         ('e', 'n', 'g'): 13,\n",
              "         ('n', 'g', 'a'): 15,\n",
              "         ('g', 'a', 'n'): 14,\n",
              "         ('n', 'g', 'v'): 3,\n",
              "         ('g', 'v', 'i'): 4,\n",
              "         ('v', 'i', 'd'): 17,\n",
              "         ('i', 'd', 't'): 6,\n",
              "         ('d', 't', 'u'): 1,\n",
              "         ('t', 'u', 'd'): 6,\n",
              "         ('u', 'd', 'b'): 9,\n",
              "         ('d', 'b', 'r'): 10,\n",
              "         ('b', 'r', 'e'): 14,\n",
              "         ('r', 'e', 'd'): 40,\n",
              "         ('t', 'i', 'a'): 1,\n",
              "         ('i', 'a', 's'): 2,\n",
              "         ('a', 's', 'i'): 9,\n",
              "         ('s', 'i', 'e'): 7,\n",
              "         ('i', 'e', 'n'): 27,\n",
              "         ('e', 'n', 'f'): 11,\n",
              "         ('n', 'f', 'r'): 4,\n",
              "         ('f', 'r', 'a'): 32,\n",
              "         ('a', 't', 'y'): 1,\n",
              "         ('t', 'y', 'r'): 2,\n",
              "         ('y', 'r', 'k'): 3,\n",
              "         ('r', 'k', 'i'): 3,\n",
              "         ('k', 'i', 'e'): 1,\n",
              "         ('i', 'e', 't'): 8,\n",
              "         ('v', 'e', 's'): 22,\n",
              "         ('s', 't', 't'): 2,\n",
              "         ('t', 't', 'i'): 19,\n",
              "         ('l', 'r', 'u'): 1,\n",
              "         ('r', 'u', 's'): 7,\n",
              "         ('u', 's', 'l'): 4,\n",
              "         ('s', 'l', 'a'): 7,\n",
              "         ('l', 'a', 'n'): 19,\n",
              "         ('a', 'n', 'd'): 67,\n",
              "         ('d', 's', 's'): 5,\n",
              "         ('s', 's', 't'): 11,\n",
              "         ('s', 't', 'k'): 2,\n",
              "         ('t', 'k', 'y'): 1,\n",
              "         ('k', 'y', 's'): 1,\n",
              "         ('y', 's', 't'): 1,\n",
              "         ('s', 't', 'i'): 20,\n",
              "         ('i', 'l', 'b'): 9,\n",
              "         ('l', 'b', 'e'): 6,\n",
              "         ('e', 't', 'a'): 38,\n",
              "         ('n', 's', 'u'): 3,\n",
              "         ('s', 'u', 'd'): 6,\n",
              "         ('s', 'e', 's'): 10,\n",
              "         ('e', 'd', 'u'): 8,\n",
              "         ('d', 'u', 'c'): 2,\n",
              "         ('u', 'c', 'e'): 2,\n",
              "         ('c', 'e', 'r'): 5,\n",
              "         ('r', 'e', 't'): 39,\n",
              "         ('e', 'd', 'p'): 4,\n",
              "         ('d', 'p', 'r'): 2,\n",
              "         ('p', 'r', 'o'): 5,\n",
              "         ('r', 'o', 'c'): 2,\n",
              "         ('o', 'c', 'e'): 2,\n",
              "         ('c', 'e', 'n'): 6,\n",
              "         ('t', 'o', 'g'): 11,\n",
              "         ('o', 'g', 't'): 4,\n",
              "         ('g', 't', 'i'): 8,\n",
              "         ('e', 'r', 'b'): 27,\n",
              "         ('r', 'b', 'l'): 16,\n",
              "         ('v', 'e', 't'): 9,\n",
              "         ('e', 't', 'u'): 5,\n",
              "         ('u', 'd', 'r'): 2,\n",
              "         ('d', 'r', 'y'): 2,\n",
              "         ('r', 'y', 'd'): 4,\n",
              "         ('y', 'd', 'd'): 3,\n",
              "         ('r', 'a', 'd'): 12,\n",
              "         ('y', 'd', 'v'): 1,\n",
              "         ('d', 'v', 'e'): 2,\n",
              "         ('s', 't', 'l'): 6,\n",
              "         ('t', 'l', 'i'): 16,\n",
              "         ('g', 'e', 'o'): 6,\n",
              "         ('o', 'g', 'c'): 2,\n",
              "         ('g', 'c', 'e'): 2,\n",
              "         ('n', 't', 'r'): 4,\n",
              "         ('t', 'r', 'a'): 12,\n",
              "         ('e', 'a', 's'): 4,\n",
              "         ('r', 'a', 'e'): 6,\n",
              "         ('a', 'e', 'r'): 3,\n",
              "         ('n', 'e', 'j'): 1,\n",
              "         ('e', 'j', 'a'): 7,\n",
              "         ('j', 'a', 'v'): 4,\n",
              "         ('a', 'v', 'a'): 5,\n",
              "         ('v', 'a', 'o'): 1,\n",
              "         ('a', 'o', 'g'): 3,\n",
              "         ('o', 'g', 'b'): 8,\n",
              "         ('g', 'b', 'a'): 3,\n",
              "         ('b', 'a', 'l'): 7,\n",
              "         ('a', 'l', 'i'): 6,\n",
              "         ('l', 'i', 'o'): 2,\n",
              "         ('i', 'o', 'g'): 4,\n",
              "         ('o', 'g', 'f'): 11,\n",
              "         ('g', 'f', 'r'): 6,\n",
              "         ('r', 'a', 's'): 6,\n",
              "         ('a', 's', 't'): 5,\n",
              "         ('s', 't', 'o'): 20,\n",
              "         ('o', 'r', 'e'): 33,\n",
              "         ('r', 'e', 'o'): 13,\n",
              "         ('y', 'd', 's'): 5,\n",
              "         ('g', 's', 't'): 11,\n",
              "         ('g', 'e', 'a'): 5,\n",
              "         ('e', 'n', 'i'): 18,\n",
              "         ('n', 'i', 'd'): 6,\n",
              "         ('i', 'd', 'a'): 5,\n",
              "         ('d', 'a', 'g'): 12,\n",
              "         ('e', 'n', 'u'): 13,\n",
              "         ('n', 'u', 'd'): 12,\n",
              "         ('d', 't', 'f'): 2,\n",
              "         ('n', 's', 'i'): 8,\n",
              "         ('s', 'i', 'b'): 13,\n",
              "         ('i', 'b', 'i'): 12,\n",
              "         ('b', 'i', 'r'): 12,\n",
              "         ('i', 'r', 'i'): 12,\n",
              "         ('i', 's', 'k'): 35,\n",
              "         ('t', 'a', 'j'): 2,\n",
              "         ('a', 'j', 'g'): 2,\n",
              "         ('j', 'g', 'a'): 2,\n",
              "         ('g', 'a', 't'): 2,\n",
              "         ('l', 'b', 'n'): 1,\n",
              "         ('b', 'n', 'e'): 3,\n",
              "         ('n', 'e', 'g'): 2,\n",
              "         ('e', 'g', 'r'): 10,\n",
              "         ('g', 'r', 's'): 3,\n",
              "         ('s', 's', 'l'): 1,\n",
              "         ('s', 'l', 'e'): 6,\n",
              "         ('l', 'e', 't'): 21,\n",
              "         ('g', 't', 'r'): 2,\n",
              "         ('t', 'r', 'o'): 4,\n",
              "         ('o', 'p', 'i'): 2,\n",
              "         ('p', 'i', 's'): 10,\n",
              "         ('k', 'e', 'm'): 1,\n",
              "         ('e', 'm', 'a'): 7,\n",
              "         ('m', 'a', 'n'): 12,\n",
              "         ('n', 'g', 'r'): 22,\n",
              "         ('g', 'r', 'o'): 5,\n",
              "         ('o', 'v', 'e'): 27,\n",
              "         ('e', 's', 'u'): 11,\n",
              "         ('s', 'u', 'm'): 9,\n",
              "         ('u', 'm', 'p'): 5,\n",
              "         ('m', 'p', 'e'): 10,\n",
              "         ('p', 'e', 'd'): 4,\n",
              "         ('l', 'b', 'a'): 3,\n",
              "         ('b', 'a', 'g'): 4,\n",
              "         ('g', 'e', 'v'): 6,\n",
              "         ('e', 'v', 'r'): 4,\n",
              "         ('s', 'e', 'k'): 8,\n",
              "         ('k', 's', 'u'): 2,\n",
              "         ('s', 'u', 'n'): 13,\n",
              "         ('r', 'a', 'r'): 7,\n",
              "         ('e', 't', 'k'): 7,\n",
              "         ('t', 'k', 'l'): 2,\n",
              "         ('k', 'l', 'a'): 1,\n",
              "         ('l', 'a', 's'): 1,\n",
              "         ('a', 's', 's'): 6,\n",
              "         ('s', 's', 'i'): 4,\n",
              "         ('s', 'i', 'f'): 2,\n",
              "         ('i', 'f', 'i'): 3,\n",
              "         ('f', 'i', 'c'): 3,\n",
              "         ('i', 'c', 'e'): 2,\n",
              "         ('t', 's', 'o'): 3,\n",
              "         ('o', 'm', 't'): 5,\n",
              "         ('m', 't', 'r'): 1,\n",
              "         ('t', 'r', 'u'): 9,\n",
              "         ('r', 'u', 'e'): 2,\n",
              "         ('u', 'e', 'd'): 1,\n",
              "         ('d', 'e', 'a'): 10,\n",
              "         ('a', 'f', 'i'): 2,\n",
              "         ('f', 'i', 'u'): 1,\n",
              "         ('i', 'u', 'c'): 2,\n",
              "         ('u', 'c', 'n'): 2,\n",
              "         ('c', 'n', 'd'): 1,\n",
              "         ('g', 'l', 'o'): 2,\n",
              "         ('l', 'o', 'b'): 2,\n",
              "         ('o', 'b', 'a'): 2,\n",
              "         ('l', 'e', 'b'): 5,\n",
              "         ('b', 'e', 's'): 20,\n",
              "         ('s', 't', 'a'): 21,\n",
              "         ('t', 'a', 'n'): 25,\n",
              "         ('n', 'd', 'i'): 32,\n",
              "         ('d', 'i', 'n'): 4,\n",
              "         ('n', 'v', 'u'): 1,\n",
              "         ('v', 'u', 'r'): 4,\n",
              "         ('u', 'r', 'd'): 4,\n",
              "         ('i', 'l', 'a'): 22,\n",
              "         ('a', 't', 'l'): 2,\n",
              "         ('i', 'g', 'g'): 5,\n",
              "         ('g', 'g', 'e'): 16,\n",
              "         ('g', 'e', 'm'): 2,\n",
              "         ('m', 'e', 'l'): 17,\n",
              "         ('e', 'l', 'l'): 48,\n",
              "         ('l', 'l', 'e'): 68,\n",
              "         ('l', 'e', 'm'): 23,\n",
              "         ('e', 'm', 'o'): 10,\n",
              "         ('m', 'o', 'g'): 9,\n",
              "         ('g', 'i', 'n'): 7,\n",
              "         ('d', 'i', 'v'): 13,\n",
              "         ('i', 'v', 'i'): 13,\n",
              "         ('r', 'm', 'o'): 2,\n",
              "         ('m', 'o', 'd'): 12,\n",
              "         ('o', 'd', 'c'): 1,\n",
              "         ('d', 'c', 'i'): 2,\n",
              "         ('c', 'i', 'r'): 6,\n",
              "         ('i', 'r', 'k'): 9,\n",
              "         ('r', 'k', 'a'): 16,\n",
              "         ('k', 'a', 'i'): 3,\n",
              "         ('a', 'i', 'b'): 1,\n",
              "         ('e', 'n', 'a'): 32,\n",
              "         ('n', 'a', 'f'): 25,\n",
              "         ('f', 't', 'a'): 4,\n",
              "         ('a', 'l', 'l'): 13,\n",
              "         ('e', 't', 'd'): 13,\n",
              "         ('d', 'e', 'f'): 17,\n",
              "         ('e', 'f', 'l'): 9,\n",
              "         ('l', 'e', 's'): 10,\n",
              "         ('t', 'e', 't'): 32,\n",
              "         ('d', 'e', 'b'): 8,\n",
              "         ('i', 's', 'm'): 1,\n",
              "         ('s', 'm', 'l'): 1,\n",
              "         ('m', 'l', 'o'): 1,\n",
              "         ('l', 'o', 'm'): 5,\n",
              "         ('o', 'm', 'm'): 10,\n",
              "         ('m', 'e', 'r'): 14,\n",
              "         ('i', 's', 'o'): 4,\n",
              "         ('s', 'o', 'l'): 3,\n",
              "         ('o', 'l', 'e'): 4,\n",
              "         ('r', 'a', 'h'): 2,\n",
              "         ('a', 'h', 'i'): 1,\n",
              "         ('h', 'i', 'n'): 5,\n",
              "         ('n', 'a', 'n'): 8,\n",
              "         ('n', 'h', 'o'): 2,\n",
              "         ('d', 'p', 'a'): 1,\n",
              "         ('p', 'a', 'r'): 8,\n",
              "         ('t', 'e', 'n'): 21,\n",
              "         ('r', 'b', 'e'): 17,\n",
              "         ('n', 'd', 'c'): 1,\n",
              "         ('a', 'i', 'n'): 3,\n",
              "         ('r', 'p', 'd'): 2,\n",
              "         ('p', 'd', 'e'): 2,\n",
              "         ('d', 'i', 's'): 7,\n",
              "         ('k', 'e', 's'): 1,\n",
              "         ('s', 'u', 'b'): 2,\n",
              "         ('u', 'b', 'k'): 1,\n",
              "         ('b', 'k', 'o'): 1,\n",
              "         ('o', 'n', 't'): 5,\n",
              "         ('n', 't', 'i'): 34,\n",
              "         ('i', 'n', 'e'): 9,\n",
              "         ('n', 'e', 'n'): 25,\n",
              "         ('t', 'h', 'o'): 2,\n",
              "         ('e', 'd', 'r'): 7,\n",
              "         ('d', 'r', 's'): 2,\n",
              "         ('r', 's', 'a'): 11,\n",
              "         ('s', 'a', 'g'): 4,\n",
              "         ('d', 's', 'n'): 2,\n",
              "         ('s', 'n', 'e'): 9,\n",
              "         ('e', 'd', 'g'): 3,\n",
              "         ('d', 'g', 'a'): 6,\n",
              "         ('e', 'l', 'g'): 5,\n",
              "         ('l', 'g', 'g'): 6,\n",
              "         ('r', 'a', 'g'): 6,\n",
              "         ('a', 'g', 'm'): 5,\n",
              "         ('g', 'm', 'e'): 10,\n",
              "         ('n', 't', 'e'): 13,\n",
              "         ('g', 'a', 'f'): 7,\n",
              "         ('a', 'f', 'l'): 6,\n",
              "         ('a', 'm', 't'): 7,\n",
              "         ('m', 't', 'k'): 1,\n",
              "         ('t', 'k', 'r'): 6,\n",
              "         ('k', 'r', 'y'): 7,\n",
              "         ('r', 'y', 'b'): 5,\n",
              "         ('y', 'b', 's'): 5,\n",
              "         ('b', 's', 'k'): 5,\n",
              "         ('s', 'k', 'y'): 10,\n",
              "         ('k', 'y', 't'): 8,\n",
              "         ('i', 's', 't'): 20,\n",
              "         ('t', 'r', 'r'): 16,\n",
              "         ('r', 'r', 'e'): 22,\n",
              "         ('t', 'a', 'r'): 4,\n",
              "         ('r', 'e', 'a'): 14,\n",
              "         ('e', 'a', 'l'): 4,\n",
              "         ('a', 'l', 'h'): 3,\n",
              "         ('l', 'h', 'v'): 2,\n",
              "         ('h', 'v', 'o'): 18,\n",
              "         ('v', 'o', 'r'): 19,\n",
              "         ('o', 'r', 'd'): 20,\n",
              "         ('r', 'e', 'v'): 6,\n",
              "         ('e', 'v', 'u'): 2,\n",
              "         ('a', 't', 'v'): 8,\n",
              "         ('e', 'm', 'i'): 5,\n",
              "         ('n', 'd', 'r'): 29,\n",
              "         ('d', 'r', 'e'): 29,\n",
              "         ('e', 'e', 'n'): 24,\n",
              "         ('n', 'd', 'k'): 4,\n",
              "         ('d', 'k', 'm'): 2,\n",
              "         ('k', 'm', 'e'): 6,\n",
              "         ('n', 'g', 'p'): 5,\n",
              "         ('g', 'p', 'i'): 2,\n",
              "         ('p', 'i', 'f'): 2,\n",
              "         ('i', 'f', 'o'): 6,\n",
              "         ('o', 'r', 'h'): 11,\n",
              "         ('r', 'h', 'o'): 10,\n",
              "         ('h', 'o', 'l'): 14,\n",
              "         ('o', 'l', 'd'): 13,\n",
              "         ('l', 'd', 't'): 6,\n",
              "         ('l', 'm', 'i'): 4,\n",
              "         ('m', 'i', 'd'): 4,\n",
              "         ('d', 't', 'e'): 7,\n",
              "         ('a', 'f', 'e'): 2,\n",
              "         ('f', 'e', 'r'): 2,\n",
              "         ('r', 'e', 'k'): 21,\n",
              "         ('e', 'r', 'v'): 16,\n",
              "         ('r', 'v', 'a'): 6,\n",
              "         ('a', 'r', 'i'): 6,\n",
              "         ('r', 'i', 'e'): 20,\n",
              "         ('i', 'e', 'r'): 16,\n",
              "         ('t', 'i', 's'): 10,\n",
              "         ('s', 'e', 'e'): 2,\n",
              "         ('n', 'd', 'n'): 4,\n",
              "         ('d', 'n', 'u'): 3,\n",
              "         ('n', 'u', 'm'): 3,\n",
              "         ('u', 'm', 'e'): 4,\n",
              "         ('n', 'd', 'l'): 1,\n",
              "         ('d', 'l', 'v'): 2,\n",
              "         ('l', 'v', 'e'): 14,\n",
              "         ('v', 'e', 'n'): 17,\n",
              "         ('b', 'e', 'n'): 14,\n",
              "         ('g', 'a', 'l'): 6,\n",
              "         ('a', 'l', 's'): 5,\n",
              "         ('l', 's', 'k'): 4,\n",
              "         ('k', 'e', 'o'): 1,\n",
              "         ('g', 's', 'i'): 2,\n",
              "         ('k', 'e', 'u'): 3,\n",
              "         ('e', 'u', 'n'): 11,\n",
              "         ('e', 'h', 'j'): 2,\n",
              "         ('j', 'e', 's'): 2,\n",
              "         ('e', 'o', 'v'): 3,\n",
              "         ('r', 's', 'k'): 10,\n",
              "         ('s', 'k', 'u'): 7,\n",
              "         ('k', 'u', 'l'): 8,\n",
              "         ('u', 'l', 'd'): 10,\n",
              "         ('e', 'n', 'o'): 14,\n",
              "         ('o', 'g', 'a'): 7,\n",
              "         ('a', 'n', 's'): 16,\n",
              "         ('n', 's', 'e'): 10,\n",
              "         ('e', 's', 'd'): 6,\n",
              "         ('s', 'd', 'e'): 13,\n",
              "         ('r', 'f', 'o'): 17,\n",
              "         ('o', 'r', 's'): 15,\n",
              "         ('o', 'm', 'd'): 5,\n",
              "         ('m', 'd', 'e'): 7,\n",
              "         ('n', 'u', 'l'): 4,\n",
              "         ('u', 'l', 'e'): 8,\n",
              "         ('d', 'e', 'k'): 10,\n",
              "         ('u', 'd', 'd'): 6,\n",
              "         ('d', 'd', 'd'): 4,\n",
              "         ('k', 'a', 's'): 8,\n",
              "         ('a', 's', 'p'): 5,\n",
              "         ('s', 'p', 'i'): 6,\n",
              "         ('b', 'l', 'a'): 4,\n",
              "         ('d', 't', 'd'): 4,\n",
              "         ('r', 'n', 'o'): 9,\n",
              "         ('o', 'g', 'e'): 9,\n",
              "         ('s', 'i', 'n'): 5,\n",
              "         ('e', 'h', 'a'): 15,\n",
              "         ('k', 's', 'i'): 4,\n",
              "         ('s', 'i', 's'): 13,\n",
              "         ('e', 'm', 's'): 6,\n",
              "         ('m', 's', 'n'): 4,\n",
              "         ('s', 'n', 'i'): 8,\n",
              "         ('n', 'i', 't'): 6,\n",
              "         ('i', 't', 'l'): 2,\n",
              "         ('i', 'g', 'v'): 2,\n",
              "         ('g', 'v', 'o'): 2,\n",
              "         ('v', 'o', 'k'): 13,\n",
              "         ('o', 'k', 's'): 13,\n",
              "         ('k', 's', 'e'): 10,\n",
              "         ('h', 'a', 'n'): 35,\n",
              "         ('a', 'n', 'f'): 4,\n",
              "         ('e', 't', 'n'): 6,\n",
              "         ('t', 'n', 'o'): 2,\n",
              "         ('n', 'o', 'r'): 14,\n",
              "         ('r', 'd', 'l'): 3,\n",
              "         ('g', 'e', 'i'): 5,\n",
              "         ('d', 'i', 'e'): 12,\n",
              "         ('n', 'e', 'l'): 7,\n",
              "         ('r', 's', 'i'): 8,\n",
              "         ('n', 'v', 'e'): 8,\n",
              "         ('v', 'e', 'j'): 10,\n",
              "         ('e', 'j', 'e'): 11,\n",
              "         ('j', 'e', 'r'): 11,\n",
              "         ('r', 'o', 'm'): 4,\n",
              "         ('o', 'm', 'k'): 7,\n",
              "         ('m', 'k', 'r'): 5,\n",
              "         ('k', 'r', 'i'): 7,\n",
              "         ('n', 'g', 'k'): 1,\n",
              "         ('g', 'k', 'i'): 3,\n",
              "         ('o', 'm', 'e'): 4,\n",
              "         ('a', 'n', 'l'): 3,\n",
              "         ('n', 'l', 'v'): 4,\n",
              "         ('v', 'e', 'h'): 1,\n",
              "         ('a', 'n', 'n'): 19,\n",
              "         ('n', 'e', 'v'): 2,\n",
              "         ('e', 'v', 'a'): 4,\n",
              "         ('l', 'e', 'l'): 2,\n",
              "         ('e', 'l', 'n'): 5,\n",
              "         ('t', 'i', 'm'): 5,\n",
              "         ('i', 'm', 'e'): 5,\n",
              "         ('o', 'g', 'v'): 9,\n",
              "         ('g', 'v', 'e'): 5,\n",
              "         ('l', 'o', 'h'): 2,\n",
              "         ('o', 'h', 'u'): 2,\n",
              "         ('h', 'u', 'n'): 29,\n",
              "         ('u', 'n', 'n'): 16,\n",
              "         ('r', 'i', 'l'): 2,\n",
              "         ('i', 'l', 'n'): 3,\n",
              "         ('e', 'f', 'r'): 8,\n",
              "         ('i', 'l', 'c'): 2,\n",
              "         ('l', 'c', 'e'): 2,\n",
              "         ('r', 'f', 'r'): 11,\n",
              "         ('o', 'h', 'o'): 1,\n",
              "         ('h', 'o', 's'): 4,\n",
              "         ('o', 's', 'b'): 1,\n",
              "         ('s', 'b', 'e'): 4,\n",
              "         ('e', 'g', 'g'): 4,\n",
              "         ('e', 'k', 'n'): 3,\n",
              "         ('k', 'n', 'u'): 2,\n",
              "         ('u', 'd', 'g'): 7,\n",
              "         ('d', 'g', 'r'): 8,\n",
              "         ('g', 'r', 'h'): 2,\n",
              "         ('r', 'h', 'a'): 17,\n",
              "         ('h', 'a', 'l'): 4,\n",
              "         ('e', 'n', 'c'): 2,\n",
              "         ('n', 'c', 'i'): 1,\n",
              "         ('e', 's', 'i'): 20,\n",
              "         ('n', 'l', 'n'): 1,\n",
              "         ('e', 'p', 'm'): 1,\n",
              "         ('p', 'm', 'e'): 4,\n",
              "         ('n', 'd', 'm'): 2,\n",
              "         ('r', 'm', 'l'): 2,\n",
              "         ('m', 'l', 't'): 2,\n",
              "         ('l', 't', 'l'): 3,\n",
              "         ('t', 'l', 'a'): 1,\n",
              "         ('n', 'g', 's'): 4,\n",
              "         ('g', 's', 'r'): 1,\n",
              "         ('s', 'r', 'y'): 1,\n",
              "         ('r', 'y', 'g'): 3,\n",
              "         ('y', 'g', 'g'): 2,\n",
              "         ('n', 's', 'k'): 16,\n",
              "         ('o', 'g', 'm'): 4,\n",
              "         ('l', 't', 'i'): 9,\n",
              "         ('t', 'i', 'e'): 6,\n",
              "         ('n', 'l', 'i'): 10,\n",
              "         ('l', 'i', 'n'): 5,\n",
              "         ('i', 'n', 'j'): 1,\n",
              "         ('n', 'j', 'e'): 1,\n",
              "         ('s', 'n', 'u'): 2,\n",
              "         ('u', 'd', 'e'): 8,\n",
              "         ('o', 'g', 'h'): 9,\n",
              "         ('g', 'h', 'a'): 5,\n",
              "         ('e', 's', 'p'): 7,\n",
              "         ('p', 'i', 'd'): 1,\n",
              "         ('i', 'd', 's'): 3,\n",
              "         ('d', 's', 'd'): 2,\n",
              "         ('n', 'm', 'i'): 4,\n",
              "         ('t', 'e', 'u'): 3,\n",
              "         ('r', 't', 's'): 3,\n",
              "         ('t', 's', 'u'): 1,\n",
              "         ('a', 't', 'r'): 8,\n",
              "         ('l', 'o', 'e'): 1,\n",
              "         ('o', 'e', 'n'): 1,\n",
              "         ('s', 's', 'k'): 3,\n",
              "         ('e', 'r', 'h'): 30,\n",
              "         ('r', 'h', 'j'): 5,\n",
              "         ('h', 'j', 'd'): 1,\n",
              "         ('j', 'd', 'e'): 2,\n",
              "         ('n', 'n', 'u'): 1,\n",
              "         ('n', 'u', 'v'): 1,\n",
              "         ('u', 'v', 'r'): 1,\n",
              "         ('k', 'o', 'r'): 4,\n",
              "         ('r', 'd', 'i'): 5,\n",
              "         ('e', 'r', 'k'): 20,\n",
              "         ('l', 'o', 'f'): 1,\n",
              "         ('o', 'f', 'o'): 1,\n",
              "         ('e', 'n', 'b'): 9,\n",
              "         ('n', 'b', 'e'): 10,\n",
              "         ('s', 'k', 't'): 8,\n",
              "         ('k', 't', 'i'): 15,\n",
              "         ('k', 'u', 'd'): 2,\n",
              "         ('u', 'd', 't'): 3,\n",
              "         ('t', 'i', 'h'): 2,\n",
              "         ('i', 'h', 'o'): 1,\n",
              "         ('o', 's', 't'): 3,\n",
              "         ('g', 't', 's'): 4,\n",
              "         ('t', 's', 't'): 10,\n",
              "         ('n', 'd', 'h'): 4,\n",
              "         ('d', 'h', 'u'): 3,\n",
              "         ('e', 's', 'f'): 5,\n",
              "         ('s', 'f', 'o'): 6,\n",
              "         ('k', 'e', 'l'): 16,\n",
              "         ('e', 'm', 'h'): 3,\n",
              "         ('m', 'h', 'a'): 2,\n",
              "         ('g', 'h', 'u'): 2,\n",
              "         ('l', 'd', 's'): 8,\n",
              "         ('d', 's', 'v'): 6,\n",
              "         ('s', 'v', 'i'): 10,\n",
              "         ('v', 'i', 's'): 14,\n",
              "         ('i', 's', 's'): 9,\n",
              "         ('r', 'e', 'h'): 12,\n",
              "         ('o', 's', 'd'): 1,\n",
              "         ('r', 'e', 'u'): 8,\n",
              "         ('r', 'h', 'v'): 11,\n",
              "         ('a', 'n', 'v'): 7,\n",
              "         ('j', 'e', 'p'): 2,\n",
              "         ('e', 'p', 'r'): 3,\n",
              "         ('n', 't', 'm'): 1,\n",
              "         ('a', 'r', 'o'): 3,\n",
              "         ('g', 's', 'b'): 1,\n",
              "         ('s', 'b', 'r'): 2,\n",
              "         ('r', 'e', 'f'): 16,\n",
              "         ('o', 'r', 'p'): 3,\n",
              "         ('p', 'o', 't'): 4,\n",
              "         ('o', 't', 'e'): 6,\n",
              "         ('h', 'v', 'i'): 13,\n",
              "         ('v', 'i', 'l'): 22,\n",
              "         ('t', 'm', 'u'): 4,\n",
              "         ('m', 'u', 'l'): 4,\n",
              "         ('u', 'l', 'i'): 4,\n",
              "         ('g', 'g', 'r'): 1,\n",
              "         ('l', 'n', 'e'): 1,\n",
              "         ('a', 'n', 'o'): 2,\n",
              "         ('u', 'n', 'i'): 3,\n",
              "         ('i', 't', 'i'): 8,\n",
              "         ('n', 's', 'f'): 4,\n",
              "         ('f', 'o', 'd'): 3,\n",
              "         ('o', 'd', 'a'): 1,\n",
              "         ('d', 'a', 'f'): 6,\n",
              "         ('f', 't', 'r'): 2,\n",
              "         ('t', 'r', 'y'): 2,\n",
              "         ('r', 'y', 'k'): 1,\n",
              "         ('y', 'k', 'e'): 1,\n",
              "         ('n', 'k', 'r'): 2,\n",
              "         ('n', 'g', 'm'): 2,\n",
              "         ('v', 'e', 'o'): 4,\n",
              "         ('n', 'h', 'u'): 9,\n",
              "         ('u', 'n', 't'): 9,\n",
              "         ('n', 'd', 'b'): 6,\n",
              "         ('d', 'b', 'd'): 1,\n",
              "         ('b', 'd', 'e'): 2,\n",
              "         ('g', 'l', 'v'): 1,\n",
              "         ('v', 'e', 'u'): 1,\n",
              "         ...})"
            ]
          },
          "metadata": {},
          "execution_count": 27
        }
      ]
    },
    {
      "cell_type": "code",
      "source": [
        "gy1=Counter(ngrams(y1,3)) #for obtaining a trigram\n",
        "plothistogram(gy1)\n",
        "plt.title(\"AFRIKAANS\")\n",
        "plt.show()\n"
      ],
      "metadata": {
        "colab": {
          "base_uri": "https://localhost:8080/",
          "height": 281
        },
        "id": "e0UnwbiO6BlN",
        "outputId": "1cf9ef37-90ea-4b22-cbc9-c4858a5a5a68"
      },
      "execution_count": 28,
      "outputs": [
        {
          "output_type": "display_data",
          "data": {
            "text/plain": [
              "<Figure size 432x288 with 1 Axes>"
            ],
            "image/png": "[encoded data removed]"
          },
          "metadata": {
            "needs_background": "light"
          }
        }
      ]
    },
    {
      "cell_type": "code",
      "source": [
        "gy1"
      ],
      "metadata": {
        "colab": {
          "base_uri": "https://localhost:8080/"
        },
        "id": "XdFyd61N7tuQ",
        "outputId": "a82f1882-5ebb-4172-922b-228cd99d2de0"
      },
      "execution_count": 29,
      "outputs": [
        {
          "output_type": "execute_result",
          "data": {
            "text/plain": [
              "Counter({('f', 'o', 'r'): 80,\n",
              "         ('o', 'r', 'a'): 11,\n",
              "         ('r', 'a', 'l'): 8,\n",
              "         ('a', 'l', 't'): 15,\n",
              "         ('l', 't', 'e'): 7,\n",
              "         ('t', 'e', 'r'): 102,\n",
              "         ('e', 'r', 'n'): 45,\n",
              "         ('r', 'n', 'a'): 5,\n",
              "         ('n', 'a', 't'): 21,\n",
              "         ('a', 't', 'i'): 34,\n",
              "         ('t', 'i', 'v'): 6,\n",
              "         ('i', 'v', 'e'): 24,\n",
              "         ('v', 'e', 'b'): 2,\n",
              "         ('e', 'b', 'e'): 19,\n",
              "         ('b', 'e', 't'): 17,\n",
              "         ('e', 't', 'y'): 7,\n",
              "         ('t', 'y', 'd'): 6,\n",
              "         ('y', 'd', 'n'): 2,\n",
              "         ('d', 'n', 'i'): 4,\n",
              "         ('n', 'i', 'n'): 18,\n",
              "         ('i', 'n', 'g'): 47,\n",
              "         ('n', 'g', 'e'): 69,\n",
              "         ('g', 'e', 'r'): 149,\n",
              "         ('e', 'r', 's'): 46,\n",
              "         ('r', 's', 'e'): 3,\n",
              "         ('s', 'e', 't'): 15,\n",
              "         ('e', 't', 'i'): 63,\n",
              "         ('t', 'i', 'g'): 146,\n",
              "         ('i', 'g', 'e'): 123,\n",
              "         ('e', 'r', 'f'): 32,\n",
              "         ('r', 'f', 'l'): 4,\n",
              "         ('f', 'l', 'e'): 15,\n",
              "         ('l', 'e', 'r'): 53,\n",
              "         ('e', 'r', 't'): 39,\n",
              "         ('r', 't', 'y'): 2,\n",
              "         ('y', 'd', 'i'): 1,\n",
              "         ('d', 'i', 'g'): 8,\n",
              "         ('i', 'g', 's'): 4,\n",
              "         ('g', 's', 'e'): 5,\n",
              "         ('s', 'e', 'o'): 9,\n",
              "         ('e', 'o', 'g'): 48,\n",
              "         ('o', 'g', 's'): 29,\n",
              "         ('g', 's', 'a'): 4,\n",
              "         ('s', 'a', 'r'): 1,\n",
              "         ('a', 'r', 't'): 16,\n",
              "         ('r', 't', 'i'): 46,\n",
              "         ('t', 'i', 'k'): 8,\n",
              "         ('i', 'k', 'l'): 2,\n",
              "         ('k', 'l', 'e'): 4,\n",
              "         ('r', 's', 'o'): 10,\n",
              "         ('s', 'o', 'm'): 25,\n",
              "         ('o', 'm', 'b'): 1,\n",
              "         ('m', 'b', 'e'): 3,\n",
              "         ('b', 'e', 'g'): 15,\n",
              "         ('e', 'g', 'y'): 8,\n",
              "         ('g', 'y', 'n'): 9,\n",
              "         ('y', 'n', 'd'): 9,\n",
              "         ('n', 'd', 'e'): 123,\n",
              "         ('d', 'e', 'r'): 150,\n",
              "         ('e', 'r', 'm'): 30,\n",
              "         ('r', 'm', 'e'): 31,\n",
              "         ('m', 'e', 'd'): 49,\n",
              "         ('e', 'd', 't'): 12,\n",
              "         ('d', 't', 'i'): 27,\n",
              "         ('e', 'r', 'e'): 188,\n",
              "         ('r', 'e', 'n'): 83,\n",
              "         ('e', 'n', 'l'): 13,\n",
              "         ('n', 'l', 'a'): 1,\n",
              "         ('l', 'a', 't'): 21,\n",
              "         ('t', 'i', 'n'): 9,\n",
              "         ('i', 'n', 'p'): 1,\n",
              "         ('n', 'p', 'a'): 2,\n",
              "         ('p', 'a', 'n'): 11,\n",
              "         ('a', 'n', 't'): 28,\n",
              "         ('n', 't', 'h'): 12,\n",
              "         ('t', 'h', 'e'): 12,\n",
              "         ('h', 'e', 'r'): 14,\n",
              "         ('e', 'r', 'a'): 50,\n",
              "         ('r', 'a', 't'): 33,\n",
              "         ('i', 'g', 'r'): 66,\n",
              "         ('g', 'r', 'i'): 19,\n",
              "         ('r', 'i', 's'): 30,\n",
              "         ('i', 's', 'e'): 7,\n",
              "         ('s', 'e', 'r'): 14,\n",
              "         ('e', 'r', 'd'): 66,\n",
              "         ('r', 'd', 'e'): 109,\n",
              "         ('d', 'e', 'n'): 93,\n",
              "         ('e', 'n', 's'): 60,\n",
              "         ('n', 's', 't'): 19,\n",
              "         ('s', 't', 'r'): 31,\n",
              "         ('t', 'r', 's'): 5,\n",
              "         ('r', 's', 't'): 19,\n",
              "         ('s', 't', 'e'): 70,\n",
              "         ('t', 'e', 'k'): 5,\n",
              "         ('e', 'k', 'a'): 22,\n",
              "         ('k', 'a', 't'): 9,\n",
              "         ('a', 't', 't'): 17,\n",
              "         ('t', 't', 'e'): 74,\n",
              "         ('t', 'e', 'a'): 6,\n",
              "         ('e', 'a', 'r'): 4,\n",
              "         ('r', 't', 'm'): 2,\n",
              "         ('t', 'm', 'e'): 22,\n",
              "         ('e', 'd', 'e'): 109,\n",
              "         ('e', 'n', 't'): 45,\n",
              "         ('n', 't', 'o'): 4,\n",
              "         ('t', 'o', 't'): 3,\n",
              "         ('o', 't', 'a'): 3,\n",
              "         ('t', 'a', 'l'): 21,\n",
              "         ('a', 'l', 'k'): 2,\n",
              "         ('l', 'k', 'r'): 1,\n",
              "         ('k', 'r', 'o'): 6,\n",
              "         ('r', 'o', 'p'): 12,\n",
              "         ('o', 'p', 's'): 7,\n",
              "         ('p', 's', 'l'): 1,\n",
              "         ('s', 'l', 'n'): 1,\n",
              "         ('l', 'n', 'g'): 8,\n",
              "         ('n', 'g', 'd'): 10,\n",
              "         ('g', 'd', 'e'): 23,\n",
              "         ('d', 'e', 'p'): 5,\n",
              "         ('e', 'p', 'o'): 2,\n",
              "         ('p', 'o', 'p'): 3,\n",
              "         ('o', 'p', 't'): 11,\n",
              "         ('p', 't', 'i'): 10,\n",
              "         ('t', 'i', 'l'): 84,\n",
              "         ('i', 'l', 'm'): 6,\n",
              "         ('l', 'm', 'e'): 8,\n",
              "         ('m', 'e', 't'): 17,\n",
              "         ('e', 't', 'e'): 36,\n",
              "         ('e', 'r', 'i'): 42,\n",
              "         ('r', 'i', 'n'): 31,\n",
              "         ('i', 'n', 'k'): 3,\n",
              "         ('n', 'k', 'l'): 3,\n",
              "         ('k', 'l', 'u'): 2,\n",
              "         ('l', 'u', 's'): 2,\n",
              "         ('u', 's', 'i'): 2,\n",
              "         ('s', 'i', 'v'): 2,\n",
              "         ('v', 'e', 'k'): 1,\n",
              "         ('e', 'k', 'u'): 5,\n",
              "         ('k', 'u', 'r'): 4,\n",
              "         ('u', 'r', 'v'): 2,\n",
              "         ('r', 'v', 'e'): 15,\n",
              "         ('v', 'e', 'r'): 52,\n",
              "         ('e', 'r', 'o'): 43,\n",
              "         ('r', 'o', 'g'): 37,\n",
              "         ('o', 'g', 'i'): 7,\n",
              "         ('g', 'i', 'e'): 2,\n",
              "         ('i', 'e', 'k'): 1,\n",
              "         ('e', 'k', 's'): 16,\n",
              "         ('k', 's', 't'): 4,\n",
              "         ('t', 'r', 'e'): 11,\n",
              "         ('r', 'e', 'm'): 11,\n",
              "         ('e', 'm', 'e'): 30,\n",
              "         ('i', 'l', 'f'): 12,\n",
              "         ('l', 'f', 'l'): 6,\n",
              "         ('f', 'l', 'd'): 5,\n",
              "         ('l', 'd', 'e'): 26,\n",
              "         ('d', 'e', 'm'): 12,\n",
              "         ('e', 'n', 'v'): 16,\n",
              "         ('n', 'v', 'g'): 1,\n",
              "         ('v', 'g', 't'): 2,\n",
              "         ('g', 't', 'p'): 2,\n",
              "         ('t', 'p', 'o'): 2,\n",
              "         ('i', 'l', 'k'): 15,\n",
              "         ('l', 'k', 'i'): 8,\n",
              "         ('k', 'i', 'l'): 13,\n",
              "         ('i', 'l', 'o'): 12,\n",
              "         ('l', 'o', 'i'): 1,\n",
              "         ('o', 'i', 'n'): 1,\n",
              "         ('i', 'n', 'a'): 18,\n",
              "         ('a', 't', 'u'): 21,\n",
              "         ('t', 'u', 'r'): 17,\n",
              "         ('u', 'r', 'e'): 12,\n",
              "         ('e', 'n', 'd'): 79,\n",
              "         ('d', 'e', 't'): 76,\n",
              "         ('e', 't', 'm'): 19,\n",
              "         ('m', 'e', 's'): 5,\n",
              "         ('e', 's', 't'): 72,\n",
              "         ('s', 't', 'g'): 2,\n",
              "         ('t', 'g', 'e'): 2,\n",
              "         ('g', 'e', 'n'): 39,\n",
              "         ('e', 'n', 'k'): 16,\n",
              "         ('n', 'k', 'e'): 7,\n",
              "         ('k', 'e', 'n'): 16,\n",
              "         ('d', 'e', 'l'): 57,\n",
              "         ('e', 'l', 'i'): 21,\n",
              "         ('l', 'i', 'g'): 73,\n",
              "         ('g', 'e', 't'): 12,\n",
              "         ('e', 't', 'r'): 13,\n",
              "         ('t', 'r', 'k'): 10,\n",
              "         ('r', 'k', 'v'): 2,\n",
              "         ('k', 'v', 'e'): 1,\n",
              "         ('v', 'e', 'd'): 22,\n",
              "         ('e', 'n', 'e'): 52,\n",
              "         ('n', 'e', 'r'): 62,\n",
              "         ('e', 'r', 'p'): 27,\n",
              "         ('r', 'p', 'e'): 3,\n",
              "         ('p', 'e', 'l'): 7,\n",
              "         ('e', 'l', 's'): 37,\n",
              "         ('l', 's', 'e'): 37,\n",
              "         ('s', 'e', 'n'): 27,\n",
              "         ('e', 'n', 'm'): 17,\n",
              "         ('n', 'm', 'e'): 12,\n",
              "         ('e', 'd', 'm'): 9,\n",
              "         ('d', 'm', 'r'): 1,\n",
              "         ('m', 'r', 'k'): 2,\n",
              "         ('r', 'k', 'e'): 11,\n",
              "         ('k', 'e', 't'): 26,\n",
              "         ('e', 't', 'v'): 9,\n",
              "         ('t', 'v', 'r'): 9,\n",
              "         ('v', 'r', 's'): 1,\n",
              "         ('t', 'r', 'i'): 2,\n",
              "         ('r', 'i', 'b'): 7,\n",
              "         ('i', 'b', 'e'): 14,\n",
              "         ('b', 'e', 'r'): 13,\n",
              "         ('r', 'p', 'o'): 3,\n",
              "         ('p', 'o', 'r'): 4,\n",
              "         ('r', 'a', 'n'): 15,\n",
              "         ('a', 'n', 'g'): 54,\n",
              "         ('g', 'e', 'b'): 8,\n",
              "         ('e', 'b', 'u'): 1,\n",
              "         ('b', 'u', 'n'): 1,\n",
              "         ('u', 'n', 'd'): 29,\n",
              "         ('n', 'd', 't'): 20,\n",
              "         ('g', 'r', 'e'): 73,\n",
              "         ('r', 'e', 'e'): 26,\n",
              "         ('e', 'e', 'r'): 25,\n",
              "         ('r', 's', 'u'): 4,\n",
              "         ('s', 'u', 'p'): 1,\n",
              "         ('u', 'p', 'e'): 1,\n",
              "         ('p', 'e', 'r'): 6,\n",
              "         ('e', 'r', 'r'): 24,\n",
              "         ('r', 'r', 'o'): 1,\n",
              "         ('r', 'o', 'v'): 15,\n",
              "         ('o', 'v', 'd'): 11,\n",
              "         ('v', 'd', 'y'): 11,\n",
              "         ('d', 'y', 'r'): 39,\n",
              "         ('y', 'r', 'd'): 8,\n",
              "         ('i', 's', 'r'): 5,\n",
              "         ('s', 'r', 'l'): 2,\n",
              "         ('r', 'l', 'e'): 7,\n",
              "         ('l', 'e', 'v'): 48,\n",
              "         ('e', 'v', 'e'): 42,\n",
              "         ('r', 'a', 'f'): 18,\n",
              "         ('a', 'f', 'h'): 8,\n",
              "         ('f', 'h', 'o'): 2,\n",
              "         ('h', 'o', 'v'): 8,\n",
              "         ('y', 'r', 's'): 6,\n",
              "         ('r', 's', 's'): 4,\n",
              "         ('s', 's', 'o'): 3,\n",
              "         ('o', 'm', 'h'): 4,\n",
              "         ('m', 'h', 'j'): 1,\n",
              "         ('h', 'j', 'o'): 10,\n",
              "         ('j', 'o', 'r'): 13,\n",
              "         ('o', 'r', 't'): 25,\n",
              "         ('r', 't', 'e'): 24,\n",
              "         ('t', 'e', 'o'): 3,\n",
              "         ('g', 's', 'k'): 5,\n",
              "         ('s', 'k', 'e'): 61,\n",
              "         ('k', 'e', 'd'): 14,\n",
              "         ('d', 'e', 'h'): 8,\n",
              "         ('e', 'h', 'o'): 5,\n",
              "         ('h', 'o', 'r'): 4,\n",
              "         ('o', 'r', 'n'): 7,\n",
              "         ('r', 'n', 'e'): 35,\n",
              "         ('n', 'e', 'd'): 14,\n",
              "         ('d', 'e', 'd'): 18,\n",
              "         ('d', 'e', 'e'): 24,\n",
              "         ('r', 'r', 'i'): 25,\n",
              "         ('r', 'i', 't'): 19,\n",
              "         ('i', 't', 'o'): 17,\n",
              "         ('t', 'o', 'r'): 34,\n",
              "         ('o', 'r', 'i'): 19,\n",
              "         ('r', 'i', 'a'): 2,\n",
              "         ('i', 'a', 'l'): 4,\n",
              "         ('a', 'l', 'e'): 23,\n",
              "         ('l', 'e', 'o'): 7,\n",
              "         ('o', 'g', 'j'): 1,\n",
              "         ('g', 'j', 'a'): 1,\n",
              "         ('j', 'a', 'g'): 14,\n",
              "         ('a', 'g', 'e'): 33,\n",
              "         ('e', 'r', 'g'): 13,\n",
              "         ('r', 'g', 'e'): 6,\n",
              "         ('r', 'e', 'l'): 26,\n",
              "         ('e', 'l', 't'): 15,\n",
              "         ('l', 't', 'a'): 8,\n",
              "         ('l', 'e', 'n'): 14,\n",
              "         ('n', 'e', 'm'): 10,\n",
              "         ('m', 'e', 'n'): 66,\n",
              "         ('n', 'k', 'a'): 5,\n",
              "         ('k', 'a', 'n'): 29,\n",
              "         ('a', 'n', 'u'): 2,\n",
              "         ('n', 'u', 'n'): 5,\n",
              "         ('t', 'i', 'd'): 20,\n",
              "         ('i', 'd', 'e'): 43,\n",
              "         ('n', 'v', 'r'): 6,\n",
              "         ('v', 'r', 'e'): 19,\n",
              "         ('r', 'e', 's'): 44,\n",
              "         ('e', 's', 'o'): 14,\n",
              "         ('s', 'o', 'c'): 2,\n",
              "         ('o', 'c', 'i'): 2,\n",
              "         ('c', 'i', 'a'): 2,\n",
              "         ('o', 'g', 'k'): 9,\n",
              "         ('g', 'k', 'r'): 4,\n",
              "         ('k', 'r', 'v'): 4,\n",
              "         ('o', 'm', 'r'): 19,\n",
              "         ('m', 'r', 'e'): 3,\n",
              "         ('r', 'e', 'g'): 9,\n",
              "         ('e', 'g', 'e'): 13,\n",
              "         ('g', 'e', 'l'): 18,\n",
              "         ('l', 's', 'a'): 1,\n",
              "         ('s', 'a', 'm'): 20,\n",
              "         ('a', 'm', 'm'): 8,\n",
              "         ('m', 'm', 'e'): 25,\n",
              "         ('e', 'n', 'h'): 29,\n",
              "         ('n', 'h', 'n'): 1,\n",
              "         ('h', 'n', 'g'): 4,\n",
              "         ('d', 'e', 'o'): 19,\n",
              "         ('e', 'o', 'm'): 12,\n",
              "         ('m', 'r', 'd'): 16,\n",
              "         ('i', 'l', 'g'): 2,\n",
              "         ('l', 'g', 'o'): 1,\n",
              "         ('g', 'o', 'd'): 3,\n",
              "         ('o', 'd', 'e'): 8,\n",
              "         ('d', 'e', 's'): 39,\n",
              "         ('e', 's', 'e'): 14,\n",
              "         ('e', 's', 'b'): 10,\n",
              "         ('s', 'b', 'y'): 11,\n",
              "         ('b', 'y', 't'): 37,\n",
              "         ('y', 't', 't'): 46,\n",
              "         ('t', 'e', 'd'): 47,\n",
              "         ('e', 'd', 'y'): 21,\n",
              "         ('e', 't', 't'): 22,\n",
              "         ('t', 'e', 's'): 16,\n",
              "         ('e', 's', 'a'): 8,\n",
              "         ('e', 'd', 'd'): 7,\n",
              "         ('d', 'd', 'e'): 21,\n",
              "         ('e', 't', 'f'): 15,\n",
              "         ('t', 'f', 'a'): 6,\n",
              "         ('f', 'a', 'k'): 1,\n",
              "         ('a', 'k', 't'): 8,\n",
              "         ('k', 't', 'u'): 1,\n",
              "         ('t', 'u', 'm'): 1,\n",
              "         ('u', 'm', 'a'): 7,\n",
              "         ('m', 'a', 't'): 11,\n",
              "         ('a', 't', 'd'): 12,\n",
              "         ('t', 'd', 'e'): 25,\n",
              "         ('u', 'r', 'l'): 3,\n",
              "         ('r', 'l', 'i'): 12,\n",
              "         ('i', 'g', 't'): 20,\n",
              "         ('g', 't', 'h'): 3,\n",
              "         ('t', 'h', 'j'): 1,\n",
              "         ('h', 'j', 'e'): 3,\n",
              "         ('j', 'e', 'm'): 2,\n",
              "         ('e', 'm', 'm'): 3,\n",
              "         ('m', 'e', 'h'): 1,\n",
              "         ('e', 'h', 'r'): 1,\n",
              "         ('h', 'r', 'e'): 1,\n",
              "         ('d', 'e', 'i'): 12,\n",
              "         ('e', 'i', 'n'): 20,\n",
              "         ('i', 'n', 'o'): 5,\n",
              "         ('n', 'o', 'g'): 25,\n",
              "         ('o', 'g', 'l'): 12,\n",
              "         ('g', 'l', 'e'): 10,\n",
              "         ('l', 'e', 'a'): 7,\n",
              "         ('e', 'a', 'f'): 14,\n",
              "         ('a', 'f', 'd'): 23,\n",
              "         ('f', 'd', 'e'): 29,\n",
              "         ('t', 't', 't'): 3,\n",
              "         ('s', 't', 'b'): 4,\n",
              "         ('t', 'b', 'e'): 6,\n",
              "         ('b', 'e', 'f'): 3,\n",
              "         ('e', 'f', 'o'): 19,\n",
              "         ('f', 'o', 'l'): 4,\n",
              "         ('o', 'l', 'k'): 4,\n",
              "         ('l', 'k', 'e'): 11,\n",
              "         ('e', 'l', 'e'): 25,\n",
              "         ('a', 'f', 'v'): 5,\n",
              "         ('f', 'v', 'e'): 3,\n",
              "         ('n', 'h', 'a'): 15,\n",
              "         ('h', 'a', 'r'): 24,\n",
              "         ('a', 'r', 'm'): 3,\n",
              "         ('e', 'd', 'f'): 6,\n",
              "         ('d', 'f', 'r'): 5,\n",
              "         ('f', 'r', 't'): 4,\n",
              "         ('r', 't', 'b'): 2,\n",
              "         ('y', 'd', 'e'): 4,\n",
              "         ('g', 'e', 'k'): 8,\n",
              "         ('e', 'k', 'o'): 6,\n",
              "         ('k', 'o', 'n'): 12,\n",
              "         ('o', 'n', 'f'): 2,\n",
              "         ('n', 'f', 'l'): 2,\n",
              "         ('f', 'l', 'i'): 1,\n",
              "         ('l', 'i', 'k'): 1,\n",
              "         ('i', 'k', 't'): 1,\n",
              "         ('k', 't', 'e'): 3,\n",
              "         ('d', 'm', 'e'): 6,\n",
              "         ('e', 'n', 'n'): 40,\n",
              "         ('n', 'n', 'e'): 72,\n",
              "         ('n', 'e', 's'): 45,\n",
              "         ('e', 's', 'k'): 36,\n",
              "         ('k', 'e', 'r'): 33,\n",
              "         ('r', 'i', 'd'): 9,\n",
              "         ('e', 't', 's'): 18,\n",
              "         ('t', 's', 'y'): 4,\n",
              "         ('s', 'y', 'd'): 6,\n",
              "         ('y', 'd', 'l'): 1,\n",
              "         ('d', 'l', 'i'): 9,\n",
              "         ('e', 'b', 'a'): 1,\n",
              "         ('b', 'a', 'n'): 6,\n",
              "         ('n', 'g', 'l'): 5,\n",
              "         ('g', 'l', 'a'): 4,\n",
              "         ('l', 'a', 'd'): 5,\n",
              "         ('a', 'd', 'e'): 11,\n",
              "         ('e', 's', 'h'): 4,\n",
              "         ('s', 'h', 'b'): 1,\n",
              "         ('h', 'b', 'l'): 1,\n",
              "         ('b', 'l', 'e'): 24,\n",
              "         ('e', 'v', 'm'): 2,\n",
              "         ('v', 'm', 'i'): 2,\n",
              "         ('m', 'i', 'n'): 20,\n",
              "         ('i', 'n', 'd'): 75,\n",
              "         ('n', 'd', 's'): 12,\n",
              "         ('d', 's', 't'): 11,\n",
              "         ('s', 't', 'p'): 1,\n",
              "         ('t', 'p', 'e'): 1,\n",
              "         ('s', 'o', 'n'): 5,\n",
              "         ('o', 'n', 'e'): 12,\n",
              "         ('r', 'd', 'r'): 3,\n",
              "         ('d', 'r', 'b'): 8,\n",
              "         ('r', 'b', 't'): 5,\n",
              "         ('b', 't', 'a'): 2,\n",
              "         ('t', 'a', 'f'): 20,\n",
              "         ('a', 'f', 't'): 22,\n",
              "         ('f', 't', 'i'): 13,\n",
              "         ('r', 'e', 'r'): 46,\n",
              "         ('e', 'r', 'l'): 15,\n",
              "         ('g', 't', 'f'): 5,\n",
              "         ('t', 'f', 'r'): 12,\n",
              "         ('f', 'r', 'e'): 6,\n",
              "         ('e', 'm', 't'): 2,\n",
              "         ('m', 't', 'i'): 8,\n",
              "         ('i', 'l', 'r'): 2,\n",
              "         ('l', 'r', 't'): 1,\n",
              "         ('n', 'v', 'a'): 4,\n",
              "         ('v', 'a', 'r'): 19,\n",
              "         ('a', 'r', 'e'): 18,\n",
              "         ('e', 'n', 'g'): 13,\n",
              "         ('n', 'g', 'a'): 15,\n",
              "         ('g', 'a', 'n'): 14,\n",
              "         ('n', 'g', 'v'): 3,\n",
              "         ('g', 'v', 'i'): 4,\n",
              "         ('v', 'i', 'd'): 17,\n",
              "         ('i', 'd', 't'): 6,\n",
              "         ('d', 't', 'u'): 1,\n",
              "         ('t', 'u', 'd'): 6,\n",
              "         ('u', 'd', 'b'): 9,\n",
              "         ('d', 'b', 'r'): 10,\n",
              "         ('b', 'r', 'e'): 14,\n",
              "         ('r', 'e', 'd'): 40,\n",
              "         ('t', 'i', 'a'): 1,\n",
              "         ('i', 'a', 's'): 2,\n",
              "         ('a', 's', 'i'): 9,\n",
              "         ('s', 'i', 'e'): 7,\n",
              "         ('i', 'e', 'n'): 27,\n",
              "         ('e', 'n', 'f'): 11,\n",
              "         ('n', 'f', 'r'): 4,\n",
              "         ('f', 'r', 'a'): 32,\n",
              "         ('a', 't', 'y'): 1,\n",
              "         ('t', 'y', 'r'): 2,\n",
              "         ('y', 'r', 'k'): 3,\n",
              "         ('r', 'k', 'i'): 3,\n",
              "         ('k', 'i', 'e'): 1,\n",
              "         ('i', 'e', 't'): 8,\n",
              "         ('v', 'e', 's'): 22,\n",
              "         ('s', 't', 't'): 2,\n",
              "         ('t', 't', 'i'): 19,\n",
              "         ('l', 'r', 'u'): 1,\n",
              "         ('r', 'u', 's'): 7,\n",
              "         ('u', 's', 'l'): 4,\n",
              "         ('s', 'l', 'a'): 7,\n",
              "         ('l', 'a', 'n'): 19,\n",
              "         ('a', 'n', 'd'): 67,\n",
              "         ('d', 's', 's'): 5,\n",
              "         ('s', 's', 't'): 11,\n",
              "         ('s', 't', 'k'): 2,\n",
              "         ('t', 'k', 'y'): 1,\n",
              "         ('k', 'y', 's'): 1,\n",
              "         ('y', 's', 't'): 1,\n",
              "         ('s', 't', 'i'): 20,\n",
              "         ('i', 'l', 'b'): 9,\n",
              "         ('l', 'b', 'e'): 6,\n",
              "         ('e', 't', 'a'): 38,\n",
              "         ('n', 's', 'u'): 3,\n",
              "         ('s', 'u', 'd'): 6,\n",
              "         ('s', 'e', 's'): 10,\n",
              "         ('e', 'd', 'u'): 8,\n",
              "         ('d', 'u', 'c'): 2,\n",
              "         ('u', 'c', 'e'): 2,\n",
              "         ('c', 'e', 'r'): 5,\n",
              "         ('r', 'e', 't'): 39,\n",
              "         ('e', 'd', 'p'): 4,\n",
              "         ('d', 'p', 'r'): 2,\n",
              "         ('p', 'r', 'o'): 5,\n",
              "         ('r', 'o', 'c'): 2,\n",
              "         ('o', 'c', 'e'): 2,\n",
              "         ('c', 'e', 'n'): 6,\n",
              "         ('t', 'o', 'g'): 11,\n",
              "         ('o', 'g', 't'): 4,\n",
              "         ('g', 't', 'i'): 8,\n",
              "         ('e', 'r', 'b'): 27,\n",
              "         ('r', 'b', 'l'): 16,\n",
              "         ('v', 'e', 't'): 9,\n",
              "         ('e', 't', 'u'): 5,\n",
              "         ('u', 'd', 'r'): 2,\n",
              "         ('d', 'r', 'y'): 2,\n",
              "         ('r', 'y', 'd'): 4,\n",
              "         ('y', 'd', 'd'): 3,\n",
              "         ('r', 'a', 'd'): 12,\n",
              "         ('y', 'd', 'v'): 1,\n",
              "         ('d', 'v', 'e'): 2,\n",
              "         ('s', 't', 'l'): 6,\n",
              "         ('t', 'l', 'i'): 16,\n",
              "         ('g', 'e', 'o'): 6,\n",
              "         ('o', 'g', 'c'): 2,\n",
              "         ('g', 'c', 'e'): 2,\n",
              "         ('n', 't', 'r'): 4,\n",
              "         ('t', 'r', 'a'): 12,\n",
              "         ('e', 'a', 's'): 4,\n",
              "         ('r', 'a', 'e'): 6,\n",
              "         ('a', 'e', 'r'): 3,\n",
              "         ('n', 'e', 'j'): 1,\n",
              "         ('e', 'j', 'a'): 7,\n",
              "         ('j', 'a', 'v'): 4,\n",
              "         ('a', 'v', 'a'): 5,\n",
              "         ('v', 'a', 'o'): 1,\n",
              "         ('a', 'o', 'g'): 3,\n",
              "         ('o', 'g', 'b'): 8,\n",
              "         ('g', 'b', 'a'): 3,\n",
              "         ('b', 'a', 'l'): 7,\n",
              "         ('a', 'l', 'i'): 6,\n",
              "         ('l', 'i', 'o'): 2,\n",
              "         ('i', 'o', 'g'): 4,\n",
              "         ('o', 'g', 'f'): 11,\n",
              "         ('g', 'f', 'r'): 6,\n",
              "         ('r', 'a', 's'): 6,\n",
              "         ('a', 's', 't'): 5,\n",
              "         ('s', 't', 'o'): 20,\n",
              "         ('o', 'r', 'e'): 33,\n",
              "         ('r', 'e', 'o'): 13,\n",
              "         ('y', 'd', 's'): 5,\n",
              "         ('g', 's', 't'): 11,\n",
              "         ('g', 'e', 'a'): 5,\n",
              "         ('e', 'n', 'i'): 18,\n",
              "         ('n', 'i', 'd'): 6,\n",
              "         ('i', 'd', 'a'): 5,\n",
              "         ('d', 'a', 'g'): 12,\n",
              "         ('e', 'n', 'u'): 13,\n",
              "         ('n', 'u', 'd'): 12,\n",
              "         ('d', 't', 'f'): 2,\n",
              "         ('n', 's', 'i'): 8,\n",
              "         ('s', 'i', 'b'): 13,\n",
              "         ('i', 'b', 'i'): 12,\n",
              "         ('b', 'i', 'r'): 12,\n",
              "         ('i', 'r', 'i'): 12,\n",
              "         ('i', 's', 'k'): 35,\n",
              "         ('t', 'a', 'j'): 2,\n",
              "         ('a', 'j', 'g'): 2,\n",
              "         ('j', 'g', 'a'): 2,\n",
              "         ('g', 'a', 't'): 2,\n",
              "         ('l', 'b', 'n'): 1,\n",
              "         ('b', 'n', 'e'): 3,\n",
              "         ('n', 'e', 'g'): 2,\n",
              "         ('e', 'g', 'r'): 10,\n",
              "         ('g', 'r', 's'): 3,\n",
              "         ('s', 's', 'l'): 1,\n",
              "         ('s', 'l', 'e'): 6,\n",
              "         ('l', 'e', 't'): 21,\n",
              "         ('g', 't', 'r'): 2,\n",
              "         ('t', 'r', 'o'): 4,\n",
              "         ('o', 'p', 'i'): 2,\n",
              "         ('p', 'i', 's'): 10,\n",
              "         ('k', 'e', 'm'): 1,\n",
              "         ('e', 'm', 'a'): 7,\n",
              "         ('m', 'a', 'n'): 12,\n",
              "         ('n', 'g', 'r'): 22,\n",
              "         ('g', 'r', 'o'): 5,\n",
              "         ('o', 'v', 'e'): 27,\n",
              "         ('e', 's', 'u'): 11,\n",
              "         ('s', 'u', 'm'): 9,\n",
              "         ('u', 'm', 'p'): 5,\n",
              "         ('m', 'p', 'e'): 10,\n",
              "         ('p', 'e', 'd'): 4,\n",
              "         ('l', 'b', 'a'): 3,\n",
              "         ('b', 'a', 'g'): 4,\n",
              "         ('g', 'e', 'v'): 6,\n",
              "         ('e', 'v', 'r'): 4,\n",
              "         ('s', 'e', 'k'): 8,\n",
              "         ('k', 's', 'u'): 2,\n",
              "         ('s', 'u', 'n'): 13,\n",
              "         ('r', 'a', 'r'): 7,\n",
              "         ('e', 't', 'k'): 7,\n",
              "         ('t', 'k', 'l'): 2,\n",
              "         ('k', 'l', 'a'): 1,\n",
              "         ('l', 'a', 's'): 1,\n",
              "         ('a', 's', 's'): 6,\n",
              "         ('s', 's', 'i'): 4,\n",
              "         ('s', 'i', 'f'): 2,\n",
              "         ('i', 'f', 'i'): 3,\n",
              "         ('f', 'i', 'c'): 3,\n",
              "         ('i', 'c', 'e'): 2,\n",
              "         ('t', 's', 'o'): 3,\n",
              "         ('o', 'm', 't'): 5,\n",
              "         ('m', 't', 'r'): 1,\n",
              "         ('t', 'r', 'u'): 9,\n",
              "         ('r', 'u', 'e'): 2,\n",
              "         ('u', 'e', 'd'): 1,\n",
              "         ('d', 'e', 'a'): 10,\n",
              "         ('a', 'f', 'i'): 2,\n",
              "         ('f', 'i', 'u'): 1,\n",
              "         ('i', 'u', 'c'): 2,\n",
              "         ('u', 'c', 'n'): 2,\n",
              "         ('c', 'n', 'd'): 1,\n",
              "         ('g', 'l', 'o'): 2,\n",
              "         ('l', 'o', 'b'): 2,\n",
              "         ('o', 'b', 'a'): 2,\n",
              "         ('l', 'e', 'b'): 5,\n",
              "         ('b', 'e', 's'): 20,\n",
              "         ('s', 't', 'a'): 21,\n",
              "         ('t', 'a', 'n'): 25,\n",
              "         ('n', 'd', 'i'): 32,\n",
              "         ('d', 'i', 'n'): 4,\n",
              "         ('n', 'v', 'u'): 1,\n",
              "         ('v', 'u', 'r'): 4,\n",
              "         ('u', 'r', 'd'): 4,\n",
              "         ('i', 'l', 'a'): 22,\n",
              "         ('a', 't', 'l'): 2,\n",
              "         ('i', 'g', 'g'): 5,\n",
              "         ('g', 'g', 'e'): 16,\n",
              "         ('g', 'e', 'm'): 2,\n",
              "         ('m', 'e', 'l'): 17,\n",
              "         ('e', 'l', 'l'): 48,\n",
              "         ('l', 'l', 'e'): 68,\n",
              "         ('l', 'e', 'm'): 23,\n",
              "         ('e', 'm', 'o'): 10,\n",
              "         ('m', 'o', 'g'): 9,\n",
              "         ('g', 'i', 'n'): 7,\n",
              "         ('d', 'i', 'v'): 13,\n",
              "         ('i', 'v', 'i'): 13,\n",
              "         ('r', 'm', 'o'): 2,\n",
              "         ('m', 'o', 'd'): 12,\n",
              "         ('o', 'd', 'c'): 1,\n",
              "         ('d', 'c', 'i'): 2,\n",
              "         ('c', 'i', 'r'): 6,\n",
              "         ('i', 'r', 'k'): 9,\n",
              "         ('r', 'k', 'a'): 16,\n",
              "         ('k', 'a', 'i'): 3,\n",
              "         ('a', 'i', 'b'): 1,\n",
              "         ('e', 'n', 'a'): 32,\n",
              "         ('n', 'a', 'f'): 25,\n",
              "         ('f', 't', 'a'): 4,\n",
              "         ('a', 'l', 'l'): 13,\n",
              "         ('e', 't', 'd'): 13,\n",
              "         ('d', 'e', 'f'): 17,\n",
              "         ('e', 'f', 'l'): 9,\n",
              "         ('l', 'e', 's'): 10,\n",
              "         ('t', 'e', 't'): 32,\n",
              "         ('d', 'e', 'b'): 8,\n",
              "         ('i', 's', 'm'): 1,\n",
              "         ('s', 'm', 'l'): 1,\n",
              "         ('m', 'l', 'o'): 1,\n",
              "         ('l', 'o', 'm'): 5,\n",
              "         ('o', 'm', 'm'): 10,\n",
              "         ('m', 'e', 'r'): 14,\n",
              "         ('i', 's', 'o'): 4,\n",
              "         ('s', 'o', 'l'): 3,\n",
              "         ('o', 'l', 'e'): 4,\n",
              "         ('r', 'a', 'h'): 2,\n",
              "         ('a', 'h', 'i'): 1,\n",
              "         ('h', 'i', 'n'): 5,\n",
              "         ('n', 'a', 'n'): 8,\n",
              "         ('n', 'h', 'o'): 2,\n",
              "         ('d', 'p', 'a'): 1,\n",
              "         ('p', 'a', 'r'): 8,\n",
              "         ('t', 'e', 'n'): 21,\n",
              "         ('r', 'b', 'e'): 17,\n",
              "         ('n', 'd', 'c'): 1,\n",
              "         ('a', 'i', 'n'): 3,\n",
              "         ('r', 'p', 'd'): 2,\n",
              "         ('p', 'd', 'e'): 2,\n",
              "         ('d', 'i', 's'): 7,\n",
              "         ('k', 'e', 's'): 1,\n",
              "         ('s', 'u', 'b'): 2,\n",
              "         ('u', 'b', 'k'): 1,\n",
              "         ('b', 'k', 'o'): 1,\n",
              "         ('o', 'n', 't'): 5,\n",
              "         ('n', 't', 'i'): 34,\n",
              "         ('i', 'n', 'e'): 9,\n",
              "         ('n', 'e', 'n'): 25,\n",
              "         ('t', 'h', 'o'): 2,\n",
              "         ('e', 'd', 'r'): 7,\n",
              "         ('d', 'r', 's'): 2,\n",
              "         ('r', 's', 'a'): 11,\n",
              "         ('s', 'a', 'g'): 4,\n",
              "         ('d', 's', 'n'): 2,\n",
              "         ('s', 'n', 'e'): 9,\n",
              "         ('e', 'd', 'g'): 3,\n",
              "         ('d', 'g', 'a'): 6,\n",
              "         ('e', 'l', 'g'): 5,\n",
              "         ('l', 'g', 'g'): 6,\n",
              "         ('r', 'a', 'g'): 6,\n",
              "         ('a', 'g', 'm'): 5,\n",
              "         ('g', 'm', 'e'): 10,\n",
              "         ('n', 't', 'e'): 13,\n",
              "         ('g', 'a', 'f'): 7,\n",
              "         ('a', 'f', 'l'): 6,\n",
              "         ('a', 'm', 't'): 7,\n",
              "         ('m', 't', 'k'): 1,\n",
              "         ('t', 'k', 'r'): 6,\n",
              "         ('k', 'r', 'y'): 7,\n",
              "         ('r', 'y', 'b'): 5,\n",
              "         ('y', 'b', 's'): 5,\n",
              "         ('b', 's', 'k'): 5,\n",
              "         ('s', 'k', 'y'): 10,\n",
              "         ('k', 'y', 't'): 8,\n",
              "         ('i', 's', 't'): 20,\n",
              "         ('t', 'r', 'r'): 16,\n",
              "         ('r', 'r', 'e'): 22,\n",
              "         ('t', 'a', 'r'): 4,\n",
              "         ('r', 'e', 'a'): 14,\n",
              "         ('e', 'a', 'l'): 4,\n",
              "         ('a', 'l', 'h'): 3,\n",
              "         ('l', 'h', 'v'): 2,\n",
              "         ('h', 'v', 'o'): 18,\n",
              "         ('v', 'o', 'r'): 19,\n",
              "         ('o', 'r', 'd'): 20,\n",
              "         ('r', 'e', 'v'): 6,\n",
              "         ('e', 'v', 'u'): 2,\n",
              "         ('a', 't', 'v'): 8,\n",
              "         ('e', 'm', 'i'): 5,\n",
              "         ('n', 'd', 'r'): 29,\n",
              "         ('d', 'r', 'e'): 29,\n",
              "         ('e', 'e', 'n'): 24,\n",
              "         ('n', 'd', 'k'): 4,\n",
              "         ('d', 'k', 'm'): 2,\n",
              "         ('k', 'm', 'e'): 6,\n",
              "         ('n', 'g', 'p'): 5,\n",
              "         ('g', 'p', 'i'): 2,\n",
              "         ('p', 'i', 'f'): 2,\n",
              "         ('i', 'f', 'o'): 6,\n",
              "         ('o', 'r', 'h'): 11,\n",
              "         ('r', 'h', 'o'): 10,\n",
              "         ('h', 'o', 'l'): 14,\n",
              "         ('o', 'l', 'd'): 13,\n",
              "         ('l', 'd', 't'): 6,\n",
              "         ('l', 'm', 'i'): 4,\n",
              "         ('m', 'i', 'd'): 4,\n",
              "         ('d', 't', 'e'): 7,\n",
              "         ('a', 'f', 'e'): 2,\n",
              "         ('f', 'e', 'r'): 2,\n",
              "         ('r', 'e', 'k'): 21,\n",
              "         ('e', 'r', 'v'): 16,\n",
              "         ('r', 'v', 'a'): 6,\n",
              "         ('a', 'r', 'i'): 6,\n",
              "         ('r', 'i', 'e'): 20,\n",
              "         ('i', 'e', 'r'): 16,\n",
              "         ('t', 'i', 's'): 10,\n",
              "         ('s', 'e', 'e'): 2,\n",
              "         ('n', 'd', 'n'): 4,\n",
              "         ('d', 'n', 'u'): 3,\n",
              "         ('n', 'u', 'm'): 3,\n",
              "         ('u', 'm', 'e'): 4,\n",
              "         ('n', 'd', 'l'): 1,\n",
              "         ('d', 'l', 'v'): 2,\n",
              "         ('l', 'v', 'e'): 14,\n",
              "         ('v', 'e', 'n'): 17,\n",
              "         ('b', 'e', 'n'): 14,\n",
              "         ('g', 'a', 'l'): 6,\n",
              "         ('a', 'l', 's'): 5,\n",
              "         ('l', 's', 'k'): 4,\n",
              "         ('k', 'e', 'o'): 1,\n",
              "         ('g', 's', 'i'): 2,\n",
              "         ('k', 'e', 'u'): 3,\n",
              "         ('e', 'u', 'n'): 11,\n",
              "         ('e', 'h', 'j'): 2,\n",
              "         ('j', 'e', 's'): 2,\n",
              "         ('e', 'o', 'v'): 3,\n",
              "         ('r', 's', 'k'): 10,\n",
              "         ('s', 'k', 'u'): 7,\n",
              "         ('k', 'u', 'l'): 8,\n",
              "         ('u', 'l', 'd'): 10,\n",
              "         ('e', 'n', 'o'): 14,\n",
              "         ('o', 'g', 'a'): 7,\n",
              "         ('a', 'n', 's'): 16,\n",
              "         ('n', 's', 'e'): 10,\n",
              "         ('e', 's', 'd'): 6,\n",
              "         ('s', 'd', 'e'): 13,\n",
              "         ('r', 'f', 'o'): 17,\n",
              "         ('o', 'r', 's'): 15,\n",
              "         ('o', 'm', 'd'): 5,\n",
              "         ('m', 'd', 'e'): 7,\n",
              "         ('n', 'u', 'l'): 4,\n",
              "         ('u', 'l', 'e'): 8,\n",
              "         ('d', 'e', 'k'): 10,\n",
              "         ('u', 'd', 'd'): 6,\n",
              "         ('d', 'd', 'd'): 4,\n",
              "         ('k', 'a', 's'): 8,\n",
              "         ('a', 's', 'p'): 5,\n",
              "         ('s', 'p', 'i'): 6,\n",
              "         ('b', 'l', 'a'): 4,\n",
              "         ('d', 't', 'd'): 4,\n",
              "         ('r', 'n', 'o'): 9,\n",
              "         ('o', 'g', 'e'): 9,\n",
              "         ('s', 'i', 'n'): 5,\n",
              "         ('e', 'h', 'a'): 15,\n",
              "         ('k', 's', 'i'): 4,\n",
              "         ('s', 'i', 's'): 13,\n",
              "         ('e', 'm', 's'): 6,\n",
              "         ('m', 's', 'n'): 4,\n",
              "         ('s', 'n', 'i'): 8,\n",
              "         ('n', 'i', 't'): 6,\n",
              "         ('i', 't', 'l'): 2,\n",
              "         ('i', 'g', 'v'): 2,\n",
              "         ('g', 'v', 'o'): 2,\n",
              "         ('v', 'o', 'k'): 13,\n",
              "         ('o', 'k', 's'): 13,\n",
              "         ('k', 's', 'e'): 10,\n",
              "         ('h', 'a', 'n'): 35,\n",
              "         ('a', 'n', 'f'): 4,\n",
              "         ('e', 't', 'n'): 6,\n",
              "         ('t', 'n', 'o'): 2,\n",
              "         ('n', 'o', 'r'): 14,\n",
              "         ('r', 'd', 'l'): 3,\n",
              "         ('g', 'e', 'i'): 5,\n",
              "         ('d', 'i', 'e'): 12,\n",
              "         ('n', 'e', 'l'): 7,\n",
              "         ('r', 's', 'i'): 8,\n",
              "         ('n', 'v', 'e'): 8,\n",
              "         ('v', 'e', 'j'): 10,\n",
              "         ('e', 'j', 'e'): 11,\n",
              "         ('j', 'e', 'r'): 11,\n",
              "         ('r', 'o', 'm'): 4,\n",
              "         ('o', 'm', 'k'): 7,\n",
              "         ('m', 'k', 'r'): 5,\n",
              "         ('k', 'r', 'i'): 7,\n",
              "         ('n', 'g', 'k'): 1,\n",
              "         ('g', 'k', 'i'): 3,\n",
              "         ('o', 'm', 'e'): 4,\n",
              "         ('a', 'n', 'l'): 3,\n",
              "         ('n', 'l', 'v'): 4,\n",
              "         ('v', 'e', 'h'): 1,\n",
              "         ('a', 'n', 'n'): 19,\n",
              "         ('n', 'e', 'v'): 2,\n",
              "         ('e', 'v', 'a'): 4,\n",
              "         ('l', 'e', 'l'): 2,\n",
              "         ('e', 'l', 'n'): 5,\n",
              "         ('t', 'i', 'm'): 5,\n",
              "         ('i', 'm', 'e'): 5,\n",
              "         ('o', 'g', 'v'): 9,\n",
              "         ('g', 'v', 'e'): 5,\n",
              "         ('l', 'o', 'h'): 2,\n",
              "         ('o', 'h', 'u'): 2,\n",
              "         ('h', 'u', 'n'): 29,\n",
              "         ('u', 'n', 'n'): 16,\n",
              "         ('r', 'i', 'l'): 2,\n",
              "         ('i', 'l', 'n'): 3,\n",
              "         ('e', 'f', 'r'): 8,\n",
              "         ('i', 'l', 'c'): 2,\n",
              "         ('l', 'c', 'e'): 2,\n",
              "         ('r', 'f', 'r'): 11,\n",
              "         ('o', 'h', 'o'): 1,\n",
              "         ('h', 'o', 's'): 4,\n",
              "         ('o', 's', 'b'): 1,\n",
              "         ('s', 'b', 'e'): 4,\n",
              "         ('e', 'g', 'g'): 4,\n",
              "         ('e', 'k', 'n'): 3,\n",
              "         ('k', 'n', 'u'): 2,\n",
              "         ('u', 'd', 'g'): 7,\n",
              "         ('d', 'g', 'r'): 8,\n",
              "         ('g', 'r', 'h'): 2,\n",
              "         ('r', 'h', 'a'): 17,\n",
              "         ('h', 'a', 'l'): 4,\n",
              "         ('e', 'n', 'c'): 2,\n",
              "         ('n', 'c', 'i'): 1,\n",
              "         ('e', 's', 'i'): 20,\n",
              "         ('n', 'l', 'n'): 1,\n",
              "         ('e', 'p', 'm'): 1,\n",
              "         ('p', 'm', 'e'): 4,\n",
              "         ('n', 'd', 'm'): 2,\n",
              "         ('r', 'm', 'l'): 2,\n",
              "         ('m', 'l', 't'): 2,\n",
              "         ('l', 't', 'l'): 3,\n",
              "         ('t', 'l', 'a'): 1,\n",
              "         ('n', 'g', 's'): 4,\n",
              "         ('g', 's', 'r'): 1,\n",
              "         ('s', 'r', 'y'): 1,\n",
              "         ('r', 'y', 'g'): 3,\n",
              "         ('y', 'g', 'g'): 2,\n",
              "         ('n', 's', 'k'): 16,\n",
              "         ('o', 'g', 'm'): 4,\n",
              "         ('l', 't', 'i'): 9,\n",
              "         ('t', 'i', 'e'): 6,\n",
              "         ('n', 'l', 'i'): 10,\n",
              "         ('l', 'i', 'n'): 5,\n",
              "         ('i', 'n', 'j'): 1,\n",
              "         ('n', 'j', 'e'): 1,\n",
              "         ('s', 'n', 'u'): 2,\n",
              "         ('u', 'd', 'e'): 8,\n",
              "         ('o', 'g', 'h'): 9,\n",
              "         ('g', 'h', 'a'): 5,\n",
              "         ('e', 's', 'p'): 7,\n",
              "         ('p', 'i', 'd'): 1,\n",
              "         ('i', 'd', 's'): 3,\n",
              "         ('d', 's', 'd'): 2,\n",
              "         ('n', 'm', 'i'): 4,\n",
              "         ('t', 'e', 'u'): 3,\n",
              "         ('r', 't', 's'): 3,\n",
              "         ('t', 's', 'u'): 1,\n",
              "         ('a', 't', 'r'): 8,\n",
              "         ('l', 'o', 'e'): 1,\n",
              "         ('o', 'e', 'n'): 1,\n",
              "         ('s', 's', 'k'): 3,\n",
              "         ('e', 'r', 'h'): 30,\n",
              "         ('r', 'h', 'j'): 5,\n",
              "         ('h', 'j', 'd'): 1,\n",
              "         ('j', 'd', 'e'): 2,\n",
              "         ('n', 'n', 'u'): 1,\n",
              "         ('n', 'u', 'v'): 1,\n",
              "         ('u', 'v', 'r'): 1,\n",
              "         ('k', 'o', 'r'): 4,\n",
              "         ('r', 'd', 'i'): 5,\n",
              "         ('e', 'r', 'k'): 20,\n",
              "         ('l', 'o', 'f'): 1,\n",
              "         ('o', 'f', 'o'): 1,\n",
              "         ('e', 'n', 'b'): 9,\n",
              "         ('n', 'b', 'e'): 10,\n",
              "         ('s', 'k', 't'): 8,\n",
              "         ('k', 't', 'i'): 15,\n",
              "         ('k', 'u', 'd'): 2,\n",
              "         ('u', 'd', 't'): 3,\n",
              "         ('t', 'i', 'h'): 2,\n",
              "         ('i', 'h', 'o'): 1,\n",
              "         ('o', 's', 't'): 3,\n",
              "         ('g', 't', 's'): 4,\n",
              "         ('t', 's', 't'): 10,\n",
              "         ('n', 'd', 'h'): 4,\n",
              "         ('d', 'h', 'u'): 3,\n",
              "         ('e', 's', 'f'): 5,\n",
              "         ('s', 'f', 'o'): 6,\n",
              "         ('k', 'e', 'l'): 16,\n",
              "         ('e', 'm', 'h'): 3,\n",
              "         ('m', 'h', 'a'): 2,\n",
              "         ('g', 'h', 'u'): 2,\n",
              "         ('l', 'd', 's'): 8,\n",
              "         ('d', 's', 'v'): 6,\n",
              "         ('s', 'v', 'i'): 10,\n",
              "         ('v', 'i', 's'): 14,\n",
              "         ('i', 's', 's'): 9,\n",
              "         ('r', 'e', 'h'): 12,\n",
              "         ('o', 's', 'd'): 1,\n",
              "         ('r', 'e', 'u'): 8,\n",
              "         ('r', 'h', 'v'): 11,\n",
              "         ('a', 'n', 'v'): 7,\n",
              "         ('j', 'e', 'p'): 2,\n",
              "         ('e', 'p', 'r'): 3,\n",
              "         ('n', 't', 'm'): 1,\n",
              "         ('a', 'r', 'o'): 3,\n",
              "         ('g', 's', 'b'): 1,\n",
              "         ('s', 'b', 'r'): 2,\n",
              "         ('r', 'e', 'f'): 16,\n",
              "         ('o', 'r', 'p'): 3,\n",
              "         ('p', 'o', 't'): 4,\n",
              "         ('o', 't', 'e'): 6,\n",
              "         ('h', 'v', 'i'): 13,\n",
              "         ('v', 'i', 'l'): 22,\n",
              "         ('t', 'm', 'u'): 4,\n",
              "         ('m', 'u', 'l'): 4,\n",
              "         ('u', 'l', 'i'): 4,\n",
              "         ('g', 'g', 'r'): 1,\n",
              "         ('l', 'n', 'e'): 1,\n",
              "         ('a', 'n', 'o'): 2,\n",
              "         ('u', 'n', 'i'): 3,\n",
              "         ('i', 't', 'i'): 8,\n",
              "         ('n', 's', 'f'): 4,\n",
              "         ('f', 'o', 'd'): 3,\n",
              "         ('o', 'd', 'a'): 1,\n",
              "         ('d', 'a', 'f'): 6,\n",
              "         ('f', 't', 'r'): 2,\n",
              "         ('t', 'r', 'y'): 2,\n",
              "         ('r', 'y', 'k'): 1,\n",
              "         ('y', 'k', 'e'): 1,\n",
              "         ('n', 'k', 'r'): 2,\n",
              "         ('n', 'g', 'm'): 2,\n",
              "         ('v', 'e', 'o'): 4,\n",
              "         ('n', 'h', 'u'): 9,\n",
              "         ('u', 'n', 't'): 9,\n",
              "         ('n', 'd', 'b'): 6,\n",
              "         ('d', 'b', 'd'): 1,\n",
              "         ('b', 'd', 'e'): 2,\n",
              "         ('g', 'l', 'v'): 1,\n",
              "         ('v', 'e', 'u'): 1,\n",
              "         ...})"
            ]
          },
          "metadata": {},
          "execution_count": 29
        }
      ]
    },
    {
      "cell_type": "code",
      "source": [
        "gz1=Counter(ngrams(z1,3)) #for obtaining a trigram\n",
        "plothistogram(gz1)\n",
        "plt.title(\"ESPRANTO\")\n",
        "plt.show()\n"
      ],
      "metadata": {
        "colab": {
          "base_uri": "https://localhost:8080/",
          "height": 281
        },
        "id": "QugJuW_V7dD4",
        "outputId": "790e3916-feda-4cd2-b031-70472e5bd11f"
      },
      "execution_count": 30,
      "outputs": [
        {
          "output_type": "display_data",
          "data": {
            "text/plain": [
              "<Figure size 432x288 with 1 Axes>"
            ],
            "image/png": "[encoded data removed]"
          },
          "metadata": {
            "needs_background": "light"
          }
        }
      ]
    },
    {
      "cell_type": "code",
      "source": [
        "gz1"
      ],
      "metadata": {
        "colab": {
          "base_uri": "https://localhost:8080/"
        },
        "id": "XgK1q-043SLW",
        "outputId": "cff44e4b-29e5-4557-9244-54e60afaaa13"
      },
      "execution_count": 31,
      "outputs": [
        {
          "output_type": "execute_result",
          "data": {
            "text/plain": [
              "Counter({('f', 'o', 'r'): 80,\n",
              "         ('o', 'r', 'a'): 11,\n",
              "         ('r', 'a', 'l'): 8,\n",
              "         ('a', 'l', 't'): 15,\n",
              "         ('l', 't', 'e'): 7,\n",
              "         ('t', 'e', 'r'): 102,\n",
              "         ('e', 'r', 'n'): 45,\n",
              "         ('r', 'n', 'a'): 5,\n",
              "         ('n', 'a', 't'): 21,\n",
              "         ('a', 't', 'i'): 34,\n",
              "         ('t', 'i', 'v'): 6,\n",
              "         ('i', 'v', 'e'): 24,\n",
              "         ('v', 'e', 'b'): 2,\n",
              "         ('e', 'b', 'e'): 19,\n",
              "         ('b', 'e', 't'): 17,\n",
              "         ('e', 't', 'y'): 7,\n",
              "         ('t', 'y', 'd'): 6,\n",
              "         ('y', 'd', 'n'): 2,\n",
              "         ('d', 'n', 'i'): 4,\n",
              "         ('n', 'i', 'n'): 18,\n",
              "         ('i', 'n', 'g'): 47,\n",
              "         ('n', 'g', 'e'): 69,\n",
              "         ('g', 'e', 'r'): 149,\n",
              "         ('e', 'r', 's'): 46,\n",
              "         ('r', 's', 'e'): 3,\n",
              "         ('s', 'e', 't'): 15,\n",
              "         ('e', 't', 'i'): 63,\n",
              "         ('t', 'i', 'g'): 146,\n",
              "         ('i', 'g', 'e'): 123,\n",
              "         ('e', 'r', 'f'): 32,\n",
              "         ('r', 'f', 'l'): 4,\n",
              "         ('f', 'l', 'e'): 15,\n",
              "         ('l', 'e', 'r'): 53,\n",
              "         ('e', 'r', 't'): 39,\n",
              "         ('r', 't', 'y'): 2,\n",
              "         ('y', 'd', 'i'): 1,\n",
              "         ('d', 'i', 'g'): 8,\n",
              "         ('i', 'g', 's'): 4,\n",
              "         ('g', 's', 'e'): 5,\n",
              "         ('s', 'e', 'o'): 9,\n",
              "         ('e', 'o', 'g'): 48,\n",
              "         ('o', 'g', 's'): 29,\n",
              "         ('g', 's', 'a'): 4,\n",
              "         ('s', 'a', 'r'): 1,\n",
              "         ('a', 'r', 't'): 16,\n",
              "         ('r', 't', 'i'): 46,\n",
              "         ('t', 'i', 'k'): 8,\n",
              "         ('i', 'k', 'l'): 2,\n",
              "         ('k', 'l', 'e'): 4,\n",
              "         ('r', 's', 'o'): 10,\n",
              "         ('s', 'o', 'm'): 25,\n",
              "         ('o', 'm', 'b'): 1,\n",
              "         ('m', 'b', 'e'): 3,\n",
              "         ('b', 'e', 'g'): 15,\n",
              "         ('e', 'g', 'y'): 8,\n",
              "         ('g', 'y', 'n'): 9,\n",
              "         ('y', 'n', 'd'): 9,\n",
              "         ('n', 'd', 'e'): 123,\n",
              "         ('d', 'e', 'r'): 150,\n",
              "         ('e', 'r', 'm'): 30,\n",
              "         ('r', 'm', 'e'): 31,\n",
              "         ('m', 'e', 'd'): 49,\n",
              "         ('e', 'd', 't'): 12,\n",
              "         ('d', 't', 'i'): 27,\n",
              "         ('e', 'r', 'e'): 188,\n",
              "         ('r', 'e', 'n'): 83,\n",
              "         ('e', 'n', 'l'): 13,\n",
              "         ('n', 'l', 'a'): 1,\n",
              "         ('l', 'a', 't'): 21,\n",
              "         ('t', 'i', 'n'): 9,\n",
              "         ('i', 'n', 'p'): 1,\n",
              "         ('n', 'p', 'a'): 2,\n",
              "         ('p', 'a', 'n'): 11,\n",
              "         ('a', 'n', 't'): 28,\n",
              "         ('n', 't', 'h'): 12,\n",
              "         ('t', 'h', 'e'): 12,\n",
              "         ('h', 'e', 'r'): 14,\n",
              "         ('e', 'r', 'a'): 50,\n",
              "         ('r', 'a', 't'): 33,\n",
              "         ('i', 'g', 'r'): 66,\n",
              "         ('g', 'r', 'i'): 19,\n",
              "         ('r', 'i', 's'): 30,\n",
              "         ('i', 's', 'e'): 7,\n",
              "         ('s', 'e', 'r'): 14,\n",
              "         ('e', 'r', 'd'): 66,\n",
              "         ('r', 'd', 'e'): 109,\n",
              "         ('d', 'e', 'n'): 93,\n",
              "         ('e', 'n', 's'): 60,\n",
              "         ('n', 's', 't'): 19,\n",
              "         ('s', 't', 'r'): 31,\n",
              "         ('t', 'r', 's'): 5,\n",
              "         ('r', 's', 't'): 19,\n",
              "         ('s', 't', 'e'): 70,\n",
              "         ('t', 'e', 'k'): 5,\n",
              "         ('e', 'k', 'a'): 22,\n",
              "         ('k', 'a', 't'): 9,\n",
              "         ('a', 't', 't'): 17,\n",
              "         ('t', 't', 'e'): 74,\n",
              "         ('t', 'e', 'a'): 6,\n",
              "         ('e', 'a', 'r'): 4,\n",
              "         ('r', 't', 'm'): 2,\n",
              "         ('t', 'm', 'e'): 22,\n",
              "         ('e', 'd', 'e'): 109,\n",
              "         ('e', 'n', 't'): 45,\n",
              "         ('n', 't', 'o'): 4,\n",
              "         ('t', 'o', 't'): 3,\n",
              "         ('o', 't', 'a'): 3,\n",
              "         ('t', 'a', 'l'): 21,\n",
              "         ('a', 'l', 'k'): 2,\n",
              "         ('l', 'k', 'r'): 1,\n",
              "         ('k', 'r', 'o'): 6,\n",
              "         ('r', 'o', 'p'): 12,\n",
              "         ('o', 'p', 's'): 7,\n",
              "         ('p', 's', 'l'): 1,\n",
              "         ('s', 'l', 'n'): 1,\n",
              "         ('l', 'n', 'g'): 8,\n",
              "         ('n', 'g', 'd'): 10,\n",
              "         ('g', 'd', 'e'): 23,\n",
              "         ('d', 'e', 'p'): 5,\n",
              "         ('e', 'p', 'o'): 2,\n",
              "         ('p', 'o', 'p'): 3,\n",
              "         ('o', 'p', 't'): 11,\n",
              "         ('p', 't', 'i'): 10,\n",
              "         ('t', 'i', 'l'): 84,\n",
              "         ('i', 'l', 'm'): 6,\n",
              "         ('l', 'm', 'e'): 8,\n",
              "         ('m', 'e', 't'): 17,\n",
              "         ('e', 't', 'e'): 36,\n",
              "         ('e', 'r', 'i'): 42,\n",
              "         ('r', 'i', 'n'): 31,\n",
              "         ('i', 'n', 'k'): 3,\n",
              "         ('n', 'k', 'l'): 3,\n",
              "         ('k', 'l', 'u'): 2,\n",
              "         ('l', 'u', 's'): 2,\n",
              "         ('u', 's', 'i'): 2,\n",
              "         ('s', 'i', 'v'): 2,\n",
              "         ('v', 'e', 'k'): 1,\n",
              "         ('e', 'k', 'u'): 5,\n",
              "         ('k', 'u', 'r'): 4,\n",
              "         ('u', 'r', 'v'): 2,\n",
              "         ('r', 'v', 'e'): 15,\n",
              "         ('v', 'e', 'r'): 52,\n",
              "         ('e', 'r', 'o'): 43,\n",
              "         ('r', 'o', 'g'): 37,\n",
              "         ('o', 'g', 'i'): 7,\n",
              "         ('g', 'i', 'e'): 2,\n",
              "         ('i', 'e', 'k'): 1,\n",
              "         ('e', 'k', 's'): 16,\n",
              "         ('k', 's', 't'): 4,\n",
              "         ('t', 'r', 'e'): 11,\n",
              "         ('r', 'e', 'm'): 11,\n",
              "         ('e', 'm', 'e'): 30,\n",
              "         ('i', 'l', 'f'): 12,\n",
              "         ('l', 'f', 'l'): 6,\n",
              "         ('f', 'l', 'd'): 5,\n",
              "         ('l', 'd', 'e'): 26,\n",
              "         ('d', 'e', 'm'): 12,\n",
              "         ('e', 'n', 'v'): 16,\n",
              "         ('n', 'v', 'g'): 1,\n",
              "         ('v', 'g', 't'): 2,\n",
              "         ('g', 't', 'p'): 2,\n",
              "         ('t', 'p', 'o'): 2,\n",
              "         ('i', 'l', 'k'): 15,\n",
              "         ('l', 'k', 'i'): 8,\n",
              "         ('k', 'i', 'l'): 13,\n",
              "         ('i', 'l', 'o'): 12,\n",
              "         ('l', 'o', 'i'): 1,\n",
              "         ('o', 'i', 'n'): 1,\n",
              "         ('i', 'n', 'a'): 18,\n",
              "         ('a', 't', 'u'): 21,\n",
              "         ('t', 'u', 'r'): 17,\n",
              "         ('u', 'r', 'e'): 12,\n",
              "         ('e', 'n', 'd'): 79,\n",
              "         ('d', 'e', 't'): 76,\n",
              "         ('e', 't', 'm'): 19,\n",
              "         ('m', 'e', 's'): 5,\n",
              "         ('e', 's', 't'): 72,\n",
              "         ('s', 't', 'g'): 2,\n",
              "         ('t', 'g', 'e'): 2,\n",
              "         ('g', 'e', 'n'): 39,\n",
              "         ('e', 'n', 'k'): 16,\n",
              "         ('n', 'k', 'e'): 7,\n",
              "         ('k', 'e', 'n'): 16,\n",
              "         ('d', 'e', 'l'): 57,\n",
              "         ('e', 'l', 'i'): 21,\n",
              "         ('l', 'i', 'g'): 73,\n",
              "         ('g', 'e', 't'): 12,\n",
              "         ('e', 't', 'r'): 13,\n",
              "         ('t', 'r', 'k'): 10,\n",
              "         ('r', 'k', 'v'): 2,\n",
              "         ('k', 'v', 'e'): 1,\n",
              "         ('v', 'e', 'd'): 22,\n",
              "         ('e', 'n', 'e'): 52,\n",
              "         ('n', 'e', 'r'): 62,\n",
              "         ('e', 'r', 'p'): 27,\n",
              "         ('r', 'p', 'e'): 3,\n",
              "         ('p', 'e', 'l'): 7,\n",
              "         ('e', 'l', 's'): 37,\n",
              "         ('l', 's', 'e'): 37,\n",
              "         ('s', 'e', 'n'): 27,\n",
              "         ('e', 'n', 'm'): 17,\n",
              "         ('n', 'm', 'e'): 12,\n",
              "         ('e', 'd', 'm'): 9,\n",
              "         ('d', 'm', 'r'): 1,\n",
              "         ('m', 'r', 'k'): 2,\n",
              "         ('r', 'k', 'e'): 11,\n",
              "         ('k', 'e', 't'): 26,\n",
              "         ('e', 't', 'v'): 9,\n",
              "         ('t', 'v', 'r'): 9,\n",
              "         ('v', 'r', 's'): 1,\n",
              "         ('t', 'r', 'i'): 2,\n",
              "         ('r', 'i', 'b'): 7,\n",
              "         ('i', 'b', 'e'): 14,\n",
              "         ('b', 'e', 'r'): 13,\n",
              "         ('r', 'p', 'o'): 3,\n",
              "         ('p', 'o', 'r'): 4,\n",
              "         ('r', 'a', 'n'): 15,\n",
              "         ('a', 'n', 'g'): 54,\n",
              "         ('g', 'e', 'b'): 8,\n",
              "         ('e', 'b', 'u'): 1,\n",
              "         ('b', 'u', 'n'): 1,\n",
              "         ('u', 'n', 'd'): 29,\n",
              "         ('n', 'd', 't'): 20,\n",
              "         ('g', 'r', 'e'): 73,\n",
              "         ('r', 'e', 'e'): 26,\n",
              "         ('e', 'e', 'r'): 25,\n",
              "         ('r', 's', 'u'): 4,\n",
              "         ('s', 'u', 'p'): 1,\n",
              "         ('u', 'p', 'e'): 1,\n",
              "         ('p', 'e', 'r'): 6,\n",
              "         ('e', 'r', 'r'): 24,\n",
              "         ('r', 'r', 'o'): 1,\n",
              "         ('r', 'o', 'v'): 15,\n",
              "         ('o', 'v', 'd'): 11,\n",
              "         ('v', 'd', 'y'): 11,\n",
              "         ('d', 'y', 'r'): 39,\n",
              "         ('y', 'r', 'd'): 8,\n",
              "         ('i', 's', 'r'): 5,\n",
              "         ('s', 'r', 'l'): 2,\n",
              "         ('r', 'l', 'e'): 7,\n",
              "         ('l', 'e', 'v'): 48,\n",
              "         ('e', 'v', 'e'): 42,\n",
              "         ('r', 'a', 'f'): 18,\n",
              "         ('a', 'f', 'h'): 8,\n",
              "         ('f', 'h', 'o'): 2,\n",
              "         ('h', 'o', 'v'): 8,\n",
              "         ('y', 'r', 's'): 6,\n",
              "         ('r', 's', 's'): 4,\n",
              "         ('s', 's', 'o'): 3,\n",
              "         ('o', 'm', 'h'): 4,\n",
              "         ('m', 'h', 'j'): 1,\n",
              "         ('h', 'j', 'o'): 10,\n",
              "         ('j', 'o', 'r'): 13,\n",
              "         ('o', 'r', 't'): 25,\n",
              "         ('r', 't', 'e'): 24,\n",
              "         ('t', 'e', 'o'): 3,\n",
              "         ('g', 's', 'k'): 5,\n",
              "         ('s', 'k', 'e'): 61,\n",
              "         ('k', 'e', 'd'): 14,\n",
              "         ('d', 'e', 'h'): 8,\n",
              "         ('e', 'h', 'o'): 5,\n",
              "         ('h', 'o', 'r'): 4,\n",
              "         ('o', 'r', 'n'): 7,\n",
              "         ('r', 'n', 'e'): 35,\n",
              "         ('n', 'e', 'd'): 14,\n",
              "         ('d', 'e', 'd'): 18,\n",
              "         ('d', 'e', 'e'): 24,\n",
              "         ('r', 'r', 'i'): 25,\n",
              "         ('r', 'i', 't'): 19,\n",
              "         ('i', 't', 'o'): 17,\n",
              "         ('t', 'o', 'r'): 34,\n",
              "         ('o', 'r', 'i'): 19,\n",
              "         ('r', 'i', 'a'): 2,\n",
              "         ('i', 'a', 'l'): 4,\n",
              "         ('a', 'l', 'e'): 23,\n",
              "         ('l', 'e', 'o'): 7,\n",
              "         ('o', 'g', 'j'): 1,\n",
              "         ('g', 'j', 'a'): 1,\n",
              "         ('j', 'a', 'g'): 14,\n",
              "         ('a', 'g', 'e'): 33,\n",
              "         ('e', 'r', 'g'): 13,\n",
              "         ('r', 'g', 'e'): 6,\n",
              "         ('r', 'e', 'l'): 26,\n",
              "         ('e', 'l', 't'): 15,\n",
              "         ('l', 't', 'a'): 8,\n",
              "         ('l', 'e', 'n'): 14,\n",
              "         ('n', 'e', 'm'): 10,\n",
              "         ('m', 'e', 'n'): 66,\n",
              "         ('n', 'k', 'a'): 5,\n",
              "         ('k', 'a', 'n'): 29,\n",
              "         ('a', 'n', 'u'): 2,\n",
              "         ('n', 'u', 'n'): 5,\n",
              "         ('t', 'i', 'd'): 20,\n",
              "         ('i', 'd', 'e'): 43,\n",
              "         ('n', 'v', 'r'): 6,\n",
              "         ('v', 'r', 'e'): 19,\n",
              "         ('r', 'e', 's'): 44,\n",
              "         ('e', 's', 'o'): 14,\n",
              "         ('s', 'o', 'c'): 2,\n",
              "         ('o', 'c', 'i'): 2,\n",
              "         ('c', 'i', 'a'): 2,\n",
              "         ('o', 'g', 'k'): 9,\n",
              "         ('g', 'k', 'r'): 4,\n",
              "         ('k', 'r', 'v'): 4,\n",
              "         ('o', 'm', 'r'): 19,\n",
              "         ('m', 'r', 'e'): 3,\n",
              "         ('r', 'e', 'g'): 9,\n",
              "         ('e', 'g', 'e'): 13,\n",
              "         ('g', 'e', 'l'): 18,\n",
              "         ('l', 's', 'a'): 1,\n",
              "         ('s', 'a', 'm'): 20,\n",
              "         ('a', 'm', 'm'): 8,\n",
              "         ('m', 'm', 'e'): 25,\n",
              "         ('e', 'n', 'h'): 29,\n",
              "         ('n', 'h', 'n'): 1,\n",
              "         ('h', 'n', 'g'): 4,\n",
              "         ('d', 'e', 'o'): 19,\n",
              "         ('e', 'o', 'm'): 12,\n",
              "         ('m', 'r', 'd'): 16,\n",
              "         ('i', 'l', 'g'): 2,\n",
              "         ('l', 'g', 'o'): 1,\n",
              "         ('g', 'o', 'd'): 3,\n",
              "         ('o', 'd', 'e'): 8,\n",
              "         ('d', 'e', 's'): 39,\n",
              "         ('e', 's', 'e'): 14,\n",
              "         ('e', 's', 'b'): 10,\n",
              "         ('s', 'b', 'y'): 11,\n",
              "         ('b', 'y', 't'): 37,\n",
              "         ('y', 't', 't'): 46,\n",
              "         ('t', 'e', 'd'): 47,\n",
              "         ('e', 'd', 'y'): 21,\n",
              "         ('e', 't', 't'): 22,\n",
              "         ('t', 'e', 's'): 16,\n",
              "         ('e', 's', 'a'): 8,\n",
              "         ('e', 'd', 'd'): 7,\n",
              "         ('d', 'd', 'e'): 21,\n",
              "         ('e', 't', 'f'): 15,\n",
              "         ('t', 'f', 'a'): 6,\n",
              "         ('f', 'a', 'k'): 1,\n",
              "         ('a', 'k', 't'): 8,\n",
              "         ('k', 't', 'u'): 1,\n",
              "         ('t', 'u', 'm'): 1,\n",
              "         ('u', 'm', 'a'): 7,\n",
              "         ('m', 'a', 't'): 11,\n",
              "         ('a', 't', 'd'): 12,\n",
              "         ('t', 'd', 'e'): 25,\n",
              "         ('u', 'r', 'l'): 3,\n",
              "         ('r', 'l', 'i'): 12,\n",
              "         ('i', 'g', 't'): 20,\n",
              "         ('g', 't', 'h'): 3,\n",
              "         ('t', 'h', 'j'): 1,\n",
              "         ('h', 'j', 'e'): 3,\n",
              "         ('j', 'e', 'm'): 2,\n",
              "         ('e', 'm', 'm'): 3,\n",
              "         ('m', 'e', 'h'): 1,\n",
              "         ('e', 'h', 'r'): 1,\n",
              "         ('h', 'r', 'e'): 1,\n",
              "         ('d', 'e', 'i'): 12,\n",
              "         ('e', 'i', 'n'): 20,\n",
              "         ('i', 'n', 'o'): 5,\n",
              "         ('n', 'o', 'g'): 25,\n",
              "         ('o', 'g', 'l'): 12,\n",
              "         ('g', 'l', 'e'): 10,\n",
              "         ('l', 'e', 'a'): 7,\n",
              "         ('e', 'a', 'f'): 14,\n",
              "         ('a', 'f', 'd'): 23,\n",
              "         ('f', 'd', 'e'): 29,\n",
              "         ('t', 't', 't'): 3,\n",
              "         ('s', 't', 'b'): 4,\n",
              "         ('t', 'b', 'e'): 6,\n",
              "         ('b', 'e', 'f'): 3,\n",
              "         ('e', 'f', 'o'): 19,\n",
              "         ('f', 'o', 'l'): 4,\n",
              "         ('o', 'l', 'k'): 4,\n",
              "         ('l', 'k', 'e'): 11,\n",
              "         ('e', 'l', 'e'): 25,\n",
              "         ('a', 'f', 'v'): 5,\n",
              "         ('f', 'v', 'e'): 3,\n",
              "         ('n', 'h', 'a'): 15,\n",
              "         ('h', 'a', 'r'): 24,\n",
              "         ('a', 'r', 'm'): 3,\n",
              "         ('e', 'd', 'f'): 6,\n",
              "         ('d', 'f', 'r'): 5,\n",
              "         ('f', 'r', 't'): 4,\n",
              "         ('r', 't', 'b'): 2,\n",
              "         ('y', 'd', 'e'): 4,\n",
              "         ('g', 'e', 'k'): 8,\n",
              "         ('e', 'k', 'o'): 6,\n",
              "         ('k', 'o', 'n'): 12,\n",
              "         ('o', 'n', 'f'): 2,\n",
              "         ('n', 'f', 'l'): 2,\n",
              "         ('f', 'l', 'i'): 1,\n",
              "         ('l', 'i', 'k'): 1,\n",
              "         ('i', 'k', 't'): 1,\n",
              "         ('k', 't', 'e'): 3,\n",
              "         ('d', 'm', 'e'): 6,\n",
              "         ('e', 'n', 'n'): 40,\n",
              "         ('n', 'n', 'e'): 72,\n",
              "         ('n', 'e', 's'): 45,\n",
              "         ('e', 's', 'k'): 36,\n",
              "         ('k', 'e', 'r'): 33,\n",
              "         ('r', 'i', 'd'): 9,\n",
              "         ('e', 't', 's'): 18,\n",
              "         ('t', 's', 'y'): 4,\n",
              "         ('s', 'y', 'd'): 6,\n",
              "         ('y', 'd', 'l'): 1,\n",
              "         ('d', 'l', 'i'): 9,\n",
              "         ('e', 'b', 'a'): 1,\n",
              "         ('b', 'a', 'n'): 6,\n",
              "         ('n', 'g', 'l'): 5,\n",
              "         ('g', 'l', 'a'): 4,\n",
              "         ('l', 'a', 'd'): 5,\n",
              "         ('a', 'd', 'e'): 11,\n",
              "         ('e', 's', 'h'): 4,\n",
              "         ('s', 'h', 'b'): 1,\n",
              "         ('h', 'b', 'l'): 1,\n",
              "         ('b', 'l', 'e'): 24,\n",
              "         ('e', 'v', 'm'): 2,\n",
              "         ('v', 'm', 'i'): 2,\n",
              "         ('m', 'i', 'n'): 20,\n",
              "         ('i', 'n', 'd'): 75,\n",
              "         ('n', 'd', 's'): 12,\n",
              "         ('d', 's', 't'): 11,\n",
              "         ('s', 't', 'p'): 1,\n",
              "         ('t', 'p', 'e'): 1,\n",
              "         ('s', 'o', 'n'): 5,\n",
              "         ('o', 'n', 'e'): 12,\n",
              "         ('r', 'd', 'r'): 3,\n",
              "         ('d', 'r', 'b'): 8,\n",
              "         ('r', 'b', 't'): 5,\n",
              "         ('b', 't', 'a'): 2,\n",
              "         ('t', 'a', 'f'): 20,\n",
              "         ('a', 'f', 't'): 22,\n",
              "         ('f', 't', 'i'): 13,\n",
              "         ('r', 'e', 'r'): 46,\n",
              "         ('e', 'r', 'l'): 15,\n",
              "         ('g', 't', 'f'): 5,\n",
              "         ('t', 'f', 'r'): 12,\n",
              "         ('f', 'r', 'e'): 6,\n",
              "         ('e', 'm', 't'): 2,\n",
              "         ('m', 't', 'i'): 8,\n",
              "         ('i', 'l', 'r'): 2,\n",
              "         ('l', 'r', 't'): 1,\n",
              "         ('n', 'v', 'a'): 4,\n",
              "         ('v', 'a', 'r'): 19,\n",
              "         ('a', 'r', 'e'): 18,\n",
              "         ('e', 'n', 'g'): 13,\n",
              "         ('n', 'g', 'a'): 15,\n",
              "         ('g', 'a', 'n'): 14,\n",
              "         ('n', 'g', 'v'): 3,\n",
              "         ('g', 'v', 'i'): 4,\n",
              "         ('v', 'i', 'd'): 17,\n",
              "         ('i', 'd', 't'): 6,\n",
              "         ('d', 't', 'u'): 1,\n",
              "         ('t', 'u', 'd'): 6,\n",
              "         ('u', 'd', 'b'): 9,\n",
              "         ('d', 'b', 'r'): 10,\n",
              "         ('b', 'r', 'e'): 14,\n",
              "         ('r', 'e', 'd'): 40,\n",
              "         ('t', 'i', 'a'): 1,\n",
              "         ('i', 'a', 's'): 2,\n",
              "         ('a', 's', 'i'): 9,\n",
              "         ('s', 'i', 'e'): 7,\n",
              "         ('i', 'e', 'n'): 27,\n",
              "         ('e', 'n', 'f'): 11,\n",
              "         ('n', 'f', 'r'): 4,\n",
              "         ('f', 'r', 'a'): 32,\n",
              "         ('a', 't', 'y'): 1,\n",
              "         ('t', 'y', 'r'): 2,\n",
              "         ('y', 'r', 'k'): 3,\n",
              "         ('r', 'k', 'i'): 3,\n",
              "         ('k', 'i', 'e'): 1,\n",
              "         ('i', 'e', 't'): 8,\n",
              "         ('v', 'e', 's'): 22,\n",
              "         ('s', 't', 't'): 2,\n",
              "         ('t', 't', 'i'): 19,\n",
              "         ('l', 'r', 'u'): 1,\n",
              "         ('r', 'u', 's'): 7,\n",
              "         ('u', 's', 'l'): 4,\n",
              "         ('s', 'l', 'a'): 7,\n",
              "         ('l', 'a', 'n'): 19,\n",
              "         ('a', 'n', 'd'): 67,\n",
              "         ('d', 's', 's'): 5,\n",
              "         ('s', 's', 't'): 11,\n",
              "         ('s', 't', 'k'): 2,\n",
              "         ('t', 'k', 'y'): 1,\n",
              "         ('k', 'y', 's'): 1,\n",
              "         ('y', 's', 't'): 1,\n",
              "         ('s', 't', 'i'): 20,\n",
              "         ('i', 'l', 'b'): 9,\n",
              "         ('l', 'b', 'e'): 6,\n",
              "         ('e', 't', 'a'): 38,\n",
              "         ('n', 's', 'u'): 3,\n",
              "         ('s', 'u', 'd'): 6,\n",
              "         ('s', 'e', 's'): 10,\n",
              "         ('e', 'd', 'u'): 8,\n",
              "         ('d', 'u', 'c'): 2,\n",
              "         ('u', 'c', 'e'): 2,\n",
              "         ('c', 'e', 'r'): 5,\n",
              "         ('r', 'e', 't'): 39,\n",
              "         ('e', 'd', 'p'): 4,\n",
              "         ('d', 'p', 'r'): 2,\n",
              "         ('p', 'r', 'o'): 5,\n",
              "         ('r', 'o', 'c'): 2,\n",
              "         ('o', 'c', 'e'): 2,\n",
              "         ('c', 'e', 'n'): 6,\n",
              "         ('t', 'o', 'g'): 11,\n",
              "         ('o', 'g', 't'): 4,\n",
              "         ('g', 't', 'i'): 8,\n",
              "         ('e', 'r', 'b'): 27,\n",
              "         ('r', 'b', 'l'): 16,\n",
              "         ('v', 'e', 't'): 9,\n",
              "         ('e', 't', 'u'): 5,\n",
              "         ('u', 'd', 'r'): 2,\n",
              "         ('d', 'r', 'y'): 2,\n",
              "         ('r', 'y', 'd'): 4,\n",
              "         ('y', 'd', 'd'): 3,\n",
              "         ('r', 'a', 'd'): 12,\n",
              "         ('y', 'd', 'v'): 1,\n",
              "         ('d', 'v', 'e'): 2,\n",
              "         ('s', 't', 'l'): 6,\n",
              "         ('t', 'l', 'i'): 16,\n",
              "         ('g', 'e', 'o'): 6,\n",
              "         ('o', 'g', 'c'): 2,\n",
              "         ('g', 'c', 'e'): 2,\n",
              "         ('n', 't', 'r'): 4,\n",
              "         ('t', 'r', 'a'): 12,\n",
              "         ('e', 'a', 's'): 4,\n",
              "         ('r', 'a', 'e'): 6,\n",
              "         ('a', 'e', 'r'): 3,\n",
              "         ('n', 'e', 'j'): 1,\n",
              "         ('e', 'j', 'a'): 7,\n",
              "         ('j', 'a', 'v'): 4,\n",
              "         ('a', 'v', 'a'): 5,\n",
              "         ('v', 'a', 'o'): 1,\n",
              "         ('a', 'o', 'g'): 3,\n",
              "         ('o', 'g', 'b'): 8,\n",
              "         ('g', 'b', 'a'): 3,\n",
              "         ('b', 'a', 'l'): 7,\n",
              "         ('a', 'l', 'i'): 6,\n",
              "         ('l', 'i', 'o'): 2,\n",
              "         ('i', 'o', 'g'): 4,\n",
              "         ('o', 'g', 'f'): 11,\n",
              "         ('g', 'f', 'r'): 6,\n",
              "         ('r', 'a', 's'): 6,\n",
              "         ('a', 's', 't'): 5,\n",
              "         ('s', 't', 'o'): 20,\n",
              "         ('o', 'r', 'e'): 33,\n",
              "         ('r', 'e', 'o'): 13,\n",
              "         ('y', 'd', 's'): 5,\n",
              "         ('g', 's', 't'): 11,\n",
              "         ('g', 'e', 'a'): 5,\n",
              "         ('e', 'n', 'i'): 18,\n",
              "         ('n', 'i', 'd'): 6,\n",
              "         ('i', 'd', 'a'): 5,\n",
              "         ('d', 'a', 'g'): 12,\n",
              "         ('e', 'n', 'u'): 13,\n",
              "         ('n', 'u', 'd'): 12,\n",
              "         ('d', 't', 'f'): 2,\n",
              "         ('n', 's', 'i'): 8,\n",
              "         ('s', 'i', 'b'): 13,\n",
              "         ('i', 'b', 'i'): 12,\n",
              "         ('b', 'i', 'r'): 12,\n",
              "         ('i', 'r', 'i'): 12,\n",
              "         ('i', 's', 'k'): 35,\n",
              "         ('t', 'a', 'j'): 2,\n",
              "         ('a', 'j', 'g'): 2,\n",
              "         ('j', 'g', 'a'): 2,\n",
              "         ('g', 'a', 't'): 2,\n",
              "         ('l', 'b', 'n'): 1,\n",
              "         ('b', 'n', 'e'): 3,\n",
              "         ('n', 'e', 'g'): 2,\n",
              "         ('e', 'g', 'r'): 10,\n",
              "         ('g', 'r', 's'): 3,\n",
              "         ('s', 's', 'l'): 1,\n",
              "         ('s', 'l', 'e'): 6,\n",
              "         ('l', 'e', 't'): 21,\n",
              "         ('g', 't', 'r'): 2,\n",
              "         ('t', 'r', 'o'): 4,\n",
              "         ('o', 'p', 'i'): 2,\n",
              "         ('p', 'i', 's'): 10,\n",
              "         ('k', 'e', 'm'): 1,\n",
              "         ('e', 'm', 'a'): 7,\n",
              "         ('m', 'a', 'n'): 12,\n",
              "         ('n', 'g', 'r'): 22,\n",
              "         ('g', 'r', 'o'): 5,\n",
              "         ('o', 'v', 'e'): 27,\n",
              "         ('e', 's', 'u'): 11,\n",
              "         ('s', 'u', 'm'): 9,\n",
              "         ('u', 'm', 'p'): 5,\n",
              "         ('m', 'p', 'e'): 10,\n",
              "         ('p', 'e', 'd'): 4,\n",
              "         ('l', 'b', 'a'): 3,\n",
              "         ('b', 'a', 'g'): 4,\n",
              "         ('g', 'e', 'v'): 6,\n",
              "         ('e', 'v', 'r'): 4,\n",
              "         ('s', 'e', 'k'): 8,\n",
              "         ('k', 's', 'u'): 2,\n",
              "         ('s', 'u', 'n'): 13,\n",
              "         ('r', 'a', 'r'): 7,\n",
              "         ('e', 't', 'k'): 7,\n",
              "         ('t', 'k', 'l'): 2,\n",
              "         ('k', 'l', 'a'): 1,\n",
              "         ('l', 'a', 's'): 1,\n",
              "         ('a', 's', 's'): 6,\n",
              "         ('s', 's', 'i'): 4,\n",
              "         ('s', 'i', 'f'): 2,\n",
              "         ('i', 'f', 'i'): 3,\n",
              "         ('f', 'i', 'c'): 3,\n",
              "         ('i', 'c', 'e'): 2,\n",
              "         ('t', 's', 'o'): 3,\n",
              "         ('o', 'm', 't'): 5,\n",
              "         ('m', 't', 'r'): 1,\n",
              "         ('t', 'r', 'u'): 9,\n",
              "         ('r', 'u', 'e'): 2,\n",
              "         ('u', 'e', 'd'): 1,\n",
              "         ('d', 'e', 'a'): 10,\n",
              "         ('a', 'f', 'i'): 2,\n",
              "         ('f', 'i', 'u'): 1,\n",
              "         ('i', 'u', 'c'): 2,\n",
              "         ('u', 'c', 'n'): 2,\n",
              "         ('c', 'n', 'd'): 1,\n",
              "         ('g', 'l', 'o'): 2,\n",
              "         ('l', 'o', 'b'): 2,\n",
              "         ('o', 'b', 'a'): 2,\n",
              "         ('l', 'e', 'b'): 5,\n",
              "         ('b', 'e', 's'): 20,\n",
              "         ('s', 't', 'a'): 21,\n",
              "         ('t', 'a', 'n'): 25,\n",
              "         ('n', 'd', 'i'): 32,\n",
              "         ('d', 'i', 'n'): 4,\n",
              "         ('n', 'v', 'u'): 1,\n",
              "         ('v', 'u', 'r'): 4,\n",
              "         ('u', 'r', 'd'): 4,\n",
              "         ('i', 'l', 'a'): 22,\n",
              "         ('a', 't', 'l'): 2,\n",
              "         ('i', 'g', 'g'): 5,\n",
              "         ('g', 'g', 'e'): 16,\n",
              "         ('g', 'e', 'm'): 2,\n",
              "         ('m', 'e', 'l'): 17,\n",
              "         ('e', 'l', 'l'): 48,\n",
              "         ('l', 'l', 'e'): 68,\n",
              "         ('l', 'e', 'm'): 23,\n",
              "         ('e', 'm', 'o'): 10,\n",
              "         ('m', 'o', 'g'): 9,\n",
              "         ('g', 'i', 'n'): 7,\n",
              "         ('d', 'i', 'v'): 13,\n",
              "         ('i', 'v', 'i'): 13,\n",
              "         ('r', 'm', 'o'): 2,\n",
              "         ('m', 'o', 'd'): 12,\n",
              "         ('o', 'd', 'c'): 1,\n",
              "         ('d', 'c', 'i'): 2,\n",
              "         ('c', 'i', 'r'): 6,\n",
              "         ('i', 'r', 'k'): 9,\n",
              "         ('r', 'k', 'a'): 16,\n",
              "         ('k', 'a', 'i'): 3,\n",
              "         ('a', 'i', 'b'): 1,\n",
              "         ('e', 'n', 'a'): 32,\n",
              "         ('n', 'a', 'f'): 25,\n",
              "         ('f', 't', 'a'): 4,\n",
              "         ('a', 'l', 'l'): 13,\n",
              "         ('e', 't', 'd'): 13,\n",
              "         ('d', 'e', 'f'): 17,\n",
              "         ('e', 'f', 'l'): 9,\n",
              "         ('l', 'e', 's'): 10,\n",
              "         ('t', 'e', 't'): 32,\n",
              "         ('d', 'e', 'b'): 8,\n",
              "         ('i', 's', 'm'): 1,\n",
              "         ('s', 'm', 'l'): 1,\n",
              "         ('m', 'l', 'o'): 1,\n",
              "         ('l', 'o', 'm'): 5,\n",
              "         ('o', 'm', 'm'): 10,\n",
              "         ('m', 'e', 'r'): 14,\n",
              "         ('i', 's', 'o'): 4,\n",
              "         ('s', 'o', 'l'): 3,\n",
              "         ('o', 'l', 'e'): 4,\n",
              "         ('r', 'a', 'h'): 2,\n",
              "         ('a', 'h', 'i'): 1,\n",
              "         ('h', 'i', 'n'): 5,\n",
              "         ('n', 'a', 'n'): 8,\n",
              "         ('n', 'h', 'o'): 2,\n",
              "         ('d', 'p', 'a'): 1,\n",
              "         ('p', 'a', 'r'): 8,\n",
              "         ('t', 'e', 'n'): 21,\n",
              "         ('r', 'b', 'e'): 17,\n",
              "         ('n', 'd', 'c'): 1,\n",
              "         ('a', 'i', 'n'): 3,\n",
              "         ('r', 'p', 'd'): 2,\n",
              "         ('p', 'd', 'e'): 2,\n",
              "         ('d', 'i', 's'): 7,\n",
              "         ('k', 'e', 's'): 1,\n",
              "         ('s', 'u', 'b'): 2,\n",
              "         ('u', 'b', 'k'): 1,\n",
              "         ('b', 'k', 'o'): 1,\n",
              "         ('o', 'n', 't'): 5,\n",
              "         ('n', 't', 'i'): 34,\n",
              "         ('i', 'n', 'e'): 9,\n",
              "         ('n', 'e', 'n'): 25,\n",
              "         ('t', 'h', 'o'): 2,\n",
              "         ('e', 'd', 'r'): 7,\n",
              "         ('d', 'r', 's'): 2,\n",
              "         ('r', 's', 'a'): 11,\n",
              "         ('s', 'a', 'g'): 4,\n",
              "         ('d', 's', 'n'): 2,\n",
              "         ('s', 'n', 'e'): 9,\n",
              "         ('e', 'd', 'g'): 3,\n",
              "         ('d', 'g', 'a'): 6,\n",
              "         ('e', 'l', 'g'): 5,\n",
              "         ('l', 'g', 'g'): 6,\n",
              "         ('r', 'a', 'g'): 6,\n",
              "         ('a', 'g', 'm'): 5,\n",
              "         ('g', 'm', 'e'): 10,\n",
              "         ('n', 't', 'e'): 13,\n",
              "         ('g', 'a', 'f'): 7,\n",
              "         ('a', 'f', 'l'): 6,\n",
              "         ('a', 'm', 't'): 7,\n",
              "         ('m', 't', 'k'): 1,\n",
              "         ('t', 'k', 'r'): 6,\n",
              "         ('k', 'r', 'y'): 7,\n",
              "         ('r', 'y', 'b'): 5,\n",
              "         ('y', 'b', 's'): 5,\n",
              "         ('b', 's', 'k'): 5,\n",
              "         ('s', 'k', 'y'): 10,\n",
              "         ('k', 'y', 't'): 8,\n",
              "         ('i', 's', 't'): 20,\n",
              "         ('t', 'r', 'r'): 16,\n",
              "         ('r', 'r', 'e'): 22,\n",
              "         ('t', 'a', 'r'): 4,\n",
              "         ('r', 'e', 'a'): 14,\n",
              "         ('e', 'a', 'l'): 4,\n",
              "         ('a', 'l', 'h'): 3,\n",
              "         ('l', 'h', 'v'): 2,\n",
              "         ('h', 'v', 'o'): 18,\n",
              "         ('v', 'o', 'r'): 19,\n",
              "         ('o', 'r', 'd'): 20,\n",
              "         ('r', 'e', 'v'): 6,\n",
              "         ('e', 'v', 'u'): 2,\n",
              "         ('a', 't', 'v'): 8,\n",
              "         ('e', 'm', 'i'): 5,\n",
              "         ('n', 'd', 'r'): 29,\n",
              "         ('d', 'r', 'e'): 29,\n",
              "         ('e', 'e', 'n'): 24,\n",
              "         ('n', 'd', 'k'): 4,\n",
              "         ('d', 'k', 'm'): 2,\n",
              "         ('k', 'm', 'e'): 6,\n",
              "         ('n', 'g', 'p'): 5,\n",
              "         ('g', 'p', 'i'): 2,\n",
              "         ('p', 'i', 'f'): 2,\n",
              "         ('i', 'f', 'o'): 6,\n",
              "         ('o', 'r', 'h'): 11,\n",
              "         ('r', 'h', 'o'): 10,\n",
              "         ('h', 'o', 'l'): 14,\n",
              "         ('o', 'l', 'd'): 13,\n",
              "         ('l', 'd', 't'): 6,\n",
              "         ('l', 'm', 'i'): 4,\n",
              "         ('m', 'i', 'd'): 4,\n",
              "         ('d', 't', 'e'): 7,\n",
              "         ('a', 'f', 'e'): 2,\n",
              "         ('f', 'e', 'r'): 2,\n",
              "         ('r', 'e', 'k'): 21,\n",
              "         ('e', 'r', 'v'): 16,\n",
              "         ('r', 'v', 'a'): 6,\n",
              "         ('a', 'r', 'i'): 6,\n",
              "         ('r', 'i', 'e'): 20,\n",
              "         ('i', 'e', 'r'): 16,\n",
              "         ('t', 'i', 's'): 10,\n",
              "         ('s', 'e', 'e'): 2,\n",
              "         ('n', 'd', 'n'): 4,\n",
              "         ('d', 'n', 'u'): 3,\n",
              "         ('n', 'u', 'm'): 3,\n",
              "         ('u', 'm', 'e'): 4,\n",
              "         ('n', 'd', 'l'): 1,\n",
              "         ('d', 'l', 'v'): 2,\n",
              "         ('l', 'v', 'e'): 14,\n",
              "         ('v', 'e', 'n'): 17,\n",
              "         ('b', 'e', 'n'): 14,\n",
              "         ('g', 'a', 'l'): 6,\n",
              "         ('a', 'l', 's'): 5,\n",
              "         ('l', 's', 'k'): 4,\n",
              "         ('k', 'e', 'o'): 1,\n",
              "         ('g', 's', 'i'): 2,\n",
              "         ('k', 'e', 'u'): 3,\n",
              "         ('e', 'u', 'n'): 11,\n",
              "         ('e', 'h', 'j'): 2,\n",
              "         ('j', 'e', 's'): 2,\n",
              "         ('e', 'o', 'v'): 3,\n",
              "         ('r', 's', 'k'): 10,\n",
              "         ('s', 'k', 'u'): 7,\n",
              "         ('k', 'u', 'l'): 8,\n",
              "         ('u', 'l', 'd'): 10,\n",
              "         ('e', 'n', 'o'): 14,\n",
              "         ('o', 'g', 'a'): 7,\n",
              "         ('a', 'n', 's'): 16,\n",
              "         ('n', 's', 'e'): 10,\n",
              "         ('e', 's', 'd'): 6,\n",
              "         ('s', 'd', 'e'): 13,\n",
              "         ('r', 'f', 'o'): 17,\n",
              "         ('o', 'r', 's'): 15,\n",
              "         ('o', 'm', 'd'): 5,\n",
              "         ('m', 'd', 'e'): 7,\n",
              "         ('n', 'u', 'l'): 4,\n",
              "         ('u', 'l', 'e'): 8,\n",
              "         ('d', 'e', 'k'): 10,\n",
              "         ('u', 'd', 'd'): 6,\n",
              "         ('d', 'd', 'd'): 4,\n",
              "         ('k', 'a', 's'): 8,\n",
              "         ('a', 's', 'p'): 5,\n",
              "         ('s', 'p', 'i'): 6,\n",
              "         ('b', 'l', 'a'): 4,\n",
              "         ('d', 't', 'd'): 4,\n",
              "         ('r', 'n', 'o'): 9,\n",
              "         ('o', 'g', 'e'): 9,\n",
              "         ('s', 'i', 'n'): 5,\n",
              "         ('e', 'h', 'a'): 15,\n",
              "         ('k', 's', 'i'): 4,\n",
              "         ('s', 'i', 's'): 13,\n",
              "         ('e', 'm', 's'): 6,\n",
              "         ('m', 's', 'n'): 4,\n",
              "         ('s', 'n', 'i'): 8,\n",
              "         ('n', 'i', 't'): 6,\n",
              "         ('i', 't', 'l'): 2,\n",
              "         ('i', 'g', 'v'): 2,\n",
              "         ('g', 'v', 'o'): 2,\n",
              "         ('v', 'o', 'k'): 13,\n",
              "         ('o', 'k', 's'): 13,\n",
              "         ('k', 's', 'e'): 10,\n",
              "         ('h', 'a', 'n'): 35,\n",
              "         ('a', 'n', 'f'): 4,\n",
              "         ('e', 't', 'n'): 6,\n",
              "         ('t', 'n', 'o'): 2,\n",
              "         ('n', 'o', 'r'): 14,\n",
              "         ('r', 'd', 'l'): 3,\n",
              "         ('g', 'e', 'i'): 5,\n",
              "         ('d', 'i', 'e'): 12,\n",
              "         ('n', 'e', 'l'): 7,\n",
              "         ('r', 's', 'i'): 8,\n",
              "         ('n', 'v', 'e'): 8,\n",
              "         ('v', 'e', 'j'): 10,\n",
              "         ('e', 'j', 'e'): 11,\n",
              "         ('j', 'e', 'r'): 11,\n",
              "         ('r', 'o', 'm'): 4,\n",
              "         ('o', 'm', 'k'): 7,\n",
              "         ('m', 'k', 'r'): 5,\n",
              "         ('k', 'r', 'i'): 7,\n",
              "         ('n', 'g', 'k'): 1,\n",
              "         ('g', 'k', 'i'): 3,\n",
              "         ('o', 'm', 'e'): 4,\n",
              "         ('a', 'n', 'l'): 3,\n",
              "         ('n', 'l', 'v'): 4,\n",
              "         ('v', 'e', 'h'): 1,\n",
              "         ('a', 'n', 'n'): 19,\n",
              "         ('n', 'e', 'v'): 2,\n",
              "         ('e', 'v', 'a'): 4,\n",
              "         ('l', 'e', 'l'): 2,\n",
              "         ('e', 'l', 'n'): 5,\n",
              "         ('t', 'i', 'm'): 5,\n",
              "         ('i', 'm', 'e'): 5,\n",
              "         ('o', 'g', 'v'): 9,\n",
              "         ('g', 'v', 'e'): 5,\n",
              "         ('l', 'o', 'h'): 2,\n",
              "         ('o', 'h', 'u'): 2,\n",
              "         ('h', 'u', 'n'): 29,\n",
              "         ('u', 'n', 'n'): 16,\n",
              "         ('r', 'i', 'l'): 2,\n",
              "         ('i', 'l', 'n'): 3,\n",
              "         ('e', 'f', 'r'): 8,\n",
              "         ('i', 'l', 'c'): 2,\n",
              "         ('l', 'c', 'e'): 2,\n",
              "         ('r', 'f', 'r'): 11,\n",
              "         ('o', 'h', 'o'): 1,\n",
              "         ('h', 'o', 's'): 4,\n",
              "         ('o', 's', 'b'): 1,\n",
              "         ('s', 'b', 'e'): 4,\n",
              "         ('e', 'g', 'g'): 4,\n",
              "         ('e', 'k', 'n'): 3,\n",
              "         ('k', 'n', 'u'): 2,\n",
              "         ('u', 'd', 'g'): 7,\n",
              "         ('d', 'g', 'r'): 8,\n",
              "         ('g', 'r', 'h'): 2,\n",
              "         ('r', 'h', 'a'): 17,\n",
              "         ('h', 'a', 'l'): 4,\n",
              "         ('e', 'n', 'c'): 2,\n",
              "         ('n', 'c', 'i'): 1,\n",
              "         ('e', 's', 'i'): 20,\n",
              "         ('n', 'l', 'n'): 1,\n",
              "         ('e', 'p', 'm'): 1,\n",
              "         ('p', 'm', 'e'): 4,\n",
              "         ('n', 'd', 'm'): 2,\n",
              "         ('r', 'm', 'l'): 2,\n",
              "         ('m', 'l', 't'): 2,\n",
              "         ('l', 't', 'l'): 3,\n",
              "         ('t', 'l', 'a'): 1,\n",
              "         ('n', 'g', 's'): 4,\n",
              "         ('g', 's', 'r'): 1,\n",
              "         ('s', 'r', 'y'): 1,\n",
              "         ('r', 'y', 'g'): 3,\n",
              "         ('y', 'g', 'g'): 2,\n",
              "         ('n', 's', 'k'): 16,\n",
              "         ('o', 'g', 'm'): 4,\n",
              "         ('l', 't', 'i'): 9,\n",
              "         ('t', 'i', 'e'): 6,\n",
              "         ('n', 'l', 'i'): 10,\n",
              "         ('l', 'i', 'n'): 5,\n",
              "         ('i', 'n', 'j'): 1,\n",
              "         ('n', 'j', 'e'): 1,\n",
              "         ('s', 'n', 'u'): 2,\n",
              "         ('u', 'd', 'e'): 8,\n",
              "         ('o', 'g', 'h'): 9,\n",
              "         ('g', 'h', 'a'): 5,\n",
              "         ('e', 's', 'p'): 7,\n",
              "         ('p', 'i', 'd'): 1,\n",
              "         ('i', 'd', 's'): 3,\n",
              "         ('d', 's', 'd'): 2,\n",
              "         ('n', 'm', 'i'): 4,\n",
              "         ('t', 'e', 'u'): 3,\n",
              "         ('r', 't', 's'): 3,\n",
              "         ('t', 's', 'u'): 1,\n",
              "         ('a', 't', 'r'): 8,\n",
              "         ('l', 'o', 'e'): 1,\n",
              "         ('o', 'e', 'n'): 1,\n",
              "         ('s', 's', 'k'): 3,\n",
              "         ('e', 'r', 'h'): 30,\n",
              "         ('r', 'h', 'j'): 5,\n",
              "         ('h', 'j', 'd'): 1,\n",
              "         ('j', 'd', 'e'): 2,\n",
              "         ('n', 'n', 'u'): 1,\n",
              "         ('n', 'u', 'v'): 1,\n",
              "         ('u', 'v', 'r'): 1,\n",
              "         ('k', 'o', 'r'): 4,\n",
              "         ('r', 'd', 'i'): 5,\n",
              "         ('e', 'r', 'k'): 20,\n",
              "         ('l', 'o', 'f'): 1,\n",
              "         ('o', 'f', 'o'): 1,\n",
              "         ('e', 'n', 'b'): 9,\n",
              "         ('n', 'b', 'e'): 10,\n",
              "         ('s', 'k', 't'): 8,\n",
              "         ('k', 't', 'i'): 15,\n",
              "         ('k', 'u', 'd'): 2,\n",
              "         ('u', 'd', 't'): 3,\n",
              "         ('t', 'i', 'h'): 2,\n",
              "         ('i', 'h', 'o'): 1,\n",
              "         ('o', 's', 't'): 3,\n",
              "         ('g', 't', 's'): 4,\n",
              "         ('t', 's', 't'): 10,\n",
              "         ('n', 'd', 'h'): 4,\n",
              "         ('d', 'h', 'u'): 3,\n",
              "         ('e', 's', 'f'): 5,\n",
              "         ('s', 'f', 'o'): 6,\n",
              "         ('k', 'e', 'l'): 16,\n",
              "         ('e', 'm', 'h'): 3,\n",
              "         ('m', 'h', 'a'): 2,\n",
              "         ('g', 'h', 'u'): 2,\n",
              "         ('l', 'd', 's'): 8,\n",
              "         ('d', 's', 'v'): 6,\n",
              "         ('s', 'v', 'i'): 10,\n",
              "         ('v', 'i', 's'): 14,\n",
              "         ('i', 's', 's'): 9,\n",
              "         ('r', 'e', 'h'): 12,\n",
              "         ('o', 's', 'd'): 1,\n",
              "         ('r', 'e', 'u'): 8,\n",
              "         ('r', 'h', 'v'): 11,\n",
              "         ('a', 'n', 'v'): 7,\n",
              "         ('j', 'e', 'p'): 2,\n",
              "         ('e', 'p', 'r'): 3,\n",
              "         ('n', 't', 'm'): 1,\n",
              "         ('a', 'r', 'o'): 3,\n",
              "         ('g', 's', 'b'): 1,\n",
              "         ('s', 'b', 'r'): 2,\n",
              "         ('r', 'e', 'f'): 16,\n",
              "         ('o', 'r', 'p'): 3,\n",
              "         ('p', 'o', 't'): 4,\n",
              "         ('o', 't', 'e'): 6,\n",
              "         ('h', 'v', 'i'): 13,\n",
              "         ('v', 'i', 'l'): 22,\n",
              "         ('t', 'm', 'u'): 4,\n",
              "         ('m', 'u', 'l'): 4,\n",
              "         ('u', 'l', 'i'): 4,\n",
              "         ('g', 'g', 'r'): 1,\n",
              "         ('l', 'n', 'e'): 1,\n",
              "         ('a', 'n', 'o'): 2,\n",
              "         ('u', 'n', 'i'): 3,\n",
              "         ('i', 't', 'i'): 8,\n",
              "         ('n', 's', 'f'): 4,\n",
              "         ('f', 'o', 'd'): 3,\n",
              "         ('o', 'd', 'a'): 1,\n",
              "         ('d', 'a', 'f'): 6,\n",
              "         ('f', 't', 'r'): 2,\n",
              "         ('t', 'r', 'y'): 2,\n",
              "         ('r', 'y', 'k'): 1,\n",
              "         ('y', 'k', 'e'): 1,\n",
              "         ('n', 'k', 'r'): 2,\n",
              "         ('n', 'g', 'm'): 2,\n",
              "         ('v', 'e', 'o'): 4,\n",
              "         ('n', 'h', 'u'): 9,\n",
              "         ('u', 'n', 't'): 9,\n",
              "         ('n', 'd', 'b'): 6,\n",
              "         ('d', 'b', 'd'): 1,\n",
              "         ('b', 'd', 'e'): 2,\n",
              "         ('g', 'l', 'v'): 1,\n",
              "         ('v', 'e', 'u'): 1,\n",
              "         ...})"
            ]
          },
          "metadata": {},
          "execution_count": 31
        }
      ]
    },
    {
      "cell_type": "markdown",
      "source": [],
      "metadata": {
        "id": "kXyJRmr8yTW6"
      }
    },
    {
      "cell_type": "code",
      "source": [
        "from google.colab import drive\n",
        "drive.mount('/content/drive')"
      ],
      "metadata": {
        "colab": {
          "base_uri": "https://localhost:8080/"
        },
        "id": "kA_ipbAHyPf0",
        "outputId": "e3916e24-7193-445b-d144-c3952ef6bc9b"
      },
      "execution_count": 33,
      "outputs": [
        {
          "output_type": "stream",
          "name": "stdout",
          "text": [
            "Mounted at /content/drive\n"
          ]
        }
      ]
    },
    {
      "cell_type": "markdown",
      "source": [
        "## Features of Images. \n",
        "### Images in digital format are stored as numeric values, and hence we can use these values as features. for ex : a black and white (binary) image is stored as an array of 0  and 255 or 0 and 1."
      ],
      "metadata": {
        "id": "CpA1eKZiDjTm"
      }
    },
    {
      "cell_type": "markdown",
      "metadata": {
        "id": "2ZJfjIHk-oHV"
      },
      "source": [
        "# Part 2: Written numbers\n",
        "\n",
        "We will use a subset of the MNIST dataset. Each input character is represented in a 28*28 array. Let us see if we can extract some simple features from these images which can help us distinguish between the digits.\n",
        "\n",
        "Load the dataset:"
      ]
    },
    {
      "cell_type": "code",
      "metadata": {
        "id": "yNsLJSr6wGY0",
        "colab": {
          "base_uri": "https://localhost:8080/"
        },
        "outputId": "bd4be1e6-ed59-44ee-c89e-902f559753e6"
      },
      "source": [
        "from keras.datasets import mnist\n",
        " \n",
        "#loading the dataset\n",
        "(train_X, train_y), (test_X, test_y) = mnist.load_data()\n",
        "\n"
      ],
      "execution_count": 34,
      "outputs": [
        {
          "output_type": "stream",
          "name": "stdout",
          "text": [
            "Downloading data from https://storage.googleapis.com/tensorflow/tf-keras-datasets/mnist.npz\n",
            "11493376/11490434 [==============================] - 0s 0us/step\n",
            "11501568/11490434 [==============================] - 0s 0us/step\n"
          ]
        }
      ]
    },
    {
      "cell_type": "markdown",
      "metadata": {
        "id": "jVNr144WAUZO"
      },
      "source": [
        "Extract a subset of the data for our experiment:"
      ]
    },
    {
      "cell_type": "code",
      "metadata": {
        "id": "P3MN8ddxAASZ"
      },
      "source": [
        "no1 = train_X[train_y==1,:,:] ## dataset corresponding to number = 1.\n",
        "no0 = train_X[train_y==0,:,:] ## dataset corresponding to number = 0."
      ],
      "execution_count": 35,
      "outputs": []
    },
    {
      "cell_type": "markdown",
      "metadata": {
        "id": "ePXCs0qyCLpc"
      },
      "source": [
        "Let us visualize a few images here:"
      ]
    },
    {
      "cell_type": "code",
      "metadata": {
        "id": "BQeyZSh-Arpc",
        "colab": {
          "base_uri": "https://localhost:8080/",
          "height": 201
        },
        "outputId": "8ffaec1b-ec9b-4fc1-f593-0cb07e43c8f8"
      },
      "source": [
        "for ii in range(5):\n",
        "  plt.subplot(1, 5, ii+1)\n",
        "  plt.imshow(no1[ii,:,:])\n",
        "plt.show()\n",
        "for ii in range(5):\n",
        "  plt.subplot(1, 5, ii+1)\n",
        "  plt.imshow(no0[ii,:,:])\n",
        "plt.show()"
      ],
      "execution_count": 36,
      "outputs": [
        {
          "output_type": "display_data",
          "data": {
            "text/plain": [
              "<Figure size 432x288 with 5 Axes>"
            ],
            "image/png": "[encoded data removed]"
          },
          "metadata": {
            "needs_background": "light"
          }
        },
        {
          "output_type": "display_data",
          "data": {
            "text/plain": [
              "<Figure size 432x288 with 5 Axes>"
            ],
            "image/png": "[encoded data removed]"
          },
          "metadata": {
            "needs_background": "light"
          }
        }
      ]
    },
    {
      "cell_type": "code",
      "source": [
        "a = no1>0\n",
        "a.shape, no1.shape"
      ],
      "metadata": {
        "colab": {
          "base_uri": "https://localhost:8080/"
        },
        "id": "n2UFfFWhCYzT",
        "outputId": "9e916a65-b50e-431b-b185-00fe6f589a3c"
      },
      "execution_count": 37,
      "outputs": [
        {
          "output_type": "execute_result",
          "data": {
            "text/plain": [
              "((6742, 28, 28), (6742, 28, 28))"
            ]
          },
          "metadata": {},
          "execution_count": 37
        }
      ]
    },
    {
      "cell_type": "code",
      "source": [
        "## to help you understand how the np.sum is working to find count of pixels that are not zero.\n",
        "\n",
        "mtx = np.arange(8).reshape(2,2,2)\n",
        "a = mtx>1\n",
        "a[0][0][0]\n",
        "type(a[0][0][0])\n"
      ],
      "metadata": {
        "colab": {
          "base_uri": "https://localhost:8080/"
        },
        "id": "LHjttKNkDK29",
        "outputId": "cde6371a-e34a-4657-f68d-b8038e94f696"
      },
      "execution_count": 38,
      "outputs": [
        {
          "output_type": "execute_result",
          "data": {
            "text/plain": [
              "numpy.bool_"
            ]
          },
          "metadata": {},
          "execution_count": 38
        }
      ]
    },
    {
      "cell_type": "markdown",
      "source": [
        "## We can even use value of each pixel as a feature. But let us see how to derive other features."
      ],
      "metadata": {
        "id": "2_1n_KXkE3zg"
      }
    },
    {
      "cell_type": "markdown",
      "metadata": {
        "id": "1g-Tg7EKDz96"
      },
      "source": [
        "Now, let us start with a simple feature: the sum of all pixels and see how good this feature is."
      ]
    },
    {
      "cell_type": "code",
      "metadata": {
        "id": "I8SztDk7CyZc"
      },
      "source": [
        "## sum of pixel values.\n",
        "\n",
        "sum1 = np.sum(no1>0, (1,2)) # threshold before adding up\n",
        "sum0 = np.sum(no0>0, (1,2))"
      ],
      "execution_count": 39,
      "outputs": []
    },
    {
      "cell_type": "markdown",
      "metadata": {
        "id": "8oW3XCOCE7Zv"
      },
      "source": [
        "Let us visualize how good this feature is: (X-axis is mean, y-axis is the digit)"
      ]
    },
    {
      "cell_type": "code",
      "source": [
        "sum1.shape"
      ],
      "metadata": {
        "colab": {
          "base_uri": "https://localhost:8080/"
        },
        "id": "LDz2vOp_GAZr",
        "outputId": "d9633b97-abc5-4791-9b85-10dcf48d6f04"
      },
      "execution_count": 40,
      "outputs": [
        {
          "output_type": "execute_result",
          "data": {
            "text/plain": [
              "(6742,)"
            ]
          },
          "metadata": {},
          "execution_count": 40
        }
      ]
    },
    {
      "cell_type": "code",
      "metadata": {
        "id": "i8PIe8o_DPpU",
        "colab": {
          "base_uri": "https://localhost:8080/",
          "height": 265
        },
        "outputId": "a266e0a3-79f4-4a10-b5b7-53cfecac1c54"
      },
      "source": [
        "plt.hist(sum1, alpha=0.7);\n",
        "plt.hist(sum0, alpha=0.7);\n",
        "\n"
      ],
      "execution_count": 41,
      "outputs": [
        {
          "output_type": "display_data",
          "data": {
            "text/plain": [
              "<Figure size 432x288 with 1 Axes>"
            ],
            "image/png": "[encoded data removed]"
          },
          "metadata": {
            "needs_background": "light"
          }
        }
      ]
    },
    {
      "cell_type": "markdown",
      "metadata": {
        "id": "7_hToEepFtl2"
      },
      "source": [
        "We can already see that this feature separates the two classes quite well.\n",
        "\n",
        "Let us look at another, more complicated feature. We will count the number black pixels that are surrounded on four sides by non-black pixels, or \"hole pixels\"."
      ]
    },
    {
      "cell_type": "code",
      "metadata": {
        "id": "HwEnlm6RFFej"
      },
      "source": [
        "def cumArray(img):\n",
        "  img2 = img.copy()\n",
        "  for ii in range(1, img2.shape[1]):\n",
        "    img2[ii,:] = img2[ii,:] + img2[ii-1,:]  # for every row, add up all the rows above it.\n",
        "  #print(img2)\n",
        "  img2 = img2>0\n",
        "  #print(img2)\n",
        "  return img2\n",
        "\n",
        "def getHolePixels(img):\n",
        "  im1 = cumArray(img)\n",
        "  im2 = np.rot90(cumArray(np.rot90(img)), 3) # rotate and cumulate it again for differnt direction\n",
        "  im3 = np.rot90(cumArray(np.rot90(img, 2)), 2)\n",
        "  im4 = np.rot90(cumArray(np.rot90(img, 3)), 1)\n",
        "  hull =  im1 & im2 & im3 & im4 # this will create a binary image with all the holes filled in.\n",
        "  hole = hull & ~ (img>0) # remove the original digit to leave behind the holes\n",
        "  return hole\n",
        "\n",
        "\n"
      ],
      "execution_count": 42,
      "outputs": []
    },
    {
      "cell_type": "markdown",
      "metadata": {
        "id": "iw3HjgnupUEI"
      },
      "source": [
        "Visualize a few:"
      ]
    },
    {
      "cell_type": "code",
      "metadata": {
        "id": "H0sjr23NYEFe",
        "colab": {
          "base_uri": "https://localhost:8080/",
          "height": 385
        },
        "outputId": "55da28f6-c86f-43c2-fa6a-8a4360243c85"
      },
      "source": [
        "imgs = [no1[456,:,:],  no0[456,:,:]]\n",
        "for img in imgs:\n",
        "  plt.subplot(1,2,1)\n",
        "  plt.imshow(getHolePixels(img))\n",
        "  plt.subplot(1,2,2)\n",
        "  plt.imshow(img)\n",
        "  plt.show()"
      ],
      "execution_count": 43,
      "outputs": [
        {
          "output_type": "display_data",
          "data": {
            "text/plain": [
              "<Figure size 432x288 with 2 Axes>"
            ],
            "image/png": "[encoded data removed]"
          },
          "metadata": {
            "needs_background": "light"
          }
        },
        {
          "output_type": "display_data",
          "data": {
            "text/plain": [
              "<Figure size 432x288 with 2 Axes>"
            ],
            "image/png": "[encoded data removed]"
          },
          "metadata": {
            "needs_background": "light"
          }
        }
      ]
    },
    {
      "cell_type": "markdown",
      "metadata": {
        "id": "vS-4erNXtxMi"
      },
      "source": [
        "Now let us plot the number of hole pixels and see how this feature behaves"
      ]
    },
    {
      "cell_type": "code",
      "metadata": {
        "id": "Dpm1dRgsety8",
        "colab": {
          "base_uri": "https://localhost:8080/",
          "height": 265
        },
        "outputId": "5d126545-98a1-4ee3-ed4d-b6bcafd9383a"
      },
      "source": [
        "hole1 = np.array([getHolePixels(i).sum() for i in no1])\n",
        "hole0 = np.array([getHolePixels(i).sum() for i in no0])\n",
        "  \n",
        "plt.hist(hole1, alpha=0.7);\n",
        "plt.hist(hole0, alpha=0.7);"
      ],
      "execution_count": 44,
      "outputs": [
        {
          "output_type": "display_data",
          "data": {
            "text/plain": [
              "<Figure size 432x288 with 1 Axes>"
            ],
            "image/png": "[encoded data removed]"
          },
          "metadata": {
            "needs_background": "light"
          }
        }
      ]
    },
    {
      "cell_type": "markdown",
      "metadata": {
        "id": "8UjCBHpJ31yq"
      },
      "source": [
        "This feature works even better to distinguish between one and zero. \n",
        "\n",
        "\n",
        "Now let us try the number of pixels in the 'hull' or the number with the holes filled in:"
      ]
    },
    {
      "cell_type": "markdown",
      "metadata": {
        "id": "OSzH26ElXNri"
      },
      "source": [
        "Let us try one more feature, where we look at the number of boundary pixels in each image."
      ]
    },
    {
      "cell_type": "code",
      "metadata": {
        "id": "h-2czBypXMwT"
      },
      "source": [
        "def minus(a, b):\n",
        "  return a & ~ b\n",
        "\n",
        "def getBoundaryPixels(img):\n",
        "  img = img.copy()>0  # binarize the image\n",
        "  rshift = np.roll(img, 1, 1)\n",
        "  lshift = np.roll(img, -1 ,1)\n",
        "  ushift = np.roll(img, -1, 0)\n",
        "  dshift = np.roll(img, 1, 0)\n",
        "  boundary = minus(img, rshift) | minus(img, lshift) | minus(img, ushift) | minus(img, dshift)\n",
        "  return boundary"
      ],
      "execution_count": 45,
      "outputs": []
    },
    {
      "cell_type": "code",
      "metadata": {
        "id": "u-V688jFerXh",
        "colab": {
          "base_uri": "https://localhost:8080/",
          "height": 385
        },
        "outputId": "101ef60d-e8bb-4f34-a1d5-a153ef2d8684"
      },
      "source": [
        "imgs = [no1[456,:,:],  no0[456,:,:]]\n",
        "for img in imgs:\n",
        "  plt.subplot(1,2,1)\n",
        "  plt.imshow(getBoundaryPixels(img))\n",
        "  plt.subplot(1,2,2)\n",
        "  plt.imshow(img)\n",
        "  plt.show()"
      ],
      "execution_count": 46,
      "outputs": [
        {
          "output_type": "display_data",
          "data": {
            "text/plain": [
              "<Figure size 432x288 with 2 Axes>"
            ],
            "image/png": "[encoded data removed]"
          },
          "metadata": {
            "needs_background": "light"
          }
        },
        {
          "output_type": "display_data",
          "data": {
            "text/plain": [
              "<Figure size 432x288 with 2 Axes>"
            ],
            "image/png": "[encoded data removed]"
          },
          "metadata": {
            "needs_background": "light"
          }
        }
      ]
    },
    {
      "cell_type": "code",
      "metadata": {
        "id": "kSsxsbCNXcNh",
        "colab": {
          "base_uri": "https://localhost:8080/",
          "height": 265
        },
        "outputId": "2bf62f15-6a48-44e1-f3d7-92da49d32000"
      },
      "source": [
        "bound1 = np.array([getBoundaryPixels(i).sum() for i in no1])\n",
        "bound0= np.array([getBoundaryPixels(i).sum() for i in no0])\n",
        "\n",
        "plt.hist(bound1, alpha=0.7);\n",
        "plt.hist(bound0, alpha=0.7);"
      ],
      "execution_count": 47,
      "outputs": [
        {
          "output_type": "display_data",
          "data": {
            "text/plain": [
              "<Figure size 432x288 with 1 Axes>"
            ],
            "image/png": "[encoded data removed]"
          },
          "metadata": {
            "needs_background": "light"
          }
        }
      ]
    },
    {
      "cell_type": "markdown",
      "metadata": {
        "id": "WuP04Ao_R0Yz"
      },
      "source": [
        "What will happen if we plot two features together? "
      ]
    },
    {
      "cell_type": "markdown",
      "metadata": {
        "id": "paDGHlFSd5Fu"
      },
      "source": [
        "Feel free to explore the above graph with your mouse. \n",
        "\n",
        "\n",
        "We have seen that we extracted four features from a 28*28 dimensional image.\n",
        "\n",
        "\n",
        "Some questions to explore:\n",
        "1. Which is the best combination of features?\n",
        "2. How would you test or visualize four or more features?\n",
        "3. Can you come up with your own features?\n",
        "4. Will these features work for different classes other than 0 and 1?\n",
        "5. What will happen if we take more that two classes at a time?"
      ]
    },
    {
      "cell_type": "markdown",
      "source": [
        "1A. The combination of Independent Component Analysis (ICA) and Principal Component Analysis(PCA) is the best for feature extraction. \n",
        "\n",
        "2A. The features which we extract from the data must be simple so that it becomes easy for us to compare with other features.\n",
        "\n",
        "3A.\n",
        "**Profiles :** It counts the number of pixels between the bounding  box of the character image and the edge of the character.\n",
        "**Direction Features :** We distinguish the line segments based onthe skeleton of the character image. We also label the line segment information.\n",
        "\n",
        "4A. These features will definitely work for digits other than 1 or 0 as the direction of each digit vary from other similarly the number of pixels between bounding box also differ. So, we can use them .\n",
        "\n",
        "\n",
        "\n",
        "\n",
        "\n"
      ],
      "metadata": {
        "id": "2nIPCzA7Pjw_"
      }
    },
    {
      "cell_type": "markdown",
      "source": [],
      "metadata": {
        "id": "9_3sYvQAKkRd"
      }
    },
    {
      "cell_type": "markdown",
      "source": [
        "## Features from CSV file"
      ],
      "metadata": {
        "id": "gIJdT3tYIMyN"
      }
    },
    {
      "cell_type": "code",
      "source": [
        "import pandas as pd\n",
        "\n",
        "df = pd.read_csv('/content/sample_data/california_housing_train.csv')"
      ],
      "metadata": {
        "id": "SfR0jKjRI9fx"
      },
      "execution_count": 48,
      "outputs": []
    },
    {
      "cell_type": "code",
      "source": [
        "df.head()\n"
      ],
      "metadata": {
        "colab": {
          "base_uri": "https://localhost:8080/",
          "height": 270
        },
        "id": "9VU02WsOJLs_",
        "outputId": "0791c2c3-61ba-4115-ab4a-bf1cd52a4bbd"
      },
      "execution_count": 49,
      "outputs": [
        {
          "output_type": "execute_result",
          "data": {
            "text/plain": [
              "   longitude  latitude  housing_median_age  total_rooms  total_bedrooms  \\\n",
              "0    -114.31     34.19                15.0       5612.0          1283.0   \n",
              "1    -114.47     34.40                19.0       7650.0          1901.0   \n",
              "2    -114.56     33.69                17.0        720.0           174.0   \n",
              "3    -114.57     33.64                14.0       1501.0           337.0   \n",
              "4    -114.57     33.57                20.0       1454.0           326.0   \n",
              "\n",
              "   population  households  median_income  median_house_value  \n",
              "0      1015.0       472.0         1.4936             66900.0  \n",
              "1      1129.0       463.0         1.8200             80100.0  \n",
              "2       333.0       117.0         1.6509             85700.0  \n",
              "3       515.0       226.0         3.1917             73400.0  \n",
              "4       624.0       262.0         1.9250             65500.0  "
            ],
            "text/html": [
              "\n",
              "  <div id=\"df-a580ab59-b06a-4161-b7d0-cde793a72e82\">\n",
              "    <div class=\"colab-df-container\">\n",
              "      <div>\n",
              "<style scoped>\n",
              "    .dataframe tbody tr th:only-of-type {\n",
              "        vertical-align: middle;\n",
              "    }\n",
              "\n",
              "    .dataframe tbody tr th {\n",
              "        vertical-align: top;\n",
              "    }\n",
              "\n",
              "    .dataframe thead th {\n",
              "        text-align: right;\n",
              "    }\n",
              "</style>\n",
              "<table border=\"1\" class=\"dataframe\">\n",
              "  <thead>\n",
              "    <tr style=\"text-align: right;\">\n",
              "      <th></th>\n",
              "      <th>longitude</th>\n",
              "      <th>latitude</th>\n",
              "      <th>housing_median_age</th>\n",
              "      <th>total_rooms</th>\n",
              "      <th>total_bedrooms</th>\n",
              "      <th>population</th>\n",
              "      <th>households</th>\n",
              "      <th>median_income</th>\n",
              "      <th>median_house_value</th>\n",
              "    </tr>\n",
              "  </thead>\n",
              "  <tbody>\n",
              "    <tr>\n",
              "      <th>0</th>\n",
              "      <td>-114.31</td>\n",
              "      <td>34.19</td>\n",
              "      <td>15.0</td>\n",
              "      <td>5612.0</td>\n",
              "      <td>1283.0</td>\n",
              "      <td>1015.0</td>\n",
              "      <td>472.0</td>\n",
              "      <td>1.4936</td>\n",
              "      <td>66900.0</td>\n",
              "    </tr>\n",
              "    <tr>\n",
              "      <th>1</th>\n",
              "      <td>-114.47</td>\n",
              "      <td>34.40</td>\n",
              "      <td>19.0</td>\n",
              "      <td>7650.0</td>\n",
              "      <td>1901.0</td>\n",
              "      <td>1129.0</td>\n",
              "      <td>463.0</td>\n",
              "      <td>1.8200</td>\n",
              "      <td>80100.0</td>\n",
              "    </tr>\n",
              "    <tr>\n",
              "      <th>2</th>\n",
              "      <td>-114.56</td>\n",
              "      <td>33.69</td>\n",
              "      <td>17.0</td>\n",
              "      <td>720.0</td>\n",
              "      <td>174.0</td>\n",
              "      <td>333.0</td>\n",
              "      <td>117.0</td>\n",
              "      <td>1.6509</td>\n",
              "      <td>85700.0</td>\n",
              "    </tr>\n",
              "    <tr>\n",
              "      <th>3</th>\n",
              "      <td>-114.57</td>\n",
              "      <td>33.64</td>\n",
              "      <td>14.0</td>\n",
              "      <td>1501.0</td>\n",
              "      <td>337.0</td>\n",
              "      <td>515.0</td>\n",
              "      <td>226.0</td>\n",
              "      <td>3.1917</td>\n",
              "      <td>73400.0</td>\n",
              "    </tr>\n",
              "    <tr>\n",
              "      <th>4</th>\n",
              "      <td>-114.57</td>\n",
              "      <td>33.57</td>\n",
              "      <td>20.0</td>\n",
              "      <td>1454.0</td>\n",
              "      <td>326.0</td>\n",
              "      <td>624.0</td>\n",
              "      <td>262.0</td>\n",
              "      <td>1.9250</td>\n",
              "      <td>65500.0</td>\n",
              "    </tr>\n",
              "  </tbody>\n",
              "</table>\n",
              "</div>\n",
              "      <button class=\"colab-df-convert\" onclick=\"convertToInteractive('df-a580ab59-b06a-4161-b7d0-cde793a72e82')\"\n",
              "              title=\"Convert this dataframe to an interactive table.\"\n",
              "              style=\"display:none;\">\n",
              "        \n",
              "  <svg xmlns=\"http://www.w3.org/2000/svg\" height=\"24px\"viewBox=\"0 0 24 24\"\n",
              "       width=\"24px\">\n",
              "    <path d=\"M0 0h24v24H0V0z\" fill=\"none\"/>\n",
              "    <path d=\"M18.56 5.44l.94 2.06.94-2.06 2.06-.94-2.06-.94-.94-2.06-.94 2.06-2.06.94zm-11 1L8.5 8.5l.94-2.06 2.06-.94-2.06-.94L8.5 2.5l-.94 2.06-2.06.94zm10 10l.94 2.06.94-2.06 2.06-.94-2.06-.94-.94-2.06-.94 2.06-2.06.94z\"/><path d=\"M17.41 7.96l-1.37-1.37c-.4-.4-.92-.59-1.43-.59-.52 0-1.04.2-1.43.59L10.3 9.45l-7.72 7.72c-.78.78-.78 2.05 0 2.83L4 21.41c.39.39.9.59 1.41.59.51 0 1.02-.2 1.41-.59l7.78-7.78 2.81-2.81c.8-.78.8-2.07 0-2.86zM5.41 20L4 18.59l7.72-7.72 1.47 1.35L5.41 20z\"/>\n",
              "  </svg>\n",
              "      </button>\n",
              "      \n",
              "  <style>\n",
              "    .colab-df-container {\n",
              "      display:flex;\n",
              "      flex-wrap:wrap;\n",
              "      gap: 12px;\n",
              "    }\n",
              "\n",
              "    .colab-df-convert {\n",
              "      background-color: #E8F0FE;\n",
              "      border: none;\n",
              "      border-radius: 50%;\n",
              "      cursor: pointer;\n",
              "      display: none;\n",
              "      fill: #1967D2;\n",
              "      height: 32px;\n",
              "      padding: 0 0 0 0;\n",
              "      width: 32px;\n",
              "    }\n",
              "\n",
              "    .colab-df-convert:hover {\n",
              "      background-color: #E2EBFA;\n",
              "      box-shadow: 0px 1px 2px rgba(60, 64, 67, 0.3), 0px 1px 3px 1px rgba(60, 64, 67, 0.15);\n",
              "      fill: #174EA6;\n",
              "    }\n",
              "\n",
              "    [theme=dark] .colab-df-convert {\n",
              "      background-color: #3B4455;\n",
              "      fill: #D2E3FC;\n",
              "    }\n",
              "\n",
              "    [theme=dark] .colab-df-convert:hover {\n",
              "      background-color: #434B5C;\n",
              "      box-shadow: 0px 1px 3px 1px rgba(0, 0, 0, 0.15);\n",
              "      filter: drop-shadow(0px 1px 2px rgba(0, 0, 0, 0.3));\n",
              "      fill: #FFFFFF;\n",
              "    }\n",
              "  </style>\n",
              "\n",
              "      <script>\n",
              "        const buttonEl =\n",
              "          document.querySelector('#df-a580ab59-b06a-4161-b7d0-cde793a72e82 button.colab-df-convert');\n",
              "        buttonEl.style.display =\n",
              "          google.colab.kernel.accessAllowed ? 'block' : 'none';\n",
              "\n",
              "        async function convertToInteractive(key) {\n",
              "          const element = document.querySelector('#df-a580ab59-b06a-4161-b7d0-cde793a72e82');\n",
              "          const dataTable =\n",
              "            await google.colab.kernel.invokeFunction('convertToInteractive',\n",
              "                                                     [key], {});\n",
              "          if (!dataTable) return;\n",
              "\n",
              "          const docLinkHtml = 'Like what you see? Visit the ' +\n",
              "            '<a target=\"_blank\" href=https://colab.research.google.com/notebooks/data_table.ipynb>data table notebook</a>'\n",
              "            + ' to learn more about interactive tables.';\n",
              "          element.innerHTML = '';\n",
              "          dataTable['output_type'] = 'display_data';\n",
              "          await google.colab.output.renderOutput(dataTable, element);\n",
              "          const docLink = document.createElement('div');\n",
              "          docLink.innerHTML = docLinkHtml;\n",
              "          element.appendChild(docLink);\n",
              "        }\n",
              "      </script>\n",
              "    </div>\n",
              "  </div>\n",
              "  "
            ]
          },
          "metadata": {},
          "execution_count": 49
        }
      ]
    },
    {
      "cell_type": "code",
      "source": [
        "df.columns\n"
      ],
      "metadata": {
        "colab": {
          "base_uri": "https://localhost:8080/"
        },
        "id": "XCeIl4kMJc59",
        "outputId": "12c062f6-5c37-4881-ec6a-4ff54026176f"
      },
      "execution_count": 50,
      "outputs": [
        {
          "output_type": "execute_result",
          "data": {
            "text/plain": [
              "Index(['longitude', 'latitude', 'housing_median_age', 'total_rooms',\n",
              "       'total_bedrooms', 'population', 'households', 'median_income',\n",
              "       'median_house_value'],\n",
              "      dtype='object')"
            ]
          },
          "metadata": {},
          "execution_count": 50
        }
      ]
    },
    {
      "cell_type": "code",
      "source": [
        "df = df.rename(columns={'oldName1': 'newName1', 'oldName2': 'newName2'})\n"
      ],
      "metadata": {
        "id": "foQSY_tvJOua"
      },
      "execution_count": 51,
      "outputs": []
    },
    {
      "cell_type": "code",
      "source": [
        "import matplotlib.pyplot as plt\n",
        "import pandas as pd\n",
        "import seaborn as sns\n",
        "from mpl_toolkits.mplot3d import Axes3D\n",
        "\n",
        "\n",
        "sns.set(style = \"darkgrid\")\n",
        "\n",
        "fig = plt.figure()\n",
        "ax = fig.add_subplot(111, projection = '3d')\n",
        "\n",
        "x = df['total_bedrooms'][:50]\n",
        "y = df['housing_median_age'][:50]\n",
        "z = df['median_house_value'][:50]\n",
        "\n",
        "ax.set_xlabel(\"total_bedrooms\")\n",
        "ax.set_ylabel(\"housing_median_age\")\n",
        "ax.set_zlabel(\"median_house_value\")\n",
        "\n",
        "ax.scatter(x, y, z)\n",
        "\n",
        "plt.show()"
      ],
      "metadata": {
        "colab": {
          "base_uri": "https://localhost:8080/",
          "height": 248
        },
        "id": "LaSdj2-HItaG",
        "outputId": "f5eeedcf-ad58-4c1c-b835-f0e2157539ff"
      },
      "execution_count": 52,
      "outputs": [
        {
          "output_type": "display_data",
          "data": {
            "text/plain": [
              "<Figure size 432x288 with 1 Axes>"
            ],
            "image/png": "[encoded data removed]"
          },
          "metadata": {}
        }
      ]
    },
    {
      "cell_type": "code",
      "source": [
        "## Task :\n",
        "## Download a CSV file from the internet, upload it to your google drive.\n",
        "## Read the CSV file and plot graphs using different combination of features and write your analysis\n",
        "## Ex : IRIS flower datasaet"
      ],
      "metadata": {
        "id": "vGGbRUz3J8Ju"
      },
      "execution_count": 53,
      "outputs": []
    },
    {
      "cell_type": "code",
      "source": [
        "import pandas as pd\n",
        "r=pd.read_csv('/content/consumers-price-index-june-quarter-2022-index-numbers.csv')"
      ],
      "metadata": {
        "id": "25EnrFLPk_zj"
      },
      "execution_count": 57,
      "outputs": []
    },
    {
      "cell_type": "code",
      "source": [
        "r.head()"
      ],
      "metadata": {
        "colab": {
          "base_uri": "https://localhost:8080/",
          "height": 250
        },
        "id": "HGjplEhGlOCT",
        "outputId": "3fb95542-f4cf-484a-ce88-e99a282003a0"
      },
      "execution_count": 58,
      "outputs": [
        {
          "output_type": "execute_result",
          "data": {
            "text/plain": [
              "  Series_reference   Period  Data_value STATUS  UNITS Subject  \\\n",
              "0       CPIQ.SE901  1914.06   13.167858  FINAL  Index     CPI   \n",
              "1       CPIQ.SE901  1914.09    0.000000  FINAL  Index     CPI   \n",
              "2       CPIQ.SE901  1914.12    0.000000  FINAL  Index     CPI   \n",
              "3       CPIQ.SE901  1915.03    0.000000  FINAL  Index     CPI   \n",
              "4       CPIQ.SE901  1915.06    0.000000  FINAL  Index     CPI   \n",
              "\n",
              "                                Group Series_title_1  \n",
              "0  CPI Level 1 Groups for New Zealand           Food  \n",
              "1  CPI Level 1 Groups for New Zealand           Food  \n",
              "2  CPI Level 1 Groups for New Zealand           Food  \n",
              "3  CPI Level 1 Groups for New Zealand           Food  \n",
              "4  CPI Level 1 Groups for New Zealand           Food  "
            ],
            "text/html": [
              "\n",
              "  <div id=\"df-0cf2a247-0511-491e-802d-dcbd916beb59\">\n",
              "    <div class=\"colab-df-container\">\n",
              "      <div>\n",
              "<style scoped>\n",
              "    .dataframe tbody tr th:only-of-type {\n",
              "        vertical-align: middle;\n",
              "    }\n",
              "\n",
              "    .dataframe tbody tr th {\n",
              "        vertical-align: top;\n",
              "    }\n",
              "\n",
              "    .dataframe thead th {\n",
              "        text-align: right;\n",
              "    }\n",
              "</style>\n",
              "<table border=\"1\" class=\"dataframe\">\n",
              "  <thead>\n",
              "    <tr style=\"text-align: right;\">\n",
              "      <th></th>\n",
              "      <th>Series_reference</th>\n",
              "      <th>Period</th>\n",
              "      <th>Data_value</th>\n",
              "      <th>STATUS</th>\n",
              "      <th>UNITS</th>\n",
              "      <th>Subject</th>\n",
              "      <th>Group</th>\n",
              "      <th>Series_title_1</th>\n",
              "    </tr>\n",
              "  </thead>\n",
              "  <tbody>\n",
              "    <tr>\n",
              "      <th>0</th>\n",
              "      <td>CPIQ.SE901</td>\n",
              "      <td>1914.06</td>\n",
              "      <td>13.167858</td>\n",
              "      <td>FINAL</td>\n",
              "      <td>Index</td>\n",
              "      <td>CPI</td>\n",
              "      <td>CPI Level 1 Groups for New Zealand</td>\n",
              "      <td>Food</td>\n",
              "    </tr>\n",
              "    <tr>\n",
              "      <th>1</th>\n",
              "      <td>CPIQ.SE901</td>\n",
              "      <td>1914.09</td>\n",
              "      <td>0.000000</td>\n",
              "      <td>FINAL</td>\n",
              "      <td>Index</td>\n",
              "      <td>CPI</td>\n",
              "      <td>CPI Level 1 Groups for New Zealand</td>\n",
              "      <td>Food</td>\n",
              "    </tr>\n",
              "    <tr>\n",
              "      <th>2</th>\n",
              "      <td>CPIQ.SE901</td>\n",
              "      <td>1914.12</td>\n",
              "      <td>0.000000</td>\n",
              "      <td>FINAL</td>\n",
              "      <td>Index</td>\n",
              "      <td>CPI</td>\n",
              "      <td>CPI Level 1 Groups for New Zealand</td>\n",
              "      <td>Food</td>\n",
              "    </tr>\n",
              "    <tr>\n",
              "      <th>3</th>\n",
              "      <td>CPIQ.SE901</td>\n",
              "      <td>1915.03</td>\n",
              "      <td>0.000000</td>\n",
              "      <td>FINAL</td>\n",
              "      <td>Index</td>\n",
              "      <td>CPI</td>\n",
              "      <td>CPI Level 1 Groups for New Zealand</td>\n",
              "      <td>Food</td>\n",
              "    </tr>\n",
              "    <tr>\n",
              "      <th>4</th>\n",
              "      <td>CPIQ.SE901</td>\n",
              "      <td>1915.06</td>\n",
              "      <td>0.000000</td>\n",
              "      <td>FINAL</td>\n",
              "      <td>Index</td>\n",
              "      <td>CPI</td>\n",
              "      <td>CPI Level 1 Groups for New Zealand</td>\n",
              "      <td>Food</td>\n",
              "    </tr>\n",
              "  </tbody>\n",
              "</table>\n",
              "</div>\n",
              "      <button class=\"colab-df-convert\" onclick=\"convertToInteractive('df-0cf2a247-0511-491e-802d-dcbd916beb59')\"\n",
              "              title=\"Convert this dataframe to an interactive table.\"\n",
              "              style=\"display:none;\">\n",
              "        \n",
              "  <svg xmlns=\"http://www.w3.org/2000/svg\" height=\"24px\"viewBox=\"0 0 24 24\"\n",
              "       width=\"24px\">\n",
              "    <path d=\"M0 0h24v24H0V0z\" fill=\"none\"/>\n",
              "    <path d=\"M18.56 5.44l.94 2.06.94-2.06 2.06-.94-2.06-.94-.94-2.06-.94 2.06-2.06.94zm-11 1L8.5 8.5l.94-2.06 2.06-.94-2.06-.94L8.5 2.5l-.94 2.06-2.06.94zm10 10l.94 2.06.94-2.06 2.06-.94-2.06-.94-.94-2.06-.94 2.06-2.06.94z\"/><path d=\"M17.41 7.96l-1.37-1.37c-.4-.4-.92-.59-1.43-.59-.52 0-1.04.2-1.43.59L10.3 9.45l-7.72 7.72c-.78.78-.78 2.05 0 2.83L4 21.41c.39.39.9.59 1.41.59.51 0 1.02-.2 1.41-.59l7.78-7.78 2.81-2.81c.8-.78.8-2.07 0-2.86zM5.41 20L4 18.59l7.72-7.72 1.47 1.35L5.41 20z\"/>\n",
              "  </svg>\n",
              "      </button>\n",
              "      \n",
              "  <style>\n",
              "    .colab-df-container {\n",
              "      display:flex;\n",
              "      flex-wrap:wrap;\n",
              "      gap: 12px;\n",
              "    }\n",
              "\n",
              "    .colab-df-convert {\n",
              "      background-color: #E8F0FE;\n",
              "      border: none;\n",
              "      border-radius: 50%;\n",
              "      cursor: pointer;\n",
              "      display: none;\n",
              "      fill: #1967D2;\n",
              "      height: 32px;\n",
              "      padding: 0 0 0 0;\n",
              "      width: 32px;\n",
              "    }\n",
              "\n",
              "    .colab-df-convert:hover {\n",
              "      background-color: #E2EBFA;\n",
              "      box-shadow: 0px 1px 2px rgba(60, 64, 67, 0.3), 0px 1px 3px 1px rgba(60, 64, 67, 0.15);\n",
              "      fill: #174EA6;\n",
              "    }\n",
              "\n",
              "    [theme=dark] .colab-df-convert {\n",
              "      background-color: #3B4455;\n",
              "      fill: #D2E3FC;\n",
              "    }\n",
              "\n",
              "    [theme=dark] .colab-df-convert:hover {\n",
              "      background-color: #434B5C;\n",
              "      box-shadow: 0px 1px 3px 1px rgba(0, 0, 0, 0.15);\n",
              "      filter: drop-shadow(0px 1px 2px rgba(0, 0, 0, 0.3));\n",
              "      fill: #FFFFFF;\n",
              "    }\n",
              "  </style>\n",
              "\n",
              "      <script>\n",
              "        const buttonEl =\n",
              "          document.querySelector('#df-0cf2a247-0511-491e-802d-dcbd916beb59 button.colab-df-convert');\n",
              "        buttonEl.style.display =\n",
              "          google.colab.kernel.accessAllowed ? 'block' : 'none';\n",
              "\n",
              "        async function convertToInteractive(key) {\n",
              "          const element = document.querySelector('#df-0cf2a247-0511-491e-802d-dcbd916beb59');\n",
              "          const dataTable =\n",
              "            await google.colab.kernel.invokeFunction('convertToInteractive',\n",
              "                                                     [key], {});\n",
              "          if (!dataTable) return;\n",
              "\n",
              "          const docLinkHtml = 'Like what you see? Visit the ' +\n",
              "            '<a target=\"_blank\" href=https://colab.research.google.com/notebooks/data_table.ipynb>data table notebook</a>'\n",
              "            + ' to learn more about interactive tables.';\n",
              "          element.innerHTML = '';\n",
              "          dataTable['output_type'] = 'display_data';\n",
              "          await google.colab.output.renderOutput(dataTable, element);\n",
              "          const docLink = document.createElement('div');\n",
              "          docLink.innerHTML = docLinkHtml;\n",
              "          element.appendChild(docLink);\n",
              "        }\n",
              "      </script>\n",
              "    </div>\n",
              "  </div>\n",
              "  "
            ]
          },
          "metadata": {},
          "execution_count": 58
        }
      ]
    },
    {
      "cell_type": "code",
      "source": [
        "r.columns"
      ],
      "metadata": {
        "colab": {
          "base_uri": "https://localhost:8080/"
        },
        "id": "wT4TCTiHlMIP",
        "outputId": "2c42ccb4-763f-44e2-d752-f798da98b95a"
      },
      "execution_count": 59,
      "outputs": [
        {
          "output_type": "execute_result",
          "data": {
            "text/plain": [
              "Index(['Series_reference', 'Period', 'Data_value', 'STATUS', 'UNITS',\n",
              "       'Subject', 'Group', 'Series_title_1'],\n",
              "      dtype='object')"
            ]
          },
          "metadata": {},
          "execution_count": 59
        }
      ]
    },
    {
      "cell_type": "code",
      "source": [
        "r=r.rename(columns={'sr':'p','sr1':'p1'})"
      ],
      "metadata": {
        "id": "By_uikEblUBI"
      },
      "execution_count": 60,
      "outputs": []
    },
    {
      "cell_type": "code",
      "source": [
        "import matplotlib.pyplot as plt\n",
        "import pandas as pd\n",
        "import seaborn as sns\n",
        "from mpl_toolkits.mplot3d import Axes3D"
      ],
      "metadata": {
        "id": "uQp1ORmElaXT"
      },
      "execution_count": 61,
      "outputs": []
    },
    {
      "cell_type": "code",
      "source": [
        "sns.set(style=\"darkgrid\")\n",
        "f=plt.figure()\n",
        "ax=f.add_subplot(111,projection=\"3d\")\n",
        "x = r ['Period'][:50]\n",
        "y = r ['Data_value'][:50]\n",
        "ax.set_xlabel(\"year\")\n",
        "ax.set_ylabel(\"data_value\")\n",
        "ax.scatter(x,y)\n",
        "plt.show"
      ],
      "metadata": {
        "colab": {
          "base_uri": "https://localhost:8080/",
          "height": 266
        },
        "id": "ykkV5XDElsy2",
        "outputId": "0a5cf405-b0de-43fd-ca3c-5cc9be2babc9"
      },
      "execution_count": 62,
      "outputs": [
        {
          "output_type": "execute_result",
          "data": {
            "text/plain": [
              "<function matplotlib.pyplot.show(*args, **kw)>"
            ]
          },
          "metadata": {},
          "execution_count": 62
        },
        {
          "output_type": "display_data",
          "data": {
            "text/plain": [
              "<Figure size 432x288 with 1 Axes>"
            ],
            "image/png": "[encoded data removed]"
          },
          "metadata": {}
        }
      ]
    },
    {
      "cell_type": "markdown",
      "source": [
        "The above graph shows the consumers price in the month of June in 2022.\n",
        "\n",
        "Here we consider 2 columns as the main ones which are data_values and periods\n",
        "\n",
        "1.On X-axis we take years(periods)\n",
        "\n",
        "2.On Y-axis we take data_values\n",
        "\n",
        "3.On Z-axis we take the values\n",
        "\n",
        "Here, I downloaded a CSV file from the chrome and uploaded in google drive and then I extracted the data by copying the path using pandas and plotted the graph.\n",
        "\n",
        "By this analysis, we can easily understand how the consumer prices changed in June 2022. And from that we can do further predictions"
      ],
      "metadata": {
        "id": "ni1ud8FhbFnD"
      }
    },
    {
      "cell_type": "markdown",
      "source": [
        "## Augmentation\n",
        "It is a technique to increase the diversity of our training set by applying random (but realistic) transformations, such as image rotation, change of color etc. When we have limited training data, we can augment our data with help of these techniques."
      ],
      "metadata": {
        "id": "UEjCCSQh1d7A"
      }
    },
    {
      "cell_type": "code",
      "source": [
        "import numpy as np\n",
        "import matplotlib.pyplot as plt\n",
        "from keras.datasets import mnist\n",
        "# set randomseed\n",
        "rng = np.random.default_rng(seed=42)\n",
        "from sklearn.utils.extmath import cartesian\n",
        "from skimage.transform import rotate, AffineTransform, warp\n",
        "import math"
      ],
      "metadata": {
        "id": "XePcTeKI1dGJ"
      },
      "execution_count": 63,
      "outputs": []
    },
    {
      "cell_type": "markdown",
      "source": [
        "For this lab we will use a subset of MNIST that is very small, to better understand the effect of augmentation."
      ],
      "metadata": {
        "id": "ZP0Z3oOT2Vqo"
      }
    },
    {
      "cell_type": "code",
      "source": [
        "#loading the dataset\n",
        "(train_X, train_y), (test_X, test_y) = mnist.load_data()\n",
        "train_X = train_X/255\n",
        "test_X = test_X/255\n",
        "\n",
        "print(\"original data size:\",train_X.shape)\n"
      ],
      "metadata": {
        "colab": {
          "base_uri": "https://localhost:8080/"
        },
        "id": "7miTQ_032Rxv",
        "outputId": "429ae865-43ad-4af5-e54d-89fc4e9c337e"
      },
      "execution_count": 64,
      "outputs": [
        {
          "output_type": "stream",
          "name": "stdout",
          "text": [
            "original data size: (60000, 28, 28)\n"
          ]
        }
      ]
    },
    {
      "cell_type": "code",
      "source": [
        "print(train_X[0].shape,train_y[0])"
      ],
      "metadata": {
        "colab": {
          "base_uri": "https://localhost:8080/"
        },
        "id": "79iYoK4a2Y8w",
        "outputId": "6bc535c6-8b2f-4de0-85e8-c5eb4a42d509"
      },
      "execution_count": 65,
      "outputs": [
        {
          "output_type": "stream",
          "name": "stdout",
          "text": [
            "(28, 28) 5\n"
          ]
        }
      ]
    },
    {
      "cell_type": "code",
      "source": [
        "plt.imshow(train_X[0])"
      ],
      "metadata": {
        "colab": {
          "base_uri": "https://localhost:8080/",
          "height": 286
        },
        "id": "F-ne2Jrl6R3-",
        "outputId": "cf58dd70-d12b-4087-df55-cc1d1fcfc09c"
      },
      "execution_count": 66,
      "outputs": [
        {
          "output_type": "execute_result",
          "data": {
            "text/plain": [
              "<matplotlib.image.AxesImage at 0x7fde0bdef6d0>"
            ]
          },
          "metadata": {},
          "execution_count": 66
        },
        {
          "output_type": "display_data",
          "data": {
            "text/plain": [
              "<Figure size 432x288 with 1 Axes>"
            ],
            "image/png": "[encoded data removed]"
          },
          "metadata": {}
        }
      ]
    },
    {
      "cell_type": "code",
      "source": [
        "train_X = train_X[::1200,:,:].copy() # subsample. Otherwise it will take too long!\n",
        "train_y = train_y[::1200].copy() # do the same to the labels\n",
        "\n",
        "print(\"Now it is:\", train_X.shape)"
      ],
      "metadata": {
        "colab": {
          "base_uri": "https://localhost:8080/"
        },
        "id": "g3YMYR2L6VqQ",
        "outputId": "34fb5236-1f2b-4ba8-a8a4-94d46e3701d0"
      },
      "execution_count": 67,
      "outputs": [
        {
          "output_type": "stream",
          "name": "stdout",
          "text": [
            "Now it is: (50, 28, 28)\n"
          ]
        }
      ]
    },
    {
      "cell_type": "markdown",
      "source": [
        "Augmentation 1: rotation\n",
        "Let us try rotating the image a little. We will use skimage library for this."
      ],
      "metadata": {
        "id": "JgN85vRl6847"
      }
    },
    {
      "cell_type": "code",
      "source": [
        "plt.imshow(train_X[2], cmap='gray')\n",
        "plt.show()\n",
        "print(train_X[2].shape)\n",
        "plt.imshow(rotate(train_X[2],45), cmap='gray')"
      ],
      "metadata": {
        "colab": {
          "base_uri": "https://localhost:8080/",
          "height": 555
        },
        "id": "jStJv7xG6cNI",
        "outputId": "ed80bdbe-581d-4311-bdb3-2134f8418317"
      },
      "execution_count": 68,
      "outputs": [
        {
          "output_type": "display_data",
          "data": {
            "text/plain": [
              "<Figure size 432x288 with 1 Axes>"
            ],
            "image/png": "[encoded data removed]"
          },
          "metadata": {}
        },
        {
          "output_type": "stream",
          "name": "stdout",
          "text": [
            "(28, 28)\n"
          ]
        },
        {
          "output_type": "execute_result",
          "data": {
            "text/plain": [
              "<matplotlib.image.AxesImage at 0x7fde0d484190>"
            ]
          },
          "metadata": {},
          "execution_count": 68
        },
        {
          "output_type": "display_data",
          "data": {
            "text/plain": [
              "<Figure size 432x288 with 1 Axes>"
            ],
            "image/png": "[encoded data removed]"
          },
          "metadata": {}
        }
      ]
    },
    {
      "cell_type": "markdown",
      "source": [
        "After rotating, the the class of the image is still the same. Let us make a function to rotate multiple images by random angles. We want a slightly different image every time we run this function. So, we generate a random number between 0 and 1 and change it so that it lies between -constraint/2 and +constraint/2"
      ],
      "metadata": {
        "id": "phr4sXEb94Q8"
      }
    },
    {
      "cell_type": "code",
      "source": [
        "def augRotate(sample, angleconstraint):\n",
        "  if angleconstraint==0:\n",
        "    return sample\n",
        "\n",
        "  print(\"shape of sample before is:\", sample.shape)\n",
        "  print(\"len(sample.shape)\", len(sample.shape))\n",
        "  if len(sample.shape)==2:\n",
        "    sample = np.expand_dims(sample, 0)  # make sure the sample is 3 dimensional\n",
        "    print(\"shape of sample is:\", sample.shape)\n",
        "  angle = rng.random(len(sample)) # generate random numbers for angles\n",
        "  print(\"angle is:\", angle)\n",
        "  angle = (angle-0.5)*angleconstraint # make the random angle constrained\n",
        "  print(\"angle with constraint is:\", angle)\n",
        "  nsample = sample.copy() # preallocate the augmented array to make it faster\n",
        "  for ii in range(len(sample)):\n",
        "    nsample[ii] = rotate(sample[ii], angle[ii])\n",
        "  return np.squeeze(nsample) # take care if the input had only one sample."
      ],
      "metadata": {
        "id": "B3ai_7aN7Csn"
      },
      "execution_count": 69,
      "outputs": []
    },
    {
      "cell_type": "markdown",
      "source": [
        "This function returns a slightly different image each time we call it. So we can increase the number of images in the sample by any multiple. "
      ],
      "metadata": {
        "id": "udOWwYj2-Bsy"
      }
    },
    {
      "cell_type": "code",
      "source": [
        "sample = train_X[20]\n",
        "angleconstraint = 70\n",
        "# show the original image\n",
        "plt.imshow(sample, cmap='gray')\n",
        "plt.show()\n",
        "plt.subplot(1,3,1)\n",
        "plt.imshow(augRotate(sample, angleconstraint), cmap='gray') # show an augmented image\n",
        "plt.subplot(1,3,2)\n",
        "plt.imshow(augRotate(sample, angleconstraint), cmap='gray') # show another augmented image from the same sample\n",
        "plt.subplot(1,3,3)\n",
        "plt.imshow(augRotate(sample, angleconstraint), cmap='gray') # one more image from the same sample"
      ],
      "metadata": {
        "colab": {
          "base_uri": "https://localhost:8080/",
          "height": 688
        },
        "id": "vyO8Ap9-98LZ",
        "outputId": "7dc74ab3-b527-492d-d6db-4d6cd2fc4e7b"
      },
      "execution_count": 70,
      "outputs": [
        {
          "output_type": "display_data",
          "data": {
            "text/plain": [
              "<Figure size 432x288 with 1 Axes>"
            ],
            "image/png": "[encoded data removed]"
          },
          "metadata": {}
        },
        {
          "output_type": "stream",
          "name": "stdout",
          "text": [
            "shape of sample before is: (28, 28)\n",
            "len(sample.shape) 2\n",
            "shape of sample is: (1, 28, 28)\n",
            "angle is: [0.77395605]\n",
            "angle with constraint is: [19.1769234]\n",
            "shape of sample before is: (28, 28)\n",
            "len(sample.shape) 2\n",
            "shape of sample is: (1, 28, 28)\n",
            "angle is: [0.43887844]\n",
            "angle with constraint is: [-4.27850922]\n",
            "shape of sample before is: (28, 28)\n",
            "len(sample.shape) 2\n",
            "shape of sample is: (1, 28, 28)\n",
            "angle is: [0.85859792]\n",
            "angle with constraint is: [25.10185439]\n"
          ]
        },
        {
          "output_type": "execute_result",
          "data": {
            "text/plain": [
              "<matplotlib.image.AxesImage at 0x7fde0fda0610>"
            ]
          },
          "metadata": {},
          "execution_count": 70
        },
        {
          "output_type": "display_data",
          "data": {
            "text/plain": [
              "<Figure size 432x288 with 3 Axes>"
            ],
            "image/png": "[encoded data removed]"
          },
          "metadata": {}
        }
      ]
    },
    {
      "cell_type": "markdown",
      "source": [
        "Let us try one more augmentation, Shear: A transformation in which all points along a given line remain fixed while other points are shifted parallel to by a \n",
        " distance proportional to their perpendicular distance from. Shearing a plane figure does not change its area. "
      ],
      "metadata": {
        "id": "siEhyuX0AyZP"
      }
    },
    {
      "cell_type": "code",
      "source": [
        "def shear(sample, amount):\n",
        "  tform = AffineTransform(shear = amount) # create the shear transform\n",
        "  img = warp(sample, tform) # apply the shear\n",
        "  # this makes the digit off-center. Since all the images in the test set are centralized, we will do the same here\n",
        "  col = img.sum(0).nonzero()[0]\n",
        "  row = img.sum(1).nonzero()[0]\n",
        "  if len(col)>0 and len(row)>0:\n",
        "    xshift = int(sample.shape[0]/2 - (row[0]+row[-1])/2)\n",
        "    yshift = int(sample.shape[1]/2 - (col[0]+col[-1])/2)\n",
        "    img = np.roll(img, (xshift, yshift),(0,1))\n",
        "  return img"
      ],
      "metadata": {
        "id": "46nKQ_Qj-Elg"
      },
      "execution_count": 71,
      "outputs": []
    },
    {
      "cell_type": "code",
      "source": [
        "sample = train_X[2]\n",
        "plt.imshow(sample, cmap='gray')\n",
        "plt.show()\n",
        "\n",
        "# apply shear\n",
        "plt.imshow(shear(sample, 0.4), cmap='gray')"
      ],
      "metadata": {
        "colab": {
          "base_uri": "https://localhost:8080/",
          "height": 537
        },
        "id": "Zae7PZcUBDt8",
        "outputId": "1597717f-9055-4e39-cb59-08ee1c323172"
      },
      "execution_count": 72,
      "outputs": [
        {
          "output_type": "display_data",
          "data": {
            "text/plain": [
              "<Figure size 432x288 with 1 Axes>"
            ],
            "image/png": "[encoded data removed]"
          },
          "metadata": {}
        },
        {
          "output_type": "execute_result",
          "data": {
            "text/plain": [
              "<matplotlib.image.AxesImage at 0x7fde0fbbfc10>"
            ]
          },
          "metadata": {},
          "execution_count": 72
        },
        {
          "output_type": "display_data",
          "data": {
            "text/plain": [
              "<Figure size 432x288 with 1 Axes>"
            ],
            "image/png": "[encoded data removed]"
          },
          "metadata": {}
        }
      ]
    },
    {
      "cell_type": "markdown",
      "source": [
        "## Let us also see skeletonization of image"
      ],
      "metadata": {
        "id": "4NglWyeSDtxr"
      }
    },
    {
      "cell_type": "code",
      "source": [
        "from skimage.morphology import skeletonize\n"
      ],
      "metadata": {
        "id": "XQMsvuD5BITy"
      },
      "execution_count": 73,
      "outputs": []
    },
    {
      "cell_type": "code",
      "source": [
        "skeleton = skeletonize(train_X[2],method='lee')\n",
        "plt.imshow(skeleton, cmap='gray')"
      ],
      "metadata": {
        "colab": {
          "base_uri": "https://localhost:8080/",
          "height": 286
        },
        "id": "ze1kf_0BD0YP",
        "outputId": "ce829d09-8cc3-4bef-b679-1982399ef57a"
      },
      "execution_count": 74,
      "outputs": [
        {
          "output_type": "execute_result",
          "data": {
            "text/plain": [
              "<matplotlib.image.AxesImage at 0x7fde0ff1ae50>"
            ]
          },
          "metadata": {},
          "execution_count": 74
        },
        {
          "output_type": "display_data",
          "data": {
            "text/plain": [
              "<Figure size 432x288 with 1 Axes>"
            ],
            "image/png": "[encoded data removed]"
          },
          "metadata": {}
        }
      ]
    },
    {
      "cell_type": "code",
      "source": [
        "#Structuring elements that are repeatedly used for thinning\n",
        "\n",
        "S1 = np.array([[0,0,0],[-1,1,-1],[1,1,1]]) # -1 for dont care\n",
        "S2 = np.array([[-1,0,0],[1,1,0],[-1,1,-1]])\n",
        "\n",
        "\n",
        "def CheckMatch(window,kernel):\n",
        "  for i in range(window.shape[0]):\n",
        "        for j in range(window.shape[1]):\n",
        "            if kernel[i,j]!=-1 and window[i,j]!=kernel[i,j]:\n",
        "                return False\n",
        "  return True\n",
        "\n",
        "def ApplyKernel(image,kernel): #used\n",
        "  height, width =  image.shape\n",
        "  res = np.copy(image)\n",
        "  for i in range(1,height-1):\n",
        "    for j in range (1,width-1):\n",
        "      window = image[i-1:i+2,j-1:j+2]\n",
        "      #print('window shape',window.shape)\n",
        "      Match_result = CheckMatch(window,kernel)\n",
        "      if (Match_result):\n",
        "        res[i,j]=0\n",
        "  return res\n",
        "\n",
        "\n",
        "\n",
        "def Skeletonization(image):\n",
        "  '''pass binary image'''\n",
        "  #new = np.copy(image)\n",
        "  #old = np.zeros(image.shape,dtype=np.uint8)\n",
        "  count = 1\n",
        "  change = 1000\n",
        "  while (change >0.01):\n",
        "    print('count',count)\n",
        "    new = image\n",
        "    new = ApplyKernel(new,S1)\n",
        "    new = ApplyKernel(new,S2)\n",
        "    new = ApplyKernel(new,np.rot90(S1,1)) #90 degree rotate\n",
        "    new = ApplyKernel(new,np.rot90(S2,1))\n",
        "    new = ApplyKernel(new,np.rot90(S1,2)) # 180 degree rotate\n",
        "    new = ApplyKernel(new,np.rot90(S2,2))\n",
        "    new = ApplyKernel(new,np.rot90(S1,3)) # 270 degree rotate\n",
        "    new = ApplyKernel(new,np.rot90(S2,3))\n",
        "    count+= 1\n",
        "    change = np.mean(np.abs(new-image))\n",
        "    image = new\n",
        "    plt.imshow(new,cmap='gray')\n",
        "    plt.show()\n",
        "  return new"
      ],
      "metadata": {
        "id": "ewpZG5b-D9F3"
      },
      "execution_count": 75,
      "outputs": []
    },
    {
      "cell_type": "code",
      "source": [
        "binarized  =( train_X[0] > 0 ).astype(np.uint8)"
      ],
      "metadata": {
        "id": "LwgK5XObNcjD"
      },
      "execution_count": 76,
      "outputs": []
    },
    {
      "cell_type": "code",
      "source": [
        "skeleton_five = Skeletonization(binarized)"
      ],
      "metadata": {
        "colab": {
          "base_uri": "https://localhost:8080/",
          "height": 1000
        },
        "id": "oyQrnHghLADQ",
        "outputId": "ce62ad47-9f11-4763-b653-25f3779b2843"
      },
      "execution_count": 77,
      "outputs": [
        {
          "output_type": "stream",
          "name": "stdout",
          "text": [
            "count 1\n"
          ]
        },
        {
          "output_type": "display_data",
          "data": {
            "text/plain": [
              "<Figure size 432x288 with 1 Axes>"
            ],
            "image/png": "[encoded data removed]"
          },
          "metadata": {}
        },
        {
          "output_type": "stream",
          "name": "stdout",
          "text": [
            "count 2\n"
          ]
        },
        {
          "output_type": "display_data",
          "data": {
            "text/plain": [
              "<Figure size 432x288 with 1 Axes>"
            ],
            "image/png": "[encoded data removed]"
          },
          "metadata": {}
        },
        {
          "output_type": "stream",
          "name": "stdout",
          "text": [
            "count 3\n"
          ]
        },
        {
          "output_type": "display_data",
          "data": {
            "text/plain": [
              "<Figure size 432x288 with 1 Axes>"
            ],
            "image/png": "[encoded data removed]"
          },
          "metadata": {}
        },
        {
          "output_type": "stream",
          "name": "stdout",
          "text": [
            "count 4\n"
          ]
        },
        {
          "output_type": "display_data",
          "data": {
            "text/plain": [
              "<Figure size 432x288 with 1 Axes>"
            ],
            "image/png": "[encoded data removed]"
          },
          "metadata": {}
        },
        {
          "output_type": "stream",
          "name": "stdout",
          "text": [
            "count 5\n"
          ]
        },
        {
          "output_type": "display_data",
          "data": {
            "text/plain": [
              "<Figure size 432x288 with 1 Axes>"
            ],
            "image/png": "[encoded data removed]"
          },
          "metadata": {}
        }
      ]
    }
  ]
}